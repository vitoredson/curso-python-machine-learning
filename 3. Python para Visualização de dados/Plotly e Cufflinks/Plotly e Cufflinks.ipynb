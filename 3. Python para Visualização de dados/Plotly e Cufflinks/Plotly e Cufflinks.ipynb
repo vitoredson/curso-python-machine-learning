{
 "cells": [
  {
   "cell_type": "markdown",
   "metadata": {},
   "source": [
    "# Plotly e Cufflinks"
   ]
  },
  {
   "cell_type": "markdown",
   "metadata": {},
   "source": [
    "O Plotly é uma biblioteca que permite criar gráficos interativos que você pode usar em painéis ou sites (você pode salvá-los como arquivos html ou imagens estáticas).\n",
    "\n",
    "## Instalação\n",
    "\n",
    "Para que tudo funcione, você precisará instalar plotly e cufflinks para chamar plots diretamente de um DataFrame pandas. Essas bibliotecas não estão atualmente disponíveis através de ** conda **, mas estão disponíveis através de ** pip **. Instale as bibliotecas em sua linha de comando / terminal usando:\n",
    "\n",
    "    pip install plotly\n",
    "    pip install cufflinks\n",
    "\n",
    "** NOTA: Certifique-se de ter apenas uma instalação do Python no seu computador quando faz isso, caso contrário, a instalação pode não funcionar. **\n",
    "\n",
    "## Importações e Configuração"
   ]
  },
  {
   "cell_type": "code",
   "execution_count": 1,
   "metadata": {},
   "outputs": [],
   "source": [
    "import pandas as pd\n",
    "import numpy as np\n",
    "%matplotlib inline"
   ]
  },
  {
   "cell_type": "code",
   "execution_count": 2,
   "metadata": {},
   "outputs": [
    {
     "name": "stdout",
     "output_type": "stream",
     "text": [
      "4.8.1\n"
     ]
    }
   ],
   "source": [
    "from plotly import __version__\n",
    "from plotly.offline import download_plotlyjs, init_notebook_mode, plot, iplot\n",
    "\n",
    "print(__version__)"
   ]
  },
  {
   "cell_type": "code",
   "execution_count": 3,
   "metadata": {},
   "outputs": [],
   "source": [
    "import cufflinks as cf"
   ]
  },
  {
   "cell_type": "code",
   "execution_count": 4,
   "metadata": {},
   "outputs": [
    {
     "data": {
      "text/html": [
       "        <script type=\"text/javascript\">\n",
       "        window.PlotlyConfig = {MathJaxConfig: 'local'};\n",
       "        if (window.MathJax) {MathJax.Hub.Config({SVG: {font: \"STIX-Web\"}});}\n",
       "        if (typeof require !== 'undefined') {\n",
       "        require.undef(\"plotly\");\n",
       "        requirejs.config({\n",
       "            paths: {\n",
       "                'plotly': ['https://cdn.plot.ly/plotly-latest.min']\n",
       "            }\n",
       "        });\n",
       "        require(['plotly'], function(Plotly) {\n",
       "            window._Plotly = Plotly;\n",
       "        });\n",
       "        }\n",
       "        </script>\n",
       "        "
      ]
     },
     "metadata": {},
     "output_type": "display_data"
    }
   ],
   "source": [
    "# Para Notebooks\n",
    "init_notebook_mode(connected=True)"
   ]
  },
  {
   "cell_type": "code",
   "execution_count": 5,
   "metadata": {},
   "outputs": [
    {
     "data": {
      "text/html": [
       "        <script type=\"text/javascript\">\n",
       "        window.PlotlyConfig = {MathJaxConfig: 'local'};\n",
       "        if (window.MathJax) {MathJax.Hub.Config({SVG: {font: \"STIX-Web\"}});}\n",
       "        if (typeof require !== 'undefined') {\n",
       "        require.undef(\"plotly\");\n",
       "        requirejs.config({\n",
       "            paths: {\n",
       "                'plotly': ['https://cdn.plot.ly/plotly-latest.min']\n",
       "            }\n",
       "        });\n",
       "        require(['plotly'], function(Plotly) {\n",
       "            window._Plotly = Plotly;\n",
       "        });\n",
       "        }\n",
       "        </script>\n",
       "        "
      ]
     },
     "metadata": {},
     "output_type": "display_data"
    }
   ],
   "source": [
    "# For offline use\n",
    "cf.go_offline()"
   ]
  },
  {
   "cell_type": "markdown",
   "metadata": {},
   "source": [
    "### Dados forjados"
   ]
  },
  {
   "cell_type": "code",
   "execution_count": 6,
   "metadata": {},
   "outputs": [],
   "source": [
    "df = pd.DataFrame(np.random.randn(100,4),columns='A B C D'.split())"
   ]
  },
  {
   "cell_type": "code",
   "execution_count": 7,
   "metadata": {},
   "outputs": [
    {
     "data": {
      "text/html": [
       "<div>\n",
       "<style scoped>\n",
       "    .dataframe tbody tr th:only-of-type {\n",
       "        vertical-align: middle;\n",
       "    }\n",
       "\n",
       "    .dataframe tbody tr th {\n",
       "        vertical-align: top;\n",
       "    }\n",
       "\n",
       "    .dataframe thead th {\n",
       "        text-align: right;\n",
       "    }\n",
       "</style>\n",
       "<table border=\"1\" class=\"dataframe\">\n",
       "  <thead>\n",
       "    <tr style=\"text-align: right;\">\n",
       "      <th></th>\n",
       "      <th>A</th>\n",
       "      <th>B</th>\n",
       "      <th>C</th>\n",
       "      <th>D</th>\n",
       "    </tr>\n",
       "  </thead>\n",
       "  <tbody>\n",
       "    <tr>\n",
       "      <th>0</th>\n",
       "      <td>0.453764</td>\n",
       "      <td>0.487913</td>\n",
       "      <td>0.483964</td>\n",
       "      <td>-0.289458</td>\n",
       "    </tr>\n",
       "    <tr>\n",
       "      <th>1</th>\n",
       "      <td>0.153328</td>\n",
       "      <td>-0.058919</td>\n",
       "      <td>-0.883950</td>\n",
       "      <td>0.950643</td>\n",
       "    </tr>\n",
       "    <tr>\n",
       "      <th>2</th>\n",
       "      <td>0.558407</td>\n",
       "      <td>-0.636202</td>\n",
       "      <td>0.594482</td>\n",
       "      <td>-0.707527</td>\n",
       "    </tr>\n",
       "    <tr>\n",
       "      <th>3</th>\n",
       "      <td>0.638813</td>\n",
       "      <td>-0.405606</td>\n",
       "      <td>-1.208764</td>\n",
       "      <td>0.336700</td>\n",
       "    </tr>\n",
       "    <tr>\n",
       "      <th>4</th>\n",
       "      <td>-0.768208</td>\n",
       "      <td>0.000633</td>\n",
       "      <td>-1.458865</td>\n",
       "      <td>-0.103092</td>\n",
       "    </tr>\n",
       "  </tbody>\n",
       "</table>\n",
       "</div>"
      ],
      "text/plain": [
       "          A         B         C         D\n",
       "0  0.453764  0.487913  0.483964 -0.289458\n",
       "1  0.153328 -0.058919 -0.883950  0.950643\n",
       "2  0.558407 -0.636202  0.594482 -0.707527\n",
       "3  0.638813 -0.405606 -1.208764  0.336700\n",
       "4 -0.768208  0.000633 -1.458865 -0.103092"
      ]
     },
     "execution_count": 7,
     "metadata": {},
     "output_type": "execute_result"
    }
   ],
   "source": [
    "df.head()"
   ]
  },
  {
   "cell_type": "code",
   "execution_count": 8,
   "metadata": {},
   "outputs": [],
   "source": [
    "df2 = pd.DataFrame({'Categoria':['A','B','C'],'Valores':[32,43,50]})"
   ]
  },
  {
   "cell_type": "code",
   "execution_count": 9,
   "metadata": {},
   "outputs": [
    {
     "data": {
      "text/html": [
       "<div>\n",
       "<style scoped>\n",
       "    .dataframe tbody tr th:only-of-type {\n",
       "        vertical-align: middle;\n",
       "    }\n",
       "\n",
       "    .dataframe tbody tr th {\n",
       "        vertical-align: top;\n",
       "    }\n",
       "\n",
       "    .dataframe thead th {\n",
       "        text-align: right;\n",
       "    }\n",
       "</style>\n",
       "<table border=\"1\" class=\"dataframe\">\n",
       "  <thead>\n",
       "    <tr style=\"text-align: right;\">\n",
       "      <th></th>\n",
       "      <th>Categoria</th>\n",
       "      <th>Valores</th>\n",
       "    </tr>\n",
       "  </thead>\n",
       "  <tbody>\n",
       "    <tr>\n",
       "      <th>0</th>\n",
       "      <td>A</td>\n",
       "      <td>32</td>\n",
       "    </tr>\n",
       "    <tr>\n",
       "      <th>1</th>\n",
       "      <td>B</td>\n",
       "      <td>43</td>\n",
       "    </tr>\n",
       "    <tr>\n",
       "      <th>2</th>\n",
       "      <td>C</td>\n",
       "      <td>50</td>\n",
       "    </tr>\n",
       "  </tbody>\n",
       "</table>\n",
       "</div>"
      ],
      "text/plain": [
       "  Categoria  Valores\n",
       "0         A       32\n",
       "1         B       43\n",
       "2         C       50"
      ]
     },
     "execution_count": 9,
     "metadata": {},
     "output_type": "execute_result"
    }
   ],
   "source": [
    "df2.head()"
   ]
  },
  {
   "cell_type": "markdown",
   "metadata": {},
   "source": [
    "## Usando Cufflinks e iplot ()\n",
    "\n",
    "* Dispersão\n",
    "* Barras\n",
    "* BoxPlot\n",
    "* Spreads\n",
    "* Proporção\n",
    "* Mapa de calor\n",
    "* Superfícies 3D\n",
    "* Histograma\n",
    "* Bolha"
   ]
  },
  {
   "cell_type": "markdown",
   "metadata": {},
   "source": [
    "## Dispersão"
   ]
  },
  {
   "cell_type": "code",
   "execution_count": 10,
   "metadata": {},
   "outputs": [
    {
     "data": {
      "application/vnd.plotly.v1+json": {
       "config": {
        "linkText": "Export to plot.ly",
        "plotlyServerURL": "https://plot.ly",
        "showLink": true
       },
       "data": [
        {
         "line": {
          "color": "rgba(255, 153, 51, 1.0)",
          "dash": "solid",
          "shape": "linear",
          "width": 1.3
         },
         "marker": {
          "size": 10,
          "symbol": "circle"
         },
         "mode": "markers",
         "name": "B",
         "text": "",
         "type": "scatter",
         "x": [
          0.45376365134072455,
          0.1533277234434953,
          0.5584066630730266,
          0.6388125002339647,
          -0.7682082709200291,
          0.5872366051112483,
          -1.3622641558947228,
          0.9197266262491686,
          -0.5667359249270596,
          0.4428979494699839,
          -0.9832214064613543,
          -0.2086539026383452,
          0.5831019922477547,
          1.954808667357305,
          -0.39354558972605347,
          0.30152662807609654,
          0.13427182222200904,
          0.046625265681057806,
          -0.9675029107659785,
          -1.9378907692372627,
          0.7645084255726655,
          0.3456496119966951,
          0.6100739704928948,
          -1.2975215359698145,
          0.9811582960283188,
          -1.854291883561129,
          0.0030300626473484674,
          0.5555330497463216,
          1.9854640098519127,
          -2.8892786549069487,
          -0.5784596935192364,
          0.2120730704035394,
          -1.6367541806959658,
          -0.9219858235162748,
          -0.9038989941312121,
          -1.535290948903216,
          -0.9925978081014436,
          -0.1597238157952492,
          -0.1901984016351724,
          0.4340012252146463,
          1.6412372806898923,
          -0.26853040854857746,
          -1.4860370235943405,
          0.25372152314593843,
          0.8945563158090339,
          -1.2581189537610697,
          0.045752502620580435,
          0.1497617632922686,
          0.2057116223861768,
          1.522860668306455,
          2.4288034729247605,
          0.7271286207696227,
          -1.0042866967532893,
          -1.7551852659625091,
          -0.6452019322122896,
          -0.08558077903288307,
          -0.937374506875622,
          -1.1699904455728098,
          1.4613885965928404,
          0.8723881989578501,
          0.20798177375181456,
          0.6798310425036768,
          0.42731389978554923,
          -0.15521417050771996,
          -0.007772620249765506,
          -0.34694444399638413,
          -0.7226311660756984,
          0.4336460288339709,
          1.898232555378553,
          -0.7793458372913163,
          1.5539085406936917,
          -0.7700115463299503,
          1.976076118695718,
          0.7765767247770977,
          -1.1224316814644946,
          -0.5900259740110259,
          0.010858880228758642,
          -0.17312092096226234,
          0.03626058732618706,
          -0.013328956951237278,
          -0.42293607488429613,
          0.8354496259136793,
          -0.49443977885766727,
          1.6887110227852462,
          -1.4909122935659305,
          1.351877827520775,
          -0.3909619630491156,
          -0.12358388977968666,
          1.9262225184352992,
          -1.888314477524304,
          -0.8030996273076954,
          2.708273101446665,
          0.41042386472559367,
          -0.7852293060505795,
          -1.354368226970318,
          -0.2503422957009691,
          -1.4950744957453541,
          -0.25899218688334524,
          0.5439135753811755,
          1.29831213783766
         ],
         "y": [
          0.48791258594993797,
          -0.05891854456106384,
          -0.6362022045967219,
          -0.4056058416314476,
          0.0006330543338569247,
          0.870525528955877,
          -0.6764844175995441,
          0.6474668146657152,
          -0.011818422547298509,
          1.3951013679061022,
          -1.7836141736487758,
          -0.04452308793644446,
          0.167234249338456,
          1.2567361760617723,
          -0.14027575575641704,
          0.09429143699907863,
          1.1242409616971984,
          0.050151518880630894,
          -0.2433928696764287,
          0.0783502937989915,
          0.9577964812936168,
          0.8770513370496233,
          -0.9686451268607692,
          -1.1455682487368903,
          1.667442748949377,
          1.5793147080970615,
          -0.4224730377130238,
          -0.3868067628069606,
          -1.5982968414883156,
          -0.2487089658615257,
          -0.39182632176914484,
          0.4986063317118386,
          -0.8700980248271802,
          0.5019229760141615,
          0.47136913990314216,
          0.09506378894544326,
          -0.4780009951857549,
          -0.15656352607360774,
          0.13881204338059433,
          1.0981469705486244,
          -0.6473528118947334,
          -0.07792660246003699,
          0.49093685414840577,
          0.9380626144705636,
          -0.7734212976175214,
          0.33422943469930877,
          -0.08206457103229005,
          0.19675075386621915,
          0.5420001440757906,
          -1.0969320780915388,
          0.14105130514566805,
          -0.2555864748272685,
          0.3782298749075631,
          0.07122122996107905,
          -0.18649207559510775,
          1.960743631159648,
          -0.5819049046976688,
          -0.5437881897673993,
          -0.6152534082450581,
          -0.08579520337015567,
          -1.0141040794192604,
          -0.7300103716957315,
          1.1591059727549322,
          -0.48871717672232134,
          0.6514275390594886,
          0.2959286126290568,
          -2.8449390446672465,
          -0.9964128029365027,
          -0.03310589205306478,
          0.45683529946442764,
          1.5500313810441426,
          -1.5430455490623174,
          1.2546011341118462,
          0.21495064400066777,
          0.3715588678943498,
          0.49929171775189896,
          0.30296929351938007,
          -1.4839432860196824,
          -2.026418060881709,
          -0.2651049157961102,
          -0.5172731186958455,
          -0.9233505359557593,
          -1.6777405785887876,
          1.1587072682107997,
          -0.08555026672901489,
          -0.08697221682863826,
          -0.8752844276408953,
          -0.4229123641934026,
          1.4152637622249185,
          -0.2687365546300804,
          -0.845265118679393,
          0.03661171573420025,
          -1.0408084121886536,
          0.07503804644651897,
          1.3461860366879066,
          0.008006281464838167,
          1.5369515511553713,
          1.046452560294225,
          -1.6355746895675083,
          -0.24565447964768866
         ]
        }
       ],
       "layout": {
        "legend": {
         "bgcolor": "#F5F6F9",
         "font": {
          "color": "#4D5663"
         }
        },
        "paper_bgcolor": "#F5F6F9",
        "plot_bgcolor": "#F5F6F9",
        "template": {
         "data": {
          "bar": [
           {
            "error_x": {
             "color": "#2a3f5f"
            },
            "error_y": {
             "color": "#2a3f5f"
            },
            "marker": {
             "line": {
              "color": "#E5ECF6",
              "width": 0.5
             }
            },
            "type": "bar"
           }
          ],
          "barpolar": [
           {
            "marker": {
             "line": {
              "color": "#E5ECF6",
              "width": 0.5
             }
            },
            "type": "barpolar"
           }
          ],
          "carpet": [
           {
            "aaxis": {
             "endlinecolor": "#2a3f5f",
             "gridcolor": "white",
             "linecolor": "white",
             "minorgridcolor": "white",
             "startlinecolor": "#2a3f5f"
            },
            "baxis": {
             "endlinecolor": "#2a3f5f",
             "gridcolor": "white",
             "linecolor": "white",
             "minorgridcolor": "white",
             "startlinecolor": "#2a3f5f"
            },
            "type": "carpet"
           }
          ],
          "choropleth": [
           {
            "colorbar": {
             "outlinewidth": 0,
             "ticks": ""
            },
            "type": "choropleth"
           }
          ],
          "contour": [
           {
            "colorbar": {
             "outlinewidth": 0,
             "ticks": ""
            },
            "colorscale": [
             [
              0,
              "#0d0887"
             ],
             [
              0.1111111111111111,
              "#46039f"
             ],
             [
              0.2222222222222222,
              "#7201a8"
             ],
             [
              0.3333333333333333,
              "#9c179e"
             ],
             [
              0.4444444444444444,
              "#bd3786"
             ],
             [
              0.5555555555555556,
              "#d8576b"
             ],
             [
              0.6666666666666666,
              "#ed7953"
             ],
             [
              0.7777777777777778,
              "#fb9f3a"
             ],
             [
              0.8888888888888888,
              "#fdca26"
             ],
             [
              1,
              "#f0f921"
             ]
            ],
            "type": "contour"
           }
          ],
          "contourcarpet": [
           {
            "colorbar": {
             "outlinewidth": 0,
             "ticks": ""
            },
            "type": "contourcarpet"
           }
          ],
          "heatmap": [
           {
            "colorbar": {
             "outlinewidth": 0,
             "ticks": ""
            },
            "colorscale": [
             [
              0,
              "#0d0887"
             ],
             [
              0.1111111111111111,
              "#46039f"
             ],
             [
              0.2222222222222222,
              "#7201a8"
             ],
             [
              0.3333333333333333,
              "#9c179e"
             ],
             [
              0.4444444444444444,
              "#bd3786"
             ],
             [
              0.5555555555555556,
              "#d8576b"
             ],
             [
              0.6666666666666666,
              "#ed7953"
             ],
             [
              0.7777777777777778,
              "#fb9f3a"
             ],
             [
              0.8888888888888888,
              "#fdca26"
             ],
             [
              1,
              "#f0f921"
             ]
            ],
            "type": "heatmap"
           }
          ],
          "heatmapgl": [
           {
            "colorbar": {
             "outlinewidth": 0,
             "ticks": ""
            },
            "colorscale": [
             [
              0,
              "#0d0887"
             ],
             [
              0.1111111111111111,
              "#46039f"
             ],
             [
              0.2222222222222222,
              "#7201a8"
             ],
             [
              0.3333333333333333,
              "#9c179e"
             ],
             [
              0.4444444444444444,
              "#bd3786"
             ],
             [
              0.5555555555555556,
              "#d8576b"
             ],
             [
              0.6666666666666666,
              "#ed7953"
             ],
             [
              0.7777777777777778,
              "#fb9f3a"
             ],
             [
              0.8888888888888888,
              "#fdca26"
             ],
             [
              1,
              "#f0f921"
             ]
            ],
            "type": "heatmapgl"
           }
          ],
          "histogram": [
           {
            "marker": {
             "colorbar": {
              "outlinewidth": 0,
              "ticks": ""
             }
            },
            "type": "histogram"
           }
          ],
          "histogram2d": [
           {
            "colorbar": {
             "outlinewidth": 0,
             "ticks": ""
            },
            "colorscale": [
             [
              0,
              "#0d0887"
             ],
             [
              0.1111111111111111,
              "#46039f"
             ],
             [
              0.2222222222222222,
              "#7201a8"
             ],
             [
              0.3333333333333333,
              "#9c179e"
             ],
             [
              0.4444444444444444,
              "#bd3786"
             ],
             [
              0.5555555555555556,
              "#d8576b"
             ],
             [
              0.6666666666666666,
              "#ed7953"
             ],
             [
              0.7777777777777778,
              "#fb9f3a"
             ],
             [
              0.8888888888888888,
              "#fdca26"
             ],
             [
              1,
              "#f0f921"
             ]
            ],
            "type": "histogram2d"
           }
          ],
          "histogram2dcontour": [
           {
            "colorbar": {
             "outlinewidth": 0,
             "ticks": ""
            },
            "colorscale": [
             [
              0,
              "#0d0887"
             ],
             [
              0.1111111111111111,
              "#46039f"
             ],
             [
              0.2222222222222222,
              "#7201a8"
             ],
             [
              0.3333333333333333,
              "#9c179e"
             ],
             [
              0.4444444444444444,
              "#bd3786"
             ],
             [
              0.5555555555555556,
              "#d8576b"
             ],
             [
              0.6666666666666666,
              "#ed7953"
             ],
             [
              0.7777777777777778,
              "#fb9f3a"
             ],
             [
              0.8888888888888888,
              "#fdca26"
             ],
             [
              1,
              "#f0f921"
             ]
            ],
            "type": "histogram2dcontour"
           }
          ],
          "mesh3d": [
           {
            "colorbar": {
             "outlinewidth": 0,
             "ticks": ""
            },
            "type": "mesh3d"
           }
          ],
          "parcoords": [
           {
            "line": {
             "colorbar": {
              "outlinewidth": 0,
              "ticks": ""
             }
            },
            "type": "parcoords"
           }
          ],
          "pie": [
           {
            "automargin": true,
            "type": "pie"
           }
          ],
          "scatter": [
           {
            "marker": {
             "colorbar": {
              "outlinewidth": 0,
              "ticks": ""
             }
            },
            "type": "scatter"
           }
          ],
          "scatter3d": [
           {
            "line": {
             "colorbar": {
              "outlinewidth": 0,
              "ticks": ""
             }
            },
            "marker": {
             "colorbar": {
              "outlinewidth": 0,
              "ticks": ""
             }
            },
            "type": "scatter3d"
           }
          ],
          "scattercarpet": [
           {
            "marker": {
             "colorbar": {
              "outlinewidth": 0,
              "ticks": ""
             }
            },
            "type": "scattercarpet"
           }
          ],
          "scattergeo": [
           {
            "marker": {
             "colorbar": {
              "outlinewidth": 0,
              "ticks": ""
             }
            },
            "type": "scattergeo"
           }
          ],
          "scattergl": [
           {
            "marker": {
             "colorbar": {
              "outlinewidth": 0,
              "ticks": ""
             }
            },
            "type": "scattergl"
           }
          ],
          "scattermapbox": [
           {
            "marker": {
             "colorbar": {
              "outlinewidth": 0,
              "ticks": ""
             }
            },
            "type": "scattermapbox"
           }
          ],
          "scatterpolar": [
           {
            "marker": {
             "colorbar": {
              "outlinewidth": 0,
              "ticks": ""
             }
            },
            "type": "scatterpolar"
           }
          ],
          "scatterpolargl": [
           {
            "marker": {
             "colorbar": {
              "outlinewidth": 0,
              "ticks": ""
             }
            },
            "type": "scatterpolargl"
           }
          ],
          "scatterternary": [
           {
            "marker": {
             "colorbar": {
              "outlinewidth": 0,
              "ticks": ""
             }
            },
            "type": "scatterternary"
           }
          ],
          "surface": [
           {
            "colorbar": {
             "outlinewidth": 0,
             "ticks": ""
            },
            "colorscale": [
             [
              0,
              "#0d0887"
             ],
             [
              0.1111111111111111,
              "#46039f"
             ],
             [
              0.2222222222222222,
              "#7201a8"
             ],
             [
              0.3333333333333333,
              "#9c179e"
             ],
             [
              0.4444444444444444,
              "#bd3786"
             ],
             [
              0.5555555555555556,
              "#d8576b"
             ],
             [
              0.6666666666666666,
              "#ed7953"
             ],
             [
              0.7777777777777778,
              "#fb9f3a"
             ],
             [
              0.8888888888888888,
              "#fdca26"
             ],
             [
              1,
              "#f0f921"
             ]
            ],
            "type": "surface"
           }
          ],
          "table": [
           {
            "cells": {
             "fill": {
              "color": "#EBF0F8"
             },
             "line": {
              "color": "white"
             }
            },
            "header": {
             "fill": {
              "color": "#C8D4E3"
             },
             "line": {
              "color": "white"
             }
            },
            "type": "table"
           }
          ]
         },
         "layout": {
          "annotationdefaults": {
           "arrowcolor": "#2a3f5f",
           "arrowhead": 0,
           "arrowwidth": 1
          },
          "coloraxis": {
           "colorbar": {
            "outlinewidth": 0,
            "ticks": ""
           }
          },
          "colorscale": {
           "diverging": [
            [
             0,
             "#8e0152"
            ],
            [
             0.1,
             "#c51b7d"
            ],
            [
             0.2,
             "#de77ae"
            ],
            [
             0.3,
             "#f1b6da"
            ],
            [
             0.4,
             "#fde0ef"
            ],
            [
             0.5,
             "#f7f7f7"
            ],
            [
             0.6,
             "#e6f5d0"
            ],
            [
             0.7,
             "#b8e186"
            ],
            [
             0.8,
             "#7fbc41"
            ],
            [
             0.9,
             "#4d9221"
            ],
            [
             1,
             "#276419"
            ]
           ],
           "sequential": [
            [
             0,
             "#0d0887"
            ],
            [
             0.1111111111111111,
             "#46039f"
            ],
            [
             0.2222222222222222,
             "#7201a8"
            ],
            [
             0.3333333333333333,
             "#9c179e"
            ],
            [
             0.4444444444444444,
             "#bd3786"
            ],
            [
             0.5555555555555556,
             "#d8576b"
            ],
            [
             0.6666666666666666,
             "#ed7953"
            ],
            [
             0.7777777777777778,
             "#fb9f3a"
            ],
            [
             0.8888888888888888,
             "#fdca26"
            ],
            [
             1,
             "#f0f921"
            ]
           ],
           "sequentialminus": [
            [
             0,
             "#0d0887"
            ],
            [
             0.1111111111111111,
             "#46039f"
            ],
            [
             0.2222222222222222,
             "#7201a8"
            ],
            [
             0.3333333333333333,
             "#9c179e"
            ],
            [
             0.4444444444444444,
             "#bd3786"
            ],
            [
             0.5555555555555556,
             "#d8576b"
            ],
            [
             0.6666666666666666,
             "#ed7953"
            ],
            [
             0.7777777777777778,
             "#fb9f3a"
            ],
            [
             0.8888888888888888,
             "#fdca26"
            ],
            [
             1,
             "#f0f921"
            ]
           ]
          },
          "colorway": [
           "#636efa",
           "#EF553B",
           "#00cc96",
           "#ab63fa",
           "#FFA15A",
           "#19d3f3",
           "#FF6692",
           "#B6E880",
           "#FF97FF",
           "#FECB52"
          ],
          "font": {
           "color": "#2a3f5f"
          },
          "geo": {
           "bgcolor": "white",
           "lakecolor": "white",
           "landcolor": "#E5ECF6",
           "showlakes": true,
           "showland": true,
           "subunitcolor": "white"
          },
          "hoverlabel": {
           "align": "left"
          },
          "hovermode": "closest",
          "mapbox": {
           "style": "light"
          },
          "paper_bgcolor": "white",
          "plot_bgcolor": "#E5ECF6",
          "polar": {
           "angularaxis": {
            "gridcolor": "white",
            "linecolor": "white",
            "ticks": ""
           },
           "bgcolor": "#E5ECF6",
           "radialaxis": {
            "gridcolor": "white",
            "linecolor": "white",
            "ticks": ""
           }
          },
          "scene": {
           "xaxis": {
            "backgroundcolor": "#E5ECF6",
            "gridcolor": "white",
            "gridwidth": 2,
            "linecolor": "white",
            "showbackground": true,
            "ticks": "",
            "zerolinecolor": "white"
           },
           "yaxis": {
            "backgroundcolor": "#E5ECF6",
            "gridcolor": "white",
            "gridwidth": 2,
            "linecolor": "white",
            "showbackground": true,
            "ticks": "",
            "zerolinecolor": "white"
           },
           "zaxis": {
            "backgroundcolor": "#E5ECF6",
            "gridcolor": "white",
            "gridwidth": 2,
            "linecolor": "white",
            "showbackground": true,
            "ticks": "",
            "zerolinecolor": "white"
           }
          },
          "shapedefaults": {
           "line": {
            "color": "#2a3f5f"
           }
          },
          "ternary": {
           "aaxis": {
            "gridcolor": "white",
            "linecolor": "white",
            "ticks": ""
           },
           "baxis": {
            "gridcolor": "white",
            "linecolor": "white",
            "ticks": ""
           },
           "bgcolor": "#E5ECF6",
           "caxis": {
            "gridcolor": "white",
            "linecolor": "white",
            "ticks": ""
           }
          },
          "title": {
           "x": 0.05
          },
          "xaxis": {
           "automargin": true,
           "gridcolor": "white",
           "linecolor": "white",
           "ticks": "",
           "title": {
            "standoff": 15
           },
           "zerolinecolor": "white",
           "zerolinewidth": 2
          },
          "yaxis": {
           "automargin": true,
           "gridcolor": "white",
           "linecolor": "white",
           "ticks": "",
           "title": {
            "standoff": 15
           },
           "zerolinecolor": "white",
           "zerolinewidth": 2
          }
         }
        },
        "title": {
         "font": {
          "color": "#4D5663"
         }
        },
        "xaxis": {
         "gridcolor": "#E1E5ED",
         "showgrid": true,
         "tickfont": {
          "color": "#4D5663"
         },
         "title": {
          "font": {
           "color": "#4D5663"
          },
          "text": ""
         },
         "zerolinecolor": "#E1E5ED"
        },
        "yaxis": {
         "gridcolor": "#E1E5ED",
         "showgrid": true,
         "tickfont": {
          "color": "#4D5663"
         },
         "title": {
          "font": {
           "color": "#4D5663"
          },
          "text": ""
         },
         "zerolinecolor": "#E1E5ED"
        }
       }
      },
      "text/html": [
       "<div>\n",
       "        \n",
       "        \n",
       "            <div id=\"bf8188c7-b12f-4467-90d4-f7c05b019e9d\" class=\"plotly-graph-div\" style=\"height:525px; width:100%;\"></div>\n",
       "            <script type=\"text/javascript\">\n",
       "                require([\"plotly\"], function(Plotly) {\n",
       "                    window.PLOTLYENV=window.PLOTLYENV || {};\n",
       "                    window.PLOTLYENV.BASE_URL='https://plot.ly';\n",
       "                    \n",
       "                if (document.getElementById(\"bf8188c7-b12f-4467-90d4-f7c05b019e9d\")) {\n",
       "                    Plotly.newPlot(\n",
       "                        'bf8188c7-b12f-4467-90d4-f7c05b019e9d',\n",
       "                        [{\"line\": {\"color\": \"rgba(255, 153, 51, 1.0)\", \"dash\": \"solid\", \"shape\": \"linear\", \"width\": 1.3}, \"marker\": {\"size\": 10, \"symbol\": \"circle\"}, \"mode\": \"markers\", \"name\": \"B\", \"text\": \"\", \"type\": \"scatter\", \"x\": [0.45376365134072455, 0.1533277234434953, 0.5584066630730266, 0.6388125002339647, -0.7682082709200291, 0.5872366051112483, -1.3622641558947228, 0.9197266262491686, -0.5667359249270596, 0.4428979494699839, -0.9832214064613543, -0.2086539026383452, 0.5831019922477547, 1.954808667357305, -0.39354558972605347, 0.30152662807609654, 0.13427182222200904, 0.046625265681057806, -0.9675029107659785, -1.9378907692372627, 0.7645084255726655, 0.3456496119966951, 0.6100739704928948, -1.2975215359698145, 0.9811582960283188, -1.854291883561129, 0.0030300626473484674, 0.5555330497463216, 1.9854640098519127, -2.8892786549069487, -0.5784596935192364, 0.2120730704035394, -1.6367541806959658, -0.9219858235162748, -0.9038989941312121, -1.535290948903216, -0.9925978081014436, -0.1597238157952492, -0.1901984016351724, 0.4340012252146463, 1.6412372806898923, -0.26853040854857746, -1.4860370235943405, 0.25372152314593843, 0.8945563158090339, -1.2581189537610697, 0.045752502620580435, 0.1497617632922686, 0.2057116223861768, 1.522860668306455, 2.4288034729247605, 0.7271286207696227, -1.0042866967532893, -1.7551852659625091, -0.6452019322122896, -0.08558077903288307, -0.937374506875622, -1.1699904455728098, 1.4613885965928404, 0.8723881989578501, 0.20798177375181456, 0.6798310425036768, 0.42731389978554923, -0.15521417050771996, -0.007772620249765506, -0.34694444399638413, -0.7226311660756984, 0.4336460288339709, 1.898232555378553, -0.7793458372913163, 1.5539085406936917, -0.7700115463299503, 1.976076118695718, 0.7765767247770977, -1.1224316814644946, -0.5900259740110259, 0.010858880228758642, -0.17312092096226234, 0.03626058732618706, -0.013328956951237278, -0.42293607488429613, 0.8354496259136793, -0.49443977885766727, 1.6887110227852462, -1.4909122935659305, 1.351877827520775, -0.3909619630491156, -0.12358388977968666, 1.9262225184352992, -1.888314477524304, -0.8030996273076954, 2.708273101446665, 0.41042386472559367, -0.7852293060505795, -1.354368226970318, -0.2503422957009691, -1.4950744957453541, -0.25899218688334524, 0.5439135753811755, 1.29831213783766], \"y\": [0.48791258594993797, -0.05891854456106384, -0.6362022045967219, -0.4056058416314476, 0.0006330543338569247, 0.870525528955877, -0.6764844175995441, 0.6474668146657152, -0.011818422547298509, 1.3951013679061022, -1.7836141736487758, -0.04452308793644446, 0.167234249338456, 1.2567361760617723, -0.14027575575641704, 0.09429143699907863, 1.1242409616971984, 0.050151518880630894, -0.2433928696764287, 0.0783502937989915, 0.9577964812936168, 0.8770513370496233, -0.9686451268607692, -1.1455682487368903, 1.667442748949377, 1.5793147080970615, -0.4224730377130238, -0.3868067628069606, -1.5982968414883156, -0.2487089658615257, -0.39182632176914484, 0.4986063317118386, -0.8700980248271802, 0.5019229760141615, 0.47136913990314216, 0.09506378894544326, -0.4780009951857549, -0.15656352607360774, 0.13881204338059433, 1.0981469705486244, -0.6473528118947334, -0.07792660246003699, 0.49093685414840577, 0.9380626144705636, -0.7734212976175214, 0.33422943469930877, -0.08206457103229005, 0.19675075386621915, 0.5420001440757906, -1.0969320780915388, 0.14105130514566805, -0.2555864748272685, 0.3782298749075631, 0.07122122996107905, -0.18649207559510775, 1.960743631159648, -0.5819049046976688, -0.5437881897673993, -0.6152534082450581, -0.08579520337015567, -1.0141040794192604, -0.7300103716957315, 1.1591059727549322, -0.48871717672232134, 0.6514275390594886, 0.2959286126290568, -2.8449390446672465, -0.9964128029365027, -0.03310589205306478, 0.45683529946442764, 1.5500313810441426, -1.5430455490623174, 1.2546011341118462, 0.21495064400066777, 0.3715588678943498, 0.49929171775189896, 0.30296929351938007, -1.4839432860196824, -2.026418060881709, -0.2651049157961102, -0.5172731186958455, -0.9233505359557593, -1.6777405785887876, 1.1587072682107997, -0.08555026672901489, -0.08697221682863826, -0.8752844276408953, -0.4229123641934026, 1.4152637622249185, -0.2687365546300804, -0.845265118679393, 0.03661171573420025, -1.0408084121886536, 0.07503804644651897, 1.3461860366879066, 0.008006281464838167, 1.5369515511553713, 1.046452560294225, -1.6355746895675083, -0.24565447964768866]}],\n",
       "                        {\"legend\": {\"bgcolor\": \"#F5F6F9\", \"font\": {\"color\": \"#4D5663\"}}, \"paper_bgcolor\": \"#F5F6F9\", \"plot_bgcolor\": \"#F5F6F9\", \"template\": {\"data\": {\"bar\": [{\"error_x\": {\"color\": \"#2a3f5f\"}, \"error_y\": {\"color\": \"#2a3f5f\"}, \"marker\": {\"line\": {\"color\": \"#E5ECF6\", \"width\": 0.5}}, \"type\": \"bar\"}], \"barpolar\": [{\"marker\": {\"line\": {\"color\": \"#E5ECF6\", \"width\": 0.5}}, \"type\": \"barpolar\"}], \"carpet\": [{\"aaxis\": {\"endlinecolor\": \"#2a3f5f\", \"gridcolor\": \"white\", \"linecolor\": \"white\", \"minorgridcolor\": \"white\", \"startlinecolor\": \"#2a3f5f\"}, \"baxis\": {\"endlinecolor\": \"#2a3f5f\", \"gridcolor\": \"white\", \"linecolor\": \"white\", \"minorgridcolor\": \"white\", \"startlinecolor\": \"#2a3f5f\"}, \"type\": \"carpet\"}], \"choropleth\": [{\"colorbar\": {\"outlinewidth\": 0, \"ticks\": \"\"}, \"type\": \"choropleth\"}], \"contour\": [{\"colorbar\": {\"outlinewidth\": 0, \"ticks\": \"\"}, \"colorscale\": [[0.0, \"#0d0887\"], [0.1111111111111111, \"#46039f\"], [0.2222222222222222, \"#7201a8\"], [0.3333333333333333, \"#9c179e\"], [0.4444444444444444, \"#bd3786\"], [0.5555555555555556, \"#d8576b\"], [0.6666666666666666, \"#ed7953\"], [0.7777777777777778, \"#fb9f3a\"], [0.8888888888888888, \"#fdca26\"], [1.0, \"#f0f921\"]], \"type\": \"contour\"}], \"contourcarpet\": [{\"colorbar\": {\"outlinewidth\": 0, \"ticks\": \"\"}, \"type\": \"contourcarpet\"}], \"heatmap\": [{\"colorbar\": {\"outlinewidth\": 0, \"ticks\": \"\"}, \"colorscale\": [[0.0, \"#0d0887\"], [0.1111111111111111, \"#46039f\"], [0.2222222222222222, \"#7201a8\"], [0.3333333333333333, \"#9c179e\"], [0.4444444444444444, \"#bd3786\"], [0.5555555555555556, \"#d8576b\"], [0.6666666666666666, \"#ed7953\"], [0.7777777777777778, \"#fb9f3a\"], [0.8888888888888888, \"#fdca26\"], [1.0, \"#f0f921\"]], \"type\": \"heatmap\"}], \"heatmapgl\": [{\"colorbar\": {\"outlinewidth\": 0, \"ticks\": \"\"}, \"colorscale\": [[0.0, \"#0d0887\"], [0.1111111111111111, \"#46039f\"], [0.2222222222222222, \"#7201a8\"], [0.3333333333333333, \"#9c179e\"], [0.4444444444444444, \"#bd3786\"], [0.5555555555555556, \"#d8576b\"], [0.6666666666666666, \"#ed7953\"], [0.7777777777777778, \"#fb9f3a\"], [0.8888888888888888, \"#fdca26\"], [1.0, \"#f0f921\"]], \"type\": \"heatmapgl\"}], \"histogram\": [{\"marker\": {\"colorbar\": {\"outlinewidth\": 0, \"ticks\": \"\"}}, \"type\": \"histogram\"}], \"histogram2d\": [{\"colorbar\": {\"outlinewidth\": 0, \"ticks\": \"\"}, \"colorscale\": [[0.0, \"#0d0887\"], [0.1111111111111111, \"#46039f\"], [0.2222222222222222, \"#7201a8\"], [0.3333333333333333, \"#9c179e\"], [0.4444444444444444, \"#bd3786\"], [0.5555555555555556, \"#d8576b\"], [0.6666666666666666, \"#ed7953\"], [0.7777777777777778, \"#fb9f3a\"], [0.8888888888888888, \"#fdca26\"], [1.0, \"#f0f921\"]], \"type\": \"histogram2d\"}], \"histogram2dcontour\": [{\"colorbar\": {\"outlinewidth\": 0, \"ticks\": \"\"}, \"colorscale\": [[0.0, \"#0d0887\"], [0.1111111111111111, \"#46039f\"], [0.2222222222222222, \"#7201a8\"], [0.3333333333333333, \"#9c179e\"], [0.4444444444444444, \"#bd3786\"], [0.5555555555555556, \"#d8576b\"], [0.6666666666666666, \"#ed7953\"], [0.7777777777777778, \"#fb9f3a\"], [0.8888888888888888, \"#fdca26\"], [1.0, \"#f0f921\"]], \"type\": \"histogram2dcontour\"}], \"mesh3d\": [{\"colorbar\": {\"outlinewidth\": 0, \"ticks\": \"\"}, \"type\": \"mesh3d\"}], \"parcoords\": [{\"line\": {\"colorbar\": {\"outlinewidth\": 0, \"ticks\": \"\"}}, \"type\": \"parcoords\"}], \"pie\": [{\"automargin\": true, \"type\": \"pie\"}], \"scatter\": [{\"marker\": {\"colorbar\": {\"outlinewidth\": 0, \"ticks\": \"\"}}, \"type\": \"scatter\"}], \"scatter3d\": [{\"line\": {\"colorbar\": {\"outlinewidth\": 0, \"ticks\": \"\"}}, \"marker\": {\"colorbar\": {\"outlinewidth\": 0, \"ticks\": \"\"}}, \"type\": \"scatter3d\"}], \"scattercarpet\": [{\"marker\": {\"colorbar\": {\"outlinewidth\": 0, \"ticks\": \"\"}}, \"type\": \"scattercarpet\"}], \"scattergeo\": [{\"marker\": {\"colorbar\": {\"outlinewidth\": 0, \"ticks\": \"\"}}, \"type\": \"scattergeo\"}], \"scattergl\": [{\"marker\": {\"colorbar\": {\"outlinewidth\": 0, \"ticks\": \"\"}}, \"type\": \"scattergl\"}], \"scattermapbox\": [{\"marker\": {\"colorbar\": {\"outlinewidth\": 0, \"ticks\": \"\"}}, \"type\": \"scattermapbox\"}], \"scatterpolar\": [{\"marker\": {\"colorbar\": {\"outlinewidth\": 0, \"ticks\": \"\"}}, \"type\": \"scatterpolar\"}], \"scatterpolargl\": [{\"marker\": {\"colorbar\": {\"outlinewidth\": 0, \"ticks\": \"\"}}, \"type\": \"scatterpolargl\"}], \"scatterternary\": [{\"marker\": {\"colorbar\": {\"outlinewidth\": 0, \"ticks\": \"\"}}, \"type\": \"scatterternary\"}], \"surface\": [{\"colorbar\": {\"outlinewidth\": 0, \"ticks\": \"\"}, \"colorscale\": [[0.0, \"#0d0887\"], [0.1111111111111111, \"#46039f\"], [0.2222222222222222, \"#7201a8\"], [0.3333333333333333, \"#9c179e\"], [0.4444444444444444, \"#bd3786\"], [0.5555555555555556, \"#d8576b\"], [0.6666666666666666, \"#ed7953\"], [0.7777777777777778, \"#fb9f3a\"], [0.8888888888888888, \"#fdca26\"], [1.0, \"#f0f921\"]], \"type\": \"surface\"}], \"table\": [{\"cells\": {\"fill\": {\"color\": \"#EBF0F8\"}, \"line\": {\"color\": \"white\"}}, \"header\": {\"fill\": {\"color\": \"#C8D4E3\"}, \"line\": {\"color\": \"white\"}}, \"type\": \"table\"}]}, \"layout\": {\"annotationdefaults\": {\"arrowcolor\": \"#2a3f5f\", \"arrowhead\": 0, \"arrowwidth\": 1}, \"coloraxis\": {\"colorbar\": {\"outlinewidth\": 0, \"ticks\": \"\"}}, \"colorscale\": {\"diverging\": [[0, \"#8e0152\"], [0.1, \"#c51b7d\"], [0.2, \"#de77ae\"], [0.3, \"#f1b6da\"], [0.4, \"#fde0ef\"], [0.5, \"#f7f7f7\"], [0.6, \"#e6f5d0\"], [0.7, \"#b8e186\"], [0.8, \"#7fbc41\"], [0.9, \"#4d9221\"], [1, \"#276419\"]], \"sequential\": [[0.0, \"#0d0887\"], [0.1111111111111111, \"#46039f\"], [0.2222222222222222, \"#7201a8\"], [0.3333333333333333, \"#9c179e\"], [0.4444444444444444, \"#bd3786\"], [0.5555555555555556, \"#d8576b\"], [0.6666666666666666, \"#ed7953\"], [0.7777777777777778, \"#fb9f3a\"], [0.8888888888888888, \"#fdca26\"], [1.0, \"#f0f921\"]], \"sequentialminus\": [[0.0, \"#0d0887\"], [0.1111111111111111, \"#46039f\"], [0.2222222222222222, \"#7201a8\"], [0.3333333333333333, \"#9c179e\"], [0.4444444444444444, \"#bd3786\"], [0.5555555555555556, \"#d8576b\"], [0.6666666666666666, \"#ed7953\"], [0.7777777777777778, \"#fb9f3a\"], [0.8888888888888888, \"#fdca26\"], [1.0, \"#f0f921\"]]}, \"colorway\": [\"#636efa\", \"#EF553B\", \"#00cc96\", \"#ab63fa\", \"#FFA15A\", \"#19d3f3\", \"#FF6692\", \"#B6E880\", \"#FF97FF\", \"#FECB52\"], \"font\": {\"color\": \"#2a3f5f\"}, \"geo\": {\"bgcolor\": \"white\", \"lakecolor\": \"white\", \"landcolor\": \"#E5ECF6\", \"showlakes\": true, \"showland\": true, \"subunitcolor\": \"white\"}, \"hoverlabel\": {\"align\": \"left\"}, \"hovermode\": \"closest\", \"mapbox\": {\"style\": \"light\"}, \"paper_bgcolor\": \"white\", \"plot_bgcolor\": \"#E5ECF6\", \"polar\": {\"angularaxis\": {\"gridcolor\": \"white\", \"linecolor\": \"white\", \"ticks\": \"\"}, \"bgcolor\": \"#E5ECF6\", \"radialaxis\": {\"gridcolor\": \"white\", \"linecolor\": \"white\", \"ticks\": \"\"}}, \"scene\": {\"xaxis\": {\"backgroundcolor\": \"#E5ECF6\", \"gridcolor\": \"white\", \"gridwidth\": 2, \"linecolor\": \"white\", \"showbackground\": true, \"ticks\": \"\", \"zerolinecolor\": \"white\"}, \"yaxis\": {\"backgroundcolor\": \"#E5ECF6\", \"gridcolor\": \"white\", \"gridwidth\": 2, \"linecolor\": \"white\", \"showbackground\": true, \"ticks\": \"\", \"zerolinecolor\": \"white\"}, \"zaxis\": {\"backgroundcolor\": \"#E5ECF6\", \"gridcolor\": \"white\", \"gridwidth\": 2, \"linecolor\": \"white\", \"showbackground\": true, \"ticks\": \"\", \"zerolinecolor\": \"white\"}}, \"shapedefaults\": {\"line\": {\"color\": \"#2a3f5f\"}}, \"ternary\": {\"aaxis\": {\"gridcolor\": \"white\", \"linecolor\": \"white\", \"ticks\": \"\"}, \"baxis\": {\"gridcolor\": \"white\", \"linecolor\": \"white\", \"ticks\": \"\"}, \"bgcolor\": \"#E5ECF6\", \"caxis\": {\"gridcolor\": \"white\", \"linecolor\": \"white\", \"ticks\": \"\"}}, \"title\": {\"x\": 0.05}, \"xaxis\": {\"automargin\": true, \"gridcolor\": \"white\", \"linecolor\": \"white\", \"ticks\": \"\", \"title\": {\"standoff\": 15}, \"zerolinecolor\": \"white\", \"zerolinewidth\": 2}, \"yaxis\": {\"automargin\": true, \"gridcolor\": \"white\", \"linecolor\": \"white\", \"ticks\": \"\", \"title\": {\"standoff\": 15}, \"zerolinecolor\": \"white\", \"zerolinewidth\": 2}}}, \"title\": {\"font\": {\"color\": \"#4D5663\"}}, \"xaxis\": {\"gridcolor\": \"#E1E5ED\", \"showgrid\": true, \"tickfont\": {\"color\": \"#4D5663\"}, \"title\": {\"font\": {\"color\": \"#4D5663\"}, \"text\": \"\"}, \"zerolinecolor\": \"#E1E5ED\"}, \"yaxis\": {\"gridcolor\": \"#E1E5ED\", \"showgrid\": true, \"tickfont\": {\"color\": \"#4D5663\"}, \"title\": {\"font\": {\"color\": \"#4D5663\"}, \"text\": \"\"}, \"zerolinecolor\": \"#E1E5ED\"}},\n",
       "                        {\"showLink\": true, \"linkText\": \"Export to plot.ly\", \"plotlyServerURL\": \"https://plot.ly\", \"responsive\": true}\n",
       "                    ).then(function(){\n",
       "                            \n",
       "var gd = document.getElementById('bf8188c7-b12f-4467-90d4-f7c05b019e9d');\n",
       "var x = new MutationObserver(function (mutations, observer) {{\n",
       "        var display = window.getComputedStyle(gd).display;\n",
       "        if (!display || display === 'none') {{\n",
       "            console.log([gd, 'removed!']);\n",
       "            Plotly.purge(gd);\n",
       "            observer.disconnect();\n",
       "        }}\n",
       "}});\n",
       "\n",
       "// Listen for the removal of the full notebook cells\n",
       "var notebookContainer = gd.closest('#notebook-container');\n",
       "if (notebookContainer) {{\n",
       "    x.observe(notebookContainer, {childList: true});\n",
       "}}\n",
       "\n",
       "// Listen for the clearing of the current output cell\n",
       "var outputEl = gd.closest('.output');\n",
       "if (outputEl) {{\n",
       "    x.observe(outputEl, {childList: true});\n",
       "}}\n",
       "\n",
       "                        })\n",
       "                };\n",
       "                });\n",
       "            </script>\n",
       "        </div>"
      ]
     },
     "metadata": {},
     "output_type": "display_data"
    }
   ],
   "source": [
    "df.iplot(kind='scatter',x='A',y='B',mode='markers',size=10)"
   ]
  },
  {
   "cell_type": "markdown",
   "metadata": {},
   "source": [
    "## Plots de barra"
   ]
  },
  {
   "cell_type": "code",
   "execution_count": 11,
   "metadata": {},
   "outputs": [
    {
     "data": {
      "application/vnd.plotly.v1+json": {
       "config": {
        "linkText": "Export to plot.ly",
        "plotlyServerURL": "https://plot.ly",
        "showLink": true
       },
       "data": [
        {
         "marker": {
          "color": "rgba(255, 153, 51, 0.6)",
          "line": {
           "color": "rgba(255, 153, 51, 1.0)",
           "width": 1
          }
         },
         "name": "Valores",
         "orientation": "v",
         "text": "",
         "type": "bar",
         "x": [
          "A",
          "B",
          "C"
         ],
         "y": [
          32,
          43,
          50
         ]
        }
       ],
       "layout": {
        "legend": {
         "bgcolor": "#F5F6F9",
         "font": {
          "color": "#4D5663"
         }
        },
        "paper_bgcolor": "#F5F6F9",
        "plot_bgcolor": "#F5F6F9",
        "template": {
         "data": {
          "bar": [
           {
            "error_x": {
             "color": "#2a3f5f"
            },
            "error_y": {
             "color": "#2a3f5f"
            },
            "marker": {
             "line": {
              "color": "#E5ECF6",
              "width": 0.5
             }
            },
            "type": "bar"
           }
          ],
          "barpolar": [
           {
            "marker": {
             "line": {
              "color": "#E5ECF6",
              "width": 0.5
             }
            },
            "type": "barpolar"
           }
          ],
          "carpet": [
           {
            "aaxis": {
             "endlinecolor": "#2a3f5f",
             "gridcolor": "white",
             "linecolor": "white",
             "minorgridcolor": "white",
             "startlinecolor": "#2a3f5f"
            },
            "baxis": {
             "endlinecolor": "#2a3f5f",
             "gridcolor": "white",
             "linecolor": "white",
             "minorgridcolor": "white",
             "startlinecolor": "#2a3f5f"
            },
            "type": "carpet"
           }
          ],
          "choropleth": [
           {
            "colorbar": {
             "outlinewidth": 0,
             "ticks": ""
            },
            "type": "choropleth"
           }
          ],
          "contour": [
           {
            "colorbar": {
             "outlinewidth": 0,
             "ticks": ""
            },
            "colorscale": [
             [
              0,
              "#0d0887"
             ],
             [
              0.1111111111111111,
              "#46039f"
             ],
             [
              0.2222222222222222,
              "#7201a8"
             ],
             [
              0.3333333333333333,
              "#9c179e"
             ],
             [
              0.4444444444444444,
              "#bd3786"
             ],
             [
              0.5555555555555556,
              "#d8576b"
             ],
             [
              0.6666666666666666,
              "#ed7953"
             ],
             [
              0.7777777777777778,
              "#fb9f3a"
             ],
             [
              0.8888888888888888,
              "#fdca26"
             ],
             [
              1,
              "#f0f921"
             ]
            ],
            "type": "contour"
           }
          ],
          "contourcarpet": [
           {
            "colorbar": {
             "outlinewidth": 0,
             "ticks": ""
            },
            "type": "contourcarpet"
           }
          ],
          "heatmap": [
           {
            "colorbar": {
             "outlinewidth": 0,
             "ticks": ""
            },
            "colorscale": [
             [
              0,
              "#0d0887"
             ],
             [
              0.1111111111111111,
              "#46039f"
             ],
             [
              0.2222222222222222,
              "#7201a8"
             ],
             [
              0.3333333333333333,
              "#9c179e"
             ],
             [
              0.4444444444444444,
              "#bd3786"
             ],
             [
              0.5555555555555556,
              "#d8576b"
             ],
             [
              0.6666666666666666,
              "#ed7953"
             ],
             [
              0.7777777777777778,
              "#fb9f3a"
             ],
             [
              0.8888888888888888,
              "#fdca26"
             ],
             [
              1,
              "#f0f921"
             ]
            ],
            "type": "heatmap"
           }
          ],
          "heatmapgl": [
           {
            "colorbar": {
             "outlinewidth": 0,
             "ticks": ""
            },
            "colorscale": [
             [
              0,
              "#0d0887"
             ],
             [
              0.1111111111111111,
              "#46039f"
             ],
             [
              0.2222222222222222,
              "#7201a8"
             ],
             [
              0.3333333333333333,
              "#9c179e"
             ],
             [
              0.4444444444444444,
              "#bd3786"
             ],
             [
              0.5555555555555556,
              "#d8576b"
             ],
             [
              0.6666666666666666,
              "#ed7953"
             ],
             [
              0.7777777777777778,
              "#fb9f3a"
             ],
             [
              0.8888888888888888,
              "#fdca26"
             ],
             [
              1,
              "#f0f921"
             ]
            ],
            "type": "heatmapgl"
           }
          ],
          "histogram": [
           {
            "marker": {
             "colorbar": {
              "outlinewidth": 0,
              "ticks": ""
             }
            },
            "type": "histogram"
           }
          ],
          "histogram2d": [
           {
            "colorbar": {
             "outlinewidth": 0,
             "ticks": ""
            },
            "colorscale": [
             [
              0,
              "#0d0887"
             ],
             [
              0.1111111111111111,
              "#46039f"
             ],
             [
              0.2222222222222222,
              "#7201a8"
             ],
             [
              0.3333333333333333,
              "#9c179e"
             ],
             [
              0.4444444444444444,
              "#bd3786"
             ],
             [
              0.5555555555555556,
              "#d8576b"
             ],
             [
              0.6666666666666666,
              "#ed7953"
             ],
             [
              0.7777777777777778,
              "#fb9f3a"
             ],
             [
              0.8888888888888888,
              "#fdca26"
             ],
             [
              1,
              "#f0f921"
             ]
            ],
            "type": "histogram2d"
           }
          ],
          "histogram2dcontour": [
           {
            "colorbar": {
             "outlinewidth": 0,
             "ticks": ""
            },
            "colorscale": [
             [
              0,
              "#0d0887"
             ],
             [
              0.1111111111111111,
              "#46039f"
             ],
             [
              0.2222222222222222,
              "#7201a8"
             ],
             [
              0.3333333333333333,
              "#9c179e"
             ],
             [
              0.4444444444444444,
              "#bd3786"
             ],
             [
              0.5555555555555556,
              "#d8576b"
             ],
             [
              0.6666666666666666,
              "#ed7953"
             ],
             [
              0.7777777777777778,
              "#fb9f3a"
             ],
             [
              0.8888888888888888,
              "#fdca26"
             ],
             [
              1,
              "#f0f921"
             ]
            ],
            "type": "histogram2dcontour"
           }
          ],
          "mesh3d": [
           {
            "colorbar": {
             "outlinewidth": 0,
             "ticks": ""
            },
            "type": "mesh3d"
           }
          ],
          "parcoords": [
           {
            "line": {
             "colorbar": {
              "outlinewidth": 0,
              "ticks": ""
             }
            },
            "type": "parcoords"
           }
          ],
          "pie": [
           {
            "automargin": true,
            "type": "pie"
           }
          ],
          "scatter": [
           {
            "marker": {
             "colorbar": {
              "outlinewidth": 0,
              "ticks": ""
             }
            },
            "type": "scatter"
           }
          ],
          "scatter3d": [
           {
            "line": {
             "colorbar": {
              "outlinewidth": 0,
              "ticks": ""
             }
            },
            "marker": {
             "colorbar": {
              "outlinewidth": 0,
              "ticks": ""
             }
            },
            "type": "scatter3d"
           }
          ],
          "scattercarpet": [
           {
            "marker": {
             "colorbar": {
              "outlinewidth": 0,
              "ticks": ""
             }
            },
            "type": "scattercarpet"
           }
          ],
          "scattergeo": [
           {
            "marker": {
             "colorbar": {
              "outlinewidth": 0,
              "ticks": ""
             }
            },
            "type": "scattergeo"
           }
          ],
          "scattergl": [
           {
            "marker": {
             "colorbar": {
              "outlinewidth": 0,
              "ticks": ""
             }
            },
            "type": "scattergl"
           }
          ],
          "scattermapbox": [
           {
            "marker": {
             "colorbar": {
              "outlinewidth": 0,
              "ticks": ""
             }
            },
            "type": "scattermapbox"
           }
          ],
          "scatterpolar": [
           {
            "marker": {
             "colorbar": {
              "outlinewidth": 0,
              "ticks": ""
             }
            },
            "type": "scatterpolar"
           }
          ],
          "scatterpolargl": [
           {
            "marker": {
             "colorbar": {
              "outlinewidth": 0,
              "ticks": ""
             }
            },
            "type": "scatterpolargl"
           }
          ],
          "scatterternary": [
           {
            "marker": {
             "colorbar": {
              "outlinewidth": 0,
              "ticks": ""
             }
            },
            "type": "scatterternary"
           }
          ],
          "surface": [
           {
            "colorbar": {
             "outlinewidth": 0,
             "ticks": ""
            },
            "colorscale": [
             [
              0,
              "#0d0887"
             ],
             [
              0.1111111111111111,
              "#46039f"
             ],
             [
              0.2222222222222222,
              "#7201a8"
             ],
             [
              0.3333333333333333,
              "#9c179e"
             ],
             [
              0.4444444444444444,
              "#bd3786"
             ],
             [
              0.5555555555555556,
              "#d8576b"
             ],
             [
              0.6666666666666666,
              "#ed7953"
             ],
             [
              0.7777777777777778,
              "#fb9f3a"
             ],
             [
              0.8888888888888888,
              "#fdca26"
             ],
             [
              1,
              "#f0f921"
             ]
            ],
            "type": "surface"
           }
          ],
          "table": [
           {
            "cells": {
             "fill": {
              "color": "#EBF0F8"
             },
             "line": {
              "color": "white"
             }
            },
            "header": {
             "fill": {
              "color": "#C8D4E3"
             },
             "line": {
              "color": "white"
             }
            },
            "type": "table"
           }
          ]
         },
         "layout": {
          "annotationdefaults": {
           "arrowcolor": "#2a3f5f",
           "arrowhead": 0,
           "arrowwidth": 1
          },
          "coloraxis": {
           "colorbar": {
            "outlinewidth": 0,
            "ticks": ""
           }
          },
          "colorscale": {
           "diverging": [
            [
             0,
             "#8e0152"
            ],
            [
             0.1,
             "#c51b7d"
            ],
            [
             0.2,
             "#de77ae"
            ],
            [
             0.3,
             "#f1b6da"
            ],
            [
             0.4,
             "#fde0ef"
            ],
            [
             0.5,
             "#f7f7f7"
            ],
            [
             0.6,
             "#e6f5d0"
            ],
            [
             0.7,
             "#b8e186"
            ],
            [
             0.8,
             "#7fbc41"
            ],
            [
             0.9,
             "#4d9221"
            ],
            [
             1,
             "#276419"
            ]
           ],
           "sequential": [
            [
             0,
             "#0d0887"
            ],
            [
             0.1111111111111111,
             "#46039f"
            ],
            [
             0.2222222222222222,
             "#7201a8"
            ],
            [
             0.3333333333333333,
             "#9c179e"
            ],
            [
             0.4444444444444444,
             "#bd3786"
            ],
            [
             0.5555555555555556,
             "#d8576b"
            ],
            [
             0.6666666666666666,
             "#ed7953"
            ],
            [
             0.7777777777777778,
             "#fb9f3a"
            ],
            [
             0.8888888888888888,
             "#fdca26"
            ],
            [
             1,
             "#f0f921"
            ]
           ],
           "sequentialminus": [
            [
             0,
             "#0d0887"
            ],
            [
             0.1111111111111111,
             "#46039f"
            ],
            [
             0.2222222222222222,
             "#7201a8"
            ],
            [
             0.3333333333333333,
             "#9c179e"
            ],
            [
             0.4444444444444444,
             "#bd3786"
            ],
            [
             0.5555555555555556,
             "#d8576b"
            ],
            [
             0.6666666666666666,
             "#ed7953"
            ],
            [
             0.7777777777777778,
             "#fb9f3a"
            ],
            [
             0.8888888888888888,
             "#fdca26"
            ],
            [
             1,
             "#f0f921"
            ]
           ]
          },
          "colorway": [
           "#636efa",
           "#EF553B",
           "#00cc96",
           "#ab63fa",
           "#FFA15A",
           "#19d3f3",
           "#FF6692",
           "#B6E880",
           "#FF97FF",
           "#FECB52"
          ],
          "font": {
           "color": "#2a3f5f"
          },
          "geo": {
           "bgcolor": "white",
           "lakecolor": "white",
           "landcolor": "#E5ECF6",
           "showlakes": true,
           "showland": true,
           "subunitcolor": "white"
          },
          "hoverlabel": {
           "align": "left"
          },
          "hovermode": "closest",
          "mapbox": {
           "style": "light"
          },
          "paper_bgcolor": "white",
          "plot_bgcolor": "#E5ECF6",
          "polar": {
           "angularaxis": {
            "gridcolor": "white",
            "linecolor": "white",
            "ticks": ""
           },
           "bgcolor": "#E5ECF6",
           "radialaxis": {
            "gridcolor": "white",
            "linecolor": "white",
            "ticks": ""
           }
          },
          "scene": {
           "xaxis": {
            "backgroundcolor": "#E5ECF6",
            "gridcolor": "white",
            "gridwidth": 2,
            "linecolor": "white",
            "showbackground": true,
            "ticks": "",
            "zerolinecolor": "white"
           },
           "yaxis": {
            "backgroundcolor": "#E5ECF6",
            "gridcolor": "white",
            "gridwidth": 2,
            "linecolor": "white",
            "showbackground": true,
            "ticks": "",
            "zerolinecolor": "white"
           },
           "zaxis": {
            "backgroundcolor": "#E5ECF6",
            "gridcolor": "white",
            "gridwidth": 2,
            "linecolor": "white",
            "showbackground": true,
            "ticks": "",
            "zerolinecolor": "white"
           }
          },
          "shapedefaults": {
           "line": {
            "color": "#2a3f5f"
           }
          },
          "ternary": {
           "aaxis": {
            "gridcolor": "white",
            "linecolor": "white",
            "ticks": ""
           },
           "baxis": {
            "gridcolor": "white",
            "linecolor": "white",
            "ticks": ""
           },
           "bgcolor": "#E5ECF6",
           "caxis": {
            "gridcolor": "white",
            "linecolor": "white",
            "ticks": ""
           }
          },
          "title": {
           "x": 0.05
          },
          "xaxis": {
           "automargin": true,
           "gridcolor": "white",
           "linecolor": "white",
           "ticks": "",
           "title": {
            "standoff": 15
           },
           "zerolinecolor": "white",
           "zerolinewidth": 2
          },
          "yaxis": {
           "automargin": true,
           "gridcolor": "white",
           "linecolor": "white",
           "ticks": "",
           "title": {
            "standoff": 15
           },
           "zerolinecolor": "white",
           "zerolinewidth": 2
          }
         }
        },
        "title": {
         "font": {
          "color": "#4D5663"
         }
        },
        "xaxis": {
         "gridcolor": "#E1E5ED",
         "showgrid": true,
         "tickfont": {
          "color": "#4D5663"
         },
         "title": {
          "font": {
           "color": "#4D5663"
          },
          "text": ""
         },
         "zerolinecolor": "#E1E5ED"
        },
        "yaxis": {
         "gridcolor": "#E1E5ED",
         "showgrid": true,
         "tickfont": {
          "color": "#4D5663"
         },
         "title": {
          "font": {
           "color": "#4D5663"
          },
          "text": ""
         },
         "zerolinecolor": "#E1E5ED"
        }
       }
      },
      "text/html": [
       "<div>\n",
       "        \n",
       "        \n",
       "            <div id=\"a15df064-65ec-4c3d-b1ba-3c6d694031ea\" class=\"plotly-graph-div\" style=\"height:525px; width:100%;\"></div>\n",
       "            <script type=\"text/javascript\">\n",
       "                require([\"plotly\"], function(Plotly) {\n",
       "                    window.PLOTLYENV=window.PLOTLYENV || {};\n",
       "                    window.PLOTLYENV.BASE_URL='https://plot.ly';\n",
       "                    \n",
       "                if (document.getElementById(\"a15df064-65ec-4c3d-b1ba-3c6d694031ea\")) {\n",
       "                    Plotly.newPlot(\n",
       "                        'a15df064-65ec-4c3d-b1ba-3c6d694031ea',\n",
       "                        [{\"marker\": {\"color\": \"rgba(255, 153, 51, 0.6)\", \"line\": {\"color\": \"rgba(255, 153, 51, 1.0)\", \"width\": 1}}, \"name\": \"Valores\", \"orientation\": \"v\", \"text\": \"\", \"type\": \"bar\", \"x\": [\"A\", \"B\", \"C\"], \"y\": [32, 43, 50]}],\n",
       "                        {\"legend\": {\"bgcolor\": \"#F5F6F9\", \"font\": {\"color\": \"#4D5663\"}}, \"paper_bgcolor\": \"#F5F6F9\", \"plot_bgcolor\": \"#F5F6F9\", \"template\": {\"data\": {\"bar\": [{\"error_x\": {\"color\": \"#2a3f5f\"}, \"error_y\": {\"color\": \"#2a3f5f\"}, \"marker\": {\"line\": {\"color\": \"#E5ECF6\", \"width\": 0.5}}, \"type\": \"bar\"}], \"barpolar\": [{\"marker\": {\"line\": {\"color\": \"#E5ECF6\", \"width\": 0.5}}, \"type\": \"barpolar\"}], \"carpet\": [{\"aaxis\": {\"endlinecolor\": \"#2a3f5f\", \"gridcolor\": \"white\", \"linecolor\": \"white\", \"minorgridcolor\": \"white\", \"startlinecolor\": \"#2a3f5f\"}, \"baxis\": {\"endlinecolor\": \"#2a3f5f\", \"gridcolor\": \"white\", \"linecolor\": \"white\", \"minorgridcolor\": \"white\", \"startlinecolor\": \"#2a3f5f\"}, \"type\": \"carpet\"}], \"choropleth\": [{\"colorbar\": {\"outlinewidth\": 0, \"ticks\": \"\"}, \"type\": \"choropleth\"}], \"contour\": [{\"colorbar\": {\"outlinewidth\": 0, \"ticks\": \"\"}, \"colorscale\": [[0.0, \"#0d0887\"], [0.1111111111111111, \"#46039f\"], [0.2222222222222222, \"#7201a8\"], [0.3333333333333333, \"#9c179e\"], [0.4444444444444444, \"#bd3786\"], [0.5555555555555556, \"#d8576b\"], [0.6666666666666666, \"#ed7953\"], [0.7777777777777778, \"#fb9f3a\"], [0.8888888888888888, \"#fdca26\"], [1.0, \"#f0f921\"]], \"type\": \"contour\"}], \"contourcarpet\": [{\"colorbar\": {\"outlinewidth\": 0, \"ticks\": \"\"}, \"type\": \"contourcarpet\"}], \"heatmap\": [{\"colorbar\": {\"outlinewidth\": 0, \"ticks\": \"\"}, \"colorscale\": [[0.0, \"#0d0887\"], [0.1111111111111111, \"#46039f\"], [0.2222222222222222, \"#7201a8\"], [0.3333333333333333, \"#9c179e\"], [0.4444444444444444, \"#bd3786\"], [0.5555555555555556, \"#d8576b\"], [0.6666666666666666, \"#ed7953\"], [0.7777777777777778, \"#fb9f3a\"], [0.8888888888888888, \"#fdca26\"], [1.0, \"#f0f921\"]], \"type\": \"heatmap\"}], \"heatmapgl\": [{\"colorbar\": {\"outlinewidth\": 0, \"ticks\": \"\"}, \"colorscale\": [[0.0, \"#0d0887\"], [0.1111111111111111, \"#46039f\"], [0.2222222222222222, \"#7201a8\"], [0.3333333333333333, \"#9c179e\"], [0.4444444444444444, \"#bd3786\"], [0.5555555555555556, \"#d8576b\"], [0.6666666666666666, \"#ed7953\"], [0.7777777777777778, \"#fb9f3a\"], [0.8888888888888888, \"#fdca26\"], [1.0, \"#f0f921\"]], \"type\": \"heatmapgl\"}], \"histogram\": [{\"marker\": {\"colorbar\": {\"outlinewidth\": 0, \"ticks\": \"\"}}, \"type\": \"histogram\"}], \"histogram2d\": [{\"colorbar\": {\"outlinewidth\": 0, \"ticks\": \"\"}, \"colorscale\": [[0.0, \"#0d0887\"], [0.1111111111111111, \"#46039f\"], [0.2222222222222222, \"#7201a8\"], [0.3333333333333333, \"#9c179e\"], [0.4444444444444444, \"#bd3786\"], [0.5555555555555556, \"#d8576b\"], [0.6666666666666666, \"#ed7953\"], [0.7777777777777778, \"#fb9f3a\"], [0.8888888888888888, \"#fdca26\"], [1.0, \"#f0f921\"]], \"type\": \"histogram2d\"}], \"histogram2dcontour\": [{\"colorbar\": {\"outlinewidth\": 0, \"ticks\": \"\"}, \"colorscale\": [[0.0, \"#0d0887\"], [0.1111111111111111, \"#46039f\"], [0.2222222222222222, \"#7201a8\"], [0.3333333333333333, \"#9c179e\"], [0.4444444444444444, \"#bd3786\"], [0.5555555555555556, \"#d8576b\"], [0.6666666666666666, \"#ed7953\"], [0.7777777777777778, \"#fb9f3a\"], [0.8888888888888888, \"#fdca26\"], [1.0, \"#f0f921\"]], \"type\": \"histogram2dcontour\"}], \"mesh3d\": [{\"colorbar\": {\"outlinewidth\": 0, \"ticks\": \"\"}, \"type\": \"mesh3d\"}], \"parcoords\": [{\"line\": {\"colorbar\": {\"outlinewidth\": 0, \"ticks\": \"\"}}, \"type\": \"parcoords\"}], \"pie\": [{\"automargin\": true, \"type\": \"pie\"}], \"scatter\": [{\"marker\": {\"colorbar\": {\"outlinewidth\": 0, \"ticks\": \"\"}}, \"type\": \"scatter\"}], \"scatter3d\": [{\"line\": {\"colorbar\": {\"outlinewidth\": 0, \"ticks\": \"\"}}, \"marker\": {\"colorbar\": {\"outlinewidth\": 0, \"ticks\": \"\"}}, \"type\": \"scatter3d\"}], \"scattercarpet\": [{\"marker\": {\"colorbar\": {\"outlinewidth\": 0, \"ticks\": \"\"}}, \"type\": \"scattercarpet\"}], \"scattergeo\": [{\"marker\": {\"colorbar\": {\"outlinewidth\": 0, \"ticks\": \"\"}}, \"type\": \"scattergeo\"}], \"scattergl\": [{\"marker\": {\"colorbar\": {\"outlinewidth\": 0, \"ticks\": \"\"}}, \"type\": \"scattergl\"}], \"scattermapbox\": [{\"marker\": {\"colorbar\": {\"outlinewidth\": 0, \"ticks\": \"\"}}, \"type\": \"scattermapbox\"}], \"scatterpolar\": [{\"marker\": {\"colorbar\": {\"outlinewidth\": 0, \"ticks\": \"\"}}, \"type\": \"scatterpolar\"}], \"scatterpolargl\": [{\"marker\": {\"colorbar\": {\"outlinewidth\": 0, \"ticks\": \"\"}}, \"type\": \"scatterpolargl\"}], \"scatterternary\": [{\"marker\": {\"colorbar\": {\"outlinewidth\": 0, \"ticks\": \"\"}}, \"type\": \"scatterternary\"}], \"surface\": [{\"colorbar\": {\"outlinewidth\": 0, \"ticks\": \"\"}, \"colorscale\": [[0.0, \"#0d0887\"], [0.1111111111111111, \"#46039f\"], [0.2222222222222222, \"#7201a8\"], [0.3333333333333333, \"#9c179e\"], [0.4444444444444444, \"#bd3786\"], [0.5555555555555556, \"#d8576b\"], [0.6666666666666666, \"#ed7953\"], [0.7777777777777778, \"#fb9f3a\"], [0.8888888888888888, \"#fdca26\"], [1.0, \"#f0f921\"]], \"type\": \"surface\"}], \"table\": [{\"cells\": {\"fill\": {\"color\": \"#EBF0F8\"}, \"line\": {\"color\": \"white\"}}, \"header\": {\"fill\": {\"color\": \"#C8D4E3\"}, \"line\": {\"color\": \"white\"}}, \"type\": \"table\"}]}, \"layout\": {\"annotationdefaults\": {\"arrowcolor\": \"#2a3f5f\", \"arrowhead\": 0, \"arrowwidth\": 1}, \"coloraxis\": {\"colorbar\": {\"outlinewidth\": 0, \"ticks\": \"\"}}, \"colorscale\": {\"diverging\": [[0, \"#8e0152\"], [0.1, \"#c51b7d\"], [0.2, \"#de77ae\"], [0.3, \"#f1b6da\"], [0.4, \"#fde0ef\"], [0.5, \"#f7f7f7\"], [0.6, \"#e6f5d0\"], [0.7, \"#b8e186\"], [0.8, \"#7fbc41\"], [0.9, \"#4d9221\"], [1, \"#276419\"]], \"sequential\": [[0.0, \"#0d0887\"], [0.1111111111111111, \"#46039f\"], [0.2222222222222222, \"#7201a8\"], [0.3333333333333333, \"#9c179e\"], [0.4444444444444444, \"#bd3786\"], [0.5555555555555556, \"#d8576b\"], [0.6666666666666666, \"#ed7953\"], [0.7777777777777778, \"#fb9f3a\"], [0.8888888888888888, \"#fdca26\"], [1.0, \"#f0f921\"]], \"sequentialminus\": [[0.0, \"#0d0887\"], [0.1111111111111111, \"#46039f\"], [0.2222222222222222, \"#7201a8\"], [0.3333333333333333, \"#9c179e\"], [0.4444444444444444, \"#bd3786\"], [0.5555555555555556, \"#d8576b\"], [0.6666666666666666, \"#ed7953\"], [0.7777777777777778, \"#fb9f3a\"], [0.8888888888888888, \"#fdca26\"], [1.0, \"#f0f921\"]]}, \"colorway\": [\"#636efa\", \"#EF553B\", \"#00cc96\", \"#ab63fa\", \"#FFA15A\", \"#19d3f3\", \"#FF6692\", \"#B6E880\", \"#FF97FF\", \"#FECB52\"], \"font\": {\"color\": \"#2a3f5f\"}, \"geo\": {\"bgcolor\": \"white\", \"lakecolor\": \"white\", \"landcolor\": \"#E5ECF6\", \"showlakes\": true, \"showland\": true, \"subunitcolor\": \"white\"}, \"hoverlabel\": {\"align\": \"left\"}, \"hovermode\": \"closest\", \"mapbox\": {\"style\": \"light\"}, \"paper_bgcolor\": \"white\", \"plot_bgcolor\": \"#E5ECF6\", \"polar\": {\"angularaxis\": {\"gridcolor\": \"white\", \"linecolor\": \"white\", \"ticks\": \"\"}, \"bgcolor\": \"#E5ECF6\", \"radialaxis\": {\"gridcolor\": \"white\", \"linecolor\": \"white\", \"ticks\": \"\"}}, \"scene\": {\"xaxis\": {\"backgroundcolor\": \"#E5ECF6\", \"gridcolor\": \"white\", \"gridwidth\": 2, \"linecolor\": \"white\", \"showbackground\": true, \"ticks\": \"\", \"zerolinecolor\": \"white\"}, \"yaxis\": {\"backgroundcolor\": \"#E5ECF6\", \"gridcolor\": \"white\", \"gridwidth\": 2, \"linecolor\": \"white\", \"showbackground\": true, \"ticks\": \"\", \"zerolinecolor\": \"white\"}, \"zaxis\": {\"backgroundcolor\": \"#E5ECF6\", \"gridcolor\": \"white\", \"gridwidth\": 2, \"linecolor\": \"white\", \"showbackground\": true, \"ticks\": \"\", \"zerolinecolor\": \"white\"}}, \"shapedefaults\": {\"line\": {\"color\": \"#2a3f5f\"}}, \"ternary\": {\"aaxis\": {\"gridcolor\": \"white\", \"linecolor\": \"white\", \"ticks\": \"\"}, \"baxis\": {\"gridcolor\": \"white\", \"linecolor\": \"white\", \"ticks\": \"\"}, \"bgcolor\": \"#E5ECF6\", \"caxis\": {\"gridcolor\": \"white\", \"linecolor\": \"white\", \"ticks\": \"\"}}, \"title\": {\"x\": 0.05}, \"xaxis\": {\"automargin\": true, \"gridcolor\": \"white\", \"linecolor\": \"white\", \"ticks\": \"\", \"title\": {\"standoff\": 15}, \"zerolinecolor\": \"white\", \"zerolinewidth\": 2}, \"yaxis\": {\"automargin\": true, \"gridcolor\": \"white\", \"linecolor\": \"white\", \"ticks\": \"\", \"title\": {\"standoff\": 15}, \"zerolinecolor\": \"white\", \"zerolinewidth\": 2}}}, \"title\": {\"font\": {\"color\": \"#4D5663\"}}, \"xaxis\": {\"gridcolor\": \"#E1E5ED\", \"showgrid\": true, \"tickfont\": {\"color\": \"#4D5663\"}, \"title\": {\"font\": {\"color\": \"#4D5663\"}, \"text\": \"\"}, \"zerolinecolor\": \"#E1E5ED\"}, \"yaxis\": {\"gridcolor\": \"#E1E5ED\", \"showgrid\": true, \"tickfont\": {\"color\": \"#4D5663\"}, \"title\": {\"font\": {\"color\": \"#4D5663\"}, \"text\": \"\"}, \"zerolinecolor\": \"#E1E5ED\"}},\n",
       "                        {\"showLink\": true, \"linkText\": \"Export to plot.ly\", \"plotlyServerURL\": \"https://plot.ly\", \"responsive\": true}\n",
       "                    ).then(function(){\n",
       "                            \n",
       "var gd = document.getElementById('a15df064-65ec-4c3d-b1ba-3c6d694031ea');\n",
       "var x = new MutationObserver(function (mutations, observer) {{\n",
       "        var display = window.getComputedStyle(gd).display;\n",
       "        if (!display || display === 'none') {{\n",
       "            console.log([gd, 'removed!']);\n",
       "            Plotly.purge(gd);\n",
       "            observer.disconnect();\n",
       "        }}\n",
       "}});\n",
       "\n",
       "// Listen for the removal of the full notebook cells\n",
       "var notebookContainer = gd.closest('#notebook-container');\n",
       "if (notebookContainer) {{\n",
       "    x.observe(notebookContainer, {childList: true});\n",
       "}}\n",
       "\n",
       "// Listen for the clearing of the current output cell\n",
       "var outputEl = gd.closest('.output');\n",
       "if (outputEl) {{\n",
       "    x.observe(outputEl, {childList: true});\n",
       "}}\n",
       "\n",
       "                        })\n",
       "                };\n",
       "                });\n",
       "            </script>\n",
       "        </div>"
      ]
     },
     "metadata": {},
     "output_type": "display_data"
    }
   ],
   "source": [
    "df2.iplot(kind='bar',x='Categoria',y='Valores')"
   ]
  },
  {
   "cell_type": "code",
   "execution_count": 12,
   "metadata": {},
   "outputs": [
    {
     "data": {
      "application/vnd.plotly.v1+json": {
       "config": {
        "linkText": "Export to plot.ly",
        "plotlyServerURL": "https://plot.ly",
        "showLink": true
       },
       "data": [
        {
         "marker": {
          "color": "rgba(255, 153, 51, 0.6)",
          "line": {
           "color": "rgba(255, 153, 51, 1.0)",
           "width": 1
          }
         },
         "name": "None",
         "orientation": "v",
         "text": "",
         "type": "bar",
         "x": [
          "A",
          "B",
          "C",
          "D"
         ],
         "y": [
          100,
          100,
          100,
          100
         ]
        }
       ],
       "layout": {
        "legend": {
         "bgcolor": "#F5F6F9",
         "font": {
          "color": "#4D5663"
         }
        },
        "paper_bgcolor": "#F5F6F9",
        "plot_bgcolor": "#F5F6F9",
        "template": {
         "data": {
          "bar": [
           {
            "error_x": {
             "color": "#2a3f5f"
            },
            "error_y": {
             "color": "#2a3f5f"
            },
            "marker": {
             "line": {
              "color": "#E5ECF6",
              "width": 0.5
             }
            },
            "type": "bar"
           }
          ],
          "barpolar": [
           {
            "marker": {
             "line": {
              "color": "#E5ECF6",
              "width": 0.5
             }
            },
            "type": "barpolar"
           }
          ],
          "carpet": [
           {
            "aaxis": {
             "endlinecolor": "#2a3f5f",
             "gridcolor": "white",
             "linecolor": "white",
             "minorgridcolor": "white",
             "startlinecolor": "#2a3f5f"
            },
            "baxis": {
             "endlinecolor": "#2a3f5f",
             "gridcolor": "white",
             "linecolor": "white",
             "minorgridcolor": "white",
             "startlinecolor": "#2a3f5f"
            },
            "type": "carpet"
           }
          ],
          "choropleth": [
           {
            "colorbar": {
             "outlinewidth": 0,
             "ticks": ""
            },
            "type": "choropleth"
           }
          ],
          "contour": [
           {
            "colorbar": {
             "outlinewidth": 0,
             "ticks": ""
            },
            "colorscale": [
             [
              0,
              "#0d0887"
             ],
             [
              0.1111111111111111,
              "#46039f"
             ],
             [
              0.2222222222222222,
              "#7201a8"
             ],
             [
              0.3333333333333333,
              "#9c179e"
             ],
             [
              0.4444444444444444,
              "#bd3786"
             ],
             [
              0.5555555555555556,
              "#d8576b"
             ],
             [
              0.6666666666666666,
              "#ed7953"
             ],
             [
              0.7777777777777778,
              "#fb9f3a"
             ],
             [
              0.8888888888888888,
              "#fdca26"
             ],
             [
              1,
              "#f0f921"
             ]
            ],
            "type": "contour"
           }
          ],
          "contourcarpet": [
           {
            "colorbar": {
             "outlinewidth": 0,
             "ticks": ""
            },
            "type": "contourcarpet"
           }
          ],
          "heatmap": [
           {
            "colorbar": {
             "outlinewidth": 0,
             "ticks": ""
            },
            "colorscale": [
             [
              0,
              "#0d0887"
             ],
             [
              0.1111111111111111,
              "#46039f"
             ],
             [
              0.2222222222222222,
              "#7201a8"
             ],
             [
              0.3333333333333333,
              "#9c179e"
             ],
             [
              0.4444444444444444,
              "#bd3786"
             ],
             [
              0.5555555555555556,
              "#d8576b"
             ],
             [
              0.6666666666666666,
              "#ed7953"
             ],
             [
              0.7777777777777778,
              "#fb9f3a"
             ],
             [
              0.8888888888888888,
              "#fdca26"
             ],
             [
              1,
              "#f0f921"
             ]
            ],
            "type": "heatmap"
           }
          ],
          "heatmapgl": [
           {
            "colorbar": {
             "outlinewidth": 0,
             "ticks": ""
            },
            "colorscale": [
             [
              0,
              "#0d0887"
             ],
             [
              0.1111111111111111,
              "#46039f"
             ],
             [
              0.2222222222222222,
              "#7201a8"
             ],
             [
              0.3333333333333333,
              "#9c179e"
             ],
             [
              0.4444444444444444,
              "#bd3786"
             ],
             [
              0.5555555555555556,
              "#d8576b"
             ],
             [
              0.6666666666666666,
              "#ed7953"
             ],
             [
              0.7777777777777778,
              "#fb9f3a"
             ],
             [
              0.8888888888888888,
              "#fdca26"
             ],
             [
              1,
              "#f0f921"
             ]
            ],
            "type": "heatmapgl"
           }
          ],
          "histogram": [
           {
            "marker": {
             "colorbar": {
              "outlinewidth": 0,
              "ticks": ""
             }
            },
            "type": "histogram"
           }
          ],
          "histogram2d": [
           {
            "colorbar": {
             "outlinewidth": 0,
             "ticks": ""
            },
            "colorscale": [
             [
              0,
              "#0d0887"
             ],
             [
              0.1111111111111111,
              "#46039f"
             ],
             [
              0.2222222222222222,
              "#7201a8"
             ],
             [
              0.3333333333333333,
              "#9c179e"
             ],
             [
              0.4444444444444444,
              "#bd3786"
             ],
             [
              0.5555555555555556,
              "#d8576b"
             ],
             [
              0.6666666666666666,
              "#ed7953"
             ],
             [
              0.7777777777777778,
              "#fb9f3a"
             ],
             [
              0.8888888888888888,
              "#fdca26"
             ],
             [
              1,
              "#f0f921"
             ]
            ],
            "type": "histogram2d"
           }
          ],
          "histogram2dcontour": [
           {
            "colorbar": {
             "outlinewidth": 0,
             "ticks": ""
            },
            "colorscale": [
             [
              0,
              "#0d0887"
             ],
             [
              0.1111111111111111,
              "#46039f"
             ],
             [
              0.2222222222222222,
              "#7201a8"
             ],
             [
              0.3333333333333333,
              "#9c179e"
             ],
             [
              0.4444444444444444,
              "#bd3786"
             ],
             [
              0.5555555555555556,
              "#d8576b"
             ],
             [
              0.6666666666666666,
              "#ed7953"
             ],
             [
              0.7777777777777778,
              "#fb9f3a"
             ],
             [
              0.8888888888888888,
              "#fdca26"
             ],
             [
              1,
              "#f0f921"
             ]
            ],
            "type": "histogram2dcontour"
           }
          ],
          "mesh3d": [
           {
            "colorbar": {
             "outlinewidth": 0,
             "ticks": ""
            },
            "type": "mesh3d"
           }
          ],
          "parcoords": [
           {
            "line": {
             "colorbar": {
              "outlinewidth": 0,
              "ticks": ""
             }
            },
            "type": "parcoords"
           }
          ],
          "pie": [
           {
            "automargin": true,
            "type": "pie"
           }
          ],
          "scatter": [
           {
            "marker": {
             "colorbar": {
              "outlinewidth": 0,
              "ticks": ""
             }
            },
            "type": "scatter"
           }
          ],
          "scatter3d": [
           {
            "line": {
             "colorbar": {
              "outlinewidth": 0,
              "ticks": ""
             }
            },
            "marker": {
             "colorbar": {
              "outlinewidth": 0,
              "ticks": ""
             }
            },
            "type": "scatter3d"
           }
          ],
          "scattercarpet": [
           {
            "marker": {
             "colorbar": {
              "outlinewidth": 0,
              "ticks": ""
             }
            },
            "type": "scattercarpet"
           }
          ],
          "scattergeo": [
           {
            "marker": {
             "colorbar": {
              "outlinewidth": 0,
              "ticks": ""
             }
            },
            "type": "scattergeo"
           }
          ],
          "scattergl": [
           {
            "marker": {
             "colorbar": {
              "outlinewidth": 0,
              "ticks": ""
             }
            },
            "type": "scattergl"
           }
          ],
          "scattermapbox": [
           {
            "marker": {
             "colorbar": {
              "outlinewidth": 0,
              "ticks": ""
             }
            },
            "type": "scattermapbox"
           }
          ],
          "scatterpolar": [
           {
            "marker": {
             "colorbar": {
              "outlinewidth": 0,
              "ticks": ""
             }
            },
            "type": "scatterpolar"
           }
          ],
          "scatterpolargl": [
           {
            "marker": {
             "colorbar": {
              "outlinewidth": 0,
              "ticks": ""
             }
            },
            "type": "scatterpolargl"
           }
          ],
          "scatterternary": [
           {
            "marker": {
             "colorbar": {
              "outlinewidth": 0,
              "ticks": ""
             }
            },
            "type": "scatterternary"
           }
          ],
          "surface": [
           {
            "colorbar": {
             "outlinewidth": 0,
             "ticks": ""
            },
            "colorscale": [
             [
              0,
              "#0d0887"
             ],
             [
              0.1111111111111111,
              "#46039f"
             ],
             [
              0.2222222222222222,
              "#7201a8"
             ],
             [
              0.3333333333333333,
              "#9c179e"
             ],
             [
              0.4444444444444444,
              "#bd3786"
             ],
             [
              0.5555555555555556,
              "#d8576b"
             ],
             [
              0.6666666666666666,
              "#ed7953"
             ],
             [
              0.7777777777777778,
              "#fb9f3a"
             ],
             [
              0.8888888888888888,
              "#fdca26"
             ],
             [
              1,
              "#f0f921"
             ]
            ],
            "type": "surface"
           }
          ],
          "table": [
           {
            "cells": {
             "fill": {
              "color": "#EBF0F8"
             },
             "line": {
              "color": "white"
             }
            },
            "header": {
             "fill": {
              "color": "#C8D4E3"
             },
             "line": {
              "color": "white"
             }
            },
            "type": "table"
           }
          ]
         },
         "layout": {
          "annotationdefaults": {
           "arrowcolor": "#2a3f5f",
           "arrowhead": 0,
           "arrowwidth": 1
          },
          "coloraxis": {
           "colorbar": {
            "outlinewidth": 0,
            "ticks": ""
           }
          },
          "colorscale": {
           "diverging": [
            [
             0,
             "#8e0152"
            ],
            [
             0.1,
             "#c51b7d"
            ],
            [
             0.2,
             "#de77ae"
            ],
            [
             0.3,
             "#f1b6da"
            ],
            [
             0.4,
             "#fde0ef"
            ],
            [
             0.5,
             "#f7f7f7"
            ],
            [
             0.6,
             "#e6f5d0"
            ],
            [
             0.7,
             "#b8e186"
            ],
            [
             0.8,
             "#7fbc41"
            ],
            [
             0.9,
             "#4d9221"
            ],
            [
             1,
             "#276419"
            ]
           ],
           "sequential": [
            [
             0,
             "#0d0887"
            ],
            [
             0.1111111111111111,
             "#46039f"
            ],
            [
             0.2222222222222222,
             "#7201a8"
            ],
            [
             0.3333333333333333,
             "#9c179e"
            ],
            [
             0.4444444444444444,
             "#bd3786"
            ],
            [
             0.5555555555555556,
             "#d8576b"
            ],
            [
             0.6666666666666666,
             "#ed7953"
            ],
            [
             0.7777777777777778,
             "#fb9f3a"
            ],
            [
             0.8888888888888888,
             "#fdca26"
            ],
            [
             1,
             "#f0f921"
            ]
           ],
           "sequentialminus": [
            [
             0,
             "#0d0887"
            ],
            [
             0.1111111111111111,
             "#46039f"
            ],
            [
             0.2222222222222222,
             "#7201a8"
            ],
            [
             0.3333333333333333,
             "#9c179e"
            ],
            [
             0.4444444444444444,
             "#bd3786"
            ],
            [
             0.5555555555555556,
             "#d8576b"
            ],
            [
             0.6666666666666666,
             "#ed7953"
            ],
            [
             0.7777777777777778,
             "#fb9f3a"
            ],
            [
             0.8888888888888888,
             "#fdca26"
            ],
            [
             1,
             "#f0f921"
            ]
           ]
          },
          "colorway": [
           "#636efa",
           "#EF553B",
           "#00cc96",
           "#ab63fa",
           "#FFA15A",
           "#19d3f3",
           "#FF6692",
           "#B6E880",
           "#FF97FF",
           "#FECB52"
          ],
          "font": {
           "color": "#2a3f5f"
          },
          "geo": {
           "bgcolor": "white",
           "lakecolor": "white",
           "landcolor": "#E5ECF6",
           "showlakes": true,
           "showland": true,
           "subunitcolor": "white"
          },
          "hoverlabel": {
           "align": "left"
          },
          "hovermode": "closest",
          "mapbox": {
           "style": "light"
          },
          "paper_bgcolor": "white",
          "plot_bgcolor": "#E5ECF6",
          "polar": {
           "angularaxis": {
            "gridcolor": "white",
            "linecolor": "white",
            "ticks": ""
           },
           "bgcolor": "#E5ECF6",
           "radialaxis": {
            "gridcolor": "white",
            "linecolor": "white",
            "ticks": ""
           }
          },
          "scene": {
           "xaxis": {
            "backgroundcolor": "#E5ECF6",
            "gridcolor": "white",
            "gridwidth": 2,
            "linecolor": "white",
            "showbackground": true,
            "ticks": "",
            "zerolinecolor": "white"
           },
           "yaxis": {
            "backgroundcolor": "#E5ECF6",
            "gridcolor": "white",
            "gridwidth": 2,
            "linecolor": "white",
            "showbackground": true,
            "ticks": "",
            "zerolinecolor": "white"
           },
           "zaxis": {
            "backgroundcolor": "#E5ECF6",
            "gridcolor": "white",
            "gridwidth": 2,
            "linecolor": "white",
            "showbackground": true,
            "ticks": "",
            "zerolinecolor": "white"
           }
          },
          "shapedefaults": {
           "line": {
            "color": "#2a3f5f"
           }
          },
          "ternary": {
           "aaxis": {
            "gridcolor": "white",
            "linecolor": "white",
            "ticks": ""
           },
           "baxis": {
            "gridcolor": "white",
            "linecolor": "white",
            "ticks": ""
           },
           "bgcolor": "#E5ECF6",
           "caxis": {
            "gridcolor": "white",
            "linecolor": "white",
            "ticks": ""
           }
          },
          "title": {
           "x": 0.05
          },
          "xaxis": {
           "automargin": true,
           "gridcolor": "white",
           "linecolor": "white",
           "ticks": "",
           "title": {
            "standoff": 15
           },
           "zerolinecolor": "white",
           "zerolinewidth": 2
          },
          "yaxis": {
           "automargin": true,
           "gridcolor": "white",
           "linecolor": "white",
           "ticks": "",
           "title": {
            "standoff": 15
           },
           "zerolinecolor": "white",
           "zerolinewidth": 2
          }
         }
        },
        "title": {
         "font": {
          "color": "#4D5663"
         }
        },
        "xaxis": {
         "gridcolor": "#E1E5ED",
         "showgrid": true,
         "tickfont": {
          "color": "#4D5663"
         },
         "title": {
          "font": {
           "color": "#4D5663"
          },
          "text": ""
         },
         "zerolinecolor": "#E1E5ED"
        },
        "yaxis": {
         "gridcolor": "#E1E5ED",
         "showgrid": true,
         "tickfont": {
          "color": "#4D5663"
         },
         "title": {
          "font": {
           "color": "#4D5663"
          },
          "text": ""
         },
         "zerolinecolor": "#E1E5ED"
        }
       }
      },
      "text/html": [
       "<div>\n",
       "        \n",
       "        \n",
       "            <div id=\"da19f953-212c-47d4-97fe-060be4a45f07\" class=\"plotly-graph-div\" style=\"height:525px; width:100%;\"></div>\n",
       "            <script type=\"text/javascript\">\n",
       "                require([\"plotly\"], function(Plotly) {\n",
       "                    window.PLOTLYENV=window.PLOTLYENV || {};\n",
       "                    window.PLOTLYENV.BASE_URL='https://plot.ly';\n",
       "                    \n",
       "                if (document.getElementById(\"da19f953-212c-47d4-97fe-060be4a45f07\")) {\n",
       "                    Plotly.newPlot(\n",
       "                        'da19f953-212c-47d4-97fe-060be4a45f07',\n",
       "                        [{\"marker\": {\"color\": \"rgba(255, 153, 51, 0.6)\", \"line\": {\"color\": \"rgba(255, 153, 51, 1.0)\", \"width\": 1}}, \"name\": \"None\", \"orientation\": \"v\", \"text\": \"\", \"type\": \"bar\", \"x\": [\"A\", \"B\", \"C\", \"D\"], \"y\": [100, 100, 100, 100]}],\n",
       "                        {\"legend\": {\"bgcolor\": \"#F5F6F9\", \"font\": {\"color\": \"#4D5663\"}}, \"paper_bgcolor\": \"#F5F6F9\", \"plot_bgcolor\": \"#F5F6F9\", \"template\": {\"data\": {\"bar\": [{\"error_x\": {\"color\": \"#2a3f5f\"}, \"error_y\": {\"color\": \"#2a3f5f\"}, \"marker\": {\"line\": {\"color\": \"#E5ECF6\", \"width\": 0.5}}, \"type\": \"bar\"}], \"barpolar\": [{\"marker\": {\"line\": {\"color\": \"#E5ECF6\", \"width\": 0.5}}, \"type\": \"barpolar\"}], \"carpet\": [{\"aaxis\": {\"endlinecolor\": \"#2a3f5f\", \"gridcolor\": \"white\", \"linecolor\": \"white\", \"minorgridcolor\": \"white\", \"startlinecolor\": \"#2a3f5f\"}, \"baxis\": {\"endlinecolor\": \"#2a3f5f\", \"gridcolor\": \"white\", \"linecolor\": \"white\", \"minorgridcolor\": \"white\", \"startlinecolor\": \"#2a3f5f\"}, \"type\": \"carpet\"}], \"choropleth\": [{\"colorbar\": {\"outlinewidth\": 0, \"ticks\": \"\"}, \"type\": \"choropleth\"}], \"contour\": [{\"colorbar\": {\"outlinewidth\": 0, \"ticks\": \"\"}, \"colorscale\": [[0.0, \"#0d0887\"], [0.1111111111111111, \"#46039f\"], [0.2222222222222222, \"#7201a8\"], [0.3333333333333333, \"#9c179e\"], [0.4444444444444444, \"#bd3786\"], [0.5555555555555556, \"#d8576b\"], [0.6666666666666666, \"#ed7953\"], [0.7777777777777778, \"#fb9f3a\"], [0.8888888888888888, \"#fdca26\"], [1.0, \"#f0f921\"]], \"type\": \"contour\"}], \"contourcarpet\": [{\"colorbar\": {\"outlinewidth\": 0, \"ticks\": \"\"}, \"type\": \"contourcarpet\"}], \"heatmap\": [{\"colorbar\": {\"outlinewidth\": 0, \"ticks\": \"\"}, \"colorscale\": [[0.0, \"#0d0887\"], [0.1111111111111111, \"#46039f\"], [0.2222222222222222, \"#7201a8\"], [0.3333333333333333, \"#9c179e\"], [0.4444444444444444, \"#bd3786\"], [0.5555555555555556, \"#d8576b\"], [0.6666666666666666, \"#ed7953\"], [0.7777777777777778, \"#fb9f3a\"], [0.8888888888888888, \"#fdca26\"], [1.0, \"#f0f921\"]], \"type\": \"heatmap\"}], \"heatmapgl\": [{\"colorbar\": {\"outlinewidth\": 0, \"ticks\": \"\"}, \"colorscale\": [[0.0, \"#0d0887\"], [0.1111111111111111, \"#46039f\"], [0.2222222222222222, \"#7201a8\"], [0.3333333333333333, \"#9c179e\"], [0.4444444444444444, \"#bd3786\"], [0.5555555555555556, \"#d8576b\"], [0.6666666666666666, \"#ed7953\"], [0.7777777777777778, \"#fb9f3a\"], [0.8888888888888888, \"#fdca26\"], [1.0, \"#f0f921\"]], \"type\": \"heatmapgl\"}], \"histogram\": [{\"marker\": {\"colorbar\": {\"outlinewidth\": 0, \"ticks\": \"\"}}, \"type\": \"histogram\"}], \"histogram2d\": [{\"colorbar\": {\"outlinewidth\": 0, \"ticks\": \"\"}, \"colorscale\": [[0.0, \"#0d0887\"], [0.1111111111111111, \"#46039f\"], [0.2222222222222222, \"#7201a8\"], [0.3333333333333333, \"#9c179e\"], [0.4444444444444444, \"#bd3786\"], [0.5555555555555556, \"#d8576b\"], [0.6666666666666666, \"#ed7953\"], [0.7777777777777778, \"#fb9f3a\"], [0.8888888888888888, \"#fdca26\"], [1.0, \"#f0f921\"]], \"type\": \"histogram2d\"}], \"histogram2dcontour\": [{\"colorbar\": {\"outlinewidth\": 0, \"ticks\": \"\"}, \"colorscale\": [[0.0, \"#0d0887\"], [0.1111111111111111, \"#46039f\"], [0.2222222222222222, \"#7201a8\"], [0.3333333333333333, \"#9c179e\"], [0.4444444444444444, \"#bd3786\"], [0.5555555555555556, \"#d8576b\"], [0.6666666666666666, \"#ed7953\"], [0.7777777777777778, \"#fb9f3a\"], [0.8888888888888888, \"#fdca26\"], [1.0, \"#f0f921\"]], \"type\": \"histogram2dcontour\"}], \"mesh3d\": [{\"colorbar\": {\"outlinewidth\": 0, \"ticks\": \"\"}, \"type\": \"mesh3d\"}], \"parcoords\": [{\"line\": {\"colorbar\": {\"outlinewidth\": 0, \"ticks\": \"\"}}, \"type\": \"parcoords\"}], \"pie\": [{\"automargin\": true, \"type\": \"pie\"}], \"scatter\": [{\"marker\": {\"colorbar\": {\"outlinewidth\": 0, \"ticks\": \"\"}}, \"type\": \"scatter\"}], \"scatter3d\": [{\"line\": {\"colorbar\": {\"outlinewidth\": 0, \"ticks\": \"\"}}, \"marker\": {\"colorbar\": {\"outlinewidth\": 0, \"ticks\": \"\"}}, \"type\": \"scatter3d\"}], \"scattercarpet\": [{\"marker\": {\"colorbar\": {\"outlinewidth\": 0, \"ticks\": \"\"}}, \"type\": \"scattercarpet\"}], \"scattergeo\": [{\"marker\": {\"colorbar\": {\"outlinewidth\": 0, \"ticks\": \"\"}}, \"type\": \"scattergeo\"}], \"scattergl\": [{\"marker\": {\"colorbar\": {\"outlinewidth\": 0, \"ticks\": \"\"}}, \"type\": \"scattergl\"}], \"scattermapbox\": [{\"marker\": {\"colorbar\": {\"outlinewidth\": 0, \"ticks\": \"\"}}, \"type\": \"scattermapbox\"}], \"scatterpolar\": [{\"marker\": {\"colorbar\": {\"outlinewidth\": 0, \"ticks\": \"\"}}, \"type\": \"scatterpolar\"}], \"scatterpolargl\": [{\"marker\": {\"colorbar\": {\"outlinewidth\": 0, \"ticks\": \"\"}}, \"type\": \"scatterpolargl\"}], \"scatterternary\": [{\"marker\": {\"colorbar\": {\"outlinewidth\": 0, \"ticks\": \"\"}}, \"type\": \"scatterternary\"}], \"surface\": [{\"colorbar\": {\"outlinewidth\": 0, \"ticks\": \"\"}, \"colorscale\": [[0.0, \"#0d0887\"], [0.1111111111111111, \"#46039f\"], [0.2222222222222222, \"#7201a8\"], [0.3333333333333333, \"#9c179e\"], [0.4444444444444444, \"#bd3786\"], [0.5555555555555556, \"#d8576b\"], [0.6666666666666666, \"#ed7953\"], [0.7777777777777778, \"#fb9f3a\"], [0.8888888888888888, \"#fdca26\"], [1.0, \"#f0f921\"]], \"type\": \"surface\"}], \"table\": [{\"cells\": {\"fill\": {\"color\": \"#EBF0F8\"}, \"line\": {\"color\": \"white\"}}, \"header\": {\"fill\": {\"color\": \"#C8D4E3\"}, \"line\": {\"color\": \"white\"}}, \"type\": \"table\"}]}, \"layout\": {\"annotationdefaults\": {\"arrowcolor\": \"#2a3f5f\", \"arrowhead\": 0, \"arrowwidth\": 1}, \"coloraxis\": {\"colorbar\": {\"outlinewidth\": 0, \"ticks\": \"\"}}, \"colorscale\": {\"diverging\": [[0, \"#8e0152\"], [0.1, \"#c51b7d\"], [0.2, \"#de77ae\"], [0.3, \"#f1b6da\"], [0.4, \"#fde0ef\"], [0.5, \"#f7f7f7\"], [0.6, \"#e6f5d0\"], [0.7, \"#b8e186\"], [0.8, \"#7fbc41\"], [0.9, \"#4d9221\"], [1, \"#276419\"]], \"sequential\": [[0.0, \"#0d0887\"], [0.1111111111111111, \"#46039f\"], [0.2222222222222222, \"#7201a8\"], [0.3333333333333333, \"#9c179e\"], [0.4444444444444444, \"#bd3786\"], [0.5555555555555556, \"#d8576b\"], [0.6666666666666666, \"#ed7953\"], [0.7777777777777778, \"#fb9f3a\"], [0.8888888888888888, \"#fdca26\"], [1.0, \"#f0f921\"]], \"sequentialminus\": [[0.0, \"#0d0887\"], [0.1111111111111111, \"#46039f\"], [0.2222222222222222, \"#7201a8\"], [0.3333333333333333, \"#9c179e\"], [0.4444444444444444, \"#bd3786\"], [0.5555555555555556, \"#d8576b\"], [0.6666666666666666, \"#ed7953\"], [0.7777777777777778, \"#fb9f3a\"], [0.8888888888888888, \"#fdca26\"], [1.0, \"#f0f921\"]]}, \"colorway\": [\"#636efa\", \"#EF553B\", \"#00cc96\", \"#ab63fa\", \"#FFA15A\", \"#19d3f3\", \"#FF6692\", \"#B6E880\", \"#FF97FF\", \"#FECB52\"], \"font\": {\"color\": \"#2a3f5f\"}, \"geo\": {\"bgcolor\": \"white\", \"lakecolor\": \"white\", \"landcolor\": \"#E5ECF6\", \"showlakes\": true, \"showland\": true, \"subunitcolor\": \"white\"}, \"hoverlabel\": {\"align\": \"left\"}, \"hovermode\": \"closest\", \"mapbox\": {\"style\": \"light\"}, \"paper_bgcolor\": \"white\", \"plot_bgcolor\": \"#E5ECF6\", \"polar\": {\"angularaxis\": {\"gridcolor\": \"white\", \"linecolor\": \"white\", \"ticks\": \"\"}, \"bgcolor\": \"#E5ECF6\", \"radialaxis\": {\"gridcolor\": \"white\", \"linecolor\": \"white\", \"ticks\": \"\"}}, \"scene\": {\"xaxis\": {\"backgroundcolor\": \"#E5ECF6\", \"gridcolor\": \"white\", \"gridwidth\": 2, \"linecolor\": \"white\", \"showbackground\": true, \"ticks\": \"\", \"zerolinecolor\": \"white\"}, \"yaxis\": {\"backgroundcolor\": \"#E5ECF6\", \"gridcolor\": \"white\", \"gridwidth\": 2, \"linecolor\": \"white\", \"showbackground\": true, \"ticks\": \"\", \"zerolinecolor\": \"white\"}, \"zaxis\": {\"backgroundcolor\": \"#E5ECF6\", \"gridcolor\": \"white\", \"gridwidth\": 2, \"linecolor\": \"white\", \"showbackground\": true, \"ticks\": \"\", \"zerolinecolor\": \"white\"}}, \"shapedefaults\": {\"line\": {\"color\": \"#2a3f5f\"}}, \"ternary\": {\"aaxis\": {\"gridcolor\": \"white\", \"linecolor\": \"white\", \"ticks\": \"\"}, \"baxis\": {\"gridcolor\": \"white\", \"linecolor\": \"white\", \"ticks\": \"\"}, \"bgcolor\": \"#E5ECF6\", \"caxis\": {\"gridcolor\": \"white\", \"linecolor\": \"white\", \"ticks\": \"\"}}, \"title\": {\"x\": 0.05}, \"xaxis\": {\"automargin\": true, \"gridcolor\": \"white\", \"linecolor\": \"white\", \"ticks\": \"\", \"title\": {\"standoff\": 15}, \"zerolinecolor\": \"white\", \"zerolinewidth\": 2}, \"yaxis\": {\"automargin\": true, \"gridcolor\": \"white\", \"linecolor\": \"white\", \"ticks\": \"\", \"title\": {\"standoff\": 15}, \"zerolinecolor\": \"white\", \"zerolinewidth\": 2}}}, \"title\": {\"font\": {\"color\": \"#4D5663\"}}, \"xaxis\": {\"gridcolor\": \"#E1E5ED\", \"showgrid\": true, \"tickfont\": {\"color\": \"#4D5663\"}, \"title\": {\"font\": {\"color\": \"#4D5663\"}, \"text\": \"\"}, \"zerolinecolor\": \"#E1E5ED\"}, \"yaxis\": {\"gridcolor\": \"#E1E5ED\", \"showgrid\": true, \"tickfont\": {\"color\": \"#4D5663\"}, \"title\": {\"font\": {\"color\": \"#4D5663\"}, \"text\": \"\"}, \"zerolinecolor\": \"#E1E5ED\"}},\n",
       "                        {\"showLink\": true, \"linkText\": \"Export to plot.ly\", \"plotlyServerURL\": \"https://plot.ly\", \"responsive\": true}\n",
       "                    ).then(function(){\n",
       "                            \n",
       "var gd = document.getElementById('da19f953-212c-47d4-97fe-060be4a45f07');\n",
       "var x = new MutationObserver(function (mutations, observer) {{\n",
       "        var display = window.getComputedStyle(gd).display;\n",
       "        if (!display || display === 'none') {{\n",
       "            console.log([gd, 'removed!']);\n",
       "            Plotly.purge(gd);\n",
       "            observer.disconnect();\n",
       "        }}\n",
       "}});\n",
       "\n",
       "// Listen for the removal of the full notebook cells\n",
       "var notebookContainer = gd.closest('#notebook-container');\n",
       "if (notebookContainer) {{\n",
       "    x.observe(notebookContainer, {childList: true});\n",
       "}}\n",
       "\n",
       "// Listen for the clearing of the current output cell\n",
       "var outputEl = gd.closest('.output');\n",
       "if (outputEl) {{\n",
       "    x.observe(outputEl, {childList: true});\n",
       "}}\n",
       "\n",
       "                        })\n",
       "                };\n",
       "                });\n",
       "            </script>\n",
       "        </div>"
      ]
     },
     "metadata": {},
     "output_type": "display_data"
    }
   ],
   "source": [
    "df.count().iplot(kind='bar')"
   ]
  },
  {
   "cell_type": "markdown",
   "metadata": {},
   "source": [
    "## Boxplots"
   ]
  },
  {
   "cell_type": "code",
   "execution_count": 13,
   "metadata": {},
   "outputs": [
    {
     "data": {
      "application/vnd.plotly.v1+json": {
       "config": {
        "linkText": "Export to plot.ly",
        "plotlyServerURL": "https://plot.ly",
        "showLink": true
       },
       "data": [
        {
         "boxpoints": false,
         "line": {
          "width": 1.3
         },
         "marker": {
          "color": "rgba(255, 153, 51, 1.0)"
         },
         "name": "A",
         "orientation": "v",
         "type": "box",
         "y": [
          0.45376365134072455,
          0.1533277234434953,
          0.5584066630730266,
          0.6388125002339647,
          -0.7682082709200291,
          0.5872366051112483,
          -1.3622641558947228,
          0.9197266262491686,
          -0.5667359249270596,
          0.4428979494699839,
          -0.9832214064613543,
          -0.2086539026383452,
          0.5831019922477547,
          1.954808667357305,
          -0.39354558972605347,
          0.30152662807609654,
          0.13427182222200904,
          0.046625265681057806,
          -0.9675029107659785,
          -1.9378907692372627,
          0.7645084255726655,
          0.3456496119966951,
          0.6100739704928948,
          -1.2975215359698145,
          0.9811582960283188,
          -1.854291883561129,
          0.0030300626473484674,
          0.5555330497463216,
          1.9854640098519127,
          -2.8892786549069487,
          -0.5784596935192364,
          0.2120730704035394,
          -1.6367541806959658,
          -0.9219858235162748,
          -0.9038989941312121,
          -1.535290948903216,
          -0.9925978081014436,
          -0.1597238157952492,
          -0.1901984016351724,
          0.4340012252146463,
          1.6412372806898923,
          -0.26853040854857746,
          -1.4860370235943405,
          0.25372152314593843,
          0.8945563158090339,
          -1.2581189537610697,
          0.045752502620580435,
          0.1497617632922686,
          0.2057116223861768,
          1.522860668306455,
          2.4288034729247605,
          0.7271286207696227,
          -1.0042866967532893,
          -1.7551852659625091,
          -0.6452019322122896,
          -0.08558077903288307,
          -0.937374506875622,
          -1.1699904455728098,
          1.4613885965928404,
          0.8723881989578501,
          0.20798177375181456,
          0.6798310425036768,
          0.42731389978554923,
          -0.15521417050771996,
          -0.007772620249765506,
          -0.34694444399638413,
          -0.7226311660756984,
          0.4336460288339709,
          1.898232555378553,
          -0.7793458372913163,
          1.5539085406936917,
          -0.7700115463299503,
          1.976076118695718,
          0.7765767247770977,
          -1.1224316814644946,
          -0.5900259740110259,
          0.010858880228758642,
          -0.17312092096226234,
          0.03626058732618706,
          -0.013328956951237278,
          -0.42293607488429613,
          0.8354496259136793,
          -0.49443977885766727,
          1.6887110227852462,
          -1.4909122935659305,
          1.351877827520775,
          -0.3909619630491156,
          -0.12358388977968666,
          1.9262225184352992,
          -1.888314477524304,
          -0.8030996273076954,
          2.708273101446665,
          0.41042386472559367,
          -0.7852293060505795,
          -1.354368226970318,
          -0.2503422957009691,
          -1.4950744957453541,
          -0.25899218688334524,
          0.5439135753811755,
          1.29831213783766
         ]
        },
        {
         "boxpoints": false,
         "line": {
          "width": 1.3
         },
         "marker": {
          "color": "rgba(55, 128, 191, 1.0)"
         },
         "name": "B",
         "orientation": "v",
         "type": "box",
         "y": [
          0.48791258594993797,
          -0.05891854456106384,
          -0.6362022045967219,
          -0.4056058416314476,
          0.0006330543338569247,
          0.870525528955877,
          -0.6764844175995441,
          0.6474668146657152,
          -0.011818422547298509,
          1.3951013679061022,
          -1.7836141736487758,
          -0.04452308793644446,
          0.167234249338456,
          1.2567361760617723,
          -0.14027575575641704,
          0.09429143699907863,
          1.1242409616971984,
          0.050151518880630894,
          -0.2433928696764287,
          0.0783502937989915,
          0.9577964812936168,
          0.8770513370496233,
          -0.9686451268607692,
          -1.1455682487368903,
          1.667442748949377,
          1.5793147080970615,
          -0.4224730377130238,
          -0.3868067628069606,
          -1.5982968414883156,
          -0.2487089658615257,
          -0.39182632176914484,
          0.4986063317118386,
          -0.8700980248271802,
          0.5019229760141615,
          0.47136913990314216,
          0.09506378894544326,
          -0.4780009951857549,
          -0.15656352607360774,
          0.13881204338059433,
          1.0981469705486244,
          -0.6473528118947334,
          -0.07792660246003699,
          0.49093685414840577,
          0.9380626144705636,
          -0.7734212976175214,
          0.33422943469930877,
          -0.08206457103229005,
          0.19675075386621915,
          0.5420001440757906,
          -1.0969320780915388,
          0.14105130514566805,
          -0.2555864748272685,
          0.3782298749075631,
          0.07122122996107905,
          -0.18649207559510775,
          1.960743631159648,
          -0.5819049046976688,
          -0.5437881897673993,
          -0.6152534082450581,
          -0.08579520337015567,
          -1.0141040794192604,
          -0.7300103716957315,
          1.1591059727549322,
          -0.48871717672232134,
          0.6514275390594886,
          0.2959286126290568,
          -2.8449390446672465,
          -0.9964128029365027,
          -0.03310589205306478,
          0.45683529946442764,
          1.5500313810441426,
          -1.5430455490623174,
          1.2546011341118462,
          0.21495064400066777,
          0.3715588678943498,
          0.49929171775189896,
          0.30296929351938007,
          -1.4839432860196824,
          -2.026418060881709,
          -0.2651049157961102,
          -0.5172731186958455,
          -0.9233505359557593,
          -1.6777405785887876,
          1.1587072682107997,
          -0.08555026672901489,
          -0.08697221682863826,
          -0.8752844276408953,
          -0.4229123641934026,
          1.4152637622249185,
          -0.2687365546300804,
          -0.845265118679393,
          0.03661171573420025,
          -1.0408084121886536,
          0.07503804644651897,
          1.3461860366879066,
          0.008006281464838167,
          1.5369515511553713,
          1.046452560294225,
          -1.6355746895675083,
          -0.24565447964768866
         ]
        },
        {
         "boxpoints": false,
         "line": {
          "width": 1.3
         },
         "marker": {
          "color": "rgba(50, 171, 96, 1.0)"
         },
         "name": "C",
         "orientation": "v",
         "type": "box",
         "y": [
          0.48396363915452845,
          -0.8839504757489611,
          0.5944823766694012,
          -1.2087644449548938,
          -1.4588652418215866,
          -1.71617342439716,
          0.12162208071442088,
          -0.3608297979791972,
          -0.42242845389890843,
          0.04390948212546214,
          -0.4161508418773009,
          -0.708802954039864,
          0.40059679048085645,
          0.5571562735011651,
          0.5348040411944343,
          0.3600549961920591,
          -1.7495673113219377,
          0.3424817230951091,
          -0.7982736401450603,
          -1.5393636951459362,
          0.38188364523260454,
          0.6679824692132231,
          -1.6302832525996775,
          0.774058782367631,
          0.36030554093764167,
          0.41765634753539577,
          -0.002944256071235585,
          -1.111671206280267,
          0.5957649322461476,
          2.3586688907515008,
          0.5916008479013928,
          0.7259422663781465,
          -0.22213440567239653,
          -0.008089226780359612,
          -0.879943848146538,
          0.37809428348282015,
          -1.051974492111051,
          -2.4303364357334867,
          0.8902747934070464,
          0.6541843015681487,
          -2.1907773867692755,
          1.4151592563151574,
          0.2169988399881734,
          1.3796163891801971,
          -0.5107567629393553,
          0.14060742948121072,
          -0.2102408646089569,
          0.4746402010729189,
          -0.35629941940724974,
          0.09455049831948358,
          1.3315462134737737,
          0.12142640748102457,
          -0.6532459953478722,
          -0.2967680695605399,
          0.7406341892163693,
          1.8196016521717515,
          -0.45865294911254945,
          -0.21907541104349407,
          -1.6824241040302679,
          2.0431603995531065,
          2.4827480381542433,
          -0.873705716309566,
          -1.695945138813294,
          -0.4575251239756494,
          -1.346895198209205,
          -0.15018011180195395,
          -1.5759886738379878,
          -0.1982313013431906,
          0.9360674826623321,
          -0.5122282377520472,
          0.6505800704511161,
          -0.6642357334880877,
          0.05069602531264277,
          0.40809871683393023,
          0.15423817093218875,
          -0.6072905630520802,
          0.0832362881761946,
          -0.7876147222227531,
          0.7676497711006179,
          0.4308965629472975,
          -0.16142336373765484,
          -1.270767162984861,
          -0.3436961683419353,
          1.0583088258992703,
          -0.9007370643213202,
          1.4638762314021476,
          -0.5258092672087118,
          0.13550155144431164,
          -0.5088879826847917,
          0.5381844726862862,
          1.3371406210537218,
          -1.4209277616759663,
          -0.5881954188274244,
          -0.6262290973657684,
          -0.5321197520303068,
          -1.8267900014272351,
          -0.3561057241703818,
          0.2447657542690755,
          -1.5651841052535462,
          -0.023142125110577883
         ]
        },
        {
         "boxpoints": false,
         "line": {
          "width": 1.3
         },
         "marker": {
          "color": "rgba(128, 0, 128, 1.0)"
         },
         "name": "D",
         "orientation": "v",
         "type": "box",
         "y": [
          -0.28945819509093734,
          0.9506427079983513,
          -0.7075271544102827,
          0.33670026214094395,
          -0.10309166006052267,
          -0.18288297182315447,
          -0.6442306189531569,
          -0.35940347774718095,
          0.5980547649257733,
          0.38036286133256436,
          -1.2091149892980757,
          0.06723683346111031,
          0.7431448881965461,
          -0.09331449305279685,
          1.132594539633511,
          0.5986790751339794,
          -0.7909196560389122,
          -0.03678372527453003,
          -0.6947496907152378,
          -0.14130279411144683,
          -0.3060630927142332,
          -0.48116505787049035,
          0.5243553499271801,
          -1.2102603915406223,
          0.3662464595616071,
          1.5121451016626646,
          -0.5964350877415936,
          0.19781953581011333,
          -0.15302128942909088,
          0.06286068687679577,
          -0.5284685917617867,
          0.11107646904647635,
          -0.7560116181446788,
          -1.816222523311719,
          -0.7340965407045787,
          -2.5120924771350595,
          1.8887108667483687,
          0.17393748127873918,
          0.4057329203443431,
          -0.9950959777302046,
          0.17144971865073647,
          -1.197496099922525,
          -0.5696725879013981,
          0.30519989577527956,
          -0.9571854796916874,
          -0.5910988791985874,
          -0.647680651318399,
          0.21141056351513177,
          -0.4717975764243811,
          -1.228992629320308,
          -0.03493674168857812,
          -0.3929219675723878,
          -1.1248982506050234,
          1.5123905848365962,
          -1.161871394713524,
          0.35904725596967374,
          0.34580461961286196,
          -0.6247537218600137,
          0.6534904317589532,
          1.3647421932698265,
          0.36618733325902403,
          1.7350447493493786,
          -0.9164093019316768,
          -1.0427448140035536,
          1.195631158086616,
          -0.06332228078375042,
          -1.7792966150531015,
          -0.12981625980441097,
          0.7432451604322915,
          1.335795152531882,
          -0.29532275561968435,
          0.39793884204104457,
          -1.2434297290102156,
          0.3303682465473808,
          0.32606768933147523,
          0.3475504294634366,
          2.4942377346525846,
          -0.4208336480076219,
          1.1462273355356751,
          0.9597878014572179,
          -0.005393438437951994,
          -0.0019042778033120133,
          0.5488280518498596,
          2.2122887521931665,
          -1.2512728656185765,
          0.8831372364595468,
          0.9525324520273428,
          -0.23937498467410134,
          0.6727166198158724,
          0.7742155597792745,
          0.2979483029274702,
          -1.449069628948016,
          -1.7809778841935426,
          0.02738861605019371,
          -0.44985915636015683,
          1.0722366003371442,
          2.447842737960517,
          -1.7731439403282263,
          -0.09594801128742135,
          0.7736657602276928
         ]
        }
       ],
       "layout": {
        "legend": {
         "bgcolor": "#F5F6F9",
         "font": {
          "color": "#4D5663"
         }
        },
        "paper_bgcolor": "#F5F6F9",
        "plot_bgcolor": "#F5F6F9",
        "template": {
         "data": {
          "bar": [
           {
            "error_x": {
             "color": "#2a3f5f"
            },
            "error_y": {
             "color": "#2a3f5f"
            },
            "marker": {
             "line": {
              "color": "#E5ECF6",
              "width": 0.5
             }
            },
            "type": "bar"
           }
          ],
          "barpolar": [
           {
            "marker": {
             "line": {
              "color": "#E5ECF6",
              "width": 0.5
             }
            },
            "type": "barpolar"
           }
          ],
          "carpet": [
           {
            "aaxis": {
             "endlinecolor": "#2a3f5f",
             "gridcolor": "white",
             "linecolor": "white",
             "minorgridcolor": "white",
             "startlinecolor": "#2a3f5f"
            },
            "baxis": {
             "endlinecolor": "#2a3f5f",
             "gridcolor": "white",
             "linecolor": "white",
             "minorgridcolor": "white",
             "startlinecolor": "#2a3f5f"
            },
            "type": "carpet"
           }
          ],
          "choropleth": [
           {
            "colorbar": {
             "outlinewidth": 0,
             "ticks": ""
            },
            "type": "choropleth"
           }
          ],
          "contour": [
           {
            "colorbar": {
             "outlinewidth": 0,
             "ticks": ""
            },
            "colorscale": [
             [
              0,
              "#0d0887"
             ],
             [
              0.1111111111111111,
              "#46039f"
             ],
             [
              0.2222222222222222,
              "#7201a8"
             ],
             [
              0.3333333333333333,
              "#9c179e"
             ],
             [
              0.4444444444444444,
              "#bd3786"
             ],
             [
              0.5555555555555556,
              "#d8576b"
             ],
             [
              0.6666666666666666,
              "#ed7953"
             ],
             [
              0.7777777777777778,
              "#fb9f3a"
             ],
             [
              0.8888888888888888,
              "#fdca26"
             ],
             [
              1,
              "#f0f921"
             ]
            ],
            "type": "contour"
           }
          ],
          "contourcarpet": [
           {
            "colorbar": {
             "outlinewidth": 0,
             "ticks": ""
            },
            "type": "contourcarpet"
           }
          ],
          "heatmap": [
           {
            "colorbar": {
             "outlinewidth": 0,
             "ticks": ""
            },
            "colorscale": [
             [
              0,
              "#0d0887"
             ],
             [
              0.1111111111111111,
              "#46039f"
             ],
             [
              0.2222222222222222,
              "#7201a8"
             ],
             [
              0.3333333333333333,
              "#9c179e"
             ],
             [
              0.4444444444444444,
              "#bd3786"
             ],
             [
              0.5555555555555556,
              "#d8576b"
             ],
             [
              0.6666666666666666,
              "#ed7953"
             ],
             [
              0.7777777777777778,
              "#fb9f3a"
             ],
             [
              0.8888888888888888,
              "#fdca26"
             ],
             [
              1,
              "#f0f921"
             ]
            ],
            "type": "heatmap"
           }
          ],
          "heatmapgl": [
           {
            "colorbar": {
             "outlinewidth": 0,
             "ticks": ""
            },
            "colorscale": [
             [
              0,
              "#0d0887"
             ],
             [
              0.1111111111111111,
              "#46039f"
             ],
             [
              0.2222222222222222,
              "#7201a8"
             ],
             [
              0.3333333333333333,
              "#9c179e"
             ],
             [
              0.4444444444444444,
              "#bd3786"
             ],
             [
              0.5555555555555556,
              "#d8576b"
             ],
             [
              0.6666666666666666,
              "#ed7953"
             ],
             [
              0.7777777777777778,
              "#fb9f3a"
             ],
             [
              0.8888888888888888,
              "#fdca26"
             ],
             [
              1,
              "#f0f921"
             ]
            ],
            "type": "heatmapgl"
           }
          ],
          "histogram": [
           {
            "marker": {
             "colorbar": {
              "outlinewidth": 0,
              "ticks": ""
             }
            },
            "type": "histogram"
           }
          ],
          "histogram2d": [
           {
            "colorbar": {
             "outlinewidth": 0,
             "ticks": ""
            },
            "colorscale": [
             [
              0,
              "#0d0887"
             ],
             [
              0.1111111111111111,
              "#46039f"
             ],
             [
              0.2222222222222222,
              "#7201a8"
             ],
             [
              0.3333333333333333,
              "#9c179e"
             ],
             [
              0.4444444444444444,
              "#bd3786"
             ],
             [
              0.5555555555555556,
              "#d8576b"
             ],
             [
              0.6666666666666666,
              "#ed7953"
             ],
             [
              0.7777777777777778,
              "#fb9f3a"
             ],
             [
              0.8888888888888888,
              "#fdca26"
             ],
             [
              1,
              "#f0f921"
             ]
            ],
            "type": "histogram2d"
           }
          ],
          "histogram2dcontour": [
           {
            "colorbar": {
             "outlinewidth": 0,
             "ticks": ""
            },
            "colorscale": [
             [
              0,
              "#0d0887"
             ],
             [
              0.1111111111111111,
              "#46039f"
             ],
             [
              0.2222222222222222,
              "#7201a8"
             ],
             [
              0.3333333333333333,
              "#9c179e"
             ],
             [
              0.4444444444444444,
              "#bd3786"
             ],
             [
              0.5555555555555556,
              "#d8576b"
             ],
             [
              0.6666666666666666,
              "#ed7953"
             ],
             [
              0.7777777777777778,
              "#fb9f3a"
             ],
             [
              0.8888888888888888,
              "#fdca26"
             ],
             [
              1,
              "#f0f921"
             ]
            ],
            "type": "histogram2dcontour"
           }
          ],
          "mesh3d": [
           {
            "colorbar": {
             "outlinewidth": 0,
             "ticks": ""
            },
            "type": "mesh3d"
           }
          ],
          "parcoords": [
           {
            "line": {
             "colorbar": {
              "outlinewidth": 0,
              "ticks": ""
             }
            },
            "type": "parcoords"
           }
          ],
          "pie": [
           {
            "automargin": true,
            "type": "pie"
           }
          ],
          "scatter": [
           {
            "marker": {
             "colorbar": {
              "outlinewidth": 0,
              "ticks": ""
             }
            },
            "type": "scatter"
           }
          ],
          "scatter3d": [
           {
            "line": {
             "colorbar": {
              "outlinewidth": 0,
              "ticks": ""
             }
            },
            "marker": {
             "colorbar": {
              "outlinewidth": 0,
              "ticks": ""
             }
            },
            "type": "scatter3d"
           }
          ],
          "scattercarpet": [
           {
            "marker": {
             "colorbar": {
              "outlinewidth": 0,
              "ticks": ""
             }
            },
            "type": "scattercarpet"
           }
          ],
          "scattergeo": [
           {
            "marker": {
             "colorbar": {
              "outlinewidth": 0,
              "ticks": ""
             }
            },
            "type": "scattergeo"
           }
          ],
          "scattergl": [
           {
            "marker": {
             "colorbar": {
              "outlinewidth": 0,
              "ticks": ""
             }
            },
            "type": "scattergl"
           }
          ],
          "scattermapbox": [
           {
            "marker": {
             "colorbar": {
              "outlinewidth": 0,
              "ticks": ""
             }
            },
            "type": "scattermapbox"
           }
          ],
          "scatterpolar": [
           {
            "marker": {
             "colorbar": {
              "outlinewidth": 0,
              "ticks": ""
             }
            },
            "type": "scatterpolar"
           }
          ],
          "scatterpolargl": [
           {
            "marker": {
             "colorbar": {
              "outlinewidth": 0,
              "ticks": ""
             }
            },
            "type": "scatterpolargl"
           }
          ],
          "scatterternary": [
           {
            "marker": {
             "colorbar": {
              "outlinewidth": 0,
              "ticks": ""
             }
            },
            "type": "scatterternary"
           }
          ],
          "surface": [
           {
            "colorbar": {
             "outlinewidth": 0,
             "ticks": ""
            },
            "colorscale": [
             [
              0,
              "#0d0887"
             ],
             [
              0.1111111111111111,
              "#46039f"
             ],
             [
              0.2222222222222222,
              "#7201a8"
             ],
             [
              0.3333333333333333,
              "#9c179e"
             ],
             [
              0.4444444444444444,
              "#bd3786"
             ],
             [
              0.5555555555555556,
              "#d8576b"
             ],
             [
              0.6666666666666666,
              "#ed7953"
             ],
             [
              0.7777777777777778,
              "#fb9f3a"
             ],
             [
              0.8888888888888888,
              "#fdca26"
             ],
             [
              1,
              "#f0f921"
             ]
            ],
            "type": "surface"
           }
          ],
          "table": [
           {
            "cells": {
             "fill": {
              "color": "#EBF0F8"
             },
             "line": {
              "color": "white"
             }
            },
            "header": {
             "fill": {
              "color": "#C8D4E3"
             },
             "line": {
              "color": "white"
             }
            },
            "type": "table"
           }
          ]
         },
         "layout": {
          "annotationdefaults": {
           "arrowcolor": "#2a3f5f",
           "arrowhead": 0,
           "arrowwidth": 1
          },
          "coloraxis": {
           "colorbar": {
            "outlinewidth": 0,
            "ticks": ""
           }
          },
          "colorscale": {
           "diverging": [
            [
             0,
             "#8e0152"
            ],
            [
             0.1,
             "#c51b7d"
            ],
            [
             0.2,
             "#de77ae"
            ],
            [
             0.3,
             "#f1b6da"
            ],
            [
             0.4,
             "#fde0ef"
            ],
            [
             0.5,
             "#f7f7f7"
            ],
            [
             0.6,
             "#e6f5d0"
            ],
            [
             0.7,
             "#b8e186"
            ],
            [
             0.8,
             "#7fbc41"
            ],
            [
             0.9,
             "#4d9221"
            ],
            [
             1,
             "#276419"
            ]
           ],
           "sequential": [
            [
             0,
             "#0d0887"
            ],
            [
             0.1111111111111111,
             "#46039f"
            ],
            [
             0.2222222222222222,
             "#7201a8"
            ],
            [
             0.3333333333333333,
             "#9c179e"
            ],
            [
             0.4444444444444444,
             "#bd3786"
            ],
            [
             0.5555555555555556,
             "#d8576b"
            ],
            [
             0.6666666666666666,
             "#ed7953"
            ],
            [
             0.7777777777777778,
             "#fb9f3a"
            ],
            [
             0.8888888888888888,
             "#fdca26"
            ],
            [
             1,
             "#f0f921"
            ]
           ],
           "sequentialminus": [
            [
             0,
             "#0d0887"
            ],
            [
             0.1111111111111111,
             "#46039f"
            ],
            [
             0.2222222222222222,
             "#7201a8"
            ],
            [
             0.3333333333333333,
             "#9c179e"
            ],
            [
             0.4444444444444444,
             "#bd3786"
            ],
            [
             0.5555555555555556,
             "#d8576b"
            ],
            [
             0.6666666666666666,
             "#ed7953"
            ],
            [
             0.7777777777777778,
             "#fb9f3a"
            ],
            [
             0.8888888888888888,
             "#fdca26"
            ],
            [
             1,
             "#f0f921"
            ]
           ]
          },
          "colorway": [
           "#636efa",
           "#EF553B",
           "#00cc96",
           "#ab63fa",
           "#FFA15A",
           "#19d3f3",
           "#FF6692",
           "#B6E880",
           "#FF97FF",
           "#FECB52"
          ],
          "font": {
           "color": "#2a3f5f"
          },
          "geo": {
           "bgcolor": "white",
           "lakecolor": "white",
           "landcolor": "#E5ECF6",
           "showlakes": true,
           "showland": true,
           "subunitcolor": "white"
          },
          "hoverlabel": {
           "align": "left"
          },
          "hovermode": "closest",
          "mapbox": {
           "style": "light"
          },
          "paper_bgcolor": "white",
          "plot_bgcolor": "#E5ECF6",
          "polar": {
           "angularaxis": {
            "gridcolor": "white",
            "linecolor": "white",
            "ticks": ""
           },
           "bgcolor": "#E5ECF6",
           "radialaxis": {
            "gridcolor": "white",
            "linecolor": "white",
            "ticks": ""
           }
          },
          "scene": {
           "xaxis": {
            "backgroundcolor": "#E5ECF6",
            "gridcolor": "white",
            "gridwidth": 2,
            "linecolor": "white",
            "showbackground": true,
            "ticks": "",
            "zerolinecolor": "white"
           },
           "yaxis": {
            "backgroundcolor": "#E5ECF6",
            "gridcolor": "white",
            "gridwidth": 2,
            "linecolor": "white",
            "showbackground": true,
            "ticks": "",
            "zerolinecolor": "white"
           },
           "zaxis": {
            "backgroundcolor": "#E5ECF6",
            "gridcolor": "white",
            "gridwidth": 2,
            "linecolor": "white",
            "showbackground": true,
            "ticks": "",
            "zerolinecolor": "white"
           }
          },
          "shapedefaults": {
           "line": {
            "color": "#2a3f5f"
           }
          },
          "ternary": {
           "aaxis": {
            "gridcolor": "white",
            "linecolor": "white",
            "ticks": ""
           },
           "baxis": {
            "gridcolor": "white",
            "linecolor": "white",
            "ticks": ""
           },
           "bgcolor": "#E5ECF6",
           "caxis": {
            "gridcolor": "white",
            "linecolor": "white",
            "ticks": ""
           }
          },
          "title": {
           "x": 0.05
          },
          "xaxis": {
           "automargin": true,
           "gridcolor": "white",
           "linecolor": "white",
           "ticks": "",
           "title": {
            "standoff": 15
           },
           "zerolinecolor": "white",
           "zerolinewidth": 2
          },
          "yaxis": {
           "automargin": true,
           "gridcolor": "white",
           "linecolor": "white",
           "ticks": "",
           "title": {
            "standoff": 15
           },
           "zerolinecolor": "white",
           "zerolinewidth": 2
          }
         }
        },
        "title": {
         "font": {
          "color": "#4D5663"
         }
        },
        "xaxis": {
         "gridcolor": "#E1E5ED",
         "showgrid": true,
         "tickfont": {
          "color": "#4D5663"
         },
         "title": {
          "font": {
           "color": "#4D5663"
          },
          "text": ""
         },
         "zerolinecolor": "#E1E5ED"
        },
        "yaxis": {
         "gridcolor": "#E1E5ED",
         "showgrid": true,
         "tickfont": {
          "color": "#4D5663"
         },
         "title": {
          "font": {
           "color": "#4D5663"
          },
          "text": ""
         },
         "zerolinecolor": "#E1E5ED"
        }
       }
      },
      "text/html": [
       "<div>\n",
       "        \n",
       "        \n",
       "            <div id=\"e23e0017-abe7-45ea-8b48-80f35d8ff2ae\" class=\"plotly-graph-div\" style=\"height:525px; width:100%;\"></div>\n",
       "            <script type=\"text/javascript\">\n",
       "                require([\"plotly\"], function(Plotly) {\n",
       "                    window.PLOTLYENV=window.PLOTLYENV || {};\n",
       "                    window.PLOTLYENV.BASE_URL='https://plot.ly';\n",
       "                    \n",
       "                if (document.getElementById(\"e23e0017-abe7-45ea-8b48-80f35d8ff2ae\")) {\n",
       "                    Plotly.newPlot(\n",
       "                        'e23e0017-abe7-45ea-8b48-80f35d8ff2ae',\n",
       "                        [{\"boxpoints\": false, \"line\": {\"width\": 1.3}, \"marker\": {\"color\": \"rgba(255, 153, 51, 1.0)\"}, \"name\": \"A\", \"orientation\": \"v\", \"type\": \"box\", \"y\": [0.45376365134072455, 0.1533277234434953, 0.5584066630730266, 0.6388125002339647, -0.7682082709200291, 0.5872366051112483, -1.3622641558947228, 0.9197266262491686, -0.5667359249270596, 0.4428979494699839, -0.9832214064613543, -0.2086539026383452, 0.5831019922477547, 1.954808667357305, -0.39354558972605347, 0.30152662807609654, 0.13427182222200904, 0.046625265681057806, -0.9675029107659785, -1.9378907692372627, 0.7645084255726655, 0.3456496119966951, 0.6100739704928948, -1.2975215359698145, 0.9811582960283188, -1.854291883561129, 0.0030300626473484674, 0.5555330497463216, 1.9854640098519127, -2.8892786549069487, -0.5784596935192364, 0.2120730704035394, -1.6367541806959658, -0.9219858235162748, -0.9038989941312121, -1.535290948903216, -0.9925978081014436, -0.1597238157952492, -0.1901984016351724, 0.4340012252146463, 1.6412372806898923, -0.26853040854857746, -1.4860370235943405, 0.25372152314593843, 0.8945563158090339, -1.2581189537610697, 0.045752502620580435, 0.1497617632922686, 0.2057116223861768, 1.522860668306455, 2.4288034729247605, 0.7271286207696227, -1.0042866967532893, -1.7551852659625091, -0.6452019322122896, -0.08558077903288307, -0.937374506875622, -1.1699904455728098, 1.4613885965928404, 0.8723881989578501, 0.20798177375181456, 0.6798310425036768, 0.42731389978554923, -0.15521417050771996, -0.007772620249765506, -0.34694444399638413, -0.7226311660756984, 0.4336460288339709, 1.898232555378553, -0.7793458372913163, 1.5539085406936917, -0.7700115463299503, 1.976076118695718, 0.7765767247770977, -1.1224316814644946, -0.5900259740110259, 0.010858880228758642, -0.17312092096226234, 0.03626058732618706, -0.013328956951237278, -0.42293607488429613, 0.8354496259136793, -0.49443977885766727, 1.6887110227852462, -1.4909122935659305, 1.351877827520775, -0.3909619630491156, -0.12358388977968666, 1.9262225184352992, -1.888314477524304, -0.8030996273076954, 2.708273101446665, 0.41042386472559367, -0.7852293060505795, -1.354368226970318, -0.2503422957009691, -1.4950744957453541, -0.25899218688334524, 0.5439135753811755, 1.29831213783766]}, {\"boxpoints\": false, \"line\": {\"width\": 1.3}, \"marker\": {\"color\": \"rgba(55, 128, 191, 1.0)\"}, \"name\": \"B\", \"orientation\": \"v\", \"type\": \"box\", \"y\": [0.48791258594993797, -0.05891854456106384, -0.6362022045967219, -0.4056058416314476, 0.0006330543338569247, 0.870525528955877, -0.6764844175995441, 0.6474668146657152, -0.011818422547298509, 1.3951013679061022, -1.7836141736487758, -0.04452308793644446, 0.167234249338456, 1.2567361760617723, -0.14027575575641704, 0.09429143699907863, 1.1242409616971984, 0.050151518880630894, -0.2433928696764287, 0.0783502937989915, 0.9577964812936168, 0.8770513370496233, -0.9686451268607692, -1.1455682487368903, 1.667442748949377, 1.5793147080970615, -0.4224730377130238, -0.3868067628069606, -1.5982968414883156, -0.2487089658615257, -0.39182632176914484, 0.4986063317118386, -0.8700980248271802, 0.5019229760141615, 0.47136913990314216, 0.09506378894544326, -0.4780009951857549, -0.15656352607360774, 0.13881204338059433, 1.0981469705486244, -0.6473528118947334, -0.07792660246003699, 0.49093685414840577, 0.9380626144705636, -0.7734212976175214, 0.33422943469930877, -0.08206457103229005, 0.19675075386621915, 0.5420001440757906, -1.0969320780915388, 0.14105130514566805, -0.2555864748272685, 0.3782298749075631, 0.07122122996107905, -0.18649207559510775, 1.960743631159648, -0.5819049046976688, -0.5437881897673993, -0.6152534082450581, -0.08579520337015567, -1.0141040794192604, -0.7300103716957315, 1.1591059727549322, -0.48871717672232134, 0.6514275390594886, 0.2959286126290568, -2.8449390446672465, -0.9964128029365027, -0.03310589205306478, 0.45683529946442764, 1.5500313810441426, -1.5430455490623174, 1.2546011341118462, 0.21495064400066777, 0.3715588678943498, 0.49929171775189896, 0.30296929351938007, -1.4839432860196824, -2.026418060881709, -0.2651049157961102, -0.5172731186958455, -0.9233505359557593, -1.6777405785887876, 1.1587072682107997, -0.08555026672901489, -0.08697221682863826, -0.8752844276408953, -0.4229123641934026, 1.4152637622249185, -0.2687365546300804, -0.845265118679393, 0.03661171573420025, -1.0408084121886536, 0.07503804644651897, 1.3461860366879066, 0.008006281464838167, 1.5369515511553713, 1.046452560294225, -1.6355746895675083, -0.24565447964768866]}, {\"boxpoints\": false, \"line\": {\"width\": 1.3}, \"marker\": {\"color\": \"rgba(50, 171, 96, 1.0)\"}, \"name\": \"C\", \"orientation\": \"v\", \"type\": \"box\", \"y\": [0.48396363915452845, -0.8839504757489611, 0.5944823766694012, -1.2087644449548938, -1.4588652418215866, -1.71617342439716, 0.12162208071442088, -0.3608297979791972, -0.42242845389890843, 0.04390948212546214, -0.4161508418773009, -0.708802954039864, 0.40059679048085645, 0.5571562735011651, 0.5348040411944343, 0.3600549961920591, -1.7495673113219377, 0.3424817230951091, -0.7982736401450603, -1.5393636951459362, 0.38188364523260454, 0.6679824692132231, -1.6302832525996775, 0.774058782367631, 0.36030554093764167, 0.41765634753539577, -0.002944256071235585, -1.111671206280267, 0.5957649322461476, 2.3586688907515008, 0.5916008479013928, 0.7259422663781465, -0.22213440567239653, -0.008089226780359612, -0.879943848146538, 0.37809428348282015, -1.051974492111051, -2.4303364357334867, 0.8902747934070464, 0.6541843015681487, -2.1907773867692755, 1.4151592563151574, 0.2169988399881734, 1.3796163891801971, -0.5107567629393553, 0.14060742948121072, -0.2102408646089569, 0.4746402010729189, -0.35629941940724974, 0.09455049831948358, 1.3315462134737737, 0.12142640748102457, -0.6532459953478722, -0.2967680695605399, 0.7406341892163693, 1.8196016521717515, -0.45865294911254945, -0.21907541104349407, -1.6824241040302679, 2.0431603995531065, 2.4827480381542433, -0.873705716309566, -1.695945138813294, -0.4575251239756494, -1.346895198209205, -0.15018011180195395, -1.5759886738379878, -0.1982313013431906, 0.9360674826623321, -0.5122282377520472, 0.6505800704511161, -0.6642357334880877, 0.05069602531264277, 0.40809871683393023, 0.15423817093218875, -0.6072905630520802, 0.0832362881761946, -0.7876147222227531, 0.7676497711006179, 0.4308965629472975, -0.16142336373765484, -1.270767162984861, -0.3436961683419353, 1.0583088258992703, -0.9007370643213202, 1.4638762314021476, -0.5258092672087118, 0.13550155144431164, -0.5088879826847917, 0.5381844726862862, 1.3371406210537218, -1.4209277616759663, -0.5881954188274244, -0.6262290973657684, -0.5321197520303068, -1.8267900014272351, -0.3561057241703818, 0.2447657542690755, -1.5651841052535462, -0.023142125110577883]}, {\"boxpoints\": false, \"line\": {\"width\": 1.3}, \"marker\": {\"color\": \"rgba(128, 0, 128, 1.0)\"}, \"name\": \"D\", \"orientation\": \"v\", \"type\": \"box\", \"y\": [-0.28945819509093734, 0.9506427079983513, -0.7075271544102827, 0.33670026214094395, -0.10309166006052267, -0.18288297182315447, -0.6442306189531569, -0.35940347774718095, 0.5980547649257733, 0.38036286133256436, -1.2091149892980757, 0.06723683346111031, 0.7431448881965461, -0.09331449305279685, 1.132594539633511, 0.5986790751339794, -0.7909196560389122, -0.03678372527453003, -0.6947496907152378, -0.14130279411144683, -0.3060630927142332, -0.48116505787049035, 0.5243553499271801, -1.2102603915406223, 0.3662464595616071, 1.5121451016626646, -0.5964350877415936, 0.19781953581011333, -0.15302128942909088, 0.06286068687679577, -0.5284685917617867, 0.11107646904647635, -0.7560116181446788, -1.816222523311719, -0.7340965407045787, -2.5120924771350595, 1.8887108667483687, 0.17393748127873918, 0.4057329203443431, -0.9950959777302046, 0.17144971865073647, -1.197496099922525, -0.5696725879013981, 0.30519989577527956, -0.9571854796916874, -0.5910988791985874, -0.647680651318399, 0.21141056351513177, -0.4717975764243811, -1.228992629320308, -0.03493674168857812, -0.3929219675723878, -1.1248982506050234, 1.5123905848365962, -1.161871394713524, 0.35904725596967374, 0.34580461961286196, -0.6247537218600137, 0.6534904317589532, 1.3647421932698265, 0.36618733325902403, 1.7350447493493786, -0.9164093019316768, -1.0427448140035536, 1.195631158086616, -0.06332228078375042, -1.7792966150531015, -0.12981625980441097, 0.7432451604322915, 1.335795152531882, -0.29532275561968435, 0.39793884204104457, -1.2434297290102156, 0.3303682465473808, 0.32606768933147523, 0.3475504294634366, 2.4942377346525846, -0.4208336480076219, 1.1462273355356751, 0.9597878014572179, -0.005393438437951994, -0.0019042778033120133, 0.5488280518498596, 2.2122887521931665, -1.2512728656185765, 0.8831372364595468, 0.9525324520273428, -0.23937498467410134, 0.6727166198158724, 0.7742155597792745, 0.2979483029274702, -1.449069628948016, -1.7809778841935426, 0.02738861605019371, -0.44985915636015683, 1.0722366003371442, 2.447842737960517, -1.7731439403282263, -0.09594801128742135, 0.7736657602276928]}],\n",
       "                        {\"legend\": {\"bgcolor\": \"#F5F6F9\", \"font\": {\"color\": \"#4D5663\"}}, \"paper_bgcolor\": \"#F5F6F9\", \"plot_bgcolor\": \"#F5F6F9\", \"template\": {\"data\": {\"bar\": [{\"error_x\": {\"color\": \"#2a3f5f\"}, \"error_y\": {\"color\": \"#2a3f5f\"}, \"marker\": {\"line\": {\"color\": \"#E5ECF6\", \"width\": 0.5}}, \"type\": \"bar\"}], \"barpolar\": [{\"marker\": {\"line\": {\"color\": \"#E5ECF6\", \"width\": 0.5}}, \"type\": \"barpolar\"}], \"carpet\": [{\"aaxis\": {\"endlinecolor\": \"#2a3f5f\", \"gridcolor\": \"white\", \"linecolor\": \"white\", \"minorgridcolor\": \"white\", \"startlinecolor\": \"#2a3f5f\"}, \"baxis\": {\"endlinecolor\": \"#2a3f5f\", \"gridcolor\": \"white\", \"linecolor\": \"white\", \"minorgridcolor\": \"white\", \"startlinecolor\": \"#2a3f5f\"}, \"type\": \"carpet\"}], \"choropleth\": [{\"colorbar\": {\"outlinewidth\": 0, \"ticks\": \"\"}, \"type\": \"choropleth\"}], \"contour\": [{\"colorbar\": {\"outlinewidth\": 0, \"ticks\": \"\"}, \"colorscale\": [[0.0, \"#0d0887\"], [0.1111111111111111, \"#46039f\"], [0.2222222222222222, \"#7201a8\"], [0.3333333333333333, \"#9c179e\"], [0.4444444444444444, \"#bd3786\"], [0.5555555555555556, \"#d8576b\"], [0.6666666666666666, \"#ed7953\"], [0.7777777777777778, \"#fb9f3a\"], [0.8888888888888888, \"#fdca26\"], [1.0, \"#f0f921\"]], \"type\": \"contour\"}], \"contourcarpet\": [{\"colorbar\": {\"outlinewidth\": 0, \"ticks\": \"\"}, \"type\": \"contourcarpet\"}], \"heatmap\": [{\"colorbar\": {\"outlinewidth\": 0, \"ticks\": \"\"}, \"colorscale\": [[0.0, \"#0d0887\"], [0.1111111111111111, \"#46039f\"], [0.2222222222222222, \"#7201a8\"], [0.3333333333333333, \"#9c179e\"], [0.4444444444444444, \"#bd3786\"], [0.5555555555555556, \"#d8576b\"], [0.6666666666666666, \"#ed7953\"], [0.7777777777777778, \"#fb9f3a\"], [0.8888888888888888, \"#fdca26\"], [1.0, \"#f0f921\"]], \"type\": \"heatmap\"}], \"heatmapgl\": [{\"colorbar\": {\"outlinewidth\": 0, \"ticks\": \"\"}, \"colorscale\": [[0.0, \"#0d0887\"], [0.1111111111111111, \"#46039f\"], [0.2222222222222222, \"#7201a8\"], [0.3333333333333333, \"#9c179e\"], [0.4444444444444444, \"#bd3786\"], [0.5555555555555556, \"#d8576b\"], [0.6666666666666666, \"#ed7953\"], [0.7777777777777778, \"#fb9f3a\"], [0.8888888888888888, \"#fdca26\"], [1.0, \"#f0f921\"]], \"type\": \"heatmapgl\"}], \"histogram\": [{\"marker\": {\"colorbar\": {\"outlinewidth\": 0, \"ticks\": \"\"}}, \"type\": \"histogram\"}], \"histogram2d\": [{\"colorbar\": {\"outlinewidth\": 0, \"ticks\": \"\"}, \"colorscale\": [[0.0, \"#0d0887\"], [0.1111111111111111, \"#46039f\"], [0.2222222222222222, \"#7201a8\"], [0.3333333333333333, \"#9c179e\"], [0.4444444444444444, \"#bd3786\"], [0.5555555555555556, \"#d8576b\"], [0.6666666666666666, \"#ed7953\"], [0.7777777777777778, \"#fb9f3a\"], [0.8888888888888888, \"#fdca26\"], [1.0, \"#f0f921\"]], \"type\": \"histogram2d\"}], \"histogram2dcontour\": [{\"colorbar\": {\"outlinewidth\": 0, \"ticks\": \"\"}, \"colorscale\": [[0.0, \"#0d0887\"], [0.1111111111111111, \"#46039f\"], [0.2222222222222222, \"#7201a8\"], [0.3333333333333333, \"#9c179e\"], [0.4444444444444444, \"#bd3786\"], [0.5555555555555556, \"#d8576b\"], [0.6666666666666666, \"#ed7953\"], [0.7777777777777778, \"#fb9f3a\"], [0.8888888888888888, \"#fdca26\"], [1.0, \"#f0f921\"]], \"type\": \"histogram2dcontour\"}], \"mesh3d\": [{\"colorbar\": {\"outlinewidth\": 0, \"ticks\": \"\"}, \"type\": \"mesh3d\"}], \"parcoords\": [{\"line\": {\"colorbar\": {\"outlinewidth\": 0, \"ticks\": \"\"}}, \"type\": \"parcoords\"}], \"pie\": [{\"automargin\": true, \"type\": \"pie\"}], \"scatter\": [{\"marker\": {\"colorbar\": {\"outlinewidth\": 0, \"ticks\": \"\"}}, \"type\": \"scatter\"}], \"scatter3d\": [{\"line\": {\"colorbar\": {\"outlinewidth\": 0, \"ticks\": \"\"}}, \"marker\": {\"colorbar\": {\"outlinewidth\": 0, \"ticks\": \"\"}}, \"type\": \"scatter3d\"}], \"scattercarpet\": [{\"marker\": {\"colorbar\": {\"outlinewidth\": 0, \"ticks\": \"\"}}, \"type\": \"scattercarpet\"}], \"scattergeo\": [{\"marker\": {\"colorbar\": {\"outlinewidth\": 0, \"ticks\": \"\"}}, \"type\": \"scattergeo\"}], \"scattergl\": [{\"marker\": {\"colorbar\": {\"outlinewidth\": 0, \"ticks\": \"\"}}, \"type\": \"scattergl\"}], \"scattermapbox\": [{\"marker\": {\"colorbar\": {\"outlinewidth\": 0, \"ticks\": \"\"}}, \"type\": \"scattermapbox\"}], \"scatterpolar\": [{\"marker\": {\"colorbar\": {\"outlinewidth\": 0, \"ticks\": \"\"}}, \"type\": \"scatterpolar\"}], \"scatterpolargl\": [{\"marker\": {\"colorbar\": {\"outlinewidth\": 0, \"ticks\": \"\"}}, \"type\": \"scatterpolargl\"}], \"scatterternary\": [{\"marker\": {\"colorbar\": {\"outlinewidth\": 0, \"ticks\": \"\"}}, \"type\": \"scatterternary\"}], \"surface\": [{\"colorbar\": {\"outlinewidth\": 0, \"ticks\": \"\"}, \"colorscale\": [[0.0, \"#0d0887\"], [0.1111111111111111, \"#46039f\"], [0.2222222222222222, \"#7201a8\"], [0.3333333333333333, \"#9c179e\"], [0.4444444444444444, \"#bd3786\"], [0.5555555555555556, \"#d8576b\"], [0.6666666666666666, \"#ed7953\"], [0.7777777777777778, \"#fb9f3a\"], [0.8888888888888888, \"#fdca26\"], [1.0, \"#f0f921\"]], \"type\": \"surface\"}], \"table\": [{\"cells\": {\"fill\": {\"color\": \"#EBF0F8\"}, \"line\": {\"color\": \"white\"}}, \"header\": {\"fill\": {\"color\": \"#C8D4E3\"}, \"line\": {\"color\": \"white\"}}, \"type\": \"table\"}]}, \"layout\": {\"annotationdefaults\": {\"arrowcolor\": \"#2a3f5f\", \"arrowhead\": 0, \"arrowwidth\": 1}, \"coloraxis\": {\"colorbar\": {\"outlinewidth\": 0, \"ticks\": \"\"}}, \"colorscale\": {\"diverging\": [[0, \"#8e0152\"], [0.1, \"#c51b7d\"], [0.2, \"#de77ae\"], [0.3, \"#f1b6da\"], [0.4, \"#fde0ef\"], [0.5, \"#f7f7f7\"], [0.6, \"#e6f5d0\"], [0.7, \"#b8e186\"], [0.8, \"#7fbc41\"], [0.9, \"#4d9221\"], [1, \"#276419\"]], \"sequential\": [[0.0, \"#0d0887\"], [0.1111111111111111, \"#46039f\"], [0.2222222222222222, \"#7201a8\"], [0.3333333333333333, \"#9c179e\"], [0.4444444444444444, \"#bd3786\"], [0.5555555555555556, \"#d8576b\"], [0.6666666666666666, \"#ed7953\"], [0.7777777777777778, \"#fb9f3a\"], [0.8888888888888888, \"#fdca26\"], [1.0, \"#f0f921\"]], \"sequentialminus\": [[0.0, \"#0d0887\"], [0.1111111111111111, \"#46039f\"], [0.2222222222222222, \"#7201a8\"], [0.3333333333333333, \"#9c179e\"], [0.4444444444444444, \"#bd3786\"], [0.5555555555555556, \"#d8576b\"], [0.6666666666666666, \"#ed7953\"], [0.7777777777777778, \"#fb9f3a\"], [0.8888888888888888, \"#fdca26\"], [1.0, \"#f0f921\"]]}, \"colorway\": [\"#636efa\", \"#EF553B\", \"#00cc96\", \"#ab63fa\", \"#FFA15A\", \"#19d3f3\", \"#FF6692\", \"#B6E880\", \"#FF97FF\", \"#FECB52\"], \"font\": {\"color\": \"#2a3f5f\"}, \"geo\": {\"bgcolor\": \"white\", \"lakecolor\": \"white\", \"landcolor\": \"#E5ECF6\", \"showlakes\": true, \"showland\": true, \"subunitcolor\": \"white\"}, \"hoverlabel\": {\"align\": \"left\"}, \"hovermode\": \"closest\", \"mapbox\": {\"style\": \"light\"}, \"paper_bgcolor\": \"white\", \"plot_bgcolor\": \"#E5ECF6\", \"polar\": {\"angularaxis\": {\"gridcolor\": \"white\", \"linecolor\": \"white\", \"ticks\": \"\"}, \"bgcolor\": \"#E5ECF6\", \"radialaxis\": {\"gridcolor\": \"white\", \"linecolor\": \"white\", \"ticks\": \"\"}}, \"scene\": {\"xaxis\": {\"backgroundcolor\": \"#E5ECF6\", \"gridcolor\": \"white\", \"gridwidth\": 2, \"linecolor\": \"white\", \"showbackground\": true, \"ticks\": \"\", \"zerolinecolor\": \"white\"}, \"yaxis\": {\"backgroundcolor\": \"#E5ECF6\", \"gridcolor\": \"white\", \"gridwidth\": 2, \"linecolor\": \"white\", \"showbackground\": true, \"ticks\": \"\", \"zerolinecolor\": \"white\"}, \"zaxis\": {\"backgroundcolor\": \"#E5ECF6\", \"gridcolor\": \"white\", \"gridwidth\": 2, \"linecolor\": \"white\", \"showbackground\": true, \"ticks\": \"\", \"zerolinecolor\": \"white\"}}, \"shapedefaults\": {\"line\": {\"color\": \"#2a3f5f\"}}, \"ternary\": {\"aaxis\": {\"gridcolor\": \"white\", \"linecolor\": \"white\", \"ticks\": \"\"}, \"baxis\": {\"gridcolor\": \"white\", \"linecolor\": \"white\", \"ticks\": \"\"}, \"bgcolor\": \"#E5ECF6\", \"caxis\": {\"gridcolor\": \"white\", \"linecolor\": \"white\", \"ticks\": \"\"}}, \"title\": {\"x\": 0.05}, \"xaxis\": {\"automargin\": true, \"gridcolor\": \"white\", \"linecolor\": \"white\", \"ticks\": \"\", \"title\": {\"standoff\": 15}, \"zerolinecolor\": \"white\", \"zerolinewidth\": 2}, \"yaxis\": {\"automargin\": true, \"gridcolor\": \"white\", \"linecolor\": \"white\", \"ticks\": \"\", \"title\": {\"standoff\": 15}, \"zerolinecolor\": \"white\", \"zerolinewidth\": 2}}}, \"title\": {\"font\": {\"color\": \"#4D5663\"}}, \"xaxis\": {\"gridcolor\": \"#E1E5ED\", \"showgrid\": true, \"tickfont\": {\"color\": \"#4D5663\"}, \"title\": {\"font\": {\"color\": \"#4D5663\"}, \"text\": \"\"}, \"zerolinecolor\": \"#E1E5ED\"}, \"yaxis\": {\"gridcolor\": \"#E1E5ED\", \"showgrid\": true, \"tickfont\": {\"color\": \"#4D5663\"}, \"title\": {\"font\": {\"color\": \"#4D5663\"}, \"text\": \"\"}, \"zerolinecolor\": \"#E1E5ED\"}},\n",
       "                        {\"showLink\": true, \"linkText\": \"Export to plot.ly\", \"plotlyServerURL\": \"https://plot.ly\", \"responsive\": true}\n",
       "                    ).then(function(){\n",
       "                            \n",
       "var gd = document.getElementById('e23e0017-abe7-45ea-8b48-80f35d8ff2ae');\n",
       "var x = new MutationObserver(function (mutations, observer) {{\n",
       "        var display = window.getComputedStyle(gd).display;\n",
       "        if (!display || display === 'none') {{\n",
       "            console.log([gd, 'removed!']);\n",
       "            Plotly.purge(gd);\n",
       "            observer.disconnect();\n",
       "        }}\n",
       "}});\n",
       "\n",
       "// Listen for the removal of the full notebook cells\n",
       "var notebookContainer = gd.closest('#notebook-container');\n",
       "if (notebookContainer) {{\n",
       "    x.observe(notebookContainer, {childList: true});\n",
       "}}\n",
       "\n",
       "// Listen for the clearing of the current output cell\n",
       "var outputEl = gd.closest('.output');\n",
       "if (outputEl) {{\n",
       "    x.observe(outputEl, {childList: true});\n",
       "}}\n",
       "\n",
       "                        })\n",
       "                };\n",
       "                });\n",
       "            </script>\n",
       "        </div>"
      ]
     },
     "metadata": {},
     "output_type": "display_data"
    }
   ],
   "source": [
    "df.iplot(kind='box')"
   ]
  },
  {
   "cell_type": "markdown",
   "metadata": {},
   "source": [
    "## Superfícies 3D"
   ]
  },
  {
   "cell_type": "code",
   "execution_count": 16,
   "metadata": {
    "scrolled": true
   },
   "outputs": [
    {
     "data": {
      "application/vnd.plotly.v1+json": {
       "config": {
        "linkText": "Export to plot.ly",
        "plotlyServerURL": "https://plot.ly",
        "showLink": true
       },
       "data": [
        {
         "colorscale": [
          [
           0,
           "rgb(165,0,38)"
          ],
          [
           0.1,
           "rgb(215,48,39)"
          ],
          [
           0.2,
           "rgb(244,109,67)"
          ],
          [
           0.3,
           "rgb(253,174,97)"
          ],
          [
           0.4,
           "rgb(254,224,144)"
          ],
          [
           0.5,
           "rgb(255,255,191)"
          ],
          [
           0.6,
           "rgb(224,243,248)"
          ],
          [
           0.7,
           "rgb(171,217,233)"
          ],
          [
           0.8,
           "rgb(116,173,209)"
          ],
          [
           0.9,
           "rgb(69,117,180)"
          ],
          [
           1,
           "rgb(49,54,149)"
          ]
         ],
         "type": "surface",
         "x": [
          0,
          1,
          2,
          3,
          4
         ],
         "y": [
          "x",
          "y",
          "z"
         ],
         "z": [
          [
           1,
           2,
           3,
           4,
           5
          ],
          [
           10,
           20,
           30,
           20,
           10
          ],
          [
           5,
           4,
           3,
           2,
           1
          ]
         ]
        }
       ],
       "layout": {
        "legend": {
         "bgcolor": "#F5F6F9",
         "font": {
          "color": "#4D5663"
         }
        },
        "paper_bgcolor": "#F5F6F9",
        "plot_bgcolor": "#F5F6F9",
        "template": {
         "data": {
          "bar": [
           {
            "error_x": {
             "color": "#2a3f5f"
            },
            "error_y": {
             "color": "#2a3f5f"
            },
            "marker": {
             "line": {
              "color": "#E5ECF6",
              "width": 0.5
             }
            },
            "type": "bar"
           }
          ],
          "barpolar": [
           {
            "marker": {
             "line": {
              "color": "#E5ECF6",
              "width": 0.5
             }
            },
            "type": "barpolar"
           }
          ],
          "carpet": [
           {
            "aaxis": {
             "endlinecolor": "#2a3f5f",
             "gridcolor": "white",
             "linecolor": "white",
             "minorgridcolor": "white",
             "startlinecolor": "#2a3f5f"
            },
            "baxis": {
             "endlinecolor": "#2a3f5f",
             "gridcolor": "white",
             "linecolor": "white",
             "minorgridcolor": "white",
             "startlinecolor": "#2a3f5f"
            },
            "type": "carpet"
           }
          ],
          "choropleth": [
           {
            "colorbar": {
             "outlinewidth": 0,
             "ticks": ""
            },
            "type": "choropleth"
           }
          ],
          "contour": [
           {
            "colorbar": {
             "outlinewidth": 0,
             "ticks": ""
            },
            "colorscale": [
             [
              0,
              "#0d0887"
             ],
             [
              0.1111111111111111,
              "#46039f"
             ],
             [
              0.2222222222222222,
              "#7201a8"
             ],
             [
              0.3333333333333333,
              "#9c179e"
             ],
             [
              0.4444444444444444,
              "#bd3786"
             ],
             [
              0.5555555555555556,
              "#d8576b"
             ],
             [
              0.6666666666666666,
              "#ed7953"
             ],
             [
              0.7777777777777778,
              "#fb9f3a"
             ],
             [
              0.8888888888888888,
              "#fdca26"
             ],
             [
              1,
              "#f0f921"
             ]
            ],
            "type": "contour"
           }
          ],
          "contourcarpet": [
           {
            "colorbar": {
             "outlinewidth": 0,
             "ticks": ""
            },
            "type": "contourcarpet"
           }
          ],
          "heatmap": [
           {
            "colorbar": {
             "outlinewidth": 0,
             "ticks": ""
            },
            "colorscale": [
             [
              0,
              "#0d0887"
             ],
             [
              0.1111111111111111,
              "#46039f"
             ],
             [
              0.2222222222222222,
              "#7201a8"
             ],
             [
              0.3333333333333333,
              "#9c179e"
             ],
             [
              0.4444444444444444,
              "#bd3786"
             ],
             [
              0.5555555555555556,
              "#d8576b"
             ],
             [
              0.6666666666666666,
              "#ed7953"
             ],
             [
              0.7777777777777778,
              "#fb9f3a"
             ],
             [
              0.8888888888888888,
              "#fdca26"
             ],
             [
              1,
              "#f0f921"
             ]
            ],
            "type": "heatmap"
           }
          ],
          "heatmapgl": [
           {
            "colorbar": {
             "outlinewidth": 0,
             "ticks": ""
            },
            "colorscale": [
             [
              0,
              "#0d0887"
             ],
             [
              0.1111111111111111,
              "#46039f"
             ],
             [
              0.2222222222222222,
              "#7201a8"
             ],
             [
              0.3333333333333333,
              "#9c179e"
             ],
             [
              0.4444444444444444,
              "#bd3786"
             ],
             [
              0.5555555555555556,
              "#d8576b"
             ],
             [
              0.6666666666666666,
              "#ed7953"
             ],
             [
              0.7777777777777778,
              "#fb9f3a"
             ],
             [
              0.8888888888888888,
              "#fdca26"
             ],
             [
              1,
              "#f0f921"
             ]
            ],
            "type": "heatmapgl"
           }
          ],
          "histogram": [
           {
            "marker": {
             "colorbar": {
              "outlinewidth": 0,
              "ticks": ""
             }
            },
            "type": "histogram"
           }
          ],
          "histogram2d": [
           {
            "colorbar": {
             "outlinewidth": 0,
             "ticks": ""
            },
            "colorscale": [
             [
              0,
              "#0d0887"
             ],
             [
              0.1111111111111111,
              "#46039f"
             ],
             [
              0.2222222222222222,
              "#7201a8"
             ],
             [
              0.3333333333333333,
              "#9c179e"
             ],
             [
              0.4444444444444444,
              "#bd3786"
             ],
             [
              0.5555555555555556,
              "#d8576b"
             ],
             [
              0.6666666666666666,
              "#ed7953"
             ],
             [
              0.7777777777777778,
              "#fb9f3a"
             ],
             [
              0.8888888888888888,
              "#fdca26"
             ],
             [
              1,
              "#f0f921"
             ]
            ],
            "type": "histogram2d"
           }
          ],
          "histogram2dcontour": [
           {
            "colorbar": {
             "outlinewidth": 0,
             "ticks": ""
            },
            "colorscale": [
             [
              0,
              "#0d0887"
             ],
             [
              0.1111111111111111,
              "#46039f"
             ],
             [
              0.2222222222222222,
              "#7201a8"
             ],
             [
              0.3333333333333333,
              "#9c179e"
             ],
             [
              0.4444444444444444,
              "#bd3786"
             ],
             [
              0.5555555555555556,
              "#d8576b"
             ],
             [
              0.6666666666666666,
              "#ed7953"
             ],
             [
              0.7777777777777778,
              "#fb9f3a"
             ],
             [
              0.8888888888888888,
              "#fdca26"
             ],
             [
              1,
              "#f0f921"
             ]
            ],
            "type": "histogram2dcontour"
           }
          ],
          "mesh3d": [
           {
            "colorbar": {
             "outlinewidth": 0,
             "ticks": ""
            },
            "type": "mesh3d"
           }
          ],
          "parcoords": [
           {
            "line": {
             "colorbar": {
              "outlinewidth": 0,
              "ticks": ""
             }
            },
            "type": "parcoords"
           }
          ],
          "pie": [
           {
            "automargin": true,
            "type": "pie"
           }
          ],
          "scatter": [
           {
            "marker": {
             "colorbar": {
              "outlinewidth": 0,
              "ticks": ""
             }
            },
            "type": "scatter"
           }
          ],
          "scatter3d": [
           {
            "line": {
             "colorbar": {
              "outlinewidth": 0,
              "ticks": ""
             }
            },
            "marker": {
             "colorbar": {
              "outlinewidth": 0,
              "ticks": ""
             }
            },
            "type": "scatter3d"
           }
          ],
          "scattercarpet": [
           {
            "marker": {
             "colorbar": {
              "outlinewidth": 0,
              "ticks": ""
             }
            },
            "type": "scattercarpet"
           }
          ],
          "scattergeo": [
           {
            "marker": {
             "colorbar": {
              "outlinewidth": 0,
              "ticks": ""
             }
            },
            "type": "scattergeo"
           }
          ],
          "scattergl": [
           {
            "marker": {
             "colorbar": {
              "outlinewidth": 0,
              "ticks": ""
             }
            },
            "type": "scattergl"
           }
          ],
          "scattermapbox": [
           {
            "marker": {
             "colorbar": {
              "outlinewidth": 0,
              "ticks": ""
             }
            },
            "type": "scattermapbox"
           }
          ],
          "scatterpolar": [
           {
            "marker": {
             "colorbar": {
              "outlinewidth": 0,
              "ticks": ""
             }
            },
            "type": "scatterpolar"
           }
          ],
          "scatterpolargl": [
           {
            "marker": {
             "colorbar": {
              "outlinewidth": 0,
              "ticks": ""
             }
            },
            "type": "scatterpolargl"
           }
          ],
          "scatterternary": [
           {
            "marker": {
             "colorbar": {
              "outlinewidth": 0,
              "ticks": ""
             }
            },
            "type": "scatterternary"
           }
          ],
          "surface": [
           {
            "colorbar": {
             "outlinewidth": 0,
             "ticks": ""
            },
            "colorscale": [
             [
              0,
              "#0d0887"
             ],
             [
              0.1111111111111111,
              "#46039f"
             ],
             [
              0.2222222222222222,
              "#7201a8"
             ],
             [
              0.3333333333333333,
              "#9c179e"
             ],
             [
              0.4444444444444444,
              "#bd3786"
             ],
             [
              0.5555555555555556,
              "#d8576b"
             ],
             [
              0.6666666666666666,
              "#ed7953"
             ],
             [
              0.7777777777777778,
              "#fb9f3a"
             ],
             [
              0.8888888888888888,
              "#fdca26"
             ],
             [
              1,
              "#f0f921"
             ]
            ],
            "type": "surface"
           }
          ],
          "table": [
           {
            "cells": {
             "fill": {
              "color": "#EBF0F8"
             },
             "line": {
              "color": "white"
             }
            },
            "header": {
             "fill": {
              "color": "#C8D4E3"
             },
             "line": {
              "color": "white"
             }
            },
            "type": "table"
           }
          ]
         },
         "layout": {
          "annotationdefaults": {
           "arrowcolor": "#2a3f5f",
           "arrowhead": 0,
           "arrowwidth": 1
          },
          "coloraxis": {
           "colorbar": {
            "outlinewidth": 0,
            "ticks": ""
           }
          },
          "colorscale": {
           "diverging": [
            [
             0,
             "#8e0152"
            ],
            [
             0.1,
             "#c51b7d"
            ],
            [
             0.2,
             "#de77ae"
            ],
            [
             0.3,
             "#f1b6da"
            ],
            [
             0.4,
             "#fde0ef"
            ],
            [
             0.5,
             "#f7f7f7"
            ],
            [
             0.6,
             "#e6f5d0"
            ],
            [
             0.7,
             "#b8e186"
            ],
            [
             0.8,
             "#7fbc41"
            ],
            [
             0.9,
             "#4d9221"
            ],
            [
             1,
             "#276419"
            ]
           ],
           "sequential": [
            [
             0,
             "#0d0887"
            ],
            [
             0.1111111111111111,
             "#46039f"
            ],
            [
             0.2222222222222222,
             "#7201a8"
            ],
            [
             0.3333333333333333,
             "#9c179e"
            ],
            [
             0.4444444444444444,
             "#bd3786"
            ],
            [
             0.5555555555555556,
             "#d8576b"
            ],
            [
             0.6666666666666666,
             "#ed7953"
            ],
            [
             0.7777777777777778,
             "#fb9f3a"
            ],
            [
             0.8888888888888888,
             "#fdca26"
            ],
            [
             1,
             "#f0f921"
            ]
           ],
           "sequentialminus": [
            [
             0,
             "#0d0887"
            ],
            [
             0.1111111111111111,
             "#46039f"
            ],
            [
             0.2222222222222222,
             "#7201a8"
            ],
            [
             0.3333333333333333,
             "#9c179e"
            ],
            [
             0.4444444444444444,
             "#bd3786"
            ],
            [
             0.5555555555555556,
             "#d8576b"
            ],
            [
             0.6666666666666666,
             "#ed7953"
            ],
            [
             0.7777777777777778,
             "#fb9f3a"
            ],
            [
             0.8888888888888888,
             "#fdca26"
            ],
            [
             1,
             "#f0f921"
            ]
           ]
          },
          "colorway": [
           "#636efa",
           "#EF553B",
           "#00cc96",
           "#ab63fa",
           "#FFA15A",
           "#19d3f3",
           "#FF6692",
           "#B6E880",
           "#FF97FF",
           "#FECB52"
          ],
          "font": {
           "color": "#2a3f5f"
          },
          "geo": {
           "bgcolor": "white",
           "lakecolor": "white",
           "landcolor": "#E5ECF6",
           "showlakes": true,
           "showland": true,
           "subunitcolor": "white"
          },
          "hoverlabel": {
           "align": "left"
          },
          "hovermode": "closest",
          "mapbox": {
           "style": "light"
          },
          "paper_bgcolor": "white",
          "plot_bgcolor": "#E5ECF6",
          "polar": {
           "angularaxis": {
            "gridcolor": "white",
            "linecolor": "white",
            "ticks": ""
           },
           "bgcolor": "#E5ECF6",
           "radialaxis": {
            "gridcolor": "white",
            "linecolor": "white",
            "ticks": ""
           }
          },
          "scene": {
           "xaxis": {
            "backgroundcolor": "#E5ECF6",
            "gridcolor": "white",
            "gridwidth": 2,
            "linecolor": "white",
            "showbackground": true,
            "ticks": "",
            "zerolinecolor": "white"
           },
           "yaxis": {
            "backgroundcolor": "#E5ECF6",
            "gridcolor": "white",
            "gridwidth": 2,
            "linecolor": "white",
            "showbackground": true,
            "ticks": "",
            "zerolinecolor": "white"
           },
           "zaxis": {
            "backgroundcolor": "#E5ECF6",
            "gridcolor": "white",
            "gridwidth": 2,
            "linecolor": "white",
            "showbackground": true,
            "ticks": "",
            "zerolinecolor": "white"
           }
          },
          "shapedefaults": {
           "line": {
            "color": "#2a3f5f"
           }
          },
          "ternary": {
           "aaxis": {
            "gridcolor": "white",
            "linecolor": "white",
            "ticks": ""
           },
           "baxis": {
            "gridcolor": "white",
            "linecolor": "white",
            "ticks": ""
           },
           "bgcolor": "#E5ECF6",
           "caxis": {
            "gridcolor": "white",
            "linecolor": "white",
            "ticks": ""
           }
          },
          "title": {
           "x": 0.05
          },
          "xaxis": {
           "automargin": true,
           "gridcolor": "white",
           "linecolor": "white",
           "ticks": "",
           "title": {
            "standoff": 15
           },
           "zerolinecolor": "white",
           "zerolinewidth": 2
          },
          "yaxis": {
           "automargin": true,
           "gridcolor": "white",
           "linecolor": "white",
           "ticks": "",
           "title": {
            "standoff": 15
           },
           "zerolinecolor": "white",
           "zerolinewidth": 2
          }
         }
        },
        "title": {
         "font": {
          "color": "#4D5663"
         }
        },
        "xaxis": {
         "gridcolor": "#E1E5ED",
         "showgrid": true,
         "tickfont": {
          "color": "#4D5663"
         },
         "title": {
          "font": {
           "color": "#4D5663"
          },
          "text": ""
         },
         "zerolinecolor": "#E1E5ED"
        },
        "yaxis": {
         "gridcolor": "#E1E5ED",
         "showgrid": true,
         "tickfont": {
          "color": "#4D5663"
         },
         "title": {
          "font": {
           "color": "#4D5663"
          },
          "text": ""
         },
         "zerolinecolor": "#E1E5ED"
        }
       }
      },
      "text/html": [
       "<div>\n",
       "        \n",
       "        \n",
       "            <div id=\"a6ff407f-1ab1-4e4e-83ce-4e2e429454ea\" class=\"plotly-graph-div\" style=\"height:525px; width:100%;\"></div>\n",
       "            <script type=\"text/javascript\">\n",
       "                require([\"plotly\"], function(Plotly) {\n",
       "                    window.PLOTLYENV=window.PLOTLYENV || {};\n",
       "                    window.PLOTLYENV.BASE_URL='https://plot.ly';\n",
       "                    \n",
       "                if (document.getElementById(\"a6ff407f-1ab1-4e4e-83ce-4e2e429454ea\")) {\n",
       "                    Plotly.newPlot(\n",
       "                        'a6ff407f-1ab1-4e4e-83ce-4e2e429454ea',\n",
       "                        [{\"colorscale\": [[0.0, \"rgb(165,0,38)\"], [0.1, \"rgb(215,48,39)\"], [0.2, \"rgb(244,109,67)\"], [0.3, \"rgb(253,174,97)\"], [0.4, \"rgb(254,224,144)\"], [0.5, \"rgb(255,255,191)\"], [0.6, \"rgb(224,243,248)\"], [0.7, \"rgb(171,217,233)\"], [0.8, \"rgb(116,173,209)\"], [0.9, \"rgb(69,117,180)\"], [1.0, \"rgb(49,54,149)\"]], \"type\": \"surface\", \"x\": [0, 1, 2, 3, 4], \"y\": [\"x\", \"y\", \"z\"], \"z\": [[1, 2, 3, 4, 5], [10, 20, 30, 20, 10], [5, 4, 3, 2, 1]]}],\n",
       "                        {\"legend\": {\"bgcolor\": \"#F5F6F9\", \"font\": {\"color\": \"#4D5663\"}}, \"paper_bgcolor\": \"#F5F6F9\", \"plot_bgcolor\": \"#F5F6F9\", \"template\": {\"data\": {\"bar\": [{\"error_x\": {\"color\": \"#2a3f5f\"}, \"error_y\": {\"color\": \"#2a3f5f\"}, \"marker\": {\"line\": {\"color\": \"#E5ECF6\", \"width\": 0.5}}, \"type\": \"bar\"}], \"barpolar\": [{\"marker\": {\"line\": {\"color\": \"#E5ECF6\", \"width\": 0.5}}, \"type\": \"barpolar\"}], \"carpet\": [{\"aaxis\": {\"endlinecolor\": \"#2a3f5f\", \"gridcolor\": \"white\", \"linecolor\": \"white\", \"minorgridcolor\": \"white\", \"startlinecolor\": \"#2a3f5f\"}, \"baxis\": {\"endlinecolor\": \"#2a3f5f\", \"gridcolor\": \"white\", \"linecolor\": \"white\", \"minorgridcolor\": \"white\", \"startlinecolor\": \"#2a3f5f\"}, \"type\": \"carpet\"}], \"choropleth\": [{\"colorbar\": {\"outlinewidth\": 0, \"ticks\": \"\"}, \"type\": \"choropleth\"}], \"contour\": [{\"colorbar\": {\"outlinewidth\": 0, \"ticks\": \"\"}, \"colorscale\": [[0.0, \"#0d0887\"], [0.1111111111111111, \"#46039f\"], [0.2222222222222222, \"#7201a8\"], [0.3333333333333333, \"#9c179e\"], [0.4444444444444444, \"#bd3786\"], [0.5555555555555556, \"#d8576b\"], [0.6666666666666666, \"#ed7953\"], [0.7777777777777778, \"#fb9f3a\"], [0.8888888888888888, \"#fdca26\"], [1.0, \"#f0f921\"]], \"type\": \"contour\"}], \"contourcarpet\": [{\"colorbar\": {\"outlinewidth\": 0, \"ticks\": \"\"}, \"type\": \"contourcarpet\"}], \"heatmap\": [{\"colorbar\": {\"outlinewidth\": 0, \"ticks\": \"\"}, \"colorscale\": [[0.0, \"#0d0887\"], [0.1111111111111111, \"#46039f\"], [0.2222222222222222, \"#7201a8\"], [0.3333333333333333, \"#9c179e\"], [0.4444444444444444, \"#bd3786\"], [0.5555555555555556, \"#d8576b\"], [0.6666666666666666, \"#ed7953\"], [0.7777777777777778, \"#fb9f3a\"], [0.8888888888888888, \"#fdca26\"], [1.0, \"#f0f921\"]], \"type\": \"heatmap\"}], \"heatmapgl\": [{\"colorbar\": {\"outlinewidth\": 0, \"ticks\": \"\"}, \"colorscale\": [[0.0, \"#0d0887\"], [0.1111111111111111, \"#46039f\"], [0.2222222222222222, \"#7201a8\"], [0.3333333333333333, \"#9c179e\"], [0.4444444444444444, \"#bd3786\"], [0.5555555555555556, \"#d8576b\"], [0.6666666666666666, \"#ed7953\"], [0.7777777777777778, \"#fb9f3a\"], [0.8888888888888888, \"#fdca26\"], [1.0, \"#f0f921\"]], \"type\": \"heatmapgl\"}], \"histogram\": [{\"marker\": {\"colorbar\": {\"outlinewidth\": 0, \"ticks\": \"\"}}, \"type\": \"histogram\"}], \"histogram2d\": [{\"colorbar\": {\"outlinewidth\": 0, \"ticks\": \"\"}, \"colorscale\": [[0.0, \"#0d0887\"], [0.1111111111111111, \"#46039f\"], [0.2222222222222222, \"#7201a8\"], [0.3333333333333333, \"#9c179e\"], [0.4444444444444444, \"#bd3786\"], [0.5555555555555556, \"#d8576b\"], [0.6666666666666666, \"#ed7953\"], [0.7777777777777778, \"#fb9f3a\"], [0.8888888888888888, \"#fdca26\"], [1.0, \"#f0f921\"]], \"type\": \"histogram2d\"}], \"histogram2dcontour\": [{\"colorbar\": {\"outlinewidth\": 0, \"ticks\": \"\"}, \"colorscale\": [[0.0, \"#0d0887\"], [0.1111111111111111, \"#46039f\"], [0.2222222222222222, \"#7201a8\"], [0.3333333333333333, \"#9c179e\"], [0.4444444444444444, \"#bd3786\"], [0.5555555555555556, \"#d8576b\"], [0.6666666666666666, \"#ed7953\"], [0.7777777777777778, \"#fb9f3a\"], [0.8888888888888888, \"#fdca26\"], [1.0, \"#f0f921\"]], \"type\": \"histogram2dcontour\"}], \"mesh3d\": [{\"colorbar\": {\"outlinewidth\": 0, \"ticks\": \"\"}, \"type\": \"mesh3d\"}], \"parcoords\": [{\"line\": {\"colorbar\": {\"outlinewidth\": 0, \"ticks\": \"\"}}, \"type\": \"parcoords\"}], \"pie\": [{\"automargin\": true, \"type\": \"pie\"}], \"scatter\": [{\"marker\": {\"colorbar\": {\"outlinewidth\": 0, \"ticks\": \"\"}}, \"type\": \"scatter\"}], \"scatter3d\": [{\"line\": {\"colorbar\": {\"outlinewidth\": 0, \"ticks\": \"\"}}, \"marker\": {\"colorbar\": {\"outlinewidth\": 0, \"ticks\": \"\"}}, \"type\": \"scatter3d\"}], \"scattercarpet\": [{\"marker\": {\"colorbar\": {\"outlinewidth\": 0, \"ticks\": \"\"}}, \"type\": \"scattercarpet\"}], \"scattergeo\": [{\"marker\": {\"colorbar\": {\"outlinewidth\": 0, \"ticks\": \"\"}}, \"type\": \"scattergeo\"}], \"scattergl\": [{\"marker\": {\"colorbar\": {\"outlinewidth\": 0, \"ticks\": \"\"}}, \"type\": \"scattergl\"}], \"scattermapbox\": [{\"marker\": {\"colorbar\": {\"outlinewidth\": 0, \"ticks\": \"\"}}, \"type\": \"scattermapbox\"}], \"scatterpolar\": [{\"marker\": {\"colorbar\": {\"outlinewidth\": 0, \"ticks\": \"\"}}, \"type\": \"scatterpolar\"}], \"scatterpolargl\": [{\"marker\": {\"colorbar\": {\"outlinewidth\": 0, \"ticks\": \"\"}}, \"type\": \"scatterpolargl\"}], \"scatterternary\": [{\"marker\": {\"colorbar\": {\"outlinewidth\": 0, \"ticks\": \"\"}}, \"type\": \"scatterternary\"}], \"surface\": [{\"colorbar\": {\"outlinewidth\": 0, \"ticks\": \"\"}, \"colorscale\": [[0.0, \"#0d0887\"], [0.1111111111111111, \"#46039f\"], [0.2222222222222222, \"#7201a8\"], [0.3333333333333333, \"#9c179e\"], [0.4444444444444444, \"#bd3786\"], [0.5555555555555556, \"#d8576b\"], [0.6666666666666666, \"#ed7953\"], [0.7777777777777778, \"#fb9f3a\"], [0.8888888888888888, \"#fdca26\"], [1.0, \"#f0f921\"]], \"type\": \"surface\"}], \"table\": [{\"cells\": {\"fill\": {\"color\": \"#EBF0F8\"}, \"line\": {\"color\": \"white\"}}, \"header\": {\"fill\": {\"color\": \"#C8D4E3\"}, \"line\": {\"color\": \"white\"}}, \"type\": \"table\"}]}, \"layout\": {\"annotationdefaults\": {\"arrowcolor\": \"#2a3f5f\", \"arrowhead\": 0, \"arrowwidth\": 1}, \"coloraxis\": {\"colorbar\": {\"outlinewidth\": 0, \"ticks\": \"\"}}, \"colorscale\": {\"diverging\": [[0, \"#8e0152\"], [0.1, \"#c51b7d\"], [0.2, \"#de77ae\"], [0.3, \"#f1b6da\"], [0.4, \"#fde0ef\"], [0.5, \"#f7f7f7\"], [0.6, \"#e6f5d0\"], [0.7, \"#b8e186\"], [0.8, \"#7fbc41\"], [0.9, \"#4d9221\"], [1, \"#276419\"]], \"sequential\": [[0.0, \"#0d0887\"], [0.1111111111111111, \"#46039f\"], [0.2222222222222222, \"#7201a8\"], [0.3333333333333333, \"#9c179e\"], [0.4444444444444444, \"#bd3786\"], [0.5555555555555556, \"#d8576b\"], [0.6666666666666666, \"#ed7953\"], [0.7777777777777778, \"#fb9f3a\"], [0.8888888888888888, \"#fdca26\"], [1.0, \"#f0f921\"]], \"sequentialminus\": [[0.0, \"#0d0887\"], [0.1111111111111111, \"#46039f\"], [0.2222222222222222, \"#7201a8\"], [0.3333333333333333, \"#9c179e\"], [0.4444444444444444, \"#bd3786\"], [0.5555555555555556, \"#d8576b\"], [0.6666666666666666, \"#ed7953\"], [0.7777777777777778, \"#fb9f3a\"], [0.8888888888888888, \"#fdca26\"], [1.0, \"#f0f921\"]]}, \"colorway\": [\"#636efa\", \"#EF553B\", \"#00cc96\", \"#ab63fa\", \"#FFA15A\", \"#19d3f3\", \"#FF6692\", \"#B6E880\", \"#FF97FF\", \"#FECB52\"], \"font\": {\"color\": \"#2a3f5f\"}, \"geo\": {\"bgcolor\": \"white\", \"lakecolor\": \"white\", \"landcolor\": \"#E5ECF6\", \"showlakes\": true, \"showland\": true, \"subunitcolor\": \"white\"}, \"hoverlabel\": {\"align\": \"left\"}, \"hovermode\": \"closest\", \"mapbox\": {\"style\": \"light\"}, \"paper_bgcolor\": \"white\", \"plot_bgcolor\": \"#E5ECF6\", \"polar\": {\"angularaxis\": {\"gridcolor\": \"white\", \"linecolor\": \"white\", \"ticks\": \"\"}, \"bgcolor\": \"#E5ECF6\", \"radialaxis\": {\"gridcolor\": \"white\", \"linecolor\": \"white\", \"ticks\": \"\"}}, \"scene\": {\"xaxis\": {\"backgroundcolor\": \"#E5ECF6\", \"gridcolor\": \"white\", \"gridwidth\": 2, \"linecolor\": \"white\", \"showbackground\": true, \"ticks\": \"\", \"zerolinecolor\": \"white\"}, \"yaxis\": {\"backgroundcolor\": \"#E5ECF6\", \"gridcolor\": \"white\", \"gridwidth\": 2, \"linecolor\": \"white\", \"showbackground\": true, \"ticks\": \"\", \"zerolinecolor\": \"white\"}, \"zaxis\": {\"backgroundcolor\": \"#E5ECF6\", \"gridcolor\": \"white\", \"gridwidth\": 2, \"linecolor\": \"white\", \"showbackground\": true, \"ticks\": \"\", \"zerolinecolor\": \"white\"}}, \"shapedefaults\": {\"line\": {\"color\": \"#2a3f5f\"}}, \"ternary\": {\"aaxis\": {\"gridcolor\": \"white\", \"linecolor\": \"white\", \"ticks\": \"\"}, \"baxis\": {\"gridcolor\": \"white\", \"linecolor\": \"white\", \"ticks\": \"\"}, \"bgcolor\": \"#E5ECF6\", \"caxis\": {\"gridcolor\": \"white\", \"linecolor\": \"white\", \"ticks\": \"\"}}, \"title\": {\"x\": 0.05}, \"xaxis\": {\"automargin\": true, \"gridcolor\": \"white\", \"linecolor\": \"white\", \"ticks\": \"\", \"title\": {\"standoff\": 15}, \"zerolinecolor\": \"white\", \"zerolinewidth\": 2}, \"yaxis\": {\"automargin\": true, \"gridcolor\": \"white\", \"linecolor\": \"white\", \"ticks\": \"\", \"title\": {\"standoff\": 15}, \"zerolinecolor\": \"white\", \"zerolinewidth\": 2}}}, \"title\": {\"font\": {\"color\": \"#4D5663\"}}, \"xaxis\": {\"gridcolor\": \"#E1E5ED\", \"showgrid\": true, \"tickfont\": {\"color\": \"#4D5663\"}, \"title\": {\"font\": {\"color\": \"#4D5663\"}, \"text\": \"\"}, \"zerolinecolor\": \"#E1E5ED\"}, \"yaxis\": {\"gridcolor\": \"#E1E5ED\", \"showgrid\": true, \"tickfont\": {\"color\": \"#4D5663\"}, \"title\": {\"font\": {\"color\": \"#4D5663\"}, \"text\": \"\"}, \"zerolinecolor\": \"#E1E5ED\"}},\n",
       "                        {\"showLink\": true, \"linkText\": \"Export to plot.ly\", \"plotlyServerURL\": \"https://plot.ly\", \"responsive\": true}\n",
       "                    ).then(function(){\n",
       "                            \n",
       "var gd = document.getElementById('a6ff407f-1ab1-4e4e-83ce-4e2e429454ea');\n",
       "var x = new MutationObserver(function (mutations, observer) {{\n",
       "        var display = window.getComputedStyle(gd).display;\n",
       "        if (!display || display === 'none') {{\n",
       "            console.log([gd, 'removed!']);\n",
       "            Plotly.purge(gd);\n",
       "            observer.disconnect();\n",
       "        }}\n",
       "}});\n",
       "\n",
       "// Listen for the removal of the full notebook cells\n",
       "var notebookContainer = gd.closest('#notebook-container');\n",
       "if (notebookContainer) {{\n",
       "    x.observe(notebookContainer, {childList: true});\n",
       "}}\n",
       "\n",
       "// Listen for the clearing of the current output cell\n",
       "var outputEl = gd.closest('.output');\n",
       "if (outputEl) {{\n",
       "    x.observe(outputEl, {childList: true});\n",
       "}}\n",
       "\n",
       "                        })\n",
       "                };\n",
       "                });\n",
       "            </script>\n",
       "        </div>"
      ]
     },
     "metadata": {},
     "output_type": "display_data"
    }
   ],
   "source": [
    "df3 = pd.DataFrame({'x':[1,2,3,4,5],'y':[10,20,30,20,10],'z':[5,4,3,2,1]})\n",
    "df3.iplot(kind='surface',colorscale='rdylbu')"
   ]
  },
  {
   "cell_type": "markdown",
   "metadata": {},
   "source": [
    "## Spread"
   ]
  },
  {
   "cell_type": "code",
   "execution_count": 15,
   "metadata": {},
   "outputs": [
    {
     "name": "stderr",
     "output_type": "stream",
     "text": [
      "c:\\users\\vitor\\miniconda3\\lib\\site-packages\\cufflinks\\plotlytools.py:849: FutureWarning:\n",
      "\n",
      "The pandas.np module is deprecated and will be removed from pandas in a future version. Import numpy directly instead\n",
      "\n",
      "c:\\users\\vitor\\miniconda3\\lib\\site-packages\\cufflinks\\plotlytools.py:850: FutureWarning:\n",
      "\n",
      "The pandas.np module is deprecated and will be removed from pandas in a future version. Import numpy directly instead\n",
      "\n"
     ]
    },
    {
     "data": {
      "application/vnd.plotly.v1+json": {
       "config": {
        "linkText": "Export to plot.ly",
        "plotlyServerURL": "https://plot.ly",
        "showLink": true
       },
       "data": [
        {
         "line": {
          "color": "rgba(255, 153, 51, 1.0)",
          "dash": "solid",
          "shape": "linear",
          "width": 1.3
         },
         "mode": "lines",
         "name": "A",
         "text": "",
         "type": "scatter",
         "x": [
          0,
          1,
          2,
          3,
          4,
          5,
          6,
          7,
          8,
          9,
          10,
          11,
          12,
          13,
          14,
          15,
          16,
          17,
          18,
          19,
          20,
          21,
          22,
          23,
          24,
          25,
          26,
          27,
          28,
          29,
          30,
          31,
          32,
          33,
          34,
          35,
          36,
          37,
          38,
          39,
          40,
          41,
          42,
          43,
          44,
          45,
          46,
          47,
          48,
          49,
          50,
          51,
          52,
          53,
          54,
          55,
          56,
          57,
          58,
          59,
          60,
          61,
          62,
          63,
          64,
          65,
          66,
          67,
          68,
          69,
          70,
          71,
          72,
          73,
          74,
          75,
          76,
          77,
          78,
          79,
          80,
          81,
          82,
          83,
          84,
          85,
          86,
          87,
          88,
          89,
          90,
          91,
          92,
          93,
          94,
          95,
          96,
          97,
          98,
          99
         ],
         "y": [
          0.45376365134072455,
          0.1533277234434953,
          0.5584066630730266,
          0.6388125002339647,
          -0.7682082709200291,
          0.5872366051112483,
          -1.3622641558947228,
          0.9197266262491686,
          -0.5667359249270596,
          0.4428979494699839,
          -0.9832214064613543,
          -0.2086539026383452,
          0.5831019922477547,
          1.954808667357305,
          -0.39354558972605347,
          0.30152662807609654,
          0.13427182222200904,
          0.046625265681057806,
          -0.9675029107659785,
          -1.9378907692372627,
          0.7645084255726655,
          0.3456496119966951,
          0.6100739704928948,
          -1.2975215359698145,
          0.9811582960283188,
          -1.854291883561129,
          0.0030300626473484674,
          0.5555330497463216,
          1.9854640098519127,
          -2.8892786549069487,
          -0.5784596935192364,
          0.2120730704035394,
          -1.6367541806959658,
          -0.9219858235162748,
          -0.9038989941312121,
          -1.535290948903216,
          -0.9925978081014436,
          -0.1597238157952492,
          -0.1901984016351724,
          0.4340012252146463,
          1.6412372806898923,
          -0.26853040854857746,
          -1.4860370235943405,
          0.25372152314593843,
          0.8945563158090339,
          -1.2581189537610697,
          0.045752502620580435,
          0.1497617632922686,
          0.2057116223861768,
          1.522860668306455,
          2.4288034729247605,
          0.7271286207696227,
          -1.0042866967532893,
          -1.7551852659625091,
          -0.6452019322122896,
          -0.08558077903288307,
          -0.937374506875622,
          -1.1699904455728098,
          1.4613885965928404,
          0.8723881989578501,
          0.20798177375181456,
          0.6798310425036768,
          0.42731389978554923,
          -0.15521417050771996,
          -0.007772620249765506,
          -0.34694444399638413,
          -0.7226311660756984,
          0.4336460288339709,
          1.898232555378553,
          -0.7793458372913163,
          1.5539085406936917,
          -0.7700115463299503,
          1.976076118695718,
          0.7765767247770977,
          -1.1224316814644946,
          -0.5900259740110259,
          0.010858880228758642,
          -0.17312092096226234,
          0.03626058732618706,
          -0.013328956951237278,
          -0.42293607488429613,
          0.8354496259136793,
          -0.49443977885766727,
          1.6887110227852462,
          -1.4909122935659305,
          1.351877827520775,
          -0.3909619630491156,
          -0.12358388977968666,
          1.9262225184352992,
          -1.888314477524304,
          -0.8030996273076954,
          2.708273101446665,
          0.41042386472559367,
          -0.7852293060505795,
          -1.354368226970318,
          -0.2503422957009691,
          -1.4950744957453541,
          -0.25899218688334524,
          0.5439135753811755,
          1.29831213783766
         ]
        },
        {
         "line": {
          "color": "rgba(55, 128, 191, 1.0)",
          "dash": "solid",
          "shape": "linear",
          "width": 1.3
         },
         "mode": "lines",
         "name": "B",
         "text": "",
         "type": "scatter",
         "x": [
          0,
          1,
          2,
          3,
          4,
          5,
          6,
          7,
          8,
          9,
          10,
          11,
          12,
          13,
          14,
          15,
          16,
          17,
          18,
          19,
          20,
          21,
          22,
          23,
          24,
          25,
          26,
          27,
          28,
          29,
          30,
          31,
          32,
          33,
          34,
          35,
          36,
          37,
          38,
          39,
          40,
          41,
          42,
          43,
          44,
          45,
          46,
          47,
          48,
          49,
          50,
          51,
          52,
          53,
          54,
          55,
          56,
          57,
          58,
          59,
          60,
          61,
          62,
          63,
          64,
          65,
          66,
          67,
          68,
          69,
          70,
          71,
          72,
          73,
          74,
          75,
          76,
          77,
          78,
          79,
          80,
          81,
          82,
          83,
          84,
          85,
          86,
          87,
          88,
          89,
          90,
          91,
          92,
          93,
          94,
          95,
          96,
          97,
          98,
          99
         ],
         "y": [
          0.48791258594993797,
          -0.05891854456106384,
          -0.6362022045967219,
          -0.4056058416314476,
          0.0006330543338569247,
          0.870525528955877,
          -0.6764844175995441,
          0.6474668146657152,
          -0.011818422547298509,
          1.3951013679061022,
          -1.7836141736487758,
          -0.04452308793644446,
          0.167234249338456,
          1.2567361760617723,
          -0.14027575575641704,
          0.09429143699907863,
          1.1242409616971984,
          0.050151518880630894,
          -0.2433928696764287,
          0.0783502937989915,
          0.9577964812936168,
          0.8770513370496233,
          -0.9686451268607692,
          -1.1455682487368903,
          1.667442748949377,
          1.5793147080970615,
          -0.4224730377130238,
          -0.3868067628069606,
          -1.5982968414883156,
          -0.2487089658615257,
          -0.39182632176914484,
          0.4986063317118386,
          -0.8700980248271802,
          0.5019229760141615,
          0.47136913990314216,
          0.09506378894544326,
          -0.4780009951857549,
          -0.15656352607360774,
          0.13881204338059433,
          1.0981469705486244,
          -0.6473528118947334,
          -0.07792660246003699,
          0.49093685414840577,
          0.9380626144705636,
          -0.7734212976175214,
          0.33422943469930877,
          -0.08206457103229005,
          0.19675075386621915,
          0.5420001440757906,
          -1.0969320780915388,
          0.14105130514566805,
          -0.2555864748272685,
          0.3782298749075631,
          0.07122122996107905,
          -0.18649207559510775,
          1.960743631159648,
          -0.5819049046976688,
          -0.5437881897673993,
          -0.6152534082450581,
          -0.08579520337015567,
          -1.0141040794192604,
          -0.7300103716957315,
          1.1591059727549322,
          -0.48871717672232134,
          0.6514275390594886,
          0.2959286126290568,
          -2.8449390446672465,
          -0.9964128029365027,
          -0.03310589205306478,
          0.45683529946442764,
          1.5500313810441426,
          -1.5430455490623174,
          1.2546011341118462,
          0.21495064400066777,
          0.3715588678943498,
          0.49929171775189896,
          0.30296929351938007,
          -1.4839432860196824,
          -2.026418060881709,
          -0.2651049157961102,
          -0.5172731186958455,
          -0.9233505359557593,
          -1.6777405785887876,
          1.1587072682107997,
          -0.08555026672901489,
          -0.08697221682863826,
          -0.8752844276408953,
          -0.4229123641934026,
          1.4152637622249185,
          -0.2687365546300804,
          -0.845265118679393,
          0.03661171573420025,
          -1.0408084121886536,
          0.07503804644651897,
          1.3461860366879066,
          0.008006281464838167,
          1.5369515511553713,
          1.046452560294225,
          -1.6355746895675083,
          -0.24565447964768866
         ]
        },
        {
         "connectgaps": false,
         "fill": "tozeroy",
         "line": {
          "color": "green",
          "dash": "solid",
          "shape": "linear",
          "width": 0.5
         },
         "mode": "lines",
         "name": "Spread",
         "showlegend": false,
         "type": "scatter",
         "x": [
          0,
          1,
          2,
          3,
          4,
          5,
          6,
          7,
          8,
          9,
          10,
          11,
          12,
          13,
          14,
          15,
          16,
          17,
          18,
          19,
          20,
          21,
          22,
          23,
          24,
          25,
          26,
          27,
          28,
          29,
          30,
          31,
          32,
          33,
          34,
          35,
          36,
          37,
          38,
          39,
          40,
          41,
          42,
          43,
          44,
          45,
          46,
          47,
          48,
          49,
          50,
          51,
          52,
          53,
          54,
          55,
          56,
          57,
          58,
          59,
          60,
          61,
          62,
          63,
          64,
          65,
          66,
          67,
          68,
          69,
          70,
          71,
          72,
          73,
          74,
          75,
          76,
          77,
          78,
          79,
          80,
          81,
          82,
          83,
          84,
          85,
          86,
          87,
          88,
          89,
          90,
          91,
          92,
          93,
          94,
          95,
          96,
          97,
          98,
          99
         ],
         "xaxis": "x2",
         "y": [
          "",
          0.21224626800455915,
          1.1946088676697486,
          1.0444183418654123,
          "",
          "",
          "",
          0.27225981158345336,
          "",
          "",
          0.8003927671874216,
          "",
          0.41586774290929873,
          0.6980724912955327,
          "",
          0.2072351910770179,
          "",
          "",
          "",
          "",
          "",
          "",
          1.578719097353664,
          "",
          "",
          "",
          0.42550310036037226,
          0.9423398125532821,
          3.5837608513402284,
          "",
          "",
          "",
          "",
          "",
          "",
          "",
          "",
          "",
          "",
          "",
          2.2885900925846254,
          "",
          "",
          "",
          1.6679776134265554,
          "",
          0.12781707365287048,
          "",
          "",
          2.6197927463979935,
          2.2877521677790926,
          0.9827150955968912,
          "",
          "",
          "",
          "",
          "",
          "",
          2.0766420048378986,
          0.9581834023280058,
          1.222085853171075,
          1.4098414141994082,
          "",
          0.3335030062146014,
          "",
          "",
          2.122307878591548,
          1.4300588317704737,
          1.9313384474316178,
          "",
          0.0038771596495490446,
          0.7730340027323671,
          0.7214749845838719,
          0.56162608077643,
          "",
          "",
          "",
          1.31082236505742,
          2.0626786482078963,
          0.2517759588448729,
          0.09433704381154934,
          1.7588001618694387,
          1.1833007997311202,
          0.5300037545744465,
          "",
          1.4388500443494132,
          0.4843224645917797,
          0.29932847441371596,
          0.5109587562103808,
          "",
          0.04216549137169767,
          2.671661385712465,
          1.4512322769142472,
          "",
          "",
          "",
          "",
          "",
          2.1794882649486835,
          1.5439666174853488
         ],
         "yaxis": "y2"
        },
        {
         "connectgaps": false,
         "fill": "tozeroy",
         "line": {
          "color": "red",
          "dash": "solid",
          "shape": "linear",
          "width": 0.5
         },
         "mode": "lines",
         "name": "Spread",
         "showlegend": false,
         "type": "scatter",
         "x": [
          0,
          1,
          2,
          3,
          4,
          5,
          6,
          7,
          8,
          9,
          10,
          11,
          12,
          13,
          14,
          15,
          16,
          17,
          18,
          19,
          20,
          21,
          22,
          23,
          24,
          25,
          26,
          27,
          28,
          29,
          30,
          31,
          32,
          33,
          34,
          35,
          36,
          37,
          38,
          39,
          40,
          41,
          42,
          43,
          44,
          45,
          46,
          47,
          48,
          49,
          50,
          51,
          52,
          53,
          54,
          55,
          56,
          57,
          58,
          59,
          60,
          61,
          62,
          63,
          64,
          65,
          66,
          67,
          68,
          69,
          70,
          71,
          72,
          73,
          74,
          75,
          76,
          77,
          78,
          79,
          80,
          81,
          82,
          83,
          84,
          85,
          86,
          87,
          88,
          89,
          90,
          91,
          92,
          93,
          94,
          95,
          96,
          97,
          98,
          99
         ],
         "xaxis": "x2",
         "y": [
          -0.03414893460921342,
          "",
          "",
          "",
          -0.768841325253886,
          -0.28328892384462867,
          -0.6857797382951787,
          "",
          -0.5549175023797611,
          -0.9522034184361183,
          "",
          -0.16413081470190075,
          "",
          "",
          -0.2532698339696364,
          "",
          -0.9899691394751894,
          -0.0035262531995730872,
          -0.7241100410895498,
          -2.0162410630362544,
          -0.1932880557209513,
          -0.5314017250529283,
          "",
          -0.15195328723292412,
          -0.6862844529210582,
          -3.4336065916581906,
          "",
          "",
          "",
          -2.640569689045423,
          -0.1866333717500916,
          -0.2865332613082992,
          -0.7666561558687855,
          -1.4239087995304363,
          -1.3752681340343542,
          -1.6303547378486594,
          -0.5145968129156887,
          -0.0031602897216414516,
          -0.3290104450157667,
          -0.6641457453339781,
          "",
          -0.19060380608854047,
          -1.9769738777427464,
          -0.6843410913246252,
          "",
          -1.5923483884603784,
          "",
          -0.04698899057395056,
          -0.33628852168961376,
          "",
          "",
          "",
          -1.3825165716608523,
          -1.8264064959235882,
          -0.4587098566171819,
          -2.046324410192531,
          -0.3554696021779532,
          -0.6262022558054106,
          "",
          "",
          "",
          "",
          -0.731792072969383,
          "",
          -0.6592001593092541,
          -0.6428730566254409,
          "",
          "",
          "",
          -1.236181136755744,
          "",
          "",
          "",
          "",
          -1.4939905493588443,
          -1.0893176917629248,
          -0.29211041329062143,
          "",
          "",
          "",
          "",
          "",
          "",
          "",
          -1.4053620268369156,
          "",
          "",
          "",
          "",
          -1.6195779228942235,
          "",
          "",
          "",
          -0.8602673524970985,
          -2.7005542636582245,
          -0.2583485771658073,
          -3.032026046900725,
          -1.30544474717757,
          "",
          ""
         ],
         "yaxis": "y2"
        }
       ],
       "layout": {
        "hovermode": "x",
        "legend": {
         "bgcolor": "#F5F6F9",
         "font": {
          "color": "#4D5663"
         }
        },
        "paper_bgcolor": "#F5F6F9",
        "plot_bgcolor": "#F5F6F9",
        "template": {
         "data": {
          "bar": [
           {
            "error_x": {
             "color": "#2a3f5f"
            },
            "error_y": {
             "color": "#2a3f5f"
            },
            "marker": {
             "line": {
              "color": "#E5ECF6",
              "width": 0.5
             }
            },
            "type": "bar"
           }
          ],
          "barpolar": [
           {
            "marker": {
             "line": {
              "color": "#E5ECF6",
              "width": 0.5
             }
            },
            "type": "barpolar"
           }
          ],
          "carpet": [
           {
            "aaxis": {
             "endlinecolor": "#2a3f5f",
             "gridcolor": "white",
             "linecolor": "white",
             "minorgridcolor": "white",
             "startlinecolor": "#2a3f5f"
            },
            "baxis": {
             "endlinecolor": "#2a3f5f",
             "gridcolor": "white",
             "linecolor": "white",
             "minorgridcolor": "white",
             "startlinecolor": "#2a3f5f"
            },
            "type": "carpet"
           }
          ],
          "choropleth": [
           {
            "colorbar": {
             "outlinewidth": 0,
             "ticks": ""
            },
            "type": "choropleth"
           }
          ],
          "contour": [
           {
            "colorbar": {
             "outlinewidth": 0,
             "ticks": ""
            },
            "colorscale": [
             [
              0,
              "#0d0887"
             ],
             [
              0.1111111111111111,
              "#46039f"
             ],
             [
              0.2222222222222222,
              "#7201a8"
             ],
             [
              0.3333333333333333,
              "#9c179e"
             ],
             [
              0.4444444444444444,
              "#bd3786"
             ],
             [
              0.5555555555555556,
              "#d8576b"
             ],
             [
              0.6666666666666666,
              "#ed7953"
             ],
             [
              0.7777777777777778,
              "#fb9f3a"
             ],
             [
              0.8888888888888888,
              "#fdca26"
             ],
             [
              1,
              "#f0f921"
             ]
            ],
            "type": "contour"
           }
          ],
          "contourcarpet": [
           {
            "colorbar": {
             "outlinewidth": 0,
             "ticks": ""
            },
            "type": "contourcarpet"
           }
          ],
          "heatmap": [
           {
            "colorbar": {
             "outlinewidth": 0,
             "ticks": ""
            },
            "colorscale": [
             [
              0,
              "#0d0887"
             ],
             [
              0.1111111111111111,
              "#46039f"
             ],
             [
              0.2222222222222222,
              "#7201a8"
             ],
             [
              0.3333333333333333,
              "#9c179e"
             ],
             [
              0.4444444444444444,
              "#bd3786"
             ],
             [
              0.5555555555555556,
              "#d8576b"
             ],
             [
              0.6666666666666666,
              "#ed7953"
             ],
             [
              0.7777777777777778,
              "#fb9f3a"
             ],
             [
              0.8888888888888888,
              "#fdca26"
             ],
             [
              1,
              "#f0f921"
             ]
            ],
            "type": "heatmap"
           }
          ],
          "heatmapgl": [
           {
            "colorbar": {
             "outlinewidth": 0,
             "ticks": ""
            },
            "colorscale": [
             [
              0,
              "#0d0887"
             ],
             [
              0.1111111111111111,
              "#46039f"
             ],
             [
              0.2222222222222222,
              "#7201a8"
             ],
             [
              0.3333333333333333,
              "#9c179e"
             ],
             [
              0.4444444444444444,
              "#bd3786"
             ],
             [
              0.5555555555555556,
              "#d8576b"
             ],
             [
              0.6666666666666666,
              "#ed7953"
             ],
             [
              0.7777777777777778,
              "#fb9f3a"
             ],
             [
              0.8888888888888888,
              "#fdca26"
             ],
             [
              1,
              "#f0f921"
             ]
            ],
            "type": "heatmapgl"
           }
          ],
          "histogram": [
           {
            "marker": {
             "colorbar": {
              "outlinewidth": 0,
              "ticks": ""
             }
            },
            "type": "histogram"
           }
          ],
          "histogram2d": [
           {
            "colorbar": {
             "outlinewidth": 0,
             "ticks": ""
            },
            "colorscale": [
             [
              0,
              "#0d0887"
             ],
             [
              0.1111111111111111,
              "#46039f"
             ],
             [
              0.2222222222222222,
              "#7201a8"
             ],
             [
              0.3333333333333333,
              "#9c179e"
             ],
             [
              0.4444444444444444,
              "#bd3786"
             ],
             [
              0.5555555555555556,
              "#d8576b"
             ],
             [
              0.6666666666666666,
              "#ed7953"
             ],
             [
              0.7777777777777778,
              "#fb9f3a"
             ],
             [
              0.8888888888888888,
              "#fdca26"
             ],
             [
              1,
              "#f0f921"
             ]
            ],
            "type": "histogram2d"
           }
          ],
          "histogram2dcontour": [
           {
            "colorbar": {
             "outlinewidth": 0,
             "ticks": ""
            },
            "colorscale": [
             [
              0,
              "#0d0887"
             ],
             [
              0.1111111111111111,
              "#46039f"
             ],
             [
              0.2222222222222222,
              "#7201a8"
             ],
             [
              0.3333333333333333,
              "#9c179e"
             ],
             [
              0.4444444444444444,
              "#bd3786"
             ],
             [
              0.5555555555555556,
              "#d8576b"
             ],
             [
              0.6666666666666666,
              "#ed7953"
             ],
             [
              0.7777777777777778,
              "#fb9f3a"
             ],
             [
              0.8888888888888888,
              "#fdca26"
             ],
             [
              1,
              "#f0f921"
             ]
            ],
            "type": "histogram2dcontour"
           }
          ],
          "mesh3d": [
           {
            "colorbar": {
             "outlinewidth": 0,
             "ticks": ""
            },
            "type": "mesh3d"
           }
          ],
          "parcoords": [
           {
            "line": {
             "colorbar": {
              "outlinewidth": 0,
              "ticks": ""
             }
            },
            "type": "parcoords"
           }
          ],
          "pie": [
           {
            "automargin": true,
            "type": "pie"
           }
          ],
          "scatter": [
           {
            "marker": {
             "colorbar": {
              "outlinewidth": 0,
              "ticks": ""
             }
            },
            "type": "scatter"
           }
          ],
          "scatter3d": [
           {
            "line": {
             "colorbar": {
              "outlinewidth": 0,
              "ticks": ""
             }
            },
            "marker": {
             "colorbar": {
              "outlinewidth": 0,
              "ticks": ""
             }
            },
            "type": "scatter3d"
           }
          ],
          "scattercarpet": [
           {
            "marker": {
             "colorbar": {
              "outlinewidth": 0,
              "ticks": ""
             }
            },
            "type": "scattercarpet"
           }
          ],
          "scattergeo": [
           {
            "marker": {
             "colorbar": {
              "outlinewidth": 0,
              "ticks": ""
             }
            },
            "type": "scattergeo"
           }
          ],
          "scattergl": [
           {
            "marker": {
             "colorbar": {
              "outlinewidth": 0,
              "ticks": ""
             }
            },
            "type": "scattergl"
           }
          ],
          "scattermapbox": [
           {
            "marker": {
             "colorbar": {
              "outlinewidth": 0,
              "ticks": ""
             }
            },
            "type": "scattermapbox"
           }
          ],
          "scatterpolar": [
           {
            "marker": {
             "colorbar": {
              "outlinewidth": 0,
              "ticks": ""
             }
            },
            "type": "scatterpolar"
           }
          ],
          "scatterpolargl": [
           {
            "marker": {
             "colorbar": {
              "outlinewidth": 0,
              "ticks": ""
             }
            },
            "type": "scatterpolargl"
           }
          ],
          "scatterternary": [
           {
            "marker": {
             "colorbar": {
              "outlinewidth": 0,
              "ticks": ""
             }
            },
            "type": "scatterternary"
           }
          ],
          "surface": [
           {
            "colorbar": {
             "outlinewidth": 0,
             "ticks": ""
            },
            "colorscale": [
             [
              0,
              "#0d0887"
             ],
             [
              0.1111111111111111,
              "#46039f"
             ],
             [
              0.2222222222222222,
              "#7201a8"
             ],
             [
              0.3333333333333333,
              "#9c179e"
             ],
             [
              0.4444444444444444,
              "#bd3786"
             ],
             [
              0.5555555555555556,
              "#d8576b"
             ],
             [
              0.6666666666666666,
              "#ed7953"
             ],
             [
              0.7777777777777778,
              "#fb9f3a"
             ],
             [
              0.8888888888888888,
              "#fdca26"
             ],
             [
              1,
              "#f0f921"
             ]
            ],
            "type": "surface"
           }
          ],
          "table": [
           {
            "cells": {
             "fill": {
              "color": "#EBF0F8"
             },
             "line": {
              "color": "white"
             }
            },
            "header": {
             "fill": {
              "color": "#C8D4E3"
             },
             "line": {
              "color": "white"
             }
            },
            "type": "table"
           }
          ]
         },
         "layout": {
          "annotationdefaults": {
           "arrowcolor": "#2a3f5f",
           "arrowhead": 0,
           "arrowwidth": 1
          },
          "coloraxis": {
           "colorbar": {
            "outlinewidth": 0,
            "ticks": ""
           }
          },
          "colorscale": {
           "diverging": [
            [
             0,
             "#8e0152"
            ],
            [
             0.1,
             "#c51b7d"
            ],
            [
             0.2,
             "#de77ae"
            ],
            [
             0.3,
             "#f1b6da"
            ],
            [
             0.4,
             "#fde0ef"
            ],
            [
             0.5,
             "#f7f7f7"
            ],
            [
             0.6,
             "#e6f5d0"
            ],
            [
             0.7,
             "#b8e186"
            ],
            [
             0.8,
             "#7fbc41"
            ],
            [
             0.9,
             "#4d9221"
            ],
            [
             1,
             "#276419"
            ]
           ],
           "sequential": [
            [
             0,
             "#0d0887"
            ],
            [
             0.1111111111111111,
             "#46039f"
            ],
            [
             0.2222222222222222,
             "#7201a8"
            ],
            [
             0.3333333333333333,
             "#9c179e"
            ],
            [
             0.4444444444444444,
             "#bd3786"
            ],
            [
             0.5555555555555556,
             "#d8576b"
            ],
            [
             0.6666666666666666,
             "#ed7953"
            ],
            [
             0.7777777777777778,
             "#fb9f3a"
            ],
            [
             0.8888888888888888,
             "#fdca26"
            ],
            [
             1,
             "#f0f921"
            ]
           ],
           "sequentialminus": [
            [
             0,
             "#0d0887"
            ],
            [
             0.1111111111111111,
             "#46039f"
            ],
            [
             0.2222222222222222,
             "#7201a8"
            ],
            [
             0.3333333333333333,
             "#9c179e"
            ],
            [
             0.4444444444444444,
             "#bd3786"
            ],
            [
             0.5555555555555556,
             "#d8576b"
            ],
            [
             0.6666666666666666,
             "#ed7953"
            ],
            [
             0.7777777777777778,
             "#fb9f3a"
            ],
            [
             0.8888888888888888,
             "#fdca26"
            ],
            [
             1,
             "#f0f921"
            ]
           ]
          },
          "colorway": [
           "#636efa",
           "#EF553B",
           "#00cc96",
           "#ab63fa",
           "#FFA15A",
           "#19d3f3",
           "#FF6692",
           "#B6E880",
           "#FF97FF",
           "#FECB52"
          ],
          "font": {
           "color": "#2a3f5f"
          },
          "geo": {
           "bgcolor": "white",
           "lakecolor": "white",
           "landcolor": "#E5ECF6",
           "showlakes": true,
           "showland": true,
           "subunitcolor": "white"
          },
          "hoverlabel": {
           "align": "left"
          },
          "hovermode": "closest",
          "mapbox": {
           "style": "light"
          },
          "paper_bgcolor": "white",
          "plot_bgcolor": "#E5ECF6",
          "polar": {
           "angularaxis": {
            "gridcolor": "white",
            "linecolor": "white",
            "ticks": ""
           },
           "bgcolor": "#E5ECF6",
           "radialaxis": {
            "gridcolor": "white",
            "linecolor": "white",
            "ticks": ""
           }
          },
          "scene": {
           "xaxis": {
            "backgroundcolor": "#E5ECF6",
            "gridcolor": "white",
            "gridwidth": 2,
            "linecolor": "white",
            "showbackground": true,
            "ticks": "",
            "zerolinecolor": "white"
           },
           "yaxis": {
            "backgroundcolor": "#E5ECF6",
            "gridcolor": "white",
            "gridwidth": 2,
            "linecolor": "white",
            "showbackground": true,
            "ticks": "",
            "zerolinecolor": "white"
           },
           "zaxis": {
            "backgroundcolor": "#E5ECF6",
            "gridcolor": "white",
            "gridwidth": 2,
            "linecolor": "white",
            "showbackground": true,
            "ticks": "",
            "zerolinecolor": "white"
           }
          },
          "shapedefaults": {
           "line": {
            "color": "#2a3f5f"
           }
          },
          "ternary": {
           "aaxis": {
            "gridcolor": "white",
            "linecolor": "white",
            "ticks": ""
           },
           "baxis": {
            "gridcolor": "white",
            "linecolor": "white",
            "ticks": ""
           },
           "bgcolor": "#E5ECF6",
           "caxis": {
            "gridcolor": "white",
            "linecolor": "white",
            "ticks": ""
           }
          },
          "title": {
           "x": 0.05
          },
          "xaxis": {
           "automargin": true,
           "gridcolor": "white",
           "linecolor": "white",
           "ticks": "",
           "title": {
            "standoff": 15
           },
           "zerolinecolor": "white",
           "zerolinewidth": 2
          },
          "yaxis": {
           "automargin": true,
           "gridcolor": "white",
           "linecolor": "white",
           "ticks": "",
           "title": {
            "standoff": 15
           },
           "zerolinecolor": "white",
           "zerolinewidth": 2
          }
         }
        },
        "title": {
         "font": {
          "color": "#4D5663"
         }
        },
        "xaxis": {
         "gridcolor": "#E1E5ED",
         "showgrid": true,
         "tickfont": {
          "color": "#4D5663"
         },
         "title": {
          "font": {
           "color": "#4D5663"
          },
          "text": ""
         },
         "zerolinecolor": "#E1E5ED"
        },
        "xaxis2": {
         "anchor": "y2",
         "gridcolor": "#E1E5ED",
         "showgrid": true,
         "showticklabels": false,
         "tickfont": {
          "color": "#4D5663"
         },
         "title": {
          "font": {
           "color": "#4D5663"
          },
          "text": ""
         },
         "zerolinecolor": "#E1E5ED"
        },
        "yaxis": {
         "domain": [
          0.3,
          1
         ],
         "gridcolor": "#E1E5ED",
         "showgrid": true,
         "tickfont": {
          "color": "#4D5663"
         },
         "title": {
          "font": {
           "color": "#4D5663"
          },
          "text": ""
         },
         "zerolinecolor": "#E1E5ED"
        },
        "yaxis2": {
         "domain": [
          0,
          0.25
         ],
         "gridcolor": "#E1E5ED",
         "showgrid": true,
         "tickfont": {
          "color": "#4D5663"
         },
         "title": {
          "font": {
           "color": "#4D5663"
          },
          "text": "Spread"
         },
         "zerolinecolor": "#E1E5ED"
        }
       }
      },
      "text/html": [
       "<div>\n",
       "        \n",
       "        \n",
       "            <div id=\"e26b9359-69ba-4dae-afe1-9bbd0bdc9012\" class=\"plotly-graph-div\" style=\"height:525px; width:100%;\"></div>\n",
       "            <script type=\"text/javascript\">\n",
       "                require([\"plotly\"], function(Plotly) {\n",
       "                    window.PLOTLYENV=window.PLOTLYENV || {};\n",
       "                    window.PLOTLYENV.BASE_URL='https://plot.ly';\n",
       "                    \n",
       "                if (document.getElementById(\"e26b9359-69ba-4dae-afe1-9bbd0bdc9012\")) {\n",
       "                    Plotly.newPlot(\n",
       "                        'e26b9359-69ba-4dae-afe1-9bbd0bdc9012',\n",
       "                        [{\"line\": {\"color\": \"rgba(255, 153, 51, 1.0)\", \"dash\": \"solid\", \"shape\": \"linear\", \"width\": 1.3}, \"mode\": \"lines\", \"name\": \"A\", \"text\": \"\", \"type\": \"scatter\", \"x\": [0, 1, 2, 3, 4, 5, 6, 7, 8, 9, 10, 11, 12, 13, 14, 15, 16, 17, 18, 19, 20, 21, 22, 23, 24, 25, 26, 27, 28, 29, 30, 31, 32, 33, 34, 35, 36, 37, 38, 39, 40, 41, 42, 43, 44, 45, 46, 47, 48, 49, 50, 51, 52, 53, 54, 55, 56, 57, 58, 59, 60, 61, 62, 63, 64, 65, 66, 67, 68, 69, 70, 71, 72, 73, 74, 75, 76, 77, 78, 79, 80, 81, 82, 83, 84, 85, 86, 87, 88, 89, 90, 91, 92, 93, 94, 95, 96, 97, 98, 99], \"y\": [0.45376365134072455, 0.1533277234434953, 0.5584066630730266, 0.6388125002339647, -0.7682082709200291, 0.5872366051112483, -1.3622641558947228, 0.9197266262491686, -0.5667359249270596, 0.4428979494699839, -0.9832214064613543, -0.2086539026383452, 0.5831019922477547, 1.954808667357305, -0.39354558972605347, 0.30152662807609654, 0.13427182222200904, 0.046625265681057806, -0.9675029107659785, -1.9378907692372627, 0.7645084255726655, 0.3456496119966951, 0.6100739704928948, -1.2975215359698145, 0.9811582960283188, -1.854291883561129, 0.0030300626473484674, 0.5555330497463216, 1.9854640098519127, -2.8892786549069487, -0.5784596935192364, 0.2120730704035394, -1.6367541806959658, -0.9219858235162748, -0.9038989941312121, -1.535290948903216, -0.9925978081014436, -0.1597238157952492, -0.1901984016351724, 0.4340012252146463, 1.6412372806898923, -0.26853040854857746, -1.4860370235943405, 0.25372152314593843, 0.8945563158090339, -1.2581189537610697, 0.045752502620580435, 0.1497617632922686, 0.2057116223861768, 1.522860668306455, 2.4288034729247605, 0.7271286207696227, -1.0042866967532893, -1.7551852659625091, -0.6452019322122896, -0.08558077903288307, -0.937374506875622, -1.1699904455728098, 1.4613885965928404, 0.8723881989578501, 0.20798177375181456, 0.6798310425036768, 0.42731389978554923, -0.15521417050771996, -0.007772620249765506, -0.34694444399638413, -0.7226311660756984, 0.4336460288339709, 1.898232555378553, -0.7793458372913163, 1.5539085406936917, -0.7700115463299503, 1.976076118695718, 0.7765767247770977, -1.1224316814644946, -0.5900259740110259, 0.010858880228758642, -0.17312092096226234, 0.03626058732618706, -0.013328956951237278, -0.42293607488429613, 0.8354496259136793, -0.49443977885766727, 1.6887110227852462, -1.4909122935659305, 1.351877827520775, -0.3909619630491156, -0.12358388977968666, 1.9262225184352992, -1.888314477524304, -0.8030996273076954, 2.708273101446665, 0.41042386472559367, -0.7852293060505795, -1.354368226970318, -0.2503422957009691, -1.4950744957453541, -0.25899218688334524, 0.5439135753811755, 1.29831213783766]}, {\"line\": {\"color\": \"rgba(55, 128, 191, 1.0)\", \"dash\": \"solid\", \"shape\": \"linear\", \"width\": 1.3}, \"mode\": \"lines\", \"name\": \"B\", \"text\": \"\", \"type\": \"scatter\", \"x\": [0, 1, 2, 3, 4, 5, 6, 7, 8, 9, 10, 11, 12, 13, 14, 15, 16, 17, 18, 19, 20, 21, 22, 23, 24, 25, 26, 27, 28, 29, 30, 31, 32, 33, 34, 35, 36, 37, 38, 39, 40, 41, 42, 43, 44, 45, 46, 47, 48, 49, 50, 51, 52, 53, 54, 55, 56, 57, 58, 59, 60, 61, 62, 63, 64, 65, 66, 67, 68, 69, 70, 71, 72, 73, 74, 75, 76, 77, 78, 79, 80, 81, 82, 83, 84, 85, 86, 87, 88, 89, 90, 91, 92, 93, 94, 95, 96, 97, 98, 99], \"y\": [0.48791258594993797, -0.05891854456106384, -0.6362022045967219, -0.4056058416314476, 0.0006330543338569247, 0.870525528955877, -0.6764844175995441, 0.6474668146657152, -0.011818422547298509, 1.3951013679061022, -1.7836141736487758, -0.04452308793644446, 0.167234249338456, 1.2567361760617723, -0.14027575575641704, 0.09429143699907863, 1.1242409616971984, 0.050151518880630894, -0.2433928696764287, 0.0783502937989915, 0.9577964812936168, 0.8770513370496233, -0.9686451268607692, -1.1455682487368903, 1.667442748949377, 1.5793147080970615, -0.4224730377130238, -0.3868067628069606, -1.5982968414883156, -0.2487089658615257, -0.39182632176914484, 0.4986063317118386, -0.8700980248271802, 0.5019229760141615, 0.47136913990314216, 0.09506378894544326, -0.4780009951857549, -0.15656352607360774, 0.13881204338059433, 1.0981469705486244, -0.6473528118947334, -0.07792660246003699, 0.49093685414840577, 0.9380626144705636, -0.7734212976175214, 0.33422943469930877, -0.08206457103229005, 0.19675075386621915, 0.5420001440757906, -1.0969320780915388, 0.14105130514566805, -0.2555864748272685, 0.3782298749075631, 0.07122122996107905, -0.18649207559510775, 1.960743631159648, -0.5819049046976688, -0.5437881897673993, -0.6152534082450581, -0.08579520337015567, -1.0141040794192604, -0.7300103716957315, 1.1591059727549322, -0.48871717672232134, 0.6514275390594886, 0.2959286126290568, -2.8449390446672465, -0.9964128029365027, -0.03310589205306478, 0.45683529946442764, 1.5500313810441426, -1.5430455490623174, 1.2546011341118462, 0.21495064400066777, 0.3715588678943498, 0.49929171775189896, 0.30296929351938007, -1.4839432860196824, -2.026418060881709, -0.2651049157961102, -0.5172731186958455, -0.9233505359557593, -1.6777405785887876, 1.1587072682107997, -0.08555026672901489, -0.08697221682863826, -0.8752844276408953, -0.4229123641934026, 1.4152637622249185, -0.2687365546300804, -0.845265118679393, 0.03661171573420025, -1.0408084121886536, 0.07503804644651897, 1.3461860366879066, 0.008006281464838167, 1.5369515511553713, 1.046452560294225, -1.6355746895675083, -0.24565447964768866]}, {\"connectgaps\": false, \"fill\": \"tozeroy\", \"line\": {\"color\": \"green\", \"dash\": \"solid\", \"shape\": \"linear\", \"width\": 0.5}, \"mode\": \"lines\", \"name\": \"Spread\", \"showlegend\": false, \"type\": \"scatter\", \"x\": [0, 1, 2, 3, 4, 5, 6, 7, 8, 9, 10, 11, 12, 13, 14, 15, 16, 17, 18, 19, 20, 21, 22, 23, 24, 25, 26, 27, 28, 29, 30, 31, 32, 33, 34, 35, 36, 37, 38, 39, 40, 41, 42, 43, 44, 45, 46, 47, 48, 49, 50, 51, 52, 53, 54, 55, 56, 57, 58, 59, 60, 61, 62, 63, 64, 65, 66, 67, 68, 69, 70, 71, 72, 73, 74, 75, 76, 77, 78, 79, 80, 81, 82, 83, 84, 85, 86, 87, 88, 89, 90, 91, 92, 93, 94, 95, 96, 97, 98, 99], \"xaxis\": \"x2\", \"y\": [\"\", 0.21224626800455915, 1.1946088676697486, 1.0444183418654123, \"\", \"\", \"\", 0.27225981158345336, \"\", \"\", 0.8003927671874216, \"\", 0.41586774290929873, 0.6980724912955327, \"\", 0.2072351910770179, \"\", \"\", \"\", \"\", \"\", \"\", 1.578719097353664, \"\", \"\", \"\", 0.42550310036037226, 0.9423398125532821, 3.5837608513402284, \"\", \"\", \"\", \"\", \"\", \"\", \"\", \"\", \"\", \"\", \"\", 2.2885900925846254, \"\", \"\", \"\", 1.6679776134265554, \"\", 0.12781707365287048, \"\", \"\", 2.6197927463979935, 2.2877521677790926, 0.9827150955968912, \"\", \"\", \"\", \"\", \"\", \"\", 2.0766420048378986, 0.9581834023280058, 1.222085853171075, 1.4098414141994082, \"\", 0.3335030062146014, \"\", \"\", 2.122307878591548, 1.4300588317704737, 1.9313384474316178, \"\", 0.0038771596495490446, 0.7730340027323671, 0.7214749845838719, 0.56162608077643, \"\", \"\", \"\", 1.31082236505742, 2.0626786482078963, 0.2517759588448729, 0.09433704381154934, 1.7588001618694387, 1.1833007997311202, 0.5300037545744465, \"\", 1.4388500443494132, 0.4843224645917797, 0.29932847441371596, 0.5109587562103808, \"\", 0.04216549137169767, 2.671661385712465, 1.4512322769142472, \"\", \"\", \"\", \"\", \"\", 2.1794882649486835, 1.5439666174853488], \"yaxis\": \"y2\"}, {\"connectgaps\": false, \"fill\": \"tozeroy\", \"line\": {\"color\": \"red\", \"dash\": \"solid\", \"shape\": \"linear\", \"width\": 0.5}, \"mode\": \"lines\", \"name\": \"Spread\", \"showlegend\": false, \"type\": \"scatter\", \"x\": [0, 1, 2, 3, 4, 5, 6, 7, 8, 9, 10, 11, 12, 13, 14, 15, 16, 17, 18, 19, 20, 21, 22, 23, 24, 25, 26, 27, 28, 29, 30, 31, 32, 33, 34, 35, 36, 37, 38, 39, 40, 41, 42, 43, 44, 45, 46, 47, 48, 49, 50, 51, 52, 53, 54, 55, 56, 57, 58, 59, 60, 61, 62, 63, 64, 65, 66, 67, 68, 69, 70, 71, 72, 73, 74, 75, 76, 77, 78, 79, 80, 81, 82, 83, 84, 85, 86, 87, 88, 89, 90, 91, 92, 93, 94, 95, 96, 97, 98, 99], \"xaxis\": \"x2\", \"y\": [-0.03414893460921342, \"\", \"\", \"\", -0.768841325253886, -0.28328892384462867, -0.6857797382951787, \"\", -0.5549175023797611, -0.9522034184361183, \"\", -0.16413081470190075, \"\", \"\", -0.2532698339696364, \"\", -0.9899691394751894, -0.0035262531995730872, -0.7241100410895498, -2.0162410630362544, -0.1932880557209513, -0.5314017250529283, \"\", -0.15195328723292412, -0.6862844529210582, -3.4336065916581906, \"\", \"\", \"\", -2.640569689045423, -0.1866333717500916, -0.2865332613082992, -0.7666561558687855, -1.4239087995304363, -1.3752681340343542, -1.6303547378486594, -0.5145968129156887, -0.0031602897216414516, -0.3290104450157667, -0.6641457453339781, \"\", -0.19060380608854047, -1.9769738777427464, -0.6843410913246252, \"\", -1.5923483884603784, \"\", -0.04698899057395056, -0.33628852168961376, \"\", \"\", \"\", -1.3825165716608523, -1.8264064959235882, -0.4587098566171819, -2.046324410192531, -0.3554696021779532, -0.6262022558054106, \"\", \"\", \"\", \"\", -0.731792072969383, \"\", -0.6592001593092541, -0.6428730566254409, \"\", \"\", \"\", -1.236181136755744, \"\", \"\", \"\", \"\", -1.4939905493588443, -1.0893176917629248, -0.29211041329062143, \"\", \"\", \"\", \"\", \"\", \"\", \"\", -1.4053620268369156, \"\", \"\", \"\", \"\", -1.6195779228942235, \"\", \"\", \"\", -0.8602673524970985, -2.7005542636582245, -0.2583485771658073, -3.032026046900725, -1.30544474717757, \"\", \"\"], \"yaxis\": \"y2\"}],\n",
       "                        {\"hovermode\": \"x\", \"legend\": {\"bgcolor\": \"#F5F6F9\", \"font\": {\"color\": \"#4D5663\"}}, \"paper_bgcolor\": \"#F5F6F9\", \"plot_bgcolor\": \"#F5F6F9\", \"template\": {\"data\": {\"bar\": [{\"error_x\": {\"color\": \"#2a3f5f\"}, \"error_y\": {\"color\": \"#2a3f5f\"}, \"marker\": {\"line\": {\"color\": \"#E5ECF6\", \"width\": 0.5}}, \"type\": \"bar\"}], \"barpolar\": [{\"marker\": {\"line\": {\"color\": \"#E5ECF6\", \"width\": 0.5}}, \"type\": \"barpolar\"}], \"carpet\": [{\"aaxis\": {\"endlinecolor\": \"#2a3f5f\", \"gridcolor\": \"white\", \"linecolor\": \"white\", \"minorgridcolor\": \"white\", \"startlinecolor\": \"#2a3f5f\"}, \"baxis\": {\"endlinecolor\": \"#2a3f5f\", \"gridcolor\": \"white\", \"linecolor\": \"white\", \"minorgridcolor\": \"white\", \"startlinecolor\": \"#2a3f5f\"}, \"type\": \"carpet\"}], \"choropleth\": [{\"colorbar\": {\"outlinewidth\": 0, \"ticks\": \"\"}, \"type\": \"choropleth\"}], \"contour\": [{\"colorbar\": {\"outlinewidth\": 0, \"ticks\": \"\"}, \"colorscale\": [[0.0, \"#0d0887\"], [0.1111111111111111, \"#46039f\"], [0.2222222222222222, \"#7201a8\"], [0.3333333333333333, \"#9c179e\"], [0.4444444444444444, \"#bd3786\"], [0.5555555555555556, \"#d8576b\"], [0.6666666666666666, \"#ed7953\"], [0.7777777777777778, \"#fb9f3a\"], [0.8888888888888888, \"#fdca26\"], [1.0, \"#f0f921\"]], \"type\": \"contour\"}], \"contourcarpet\": [{\"colorbar\": {\"outlinewidth\": 0, \"ticks\": \"\"}, \"type\": \"contourcarpet\"}], \"heatmap\": [{\"colorbar\": {\"outlinewidth\": 0, \"ticks\": \"\"}, \"colorscale\": [[0.0, \"#0d0887\"], [0.1111111111111111, \"#46039f\"], [0.2222222222222222, \"#7201a8\"], [0.3333333333333333, \"#9c179e\"], [0.4444444444444444, \"#bd3786\"], [0.5555555555555556, \"#d8576b\"], [0.6666666666666666, \"#ed7953\"], [0.7777777777777778, \"#fb9f3a\"], [0.8888888888888888, \"#fdca26\"], [1.0, \"#f0f921\"]], \"type\": \"heatmap\"}], \"heatmapgl\": [{\"colorbar\": {\"outlinewidth\": 0, \"ticks\": \"\"}, \"colorscale\": [[0.0, \"#0d0887\"], [0.1111111111111111, \"#46039f\"], [0.2222222222222222, \"#7201a8\"], [0.3333333333333333, \"#9c179e\"], [0.4444444444444444, \"#bd3786\"], [0.5555555555555556, \"#d8576b\"], [0.6666666666666666, \"#ed7953\"], [0.7777777777777778, \"#fb9f3a\"], [0.8888888888888888, \"#fdca26\"], [1.0, \"#f0f921\"]], \"type\": \"heatmapgl\"}], \"histogram\": [{\"marker\": {\"colorbar\": {\"outlinewidth\": 0, \"ticks\": \"\"}}, \"type\": \"histogram\"}], \"histogram2d\": [{\"colorbar\": {\"outlinewidth\": 0, \"ticks\": \"\"}, \"colorscale\": [[0.0, \"#0d0887\"], [0.1111111111111111, \"#46039f\"], [0.2222222222222222, \"#7201a8\"], [0.3333333333333333, \"#9c179e\"], [0.4444444444444444, \"#bd3786\"], [0.5555555555555556, \"#d8576b\"], [0.6666666666666666, \"#ed7953\"], [0.7777777777777778, \"#fb9f3a\"], [0.8888888888888888, \"#fdca26\"], [1.0, \"#f0f921\"]], \"type\": \"histogram2d\"}], \"histogram2dcontour\": [{\"colorbar\": {\"outlinewidth\": 0, \"ticks\": \"\"}, \"colorscale\": [[0.0, \"#0d0887\"], [0.1111111111111111, \"#46039f\"], [0.2222222222222222, \"#7201a8\"], [0.3333333333333333, \"#9c179e\"], [0.4444444444444444, \"#bd3786\"], [0.5555555555555556, \"#d8576b\"], [0.6666666666666666, \"#ed7953\"], [0.7777777777777778, \"#fb9f3a\"], [0.8888888888888888, \"#fdca26\"], [1.0, \"#f0f921\"]], \"type\": \"histogram2dcontour\"}], \"mesh3d\": [{\"colorbar\": {\"outlinewidth\": 0, \"ticks\": \"\"}, \"type\": \"mesh3d\"}], \"parcoords\": [{\"line\": {\"colorbar\": {\"outlinewidth\": 0, \"ticks\": \"\"}}, \"type\": \"parcoords\"}], \"pie\": [{\"automargin\": true, \"type\": \"pie\"}], \"scatter\": [{\"marker\": {\"colorbar\": {\"outlinewidth\": 0, \"ticks\": \"\"}}, \"type\": \"scatter\"}], \"scatter3d\": [{\"line\": {\"colorbar\": {\"outlinewidth\": 0, \"ticks\": \"\"}}, \"marker\": {\"colorbar\": {\"outlinewidth\": 0, \"ticks\": \"\"}}, \"type\": \"scatter3d\"}], \"scattercarpet\": [{\"marker\": {\"colorbar\": {\"outlinewidth\": 0, \"ticks\": \"\"}}, \"type\": \"scattercarpet\"}], \"scattergeo\": [{\"marker\": {\"colorbar\": {\"outlinewidth\": 0, \"ticks\": \"\"}}, \"type\": \"scattergeo\"}], \"scattergl\": [{\"marker\": {\"colorbar\": {\"outlinewidth\": 0, \"ticks\": \"\"}}, \"type\": \"scattergl\"}], \"scattermapbox\": [{\"marker\": {\"colorbar\": {\"outlinewidth\": 0, \"ticks\": \"\"}}, \"type\": \"scattermapbox\"}], \"scatterpolar\": [{\"marker\": {\"colorbar\": {\"outlinewidth\": 0, \"ticks\": \"\"}}, \"type\": \"scatterpolar\"}], \"scatterpolargl\": [{\"marker\": {\"colorbar\": {\"outlinewidth\": 0, \"ticks\": \"\"}}, \"type\": \"scatterpolargl\"}], \"scatterternary\": [{\"marker\": {\"colorbar\": {\"outlinewidth\": 0, \"ticks\": \"\"}}, \"type\": \"scatterternary\"}], \"surface\": [{\"colorbar\": {\"outlinewidth\": 0, \"ticks\": \"\"}, \"colorscale\": [[0.0, \"#0d0887\"], [0.1111111111111111, \"#46039f\"], [0.2222222222222222, \"#7201a8\"], [0.3333333333333333, \"#9c179e\"], [0.4444444444444444, \"#bd3786\"], [0.5555555555555556, \"#d8576b\"], [0.6666666666666666, \"#ed7953\"], [0.7777777777777778, \"#fb9f3a\"], [0.8888888888888888, \"#fdca26\"], [1.0, \"#f0f921\"]], \"type\": \"surface\"}], \"table\": [{\"cells\": {\"fill\": {\"color\": \"#EBF0F8\"}, \"line\": {\"color\": \"white\"}}, \"header\": {\"fill\": {\"color\": \"#C8D4E3\"}, \"line\": {\"color\": \"white\"}}, \"type\": \"table\"}]}, \"layout\": {\"annotationdefaults\": {\"arrowcolor\": \"#2a3f5f\", \"arrowhead\": 0, \"arrowwidth\": 1}, \"coloraxis\": {\"colorbar\": {\"outlinewidth\": 0, \"ticks\": \"\"}}, \"colorscale\": {\"diverging\": [[0, \"#8e0152\"], [0.1, \"#c51b7d\"], [0.2, \"#de77ae\"], [0.3, \"#f1b6da\"], [0.4, \"#fde0ef\"], [0.5, \"#f7f7f7\"], [0.6, \"#e6f5d0\"], [0.7, \"#b8e186\"], [0.8, \"#7fbc41\"], [0.9, \"#4d9221\"], [1, \"#276419\"]], \"sequential\": [[0.0, \"#0d0887\"], [0.1111111111111111, \"#46039f\"], [0.2222222222222222, \"#7201a8\"], [0.3333333333333333, \"#9c179e\"], [0.4444444444444444, \"#bd3786\"], [0.5555555555555556, \"#d8576b\"], [0.6666666666666666, \"#ed7953\"], [0.7777777777777778, \"#fb9f3a\"], [0.8888888888888888, \"#fdca26\"], [1.0, \"#f0f921\"]], \"sequentialminus\": [[0.0, \"#0d0887\"], [0.1111111111111111, \"#46039f\"], [0.2222222222222222, \"#7201a8\"], [0.3333333333333333, \"#9c179e\"], [0.4444444444444444, \"#bd3786\"], [0.5555555555555556, \"#d8576b\"], [0.6666666666666666, \"#ed7953\"], [0.7777777777777778, \"#fb9f3a\"], [0.8888888888888888, \"#fdca26\"], [1.0, \"#f0f921\"]]}, \"colorway\": [\"#636efa\", \"#EF553B\", \"#00cc96\", \"#ab63fa\", \"#FFA15A\", \"#19d3f3\", \"#FF6692\", \"#B6E880\", \"#FF97FF\", \"#FECB52\"], \"font\": {\"color\": \"#2a3f5f\"}, \"geo\": {\"bgcolor\": \"white\", \"lakecolor\": \"white\", \"landcolor\": \"#E5ECF6\", \"showlakes\": true, \"showland\": true, \"subunitcolor\": \"white\"}, \"hoverlabel\": {\"align\": \"left\"}, \"hovermode\": \"closest\", \"mapbox\": {\"style\": \"light\"}, \"paper_bgcolor\": \"white\", \"plot_bgcolor\": \"#E5ECF6\", \"polar\": {\"angularaxis\": {\"gridcolor\": \"white\", \"linecolor\": \"white\", \"ticks\": \"\"}, \"bgcolor\": \"#E5ECF6\", \"radialaxis\": {\"gridcolor\": \"white\", \"linecolor\": \"white\", \"ticks\": \"\"}}, \"scene\": {\"xaxis\": {\"backgroundcolor\": \"#E5ECF6\", \"gridcolor\": \"white\", \"gridwidth\": 2, \"linecolor\": \"white\", \"showbackground\": true, \"ticks\": \"\", \"zerolinecolor\": \"white\"}, \"yaxis\": {\"backgroundcolor\": \"#E5ECF6\", \"gridcolor\": \"white\", \"gridwidth\": 2, \"linecolor\": \"white\", \"showbackground\": true, \"ticks\": \"\", \"zerolinecolor\": \"white\"}, \"zaxis\": {\"backgroundcolor\": \"#E5ECF6\", \"gridcolor\": \"white\", \"gridwidth\": 2, \"linecolor\": \"white\", \"showbackground\": true, \"ticks\": \"\", \"zerolinecolor\": \"white\"}}, \"shapedefaults\": {\"line\": {\"color\": \"#2a3f5f\"}}, \"ternary\": {\"aaxis\": {\"gridcolor\": \"white\", \"linecolor\": \"white\", \"ticks\": \"\"}, \"baxis\": {\"gridcolor\": \"white\", \"linecolor\": \"white\", \"ticks\": \"\"}, \"bgcolor\": \"#E5ECF6\", \"caxis\": {\"gridcolor\": \"white\", \"linecolor\": \"white\", \"ticks\": \"\"}}, \"title\": {\"x\": 0.05}, \"xaxis\": {\"automargin\": true, \"gridcolor\": \"white\", \"linecolor\": \"white\", \"ticks\": \"\", \"title\": {\"standoff\": 15}, \"zerolinecolor\": \"white\", \"zerolinewidth\": 2}, \"yaxis\": {\"automargin\": true, \"gridcolor\": \"white\", \"linecolor\": \"white\", \"ticks\": \"\", \"title\": {\"standoff\": 15}, \"zerolinecolor\": \"white\", \"zerolinewidth\": 2}}}, \"title\": {\"font\": {\"color\": \"#4D5663\"}}, \"xaxis\": {\"gridcolor\": \"#E1E5ED\", \"showgrid\": true, \"tickfont\": {\"color\": \"#4D5663\"}, \"title\": {\"font\": {\"color\": \"#4D5663\"}, \"text\": \"\"}, \"zerolinecolor\": \"#E1E5ED\"}, \"xaxis2\": {\"anchor\": \"y2\", \"gridcolor\": \"#E1E5ED\", \"showgrid\": true, \"showticklabels\": false, \"tickfont\": {\"color\": \"#4D5663\"}, \"title\": {\"font\": {\"color\": \"#4D5663\"}, \"text\": \"\"}, \"zerolinecolor\": \"#E1E5ED\"}, \"yaxis\": {\"domain\": [0.3, 1], \"gridcolor\": \"#E1E5ED\", \"showgrid\": true, \"tickfont\": {\"color\": \"#4D5663\"}, \"title\": {\"font\": {\"color\": \"#4D5663\"}, \"text\": \"\"}, \"zerolinecolor\": \"#E1E5ED\"}, \"yaxis2\": {\"domain\": [0, 0.25], \"gridcolor\": \"#E1E5ED\", \"showgrid\": true, \"tickfont\": {\"color\": \"#4D5663\"}, \"title\": {\"font\": {\"color\": \"#4D5663\"}, \"text\": \"Spread\"}, \"zerolinecolor\": \"#E1E5ED\"}},\n",
       "                        {\"showLink\": true, \"linkText\": \"Export to plot.ly\", \"plotlyServerURL\": \"https://plot.ly\", \"responsive\": true}\n",
       "                    ).then(function(){\n",
       "                            \n",
       "var gd = document.getElementById('e26b9359-69ba-4dae-afe1-9bbd0bdc9012');\n",
       "var x = new MutationObserver(function (mutations, observer) {{\n",
       "        var display = window.getComputedStyle(gd).display;\n",
       "        if (!display || display === 'none') {{\n",
       "            console.log([gd, 'removed!']);\n",
       "            Plotly.purge(gd);\n",
       "            observer.disconnect();\n",
       "        }}\n",
       "}});\n",
       "\n",
       "// Listen for the removal of the full notebook cells\n",
       "var notebookContainer = gd.closest('#notebook-container');\n",
       "if (notebookContainer) {{\n",
       "    x.observe(notebookContainer, {childList: true});\n",
       "}}\n",
       "\n",
       "// Listen for the clearing of the current output cell\n",
       "var outputEl = gd.closest('.output');\n",
       "if (outputEl) {{\n",
       "    x.observe(outputEl, {childList: true});\n",
       "}}\n",
       "\n",
       "                        })\n",
       "                };\n",
       "                });\n",
       "            </script>\n",
       "        </div>"
      ]
     },
     "metadata": {},
     "output_type": "display_data"
    }
   ],
   "source": [
    "df[['A','B']].iplot(kind='spread')"
   ]
  },
  {
   "cell_type": "markdown",
   "metadata": {},
   "source": [
    "## Histograma"
   ]
  },
  {
   "cell_type": "code",
   "execution_count": 17,
   "metadata": {},
   "outputs": [
    {
     "data": {
      "application/vnd.plotly.v1+json": {
       "config": {
        "linkText": "Export to plot.ly",
        "plotlyServerURL": "https://plot.ly",
        "showLink": true
       },
       "data": [
        {
         "histfunc": "count",
         "histnorm": "",
         "marker": {
          "color": "rgba(255, 153, 51, 1.0)",
          "line": {
           "color": "#4D5663",
           "width": 1.3
          }
         },
         "name": "A",
         "nbinsx": 25,
         "opacity": 0.8,
         "orientation": "v",
         "type": "histogram",
         "x": [
          0.45376365134072455,
          0.1533277234434953,
          0.5584066630730266,
          0.6388125002339647,
          -0.7682082709200291,
          0.5872366051112483,
          -1.3622641558947228,
          0.9197266262491686,
          -0.5667359249270596,
          0.4428979494699839,
          -0.9832214064613543,
          -0.2086539026383452,
          0.5831019922477547,
          1.954808667357305,
          -0.39354558972605347,
          0.30152662807609654,
          0.13427182222200904,
          0.046625265681057806,
          -0.9675029107659785,
          -1.9378907692372627,
          0.7645084255726655,
          0.3456496119966951,
          0.6100739704928948,
          -1.2975215359698145,
          0.9811582960283188,
          -1.854291883561129,
          0.0030300626473484674,
          0.5555330497463216,
          1.9854640098519127,
          -2.8892786549069487,
          -0.5784596935192364,
          0.2120730704035394,
          -1.6367541806959658,
          -0.9219858235162748,
          -0.9038989941312121,
          -1.535290948903216,
          -0.9925978081014436,
          -0.1597238157952492,
          -0.1901984016351724,
          0.4340012252146463,
          1.6412372806898923,
          -0.26853040854857746,
          -1.4860370235943405,
          0.25372152314593843,
          0.8945563158090339,
          -1.2581189537610697,
          0.045752502620580435,
          0.1497617632922686,
          0.2057116223861768,
          1.522860668306455,
          2.4288034729247605,
          0.7271286207696227,
          -1.0042866967532893,
          -1.7551852659625091,
          -0.6452019322122896,
          -0.08558077903288307,
          -0.937374506875622,
          -1.1699904455728098,
          1.4613885965928404,
          0.8723881989578501,
          0.20798177375181456,
          0.6798310425036768,
          0.42731389978554923,
          -0.15521417050771996,
          -0.007772620249765506,
          -0.34694444399638413,
          -0.7226311660756984,
          0.4336460288339709,
          1.898232555378553,
          -0.7793458372913163,
          1.5539085406936917,
          -0.7700115463299503,
          1.976076118695718,
          0.7765767247770977,
          -1.1224316814644946,
          -0.5900259740110259,
          0.010858880228758642,
          -0.17312092096226234,
          0.03626058732618706,
          -0.013328956951237278,
          -0.42293607488429613,
          0.8354496259136793,
          -0.49443977885766727,
          1.6887110227852462,
          -1.4909122935659305,
          1.351877827520775,
          -0.3909619630491156,
          -0.12358388977968666,
          1.9262225184352992,
          -1.888314477524304,
          -0.8030996273076954,
          2.708273101446665,
          0.41042386472559367,
          -0.7852293060505795,
          -1.354368226970318,
          -0.2503422957009691,
          -1.4950744957453541,
          -0.25899218688334524,
          0.5439135753811755,
          1.29831213783766
         ]
        }
       ],
       "layout": {
        "barmode": "overlay",
        "legend": {
         "bgcolor": "#F5F6F9",
         "font": {
          "color": "#4D5663"
         }
        },
        "paper_bgcolor": "#F5F6F9",
        "plot_bgcolor": "#F5F6F9",
        "template": {
         "data": {
          "bar": [
           {
            "error_x": {
             "color": "#2a3f5f"
            },
            "error_y": {
             "color": "#2a3f5f"
            },
            "marker": {
             "line": {
              "color": "#E5ECF6",
              "width": 0.5
             }
            },
            "type": "bar"
           }
          ],
          "barpolar": [
           {
            "marker": {
             "line": {
              "color": "#E5ECF6",
              "width": 0.5
             }
            },
            "type": "barpolar"
           }
          ],
          "carpet": [
           {
            "aaxis": {
             "endlinecolor": "#2a3f5f",
             "gridcolor": "white",
             "linecolor": "white",
             "minorgridcolor": "white",
             "startlinecolor": "#2a3f5f"
            },
            "baxis": {
             "endlinecolor": "#2a3f5f",
             "gridcolor": "white",
             "linecolor": "white",
             "minorgridcolor": "white",
             "startlinecolor": "#2a3f5f"
            },
            "type": "carpet"
           }
          ],
          "choropleth": [
           {
            "colorbar": {
             "outlinewidth": 0,
             "ticks": ""
            },
            "type": "choropleth"
           }
          ],
          "contour": [
           {
            "colorbar": {
             "outlinewidth": 0,
             "ticks": ""
            },
            "colorscale": [
             [
              0,
              "#0d0887"
             ],
             [
              0.1111111111111111,
              "#46039f"
             ],
             [
              0.2222222222222222,
              "#7201a8"
             ],
             [
              0.3333333333333333,
              "#9c179e"
             ],
             [
              0.4444444444444444,
              "#bd3786"
             ],
             [
              0.5555555555555556,
              "#d8576b"
             ],
             [
              0.6666666666666666,
              "#ed7953"
             ],
             [
              0.7777777777777778,
              "#fb9f3a"
             ],
             [
              0.8888888888888888,
              "#fdca26"
             ],
             [
              1,
              "#f0f921"
             ]
            ],
            "type": "contour"
           }
          ],
          "contourcarpet": [
           {
            "colorbar": {
             "outlinewidth": 0,
             "ticks": ""
            },
            "type": "contourcarpet"
           }
          ],
          "heatmap": [
           {
            "colorbar": {
             "outlinewidth": 0,
             "ticks": ""
            },
            "colorscale": [
             [
              0,
              "#0d0887"
             ],
             [
              0.1111111111111111,
              "#46039f"
             ],
             [
              0.2222222222222222,
              "#7201a8"
             ],
             [
              0.3333333333333333,
              "#9c179e"
             ],
             [
              0.4444444444444444,
              "#bd3786"
             ],
             [
              0.5555555555555556,
              "#d8576b"
             ],
             [
              0.6666666666666666,
              "#ed7953"
             ],
             [
              0.7777777777777778,
              "#fb9f3a"
             ],
             [
              0.8888888888888888,
              "#fdca26"
             ],
             [
              1,
              "#f0f921"
             ]
            ],
            "type": "heatmap"
           }
          ],
          "heatmapgl": [
           {
            "colorbar": {
             "outlinewidth": 0,
             "ticks": ""
            },
            "colorscale": [
             [
              0,
              "#0d0887"
             ],
             [
              0.1111111111111111,
              "#46039f"
             ],
             [
              0.2222222222222222,
              "#7201a8"
             ],
             [
              0.3333333333333333,
              "#9c179e"
             ],
             [
              0.4444444444444444,
              "#bd3786"
             ],
             [
              0.5555555555555556,
              "#d8576b"
             ],
             [
              0.6666666666666666,
              "#ed7953"
             ],
             [
              0.7777777777777778,
              "#fb9f3a"
             ],
             [
              0.8888888888888888,
              "#fdca26"
             ],
             [
              1,
              "#f0f921"
             ]
            ],
            "type": "heatmapgl"
           }
          ],
          "histogram": [
           {
            "marker": {
             "colorbar": {
              "outlinewidth": 0,
              "ticks": ""
             }
            },
            "type": "histogram"
           }
          ],
          "histogram2d": [
           {
            "colorbar": {
             "outlinewidth": 0,
             "ticks": ""
            },
            "colorscale": [
             [
              0,
              "#0d0887"
             ],
             [
              0.1111111111111111,
              "#46039f"
             ],
             [
              0.2222222222222222,
              "#7201a8"
             ],
             [
              0.3333333333333333,
              "#9c179e"
             ],
             [
              0.4444444444444444,
              "#bd3786"
             ],
             [
              0.5555555555555556,
              "#d8576b"
             ],
             [
              0.6666666666666666,
              "#ed7953"
             ],
             [
              0.7777777777777778,
              "#fb9f3a"
             ],
             [
              0.8888888888888888,
              "#fdca26"
             ],
             [
              1,
              "#f0f921"
             ]
            ],
            "type": "histogram2d"
           }
          ],
          "histogram2dcontour": [
           {
            "colorbar": {
             "outlinewidth": 0,
             "ticks": ""
            },
            "colorscale": [
             [
              0,
              "#0d0887"
             ],
             [
              0.1111111111111111,
              "#46039f"
             ],
             [
              0.2222222222222222,
              "#7201a8"
             ],
             [
              0.3333333333333333,
              "#9c179e"
             ],
             [
              0.4444444444444444,
              "#bd3786"
             ],
             [
              0.5555555555555556,
              "#d8576b"
             ],
             [
              0.6666666666666666,
              "#ed7953"
             ],
             [
              0.7777777777777778,
              "#fb9f3a"
             ],
             [
              0.8888888888888888,
              "#fdca26"
             ],
             [
              1,
              "#f0f921"
             ]
            ],
            "type": "histogram2dcontour"
           }
          ],
          "mesh3d": [
           {
            "colorbar": {
             "outlinewidth": 0,
             "ticks": ""
            },
            "type": "mesh3d"
           }
          ],
          "parcoords": [
           {
            "line": {
             "colorbar": {
              "outlinewidth": 0,
              "ticks": ""
             }
            },
            "type": "parcoords"
           }
          ],
          "pie": [
           {
            "automargin": true,
            "type": "pie"
           }
          ],
          "scatter": [
           {
            "marker": {
             "colorbar": {
              "outlinewidth": 0,
              "ticks": ""
             }
            },
            "type": "scatter"
           }
          ],
          "scatter3d": [
           {
            "line": {
             "colorbar": {
              "outlinewidth": 0,
              "ticks": ""
             }
            },
            "marker": {
             "colorbar": {
              "outlinewidth": 0,
              "ticks": ""
             }
            },
            "type": "scatter3d"
           }
          ],
          "scattercarpet": [
           {
            "marker": {
             "colorbar": {
              "outlinewidth": 0,
              "ticks": ""
             }
            },
            "type": "scattercarpet"
           }
          ],
          "scattergeo": [
           {
            "marker": {
             "colorbar": {
              "outlinewidth": 0,
              "ticks": ""
             }
            },
            "type": "scattergeo"
           }
          ],
          "scattergl": [
           {
            "marker": {
             "colorbar": {
              "outlinewidth": 0,
              "ticks": ""
             }
            },
            "type": "scattergl"
           }
          ],
          "scattermapbox": [
           {
            "marker": {
             "colorbar": {
              "outlinewidth": 0,
              "ticks": ""
             }
            },
            "type": "scattermapbox"
           }
          ],
          "scatterpolar": [
           {
            "marker": {
             "colorbar": {
              "outlinewidth": 0,
              "ticks": ""
             }
            },
            "type": "scatterpolar"
           }
          ],
          "scatterpolargl": [
           {
            "marker": {
             "colorbar": {
              "outlinewidth": 0,
              "ticks": ""
             }
            },
            "type": "scatterpolargl"
           }
          ],
          "scatterternary": [
           {
            "marker": {
             "colorbar": {
              "outlinewidth": 0,
              "ticks": ""
             }
            },
            "type": "scatterternary"
           }
          ],
          "surface": [
           {
            "colorbar": {
             "outlinewidth": 0,
             "ticks": ""
            },
            "colorscale": [
             [
              0,
              "#0d0887"
             ],
             [
              0.1111111111111111,
              "#46039f"
             ],
             [
              0.2222222222222222,
              "#7201a8"
             ],
             [
              0.3333333333333333,
              "#9c179e"
             ],
             [
              0.4444444444444444,
              "#bd3786"
             ],
             [
              0.5555555555555556,
              "#d8576b"
             ],
             [
              0.6666666666666666,
              "#ed7953"
             ],
             [
              0.7777777777777778,
              "#fb9f3a"
             ],
             [
              0.8888888888888888,
              "#fdca26"
             ],
             [
              1,
              "#f0f921"
             ]
            ],
            "type": "surface"
           }
          ],
          "table": [
           {
            "cells": {
             "fill": {
              "color": "#EBF0F8"
             },
             "line": {
              "color": "white"
             }
            },
            "header": {
             "fill": {
              "color": "#C8D4E3"
             },
             "line": {
              "color": "white"
             }
            },
            "type": "table"
           }
          ]
         },
         "layout": {
          "annotationdefaults": {
           "arrowcolor": "#2a3f5f",
           "arrowhead": 0,
           "arrowwidth": 1
          },
          "coloraxis": {
           "colorbar": {
            "outlinewidth": 0,
            "ticks": ""
           }
          },
          "colorscale": {
           "diverging": [
            [
             0,
             "#8e0152"
            ],
            [
             0.1,
             "#c51b7d"
            ],
            [
             0.2,
             "#de77ae"
            ],
            [
             0.3,
             "#f1b6da"
            ],
            [
             0.4,
             "#fde0ef"
            ],
            [
             0.5,
             "#f7f7f7"
            ],
            [
             0.6,
             "#e6f5d0"
            ],
            [
             0.7,
             "#b8e186"
            ],
            [
             0.8,
             "#7fbc41"
            ],
            [
             0.9,
             "#4d9221"
            ],
            [
             1,
             "#276419"
            ]
           ],
           "sequential": [
            [
             0,
             "#0d0887"
            ],
            [
             0.1111111111111111,
             "#46039f"
            ],
            [
             0.2222222222222222,
             "#7201a8"
            ],
            [
             0.3333333333333333,
             "#9c179e"
            ],
            [
             0.4444444444444444,
             "#bd3786"
            ],
            [
             0.5555555555555556,
             "#d8576b"
            ],
            [
             0.6666666666666666,
             "#ed7953"
            ],
            [
             0.7777777777777778,
             "#fb9f3a"
            ],
            [
             0.8888888888888888,
             "#fdca26"
            ],
            [
             1,
             "#f0f921"
            ]
           ],
           "sequentialminus": [
            [
             0,
             "#0d0887"
            ],
            [
             0.1111111111111111,
             "#46039f"
            ],
            [
             0.2222222222222222,
             "#7201a8"
            ],
            [
             0.3333333333333333,
             "#9c179e"
            ],
            [
             0.4444444444444444,
             "#bd3786"
            ],
            [
             0.5555555555555556,
             "#d8576b"
            ],
            [
             0.6666666666666666,
             "#ed7953"
            ],
            [
             0.7777777777777778,
             "#fb9f3a"
            ],
            [
             0.8888888888888888,
             "#fdca26"
            ],
            [
             1,
             "#f0f921"
            ]
           ]
          },
          "colorway": [
           "#636efa",
           "#EF553B",
           "#00cc96",
           "#ab63fa",
           "#FFA15A",
           "#19d3f3",
           "#FF6692",
           "#B6E880",
           "#FF97FF",
           "#FECB52"
          ],
          "font": {
           "color": "#2a3f5f"
          },
          "geo": {
           "bgcolor": "white",
           "lakecolor": "white",
           "landcolor": "#E5ECF6",
           "showlakes": true,
           "showland": true,
           "subunitcolor": "white"
          },
          "hoverlabel": {
           "align": "left"
          },
          "hovermode": "closest",
          "mapbox": {
           "style": "light"
          },
          "paper_bgcolor": "white",
          "plot_bgcolor": "#E5ECF6",
          "polar": {
           "angularaxis": {
            "gridcolor": "white",
            "linecolor": "white",
            "ticks": ""
           },
           "bgcolor": "#E5ECF6",
           "radialaxis": {
            "gridcolor": "white",
            "linecolor": "white",
            "ticks": ""
           }
          },
          "scene": {
           "xaxis": {
            "backgroundcolor": "#E5ECF6",
            "gridcolor": "white",
            "gridwidth": 2,
            "linecolor": "white",
            "showbackground": true,
            "ticks": "",
            "zerolinecolor": "white"
           },
           "yaxis": {
            "backgroundcolor": "#E5ECF6",
            "gridcolor": "white",
            "gridwidth": 2,
            "linecolor": "white",
            "showbackground": true,
            "ticks": "",
            "zerolinecolor": "white"
           },
           "zaxis": {
            "backgroundcolor": "#E5ECF6",
            "gridcolor": "white",
            "gridwidth": 2,
            "linecolor": "white",
            "showbackground": true,
            "ticks": "",
            "zerolinecolor": "white"
           }
          },
          "shapedefaults": {
           "line": {
            "color": "#2a3f5f"
           }
          },
          "ternary": {
           "aaxis": {
            "gridcolor": "white",
            "linecolor": "white",
            "ticks": ""
           },
           "baxis": {
            "gridcolor": "white",
            "linecolor": "white",
            "ticks": ""
           },
           "bgcolor": "#E5ECF6",
           "caxis": {
            "gridcolor": "white",
            "linecolor": "white",
            "ticks": ""
           }
          },
          "title": {
           "x": 0.05
          },
          "xaxis": {
           "automargin": true,
           "gridcolor": "white",
           "linecolor": "white",
           "ticks": "",
           "title": {
            "standoff": 15
           },
           "zerolinecolor": "white",
           "zerolinewidth": 2
          },
          "yaxis": {
           "automargin": true,
           "gridcolor": "white",
           "linecolor": "white",
           "ticks": "",
           "title": {
            "standoff": 15
           },
           "zerolinecolor": "white",
           "zerolinewidth": 2
          }
         }
        },
        "title": {
         "font": {
          "color": "#4D5663"
         }
        },
        "xaxis": {
         "gridcolor": "#E1E5ED",
         "showgrid": true,
         "tickfont": {
          "color": "#4D5663"
         },
         "title": {
          "font": {
           "color": "#4D5663"
          },
          "text": ""
         },
         "zerolinecolor": "#E1E5ED"
        },
        "yaxis": {
         "gridcolor": "#E1E5ED",
         "showgrid": true,
         "tickfont": {
          "color": "#4D5663"
         },
         "title": {
          "font": {
           "color": "#4D5663"
          },
          "text": ""
         },
         "zerolinecolor": "#E1E5ED"
        }
       }
      },
      "text/html": [
       "<div>\n",
       "        \n",
       "        \n",
       "            <div id=\"0a49defc-6559-4d9f-988e-f71844dcb8d2\" class=\"plotly-graph-div\" style=\"height:525px; width:100%;\"></div>\n",
       "            <script type=\"text/javascript\">\n",
       "                require([\"plotly\"], function(Plotly) {\n",
       "                    window.PLOTLYENV=window.PLOTLYENV || {};\n",
       "                    window.PLOTLYENV.BASE_URL='https://plot.ly';\n",
       "                    \n",
       "                if (document.getElementById(\"0a49defc-6559-4d9f-988e-f71844dcb8d2\")) {\n",
       "                    Plotly.newPlot(\n",
       "                        '0a49defc-6559-4d9f-988e-f71844dcb8d2',\n",
       "                        [{\"histfunc\": \"count\", \"histnorm\": \"\", \"marker\": {\"color\": \"rgba(255, 153, 51, 1.0)\", \"line\": {\"color\": \"#4D5663\", \"width\": 1.3}}, \"name\": \"A\", \"nbinsx\": 25, \"opacity\": 0.8, \"orientation\": \"v\", \"type\": \"histogram\", \"x\": [0.45376365134072455, 0.1533277234434953, 0.5584066630730266, 0.6388125002339647, -0.7682082709200291, 0.5872366051112483, -1.3622641558947228, 0.9197266262491686, -0.5667359249270596, 0.4428979494699839, -0.9832214064613543, -0.2086539026383452, 0.5831019922477547, 1.954808667357305, -0.39354558972605347, 0.30152662807609654, 0.13427182222200904, 0.046625265681057806, -0.9675029107659785, -1.9378907692372627, 0.7645084255726655, 0.3456496119966951, 0.6100739704928948, -1.2975215359698145, 0.9811582960283188, -1.854291883561129, 0.0030300626473484674, 0.5555330497463216, 1.9854640098519127, -2.8892786549069487, -0.5784596935192364, 0.2120730704035394, -1.6367541806959658, -0.9219858235162748, -0.9038989941312121, -1.535290948903216, -0.9925978081014436, -0.1597238157952492, -0.1901984016351724, 0.4340012252146463, 1.6412372806898923, -0.26853040854857746, -1.4860370235943405, 0.25372152314593843, 0.8945563158090339, -1.2581189537610697, 0.045752502620580435, 0.1497617632922686, 0.2057116223861768, 1.522860668306455, 2.4288034729247605, 0.7271286207696227, -1.0042866967532893, -1.7551852659625091, -0.6452019322122896, -0.08558077903288307, -0.937374506875622, -1.1699904455728098, 1.4613885965928404, 0.8723881989578501, 0.20798177375181456, 0.6798310425036768, 0.42731389978554923, -0.15521417050771996, -0.007772620249765506, -0.34694444399638413, -0.7226311660756984, 0.4336460288339709, 1.898232555378553, -0.7793458372913163, 1.5539085406936917, -0.7700115463299503, 1.976076118695718, 0.7765767247770977, -1.1224316814644946, -0.5900259740110259, 0.010858880228758642, -0.17312092096226234, 0.03626058732618706, -0.013328956951237278, -0.42293607488429613, 0.8354496259136793, -0.49443977885766727, 1.6887110227852462, -1.4909122935659305, 1.351877827520775, -0.3909619630491156, -0.12358388977968666, 1.9262225184352992, -1.888314477524304, -0.8030996273076954, 2.708273101446665, 0.41042386472559367, -0.7852293060505795, -1.354368226970318, -0.2503422957009691, -1.4950744957453541, -0.25899218688334524, 0.5439135753811755, 1.29831213783766]}],\n",
       "                        {\"barmode\": \"overlay\", \"legend\": {\"bgcolor\": \"#F5F6F9\", \"font\": {\"color\": \"#4D5663\"}}, \"paper_bgcolor\": \"#F5F6F9\", \"plot_bgcolor\": \"#F5F6F9\", \"template\": {\"data\": {\"bar\": [{\"error_x\": {\"color\": \"#2a3f5f\"}, \"error_y\": {\"color\": \"#2a3f5f\"}, \"marker\": {\"line\": {\"color\": \"#E5ECF6\", \"width\": 0.5}}, \"type\": \"bar\"}], \"barpolar\": [{\"marker\": {\"line\": {\"color\": \"#E5ECF6\", \"width\": 0.5}}, \"type\": \"barpolar\"}], \"carpet\": [{\"aaxis\": {\"endlinecolor\": \"#2a3f5f\", \"gridcolor\": \"white\", \"linecolor\": \"white\", \"minorgridcolor\": \"white\", \"startlinecolor\": \"#2a3f5f\"}, \"baxis\": {\"endlinecolor\": \"#2a3f5f\", \"gridcolor\": \"white\", \"linecolor\": \"white\", \"minorgridcolor\": \"white\", \"startlinecolor\": \"#2a3f5f\"}, \"type\": \"carpet\"}], \"choropleth\": [{\"colorbar\": {\"outlinewidth\": 0, \"ticks\": \"\"}, \"type\": \"choropleth\"}], \"contour\": [{\"colorbar\": {\"outlinewidth\": 0, \"ticks\": \"\"}, \"colorscale\": [[0.0, \"#0d0887\"], [0.1111111111111111, \"#46039f\"], [0.2222222222222222, \"#7201a8\"], [0.3333333333333333, \"#9c179e\"], [0.4444444444444444, \"#bd3786\"], [0.5555555555555556, \"#d8576b\"], [0.6666666666666666, \"#ed7953\"], [0.7777777777777778, \"#fb9f3a\"], [0.8888888888888888, \"#fdca26\"], [1.0, \"#f0f921\"]], \"type\": \"contour\"}], \"contourcarpet\": [{\"colorbar\": {\"outlinewidth\": 0, \"ticks\": \"\"}, \"type\": \"contourcarpet\"}], \"heatmap\": [{\"colorbar\": {\"outlinewidth\": 0, \"ticks\": \"\"}, \"colorscale\": [[0.0, \"#0d0887\"], [0.1111111111111111, \"#46039f\"], [0.2222222222222222, \"#7201a8\"], [0.3333333333333333, \"#9c179e\"], [0.4444444444444444, \"#bd3786\"], [0.5555555555555556, \"#d8576b\"], [0.6666666666666666, \"#ed7953\"], [0.7777777777777778, \"#fb9f3a\"], [0.8888888888888888, \"#fdca26\"], [1.0, \"#f0f921\"]], \"type\": \"heatmap\"}], \"heatmapgl\": [{\"colorbar\": {\"outlinewidth\": 0, \"ticks\": \"\"}, \"colorscale\": [[0.0, \"#0d0887\"], [0.1111111111111111, \"#46039f\"], [0.2222222222222222, \"#7201a8\"], [0.3333333333333333, \"#9c179e\"], [0.4444444444444444, \"#bd3786\"], [0.5555555555555556, \"#d8576b\"], [0.6666666666666666, \"#ed7953\"], [0.7777777777777778, \"#fb9f3a\"], [0.8888888888888888, \"#fdca26\"], [1.0, \"#f0f921\"]], \"type\": \"heatmapgl\"}], \"histogram\": [{\"marker\": {\"colorbar\": {\"outlinewidth\": 0, \"ticks\": \"\"}}, \"type\": \"histogram\"}], \"histogram2d\": [{\"colorbar\": {\"outlinewidth\": 0, \"ticks\": \"\"}, \"colorscale\": [[0.0, \"#0d0887\"], [0.1111111111111111, \"#46039f\"], [0.2222222222222222, \"#7201a8\"], [0.3333333333333333, \"#9c179e\"], [0.4444444444444444, \"#bd3786\"], [0.5555555555555556, \"#d8576b\"], [0.6666666666666666, \"#ed7953\"], [0.7777777777777778, \"#fb9f3a\"], [0.8888888888888888, \"#fdca26\"], [1.0, \"#f0f921\"]], \"type\": \"histogram2d\"}], \"histogram2dcontour\": [{\"colorbar\": {\"outlinewidth\": 0, \"ticks\": \"\"}, \"colorscale\": [[0.0, \"#0d0887\"], [0.1111111111111111, \"#46039f\"], [0.2222222222222222, \"#7201a8\"], [0.3333333333333333, \"#9c179e\"], [0.4444444444444444, \"#bd3786\"], [0.5555555555555556, \"#d8576b\"], [0.6666666666666666, \"#ed7953\"], [0.7777777777777778, \"#fb9f3a\"], [0.8888888888888888, \"#fdca26\"], [1.0, \"#f0f921\"]], \"type\": \"histogram2dcontour\"}], \"mesh3d\": [{\"colorbar\": {\"outlinewidth\": 0, \"ticks\": \"\"}, \"type\": \"mesh3d\"}], \"parcoords\": [{\"line\": {\"colorbar\": {\"outlinewidth\": 0, \"ticks\": \"\"}}, \"type\": \"parcoords\"}], \"pie\": [{\"automargin\": true, \"type\": \"pie\"}], \"scatter\": [{\"marker\": {\"colorbar\": {\"outlinewidth\": 0, \"ticks\": \"\"}}, \"type\": \"scatter\"}], \"scatter3d\": [{\"line\": {\"colorbar\": {\"outlinewidth\": 0, \"ticks\": \"\"}}, \"marker\": {\"colorbar\": {\"outlinewidth\": 0, \"ticks\": \"\"}}, \"type\": \"scatter3d\"}], \"scattercarpet\": [{\"marker\": {\"colorbar\": {\"outlinewidth\": 0, \"ticks\": \"\"}}, \"type\": \"scattercarpet\"}], \"scattergeo\": [{\"marker\": {\"colorbar\": {\"outlinewidth\": 0, \"ticks\": \"\"}}, \"type\": \"scattergeo\"}], \"scattergl\": [{\"marker\": {\"colorbar\": {\"outlinewidth\": 0, \"ticks\": \"\"}}, \"type\": \"scattergl\"}], \"scattermapbox\": [{\"marker\": {\"colorbar\": {\"outlinewidth\": 0, \"ticks\": \"\"}}, \"type\": \"scattermapbox\"}], \"scatterpolar\": [{\"marker\": {\"colorbar\": {\"outlinewidth\": 0, \"ticks\": \"\"}}, \"type\": \"scatterpolar\"}], \"scatterpolargl\": [{\"marker\": {\"colorbar\": {\"outlinewidth\": 0, \"ticks\": \"\"}}, \"type\": \"scatterpolargl\"}], \"scatterternary\": [{\"marker\": {\"colorbar\": {\"outlinewidth\": 0, \"ticks\": \"\"}}, \"type\": \"scatterternary\"}], \"surface\": [{\"colorbar\": {\"outlinewidth\": 0, \"ticks\": \"\"}, \"colorscale\": [[0.0, \"#0d0887\"], [0.1111111111111111, \"#46039f\"], [0.2222222222222222, \"#7201a8\"], [0.3333333333333333, \"#9c179e\"], [0.4444444444444444, \"#bd3786\"], [0.5555555555555556, \"#d8576b\"], [0.6666666666666666, \"#ed7953\"], [0.7777777777777778, \"#fb9f3a\"], [0.8888888888888888, \"#fdca26\"], [1.0, \"#f0f921\"]], \"type\": \"surface\"}], \"table\": [{\"cells\": {\"fill\": {\"color\": \"#EBF0F8\"}, \"line\": {\"color\": \"white\"}}, \"header\": {\"fill\": {\"color\": \"#C8D4E3\"}, \"line\": {\"color\": \"white\"}}, \"type\": \"table\"}]}, \"layout\": {\"annotationdefaults\": {\"arrowcolor\": \"#2a3f5f\", \"arrowhead\": 0, \"arrowwidth\": 1}, \"coloraxis\": {\"colorbar\": {\"outlinewidth\": 0, \"ticks\": \"\"}}, \"colorscale\": {\"diverging\": [[0, \"#8e0152\"], [0.1, \"#c51b7d\"], [0.2, \"#de77ae\"], [0.3, \"#f1b6da\"], [0.4, \"#fde0ef\"], [0.5, \"#f7f7f7\"], [0.6, \"#e6f5d0\"], [0.7, \"#b8e186\"], [0.8, \"#7fbc41\"], [0.9, \"#4d9221\"], [1, \"#276419\"]], \"sequential\": [[0.0, \"#0d0887\"], [0.1111111111111111, \"#46039f\"], [0.2222222222222222, \"#7201a8\"], [0.3333333333333333, \"#9c179e\"], [0.4444444444444444, \"#bd3786\"], [0.5555555555555556, \"#d8576b\"], [0.6666666666666666, \"#ed7953\"], [0.7777777777777778, \"#fb9f3a\"], [0.8888888888888888, \"#fdca26\"], [1.0, \"#f0f921\"]], \"sequentialminus\": [[0.0, \"#0d0887\"], [0.1111111111111111, \"#46039f\"], [0.2222222222222222, \"#7201a8\"], [0.3333333333333333, \"#9c179e\"], [0.4444444444444444, \"#bd3786\"], [0.5555555555555556, \"#d8576b\"], [0.6666666666666666, \"#ed7953\"], [0.7777777777777778, \"#fb9f3a\"], [0.8888888888888888, \"#fdca26\"], [1.0, \"#f0f921\"]]}, \"colorway\": [\"#636efa\", \"#EF553B\", \"#00cc96\", \"#ab63fa\", \"#FFA15A\", \"#19d3f3\", \"#FF6692\", \"#B6E880\", \"#FF97FF\", \"#FECB52\"], \"font\": {\"color\": \"#2a3f5f\"}, \"geo\": {\"bgcolor\": \"white\", \"lakecolor\": \"white\", \"landcolor\": \"#E5ECF6\", \"showlakes\": true, \"showland\": true, \"subunitcolor\": \"white\"}, \"hoverlabel\": {\"align\": \"left\"}, \"hovermode\": \"closest\", \"mapbox\": {\"style\": \"light\"}, \"paper_bgcolor\": \"white\", \"plot_bgcolor\": \"#E5ECF6\", \"polar\": {\"angularaxis\": {\"gridcolor\": \"white\", \"linecolor\": \"white\", \"ticks\": \"\"}, \"bgcolor\": \"#E5ECF6\", \"radialaxis\": {\"gridcolor\": \"white\", \"linecolor\": \"white\", \"ticks\": \"\"}}, \"scene\": {\"xaxis\": {\"backgroundcolor\": \"#E5ECF6\", \"gridcolor\": \"white\", \"gridwidth\": 2, \"linecolor\": \"white\", \"showbackground\": true, \"ticks\": \"\", \"zerolinecolor\": \"white\"}, \"yaxis\": {\"backgroundcolor\": \"#E5ECF6\", \"gridcolor\": \"white\", \"gridwidth\": 2, \"linecolor\": \"white\", \"showbackground\": true, \"ticks\": \"\", \"zerolinecolor\": \"white\"}, \"zaxis\": {\"backgroundcolor\": \"#E5ECF6\", \"gridcolor\": \"white\", \"gridwidth\": 2, \"linecolor\": \"white\", \"showbackground\": true, \"ticks\": \"\", \"zerolinecolor\": \"white\"}}, \"shapedefaults\": {\"line\": {\"color\": \"#2a3f5f\"}}, \"ternary\": {\"aaxis\": {\"gridcolor\": \"white\", \"linecolor\": \"white\", \"ticks\": \"\"}, \"baxis\": {\"gridcolor\": \"white\", \"linecolor\": \"white\", \"ticks\": \"\"}, \"bgcolor\": \"#E5ECF6\", \"caxis\": {\"gridcolor\": \"white\", \"linecolor\": \"white\", \"ticks\": \"\"}}, \"title\": {\"x\": 0.05}, \"xaxis\": {\"automargin\": true, \"gridcolor\": \"white\", \"linecolor\": \"white\", \"ticks\": \"\", \"title\": {\"standoff\": 15}, \"zerolinecolor\": \"white\", \"zerolinewidth\": 2}, \"yaxis\": {\"automargin\": true, \"gridcolor\": \"white\", \"linecolor\": \"white\", \"ticks\": \"\", \"title\": {\"standoff\": 15}, \"zerolinecolor\": \"white\", \"zerolinewidth\": 2}}}, \"title\": {\"font\": {\"color\": \"#4D5663\"}}, \"xaxis\": {\"gridcolor\": \"#E1E5ED\", \"showgrid\": true, \"tickfont\": {\"color\": \"#4D5663\"}, \"title\": {\"font\": {\"color\": \"#4D5663\"}, \"text\": \"\"}, \"zerolinecolor\": \"#E1E5ED\"}, \"yaxis\": {\"gridcolor\": \"#E1E5ED\", \"showgrid\": true, \"tickfont\": {\"color\": \"#4D5663\"}, \"title\": {\"font\": {\"color\": \"#4D5663\"}, \"text\": \"\"}, \"zerolinecolor\": \"#E1E5ED\"}},\n",
       "                        {\"showLink\": true, \"linkText\": \"Export to plot.ly\", \"plotlyServerURL\": \"https://plot.ly\", \"responsive\": true}\n",
       "                    ).then(function(){\n",
       "                            \n",
       "var gd = document.getElementById('0a49defc-6559-4d9f-988e-f71844dcb8d2');\n",
       "var x = new MutationObserver(function (mutations, observer) {{\n",
       "        var display = window.getComputedStyle(gd).display;\n",
       "        if (!display || display === 'none') {{\n",
       "            console.log([gd, 'removed!']);\n",
       "            Plotly.purge(gd);\n",
       "            observer.disconnect();\n",
       "        }}\n",
       "}});\n",
       "\n",
       "// Listen for the removal of the full notebook cells\n",
       "var notebookContainer = gd.closest('#notebook-container');\n",
       "if (notebookContainer) {{\n",
       "    x.observe(notebookContainer, {childList: true});\n",
       "}}\n",
       "\n",
       "// Listen for the clearing of the current output cell\n",
       "var outputEl = gd.closest('.output');\n",
       "if (outputEl) {{\n",
       "    x.observe(outputEl, {childList: true});\n",
       "}}\n",
       "\n",
       "                        })\n",
       "                };\n",
       "                });\n",
       "            </script>\n",
       "        </div>"
      ]
     },
     "metadata": {},
     "output_type": "display_data"
    }
   ],
   "source": [
    "df['A'].iplot(kind='hist',bins=25)"
   ]
  },
  {
   "cell_type": "markdown",
   "metadata": {},
   "source": [
    "## Bolha"
   ]
  },
  {
   "cell_type": "code",
   "execution_count": 18,
   "metadata": {},
   "outputs": [
    {
     "data": {
      "application/vnd.plotly.v1+json": {
       "config": {
        "linkText": "Export to plot.ly",
        "plotlyServerURL": "https://plot.ly",
        "showLink": true
       },
       "data": [
        {
         "marker": {
          "color": [
           "rgb(255, 153, 51)",
           "rgb(55, 128, 191)",
           "rgb(50, 171, 96)",
           "rgb(128, 0, 128)",
           "rgb(219, 64, 82)",
           "rgb(0, 128, 128)",
           "rgb(255, 255, 51)",
           "rgb(128, 128, 0)",
           "rgb(251, 128, 114)",
           "rgb(128, 177, 211)"
          ],
          "line": {
           "width": 1.3
          },
          "size": [
           71,
           43,
           73,
           36,
           31,
           26,
           63,
           54,
           52,
           62,
           52,
           47,
           69,
           72,
           72,
           68,
           25,
           68,
           45,
           30,
           69,
           75,
           28,
           77,
           68,
           69,
           61,
           38,
           73,
           109,
           73,
           76,
           56,
           61,
           43,
           69,
           40,
           12,
           79,
           74,
           16,
           90,
           65,
           89,
           51,
           64,
           57,
           71,
           54,
           63,
           88,
           63,
           48,
           55,
           76,
           98,
           52,
           57,
           27,
           103,
           112,
           43,
           26,
           52,
           34,
           58,
           29,
           57,
           80,
           51,
           74,
           47,
           62,
           69,
           64,
           49,
           63,
           45,
           77,
           70,
           58,
           35,
           54,
           83,
           43,
           91,
           50,
           64,
           51,
           72,
           88,
           32,
           49,
           48,
           50,
           24,
           54,
           66,
           29,
           60
          ],
          "symbol": "circle"
         },
         "mode": "markers",
         "text": "",
         "type": "scatter",
         "x": [
          0.45376365134072455,
          0.1533277234434953,
          0.5584066630730266,
          0.6388125002339647,
          -0.7682082709200291,
          0.5872366051112483,
          -1.3622641558947228,
          0.9197266262491686,
          -0.5667359249270596,
          0.4428979494699839,
          -0.9832214064613543,
          -0.2086539026383452,
          0.5831019922477547,
          1.954808667357305,
          -0.39354558972605347,
          0.30152662807609654,
          0.13427182222200904,
          0.046625265681057806,
          -0.9675029107659785,
          -1.9378907692372627,
          0.7645084255726655,
          0.3456496119966951,
          0.6100739704928948,
          -1.2975215359698145,
          0.9811582960283188,
          -1.854291883561129,
          0.0030300626473484674,
          0.5555330497463216,
          1.9854640098519127,
          -2.8892786549069487,
          -0.5784596935192364,
          0.2120730704035394,
          -1.6367541806959658,
          -0.9219858235162748,
          -0.9038989941312121,
          -1.535290948903216,
          -0.9925978081014436,
          -0.1597238157952492,
          -0.1901984016351724,
          0.4340012252146463,
          1.6412372806898923,
          -0.26853040854857746,
          -1.4860370235943405,
          0.25372152314593843,
          0.8945563158090339,
          -1.2581189537610697,
          0.045752502620580435,
          0.1497617632922686,
          0.2057116223861768,
          1.522860668306455,
          2.4288034729247605,
          0.7271286207696227,
          -1.0042866967532893,
          -1.7551852659625091,
          -0.6452019322122896,
          -0.08558077903288307,
          -0.937374506875622,
          -1.1699904455728098,
          1.4613885965928404,
          0.8723881989578501,
          0.20798177375181456,
          0.6798310425036768,
          0.42731389978554923,
          -0.15521417050771996,
          -0.007772620249765506,
          -0.34694444399638413,
          -0.7226311660756984,
          0.4336460288339709,
          1.898232555378553,
          -0.7793458372913163,
          1.5539085406936917,
          -0.7700115463299503,
          1.976076118695718,
          0.7765767247770977,
          -1.1224316814644946,
          -0.5900259740110259,
          0.010858880228758642,
          -0.17312092096226234,
          0.03626058732618706,
          -0.013328956951237278,
          -0.42293607488429613,
          0.8354496259136793,
          -0.49443977885766727,
          1.6887110227852462,
          -1.4909122935659305,
          1.351877827520775,
          -0.3909619630491156,
          -0.12358388977968666,
          1.9262225184352992,
          -1.888314477524304,
          -0.8030996273076954,
          2.708273101446665,
          0.41042386472559367,
          -0.7852293060505795,
          -1.354368226970318,
          -0.2503422957009691,
          -1.4950744957453541,
          -0.25899218688334524,
          0.5439135753811755,
          1.29831213783766
         ],
         "y": [
          0.48791258594993797,
          -0.05891854456106384,
          -0.6362022045967219,
          -0.4056058416314476,
          0.0006330543338569247,
          0.870525528955877,
          -0.6764844175995441,
          0.6474668146657152,
          -0.011818422547298509,
          1.3951013679061022,
          -1.7836141736487758,
          -0.04452308793644446,
          0.167234249338456,
          1.2567361760617723,
          -0.14027575575641704,
          0.09429143699907863,
          1.1242409616971984,
          0.050151518880630894,
          -0.2433928696764287,
          0.0783502937989915,
          0.9577964812936168,
          0.8770513370496233,
          -0.9686451268607692,
          -1.1455682487368903,
          1.667442748949377,
          1.5793147080970615,
          -0.4224730377130238,
          -0.3868067628069606,
          -1.5982968414883156,
          -0.2487089658615257,
          -0.39182632176914484,
          0.4986063317118386,
          -0.8700980248271802,
          0.5019229760141615,
          0.47136913990314216,
          0.09506378894544326,
          -0.4780009951857549,
          -0.15656352607360774,
          0.13881204338059433,
          1.0981469705486244,
          -0.6473528118947334,
          -0.07792660246003699,
          0.49093685414840577,
          0.9380626144705636,
          -0.7734212976175214,
          0.33422943469930877,
          -0.08206457103229005,
          0.19675075386621915,
          0.5420001440757906,
          -1.0969320780915388,
          0.14105130514566805,
          -0.2555864748272685,
          0.3782298749075631,
          0.07122122996107905,
          -0.18649207559510775,
          1.960743631159648,
          -0.5819049046976688,
          -0.5437881897673993,
          -0.6152534082450581,
          -0.08579520337015567,
          -1.0141040794192604,
          -0.7300103716957315,
          1.1591059727549322,
          -0.48871717672232134,
          0.6514275390594886,
          0.2959286126290568,
          -2.8449390446672465,
          -0.9964128029365027,
          -0.03310589205306478,
          0.45683529946442764,
          1.5500313810441426,
          -1.5430455490623174,
          1.2546011341118462,
          0.21495064400066777,
          0.3715588678943498,
          0.49929171775189896,
          0.30296929351938007,
          -1.4839432860196824,
          -2.026418060881709,
          -0.2651049157961102,
          -0.5172731186958455,
          -0.9233505359557593,
          -1.6777405785887876,
          1.1587072682107997,
          -0.08555026672901489,
          -0.08697221682863826,
          -0.8752844276408953,
          -0.4229123641934026,
          1.4152637622249185,
          -0.2687365546300804,
          -0.845265118679393,
          0.03661171573420025,
          -1.0408084121886536,
          0.07503804644651897,
          1.3461860366879066,
          0.008006281464838167,
          1.5369515511553713,
          1.046452560294225,
          -1.6355746895675083,
          -0.24565447964768866
         ]
        }
       ],
       "layout": {
        "legend": {
         "bgcolor": "#F5F6F9",
         "font": {
          "color": "#4D5663"
         }
        },
        "paper_bgcolor": "#F5F6F9",
        "plot_bgcolor": "#F5F6F9",
        "template": {
         "data": {
          "bar": [
           {
            "error_x": {
             "color": "#2a3f5f"
            },
            "error_y": {
             "color": "#2a3f5f"
            },
            "marker": {
             "line": {
              "color": "#E5ECF6",
              "width": 0.5
             }
            },
            "type": "bar"
           }
          ],
          "barpolar": [
           {
            "marker": {
             "line": {
              "color": "#E5ECF6",
              "width": 0.5
             }
            },
            "type": "barpolar"
           }
          ],
          "carpet": [
           {
            "aaxis": {
             "endlinecolor": "#2a3f5f",
             "gridcolor": "white",
             "linecolor": "white",
             "minorgridcolor": "white",
             "startlinecolor": "#2a3f5f"
            },
            "baxis": {
             "endlinecolor": "#2a3f5f",
             "gridcolor": "white",
             "linecolor": "white",
             "minorgridcolor": "white",
             "startlinecolor": "#2a3f5f"
            },
            "type": "carpet"
           }
          ],
          "choropleth": [
           {
            "colorbar": {
             "outlinewidth": 0,
             "ticks": ""
            },
            "type": "choropleth"
           }
          ],
          "contour": [
           {
            "colorbar": {
             "outlinewidth": 0,
             "ticks": ""
            },
            "colorscale": [
             [
              0,
              "#0d0887"
             ],
             [
              0.1111111111111111,
              "#46039f"
             ],
             [
              0.2222222222222222,
              "#7201a8"
             ],
             [
              0.3333333333333333,
              "#9c179e"
             ],
             [
              0.4444444444444444,
              "#bd3786"
             ],
             [
              0.5555555555555556,
              "#d8576b"
             ],
             [
              0.6666666666666666,
              "#ed7953"
             ],
             [
              0.7777777777777778,
              "#fb9f3a"
             ],
             [
              0.8888888888888888,
              "#fdca26"
             ],
             [
              1,
              "#f0f921"
             ]
            ],
            "type": "contour"
           }
          ],
          "contourcarpet": [
           {
            "colorbar": {
             "outlinewidth": 0,
             "ticks": ""
            },
            "type": "contourcarpet"
           }
          ],
          "heatmap": [
           {
            "colorbar": {
             "outlinewidth": 0,
             "ticks": ""
            },
            "colorscale": [
             [
              0,
              "#0d0887"
             ],
             [
              0.1111111111111111,
              "#46039f"
             ],
             [
              0.2222222222222222,
              "#7201a8"
             ],
             [
              0.3333333333333333,
              "#9c179e"
             ],
             [
              0.4444444444444444,
              "#bd3786"
             ],
             [
              0.5555555555555556,
              "#d8576b"
             ],
             [
              0.6666666666666666,
              "#ed7953"
             ],
             [
              0.7777777777777778,
              "#fb9f3a"
             ],
             [
              0.8888888888888888,
              "#fdca26"
             ],
             [
              1,
              "#f0f921"
             ]
            ],
            "type": "heatmap"
           }
          ],
          "heatmapgl": [
           {
            "colorbar": {
             "outlinewidth": 0,
             "ticks": ""
            },
            "colorscale": [
             [
              0,
              "#0d0887"
             ],
             [
              0.1111111111111111,
              "#46039f"
             ],
             [
              0.2222222222222222,
              "#7201a8"
             ],
             [
              0.3333333333333333,
              "#9c179e"
             ],
             [
              0.4444444444444444,
              "#bd3786"
             ],
             [
              0.5555555555555556,
              "#d8576b"
             ],
             [
              0.6666666666666666,
              "#ed7953"
             ],
             [
              0.7777777777777778,
              "#fb9f3a"
             ],
             [
              0.8888888888888888,
              "#fdca26"
             ],
             [
              1,
              "#f0f921"
             ]
            ],
            "type": "heatmapgl"
           }
          ],
          "histogram": [
           {
            "marker": {
             "colorbar": {
              "outlinewidth": 0,
              "ticks": ""
             }
            },
            "type": "histogram"
           }
          ],
          "histogram2d": [
           {
            "colorbar": {
             "outlinewidth": 0,
             "ticks": ""
            },
            "colorscale": [
             [
              0,
              "#0d0887"
             ],
             [
              0.1111111111111111,
              "#46039f"
             ],
             [
              0.2222222222222222,
              "#7201a8"
             ],
             [
              0.3333333333333333,
              "#9c179e"
             ],
             [
              0.4444444444444444,
              "#bd3786"
             ],
             [
              0.5555555555555556,
              "#d8576b"
             ],
             [
              0.6666666666666666,
              "#ed7953"
             ],
             [
              0.7777777777777778,
              "#fb9f3a"
             ],
             [
              0.8888888888888888,
              "#fdca26"
             ],
             [
              1,
              "#f0f921"
             ]
            ],
            "type": "histogram2d"
           }
          ],
          "histogram2dcontour": [
           {
            "colorbar": {
             "outlinewidth": 0,
             "ticks": ""
            },
            "colorscale": [
             [
              0,
              "#0d0887"
             ],
             [
              0.1111111111111111,
              "#46039f"
             ],
             [
              0.2222222222222222,
              "#7201a8"
             ],
             [
              0.3333333333333333,
              "#9c179e"
             ],
             [
              0.4444444444444444,
              "#bd3786"
             ],
             [
              0.5555555555555556,
              "#d8576b"
             ],
             [
              0.6666666666666666,
              "#ed7953"
             ],
             [
              0.7777777777777778,
              "#fb9f3a"
             ],
             [
              0.8888888888888888,
              "#fdca26"
             ],
             [
              1,
              "#f0f921"
             ]
            ],
            "type": "histogram2dcontour"
           }
          ],
          "mesh3d": [
           {
            "colorbar": {
             "outlinewidth": 0,
             "ticks": ""
            },
            "type": "mesh3d"
           }
          ],
          "parcoords": [
           {
            "line": {
             "colorbar": {
              "outlinewidth": 0,
              "ticks": ""
             }
            },
            "type": "parcoords"
           }
          ],
          "pie": [
           {
            "automargin": true,
            "type": "pie"
           }
          ],
          "scatter": [
           {
            "marker": {
             "colorbar": {
              "outlinewidth": 0,
              "ticks": ""
             }
            },
            "type": "scatter"
           }
          ],
          "scatter3d": [
           {
            "line": {
             "colorbar": {
              "outlinewidth": 0,
              "ticks": ""
             }
            },
            "marker": {
             "colorbar": {
              "outlinewidth": 0,
              "ticks": ""
             }
            },
            "type": "scatter3d"
           }
          ],
          "scattercarpet": [
           {
            "marker": {
             "colorbar": {
              "outlinewidth": 0,
              "ticks": ""
             }
            },
            "type": "scattercarpet"
           }
          ],
          "scattergeo": [
           {
            "marker": {
             "colorbar": {
              "outlinewidth": 0,
              "ticks": ""
             }
            },
            "type": "scattergeo"
           }
          ],
          "scattergl": [
           {
            "marker": {
             "colorbar": {
              "outlinewidth": 0,
              "ticks": ""
             }
            },
            "type": "scattergl"
           }
          ],
          "scattermapbox": [
           {
            "marker": {
             "colorbar": {
              "outlinewidth": 0,
              "ticks": ""
             }
            },
            "type": "scattermapbox"
           }
          ],
          "scatterpolar": [
           {
            "marker": {
             "colorbar": {
              "outlinewidth": 0,
              "ticks": ""
             }
            },
            "type": "scatterpolar"
           }
          ],
          "scatterpolargl": [
           {
            "marker": {
             "colorbar": {
              "outlinewidth": 0,
              "ticks": ""
             }
            },
            "type": "scatterpolargl"
           }
          ],
          "scatterternary": [
           {
            "marker": {
             "colorbar": {
              "outlinewidth": 0,
              "ticks": ""
             }
            },
            "type": "scatterternary"
           }
          ],
          "surface": [
           {
            "colorbar": {
             "outlinewidth": 0,
             "ticks": ""
            },
            "colorscale": [
             [
              0,
              "#0d0887"
             ],
             [
              0.1111111111111111,
              "#46039f"
             ],
             [
              0.2222222222222222,
              "#7201a8"
             ],
             [
              0.3333333333333333,
              "#9c179e"
             ],
             [
              0.4444444444444444,
              "#bd3786"
             ],
             [
              0.5555555555555556,
              "#d8576b"
             ],
             [
              0.6666666666666666,
              "#ed7953"
             ],
             [
              0.7777777777777778,
              "#fb9f3a"
             ],
             [
              0.8888888888888888,
              "#fdca26"
             ],
             [
              1,
              "#f0f921"
             ]
            ],
            "type": "surface"
           }
          ],
          "table": [
           {
            "cells": {
             "fill": {
              "color": "#EBF0F8"
             },
             "line": {
              "color": "white"
             }
            },
            "header": {
             "fill": {
              "color": "#C8D4E3"
             },
             "line": {
              "color": "white"
             }
            },
            "type": "table"
           }
          ]
         },
         "layout": {
          "annotationdefaults": {
           "arrowcolor": "#2a3f5f",
           "arrowhead": 0,
           "arrowwidth": 1
          },
          "coloraxis": {
           "colorbar": {
            "outlinewidth": 0,
            "ticks": ""
           }
          },
          "colorscale": {
           "diverging": [
            [
             0,
             "#8e0152"
            ],
            [
             0.1,
             "#c51b7d"
            ],
            [
             0.2,
             "#de77ae"
            ],
            [
             0.3,
             "#f1b6da"
            ],
            [
             0.4,
             "#fde0ef"
            ],
            [
             0.5,
             "#f7f7f7"
            ],
            [
             0.6,
             "#e6f5d0"
            ],
            [
             0.7,
             "#b8e186"
            ],
            [
             0.8,
             "#7fbc41"
            ],
            [
             0.9,
             "#4d9221"
            ],
            [
             1,
             "#276419"
            ]
           ],
           "sequential": [
            [
             0,
             "#0d0887"
            ],
            [
             0.1111111111111111,
             "#46039f"
            ],
            [
             0.2222222222222222,
             "#7201a8"
            ],
            [
             0.3333333333333333,
             "#9c179e"
            ],
            [
             0.4444444444444444,
             "#bd3786"
            ],
            [
             0.5555555555555556,
             "#d8576b"
            ],
            [
             0.6666666666666666,
             "#ed7953"
            ],
            [
             0.7777777777777778,
             "#fb9f3a"
            ],
            [
             0.8888888888888888,
             "#fdca26"
            ],
            [
             1,
             "#f0f921"
            ]
           ],
           "sequentialminus": [
            [
             0,
             "#0d0887"
            ],
            [
             0.1111111111111111,
             "#46039f"
            ],
            [
             0.2222222222222222,
             "#7201a8"
            ],
            [
             0.3333333333333333,
             "#9c179e"
            ],
            [
             0.4444444444444444,
             "#bd3786"
            ],
            [
             0.5555555555555556,
             "#d8576b"
            ],
            [
             0.6666666666666666,
             "#ed7953"
            ],
            [
             0.7777777777777778,
             "#fb9f3a"
            ],
            [
             0.8888888888888888,
             "#fdca26"
            ],
            [
             1,
             "#f0f921"
            ]
           ]
          },
          "colorway": [
           "#636efa",
           "#EF553B",
           "#00cc96",
           "#ab63fa",
           "#FFA15A",
           "#19d3f3",
           "#FF6692",
           "#B6E880",
           "#FF97FF",
           "#FECB52"
          ],
          "font": {
           "color": "#2a3f5f"
          },
          "geo": {
           "bgcolor": "white",
           "lakecolor": "white",
           "landcolor": "#E5ECF6",
           "showlakes": true,
           "showland": true,
           "subunitcolor": "white"
          },
          "hoverlabel": {
           "align": "left"
          },
          "hovermode": "closest",
          "mapbox": {
           "style": "light"
          },
          "paper_bgcolor": "white",
          "plot_bgcolor": "#E5ECF6",
          "polar": {
           "angularaxis": {
            "gridcolor": "white",
            "linecolor": "white",
            "ticks": ""
           },
           "bgcolor": "#E5ECF6",
           "radialaxis": {
            "gridcolor": "white",
            "linecolor": "white",
            "ticks": ""
           }
          },
          "scene": {
           "xaxis": {
            "backgroundcolor": "#E5ECF6",
            "gridcolor": "white",
            "gridwidth": 2,
            "linecolor": "white",
            "showbackground": true,
            "ticks": "",
            "zerolinecolor": "white"
           },
           "yaxis": {
            "backgroundcolor": "#E5ECF6",
            "gridcolor": "white",
            "gridwidth": 2,
            "linecolor": "white",
            "showbackground": true,
            "ticks": "",
            "zerolinecolor": "white"
           },
           "zaxis": {
            "backgroundcolor": "#E5ECF6",
            "gridcolor": "white",
            "gridwidth": 2,
            "linecolor": "white",
            "showbackground": true,
            "ticks": "",
            "zerolinecolor": "white"
           }
          },
          "shapedefaults": {
           "line": {
            "color": "#2a3f5f"
           }
          },
          "ternary": {
           "aaxis": {
            "gridcolor": "white",
            "linecolor": "white",
            "ticks": ""
           },
           "baxis": {
            "gridcolor": "white",
            "linecolor": "white",
            "ticks": ""
           },
           "bgcolor": "#E5ECF6",
           "caxis": {
            "gridcolor": "white",
            "linecolor": "white",
            "ticks": ""
           }
          },
          "title": {
           "x": 0.05
          },
          "xaxis": {
           "automargin": true,
           "gridcolor": "white",
           "linecolor": "white",
           "ticks": "",
           "title": {
            "standoff": 15
           },
           "zerolinecolor": "white",
           "zerolinewidth": 2
          },
          "yaxis": {
           "automargin": true,
           "gridcolor": "white",
           "linecolor": "white",
           "ticks": "",
           "title": {
            "standoff": 15
           },
           "zerolinecolor": "white",
           "zerolinewidth": 2
          }
         }
        },
        "title": {
         "font": {
          "color": "#4D5663"
         }
        },
        "xaxis": {
         "gridcolor": "#E1E5ED",
         "showgrid": true,
         "tickfont": {
          "color": "#4D5663"
         },
         "title": {
          "font": {
           "color": "#4D5663"
          },
          "text": ""
         },
         "zerolinecolor": "#E1E5ED"
        },
        "yaxis": {
         "gridcolor": "#E1E5ED",
         "showgrid": true,
         "tickfont": {
          "color": "#4D5663"
         },
         "title": {
          "font": {
           "color": "#4D5663"
          },
          "text": ""
         },
         "zerolinecolor": "#E1E5ED"
        }
       }
      },
      "text/html": [
       "<div>\n",
       "        \n",
       "        \n",
       "            <div id=\"cf1aff88-f86c-43da-a6cf-ff9258e33bd3\" class=\"plotly-graph-div\" style=\"height:525px; width:100%;\"></div>\n",
       "            <script type=\"text/javascript\">\n",
       "                require([\"plotly\"], function(Plotly) {\n",
       "                    window.PLOTLYENV=window.PLOTLYENV || {};\n",
       "                    window.PLOTLYENV.BASE_URL='https://plot.ly';\n",
       "                    \n",
       "                if (document.getElementById(\"cf1aff88-f86c-43da-a6cf-ff9258e33bd3\")) {\n",
       "                    Plotly.newPlot(\n",
       "                        'cf1aff88-f86c-43da-a6cf-ff9258e33bd3',\n",
       "                        [{\"marker\": {\"color\": [\"rgb(255, 153, 51)\", \"rgb(55, 128, 191)\", \"rgb(50, 171, 96)\", \"rgb(128, 0, 128)\", \"rgb(219, 64, 82)\", \"rgb(0, 128, 128)\", \"rgb(255, 255, 51)\", \"rgb(128, 128, 0)\", \"rgb(251, 128, 114)\", \"rgb(128, 177, 211)\"], \"line\": {\"width\": 1.3}, \"size\": [71, 43, 73, 36, 31, 26, 63, 54, 52, 62, 52, 47, 69, 72, 72, 68, 25, 68, 45, 30, 69, 75, 28, 77, 68, 69, 61, 38, 73, 109, 73, 76, 56, 61, 43, 69, 40, 12, 79, 74, 16, 90, 65, 89, 51, 64, 57, 71, 54, 63, 88, 63, 48, 55, 76, 98, 52, 57, 27, 103, 112, 43, 26, 52, 34, 58, 29, 57, 80, 51, 74, 47, 62, 69, 64, 49, 63, 45, 77, 70, 58, 35, 54, 83, 43, 91, 50, 64, 51, 72, 88, 32, 49, 48, 50, 24, 54, 66, 29, 60], \"symbol\": \"circle\"}, \"mode\": \"markers\", \"text\": \"\", \"type\": \"scatter\", \"x\": [0.45376365134072455, 0.1533277234434953, 0.5584066630730266, 0.6388125002339647, -0.7682082709200291, 0.5872366051112483, -1.3622641558947228, 0.9197266262491686, -0.5667359249270596, 0.4428979494699839, -0.9832214064613543, -0.2086539026383452, 0.5831019922477547, 1.954808667357305, -0.39354558972605347, 0.30152662807609654, 0.13427182222200904, 0.046625265681057806, -0.9675029107659785, -1.9378907692372627, 0.7645084255726655, 0.3456496119966951, 0.6100739704928948, -1.2975215359698145, 0.9811582960283188, -1.854291883561129, 0.0030300626473484674, 0.5555330497463216, 1.9854640098519127, -2.8892786549069487, -0.5784596935192364, 0.2120730704035394, -1.6367541806959658, -0.9219858235162748, -0.9038989941312121, -1.535290948903216, -0.9925978081014436, -0.1597238157952492, -0.1901984016351724, 0.4340012252146463, 1.6412372806898923, -0.26853040854857746, -1.4860370235943405, 0.25372152314593843, 0.8945563158090339, -1.2581189537610697, 0.045752502620580435, 0.1497617632922686, 0.2057116223861768, 1.522860668306455, 2.4288034729247605, 0.7271286207696227, -1.0042866967532893, -1.7551852659625091, -0.6452019322122896, -0.08558077903288307, -0.937374506875622, -1.1699904455728098, 1.4613885965928404, 0.8723881989578501, 0.20798177375181456, 0.6798310425036768, 0.42731389978554923, -0.15521417050771996, -0.007772620249765506, -0.34694444399638413, -0.7226311660756984, 0.4336460288339709, 1.898232555378553, -0.7793458372913163, 1.5539085406936917, -0.7700115463299503, 1.976076118695718, 0.7765767247770977, -1.1224316814644946, -0.5900259740110259, 0.010858880228758642, -0.17312092096226234, 0.03626058732618706, -0.013328956951237278, -0.42293607488429613, 0.8354496259136793, -0.49443977885766727, 1.6887110227852462, -1.4909122935659305, 1.351877827520775, -0.3909619630491156, -0.12358388977968666, 1.9262225184352992, -1.888314477524304, -0.8030996273076954, 2.708273101446665, 0.41042386472559367, -0.7852293060505795, -1.354368226970318, -0.2503422957009691, -1.4950744957453541, -0.25899218688334524, 0.5439135753811755, 1.29831213783766], \"y\": [0.48791258594993797, -0.05891854456106384, -0.6362022045967219, -0.4056058416314476, 0.0006330543338569247, 0.870525528955877, -0.6764844175995441, 0.6474668146657152, -0.011818422547298509, 1.3951013679061022, -1.7836141736487758, -0.04452308793644446, 0.167234249338456, 1.2567361760617723, -0.14027575575641704, 0.09429143699907863, 1.1242409616971984, 0.050151518880630894, -0.2433928696764287, 0.0783502937989915, 0.9577964812936168, 0.8770513370496233, -0.9686451268607692, -1.1455682487368903, 1.667442748949377, 1.5793147080970615, -0.4224730377130238, -0.3868067628069606, -1.5982968414883156, -0.2487089658615257, -0.39182632176914484, 0.4986063317118386, -0.8700980248271802, 0.5019229760141615, 0.47136913990314216, 0.09506378894544326, -0.4780009951857549, -0.15656352607360774, 0.13881204338059433, 1.0981469705486244, -0.6473528118947334, -0.07792660246003699, 0.49093685414840577, 0.9380626144705636, -0.7734212976175214, 0.33422943469930877, -0.08206457103229005, 0.19675075386621915, 0.5420001440757906, -1.0969320780915388, 0.14105130514566805, -0.2555864748272685, 0.3782298749075631, 0.07122122996107905, -0.18649207559510775, 1.960743631159648, -0.5819049046976688, -0.5437881897673993, -0.6152534082450581, -0.08579520337015567, -1.0141040794192604, -0.7300103716957315, 1.1591059727549322, -0.48871717672232134, 0.6514275390594886, 0.2959286126290568, -2.8449390446672465, -0.9964128029365027, -0.03310589205306478, 0.45683529946442764, 1.5500313810441426, -1.5430455490623174, 1.2546011341118462, 0.21495064400066777, 0.3715588678943498, 0.49929171775189896, 0.30296929351938007, -1.4839432860196824, -2.026418060881709, -0.2651049157961102, -0.5172731186958455, -0.9233505359557593, -1.6777405785887876, 1.1587072682107997, -0.08555026672901489, -0.08697221682863826, -0.8752844276408953, -0.4229123641934026, 1.4152637622249185, -0.2687365546300804, -0.845265118679393, 0.03661171573420025, -1.0408084121886536, 0.07503804644651897, 1.3461860366879066, 0.008006281464838167, 1.5369515511553713, 1.046452560294225, -1.6355746895675083, -0.24565447964768866]}],\n",
       "                        {\"legend\": {\"bgcolor\": \"#F5F6F9\", \"font\": {\"color\": \"#4D5663\"}}, \"paper_bgcolor\": \"#F5F6F9\", \"plot_bgcolor\": \"#F5F6F9\", \"template\": {\"data\": {\"bar\": [{\"error_x\": {\"color\": \"#2a3f5f\"}, \"error_y\": {\"color\": \"#2a3f5f\"}, \"marker\": {\"line\": {\"color\": \"#E5ECF6\", \"width\": 0.5}}, \"type\": \"bar\"}], \"barpolar\": [{\"marker\": {\"line\": {\"color\": \"#E5ECF6\", \"width\": 0.5}}, \"type\": \"barpolar\"}], \"carpet\": [{\"aaxis\": {\"endlinecolor\": \"#2a3f5f\", \"gridcolor\": \"white\", \"linecolor\": \"white\", \"minorgridcolor\": \"white\", \"startlinecolor\": \"#2a3f5f\"}, \"baxis\": {\"endlinecolor\": \"#2a3f5f\", \"gridcolor\": \"white\", \"linecolor\": \"white\", \"minorgridcolor\": \"white\", \"startlinecolor\": \"#2a3f5f\"}, \"type\": \"carpet\"}], \"choropleth\": [{\"colorbar\": {\"outlinewidth\": 0, \"ticks\": \"\"}, \"type\": \"choropleth\"}], \"contour\": [{\"colorbar\": {\"outlinewidth\": 0, \"ticks\": \"\"}, \"colorscale\": [[0.0, \"#0d0887\"], [0.1111111111111111, \"#46039f\"], [0.2222222222222222, \"#7201a8\"], [0.3333333333333333, \"#9c179e\"], [0.4444444444444444, \"#bd3786\"], [0.5555555555555556, \"#d8576b\"], [0.6666666666666666, \"#ed7953\"], [0.7777777777777778, \"#fb9f3a\"], [0.8888888888888888, \"#fdca26\"], [1.0, \"#f0f921\"]], \"type\": \"contour\"}], \"contourcarpet\": [{\"colorbar\": {\"outlinewidth\": 0, \"ticks\": \"\"}, \"type\": \"contourcarpet\"}], \"heatmap\": [{\"colorbar\": {\"outlinewidth\": 0, \"ticks\": \"\"}, \"colorscale\": [[0.0, \"#0d0887\"], [0.1111111111111111, \"#46039f\"], [0.2222222222222222, \"#7201a8\"], [0.3333333333333333, \"#9c179e\"], [0.4444444444444444, \"#bd3786\"], [0.5555555555555556, \"#d8576b\"], [0.6666666666666666, \"#ed7953\"], [0.7777777777777778, \"#fb9f3a\"], [0.8888888888888888, \"#fdca26\"], [1.0, \"#f0f921\"]], \"type\": \"heatmap\"}], \"heatmapgl\": [{\"colorbar\": {\"outlinewidth\": 0, \"ticks\": \"\"}, \"colorscale\": [[0.0, \"#0d0887\"], [0.1111111111111111, \"#46039f\"], [0.2222222222222222, \"#7201a8\"], [0.3333333333333333, \"#9c179e\"], [0.4444444444444444, \"#bd3786\"], [0.5555555555555556, \"#d8576b\"], [0.6666666666666666, \"#ed7953\"], [0.7777777777777778, \"#fb9f3a\"], [0.8888888888888888, \"#fdca26\"], [1.0, \"#f0f921\"]], \"type\": \"heatmapgl\"}], \"histogram\": [{\"marker\": {\"colorbar\": {\"outlinewidth\": 0, \"ticks\": \"\"}}, \"type\": \"histogram\"}], \"histogram2d\": [{\"colorbar\": {\"outlinewidth\": 0, \"ticks\": \"\"}, \"colorscale\": [[0.0, \"#0d0887\"], [0.1111111111111111, \"#46039f\"], [0.2222222222222222, \"#7201a8\"], [0.3333333333333333, \"#9c179e\"], [0.4444444444444444, \"#bd3786\"], [0.5555555555555556, \"#d8576b\"], [0.6666666666666666, \"#ed7953\"], [0.7777777777777778, \"#fb9f3a\"], [0.8888888888888888, \"#fdca26\"], [1.0, \"#f0f921\"]], \"type\": \"histogram2d\"}], \"histogram2dcontour\": [{\"colorbar\": {\"outlinewidth\": 0, \"ticks\": \"\"}, \"colorscale\": [[0.0, \"#0d0887\"], [0.1111111111111111, \"#46039f\"], [0.2222222222222222, \"#7201a8\"], [0.3333333333333333, \"#9c179e\"], [0.4444444444444444, \"#bd3786\"], [0.5555555555555556, \"#d8576b\"], [0.6666666666666666, \"#ed7953\"], [0.7777777777777778, \"#fb9f3a\"], [0.8888888888888888, \"#fdca26\"], [1.0, \"#f0f921\"]], \"type\": \"histogram2dcontour\"}], \"mesh3d\": [{\"colorbar\": {\"outlinewidth\": 0, \"ticks\": \"\"}, \"type\": \"mesh3d\"}], \"parcoords\": [{\"line\": {\"colorbar\": {\"outlinewidth\": 0, \"ticks\": \"\"}}, \"type\": \"parcoords\"}], \"pie\": [{\"automargin\": true, \"type\": \"pie\"}], \"scatter\": [{\"marker\": {\"colorbar\": {\"outlinewidth\": 0, \"ticks\": \"\"}}, \"type\": \"scatter\"}], \"scatter3d\": [{\"line\": {\"colorbar\": {\"outlinewidth\": 0, \"ticks\": \"\"}}, \"marker\": {\"colorbar\": {\"outlinewidth\": 0, \"ticks\": \"\"}}, \"type\": \"scatter3d\"}], \"scattercarpet\": [{\"marker\": {\"colorbar\": {\"outlinewidth\": 0, \"ticks\": \"\"}}, \"type\": \"scattercarpet\"}], \"scattergeo\": [{\"marker\": {\"colorbar\": {\"outlinewidth\": 0, \"ticks\": \"\"}}, \"type\": \"scattergeo\"}], \"scattergl\": [{\"marker\": {\"colorbar\": {\"outlinewidth\": 0, \"ticks\": \"\"}}, \"type\": \"scattergl\"}], \"scattermapbox\": [{\"marker\": {\"colorbar\": {\"outlinewidth\": 0, \"ticks\": \"\"}}, \"type\": \"scattermapbox\"}], \"scatterpolar\": [{\"marker\": {\"colorbar\": {\"outlinewidth\": 0, \"ticks\": \"\"}}, \"type\": \"scatterpolar\"}], \"scatterpolargl\": [{\"marker\": {\"colorbar\": {\"outlinewidth\": 0, \"ticks\": \"\"}}, \"type\": \"scatterpolargl\"}], \"scatterternary\": [{\"marker\": {\"colorbar\": {\"outlinewidth\": 0, \"ticks\": \"\"}}, \"type\": \"scatterternary\"}], \"surface\": [{\"colorbar\": {\"outlinewidth\": 0, \"ticks\": \"\"}, \"colorscale\": [[0.0, \"#0d0887\"], [0.1111111111111111, \"#46039f\"], [0.2222222222222222, \"#7201a8\"], [0.3333333333333333, \"#9c179e\"], [0.4444444444444444, \"#bd3786\"], [0.5555555555555556, \"#d8576b\"], [0.6666666666666666, \"#ed7953\"], [0.7777777777777778, \"#fb9f3a\"], [0.8888888888888888, \"#fdca26\"], [1.0, \"#f0f921\"]], \"type\": \"surface\"}], \"table\": [{\"cells\": {\"fill\": {\"color\": \"#EBF0F8\"}, \"line\": {\"color\": \"white\"}}, \"header\": {\"fill\": {\"color\": \"#C8D4E3\"}, \"line\": {\"color\": \"white\"}}, \"type\": \"table\"}]}, \"layout\": {\"annotationdefaults\": {\"arrowcolor\": \"#2a3f5f\", \"arrowhead\": 0, \"arrowwidth\": 1}, \"coloraxis\": {\"colorbar\": {\"outlinewidth\": 0, \"ticks\": \"\"}}, \"colorscale\": {\"diverging\": [[0, \"#8e0152\"], [0.1, \"#c51b7d\"], [0.2, \"#de77ae\"], [0.3, \"#f1b6da\"], [0.4, \"#fde0ef\"], [0.5, \"#f7f7f7\"], [0.6, \"#e6f5d0\"], [0.7, \"#b8e186\"], [0.8, \"#7fbc41\"], [0.9, \"#4d9221\"], [1, \"#276419\"]], \"sequential\": [[0.0, \"#0d0887\"], [0.1111111111111111, \"#46039f\"], [0.2222222222222222, \"#7201a8\"], [0.3333333333333333, \"#9c179e\"], [0.4444444444444444, \"#bd3786\"], [0.5555555555555556, \"#d8576b\"], [0.6666666666666666, \"#ed7953\"], [0.7777777777777778, \"#fb9f3a\"], [0.8888888888888888, \"#fdca26\"], [1.0, \"#f0f921\"]], \"sequentialminus\": [[0.0, \"#0d0887\"], [0.1111111111111111, \"#46039f\"], [0.2222222222222222, \"#7201a8\"], [0.3333333333333333, \"#9c179e\"], [0.4444444444444444, \"#bd3786\"], [0.5555555555555556, \"#d8576b\"], [0.6666666666666666, \"#ed7953\"], [0.7777777777777778, \"#fb9f3a\"], [0.8888888888888888, \"#fdca26\"], [1.0, \"#f0f921\"]]}, \"colorway\": [\"#636efa\", \"#EF553B\", \"#00cc96\", \"#ab63fa\", \"#FFA15A\", \"#19d3f3\", \"#FF6692\", \"#B6E880\", \"#FF97FF\", \"#FECB52\"], \"font\": {\"color\": \"#2a3f5f\"}, \"geo\": {\"bgcolor\": \"white\", \"lakecolor\": \"white\", \"landcolor\": \"#E5ECF6\", \"showlakes\": true, \"showland\": true, \"subunitcolor\": \"white\"}, \"hoverlabel\": {\"align\": \"left\"}, \"hovermode\": \"closest\", \"mapbox\": {\"style\": \"light\"}, \"paper_bgcolor\": \"white\", \"plot_bgcolor\": \"#E5ECF6\", \"polar\": {\"angularaxis\": {\"gridcolor\": \"white\", \"linecolor\": \"white\", \"ticks\": \"\"}, \"bgcolor\": \"#E5ECF6\", \"radialaxis\": {\"gridcolor\": \"white\", \"linecolor\": \"white\", \"ticks\": \"\"}}, \"scene\": {\"xaxis\": {\"backgroundcolor\": \"#E5ECF6\", \"gridcolor\": \"white\", \"gridwidth\": 2, \"linecolor\": \"white\", \"showbackground\": true, \"ticks\": \"\", \"zerolinecolor\": \"white\"}, \"yaxis\": {\"backgroundcolor\": \"#E5ECF6\", \"gridcolor\": \"white\", \"gridwidth\": 2, \"linecolor\": \"white\", \"showbackground\": true, \"ticks\": \"\", \"zerolinecolor\": \"white\"}, \"zaxis\": {\"backgroundcolor\": \"#E5ECF6\", \"gridcolor\": \"white\", \"gridwidth\": 2, \"linecolor\": \"white\", \"showbackground\": true, \"ticks\": \"\", \"zerolinecolor\": \"white\"}}, \"shapedefaults\": {\"line\": {\"color\": \"#2a3f5f\"}}, \"ternary\": {\"aaxis\": {\"gridcolor\": \"white\", \"linecolor\": \"white\", \"ticks\": \"\"}, \"baxis\": {\"gridcolor\": \"white\", \"linecolor\": \"white\", \"ticks\": \"\"}, \"bgcolor\": \"#E5ECF6\", \"caxis\": {\"gridcolor\": \"white\", \"linecolor\": \"white\", \"ticks\": \"\"}}, \"title\": {\"x\": 0.05}, \"xaxis\": {\"automargin\": true, \"gridcolor\": \"white\", \"linecolor\": \"white\", \"ticks\": \"\", \"title\": {\"standoff\": 15}, \"zerolinecolor\": \"white\", \"zerolinewidth\": 2}, \"yaxis\": {\"automargin\": true, \"gridcolor\": \"white\", \"linecolor\": \"white\", \"ticks\": \"\", \"title\": {\"standoff\": 15}, \"zerolinecolor\": \"white\", \"zerolinewidth\": 2}}}, \"title\": {\"font\": {\"color\": \"#4D5663\"}}, \"xaxis\": {\"gridcolor\": \"#E1E5ED\", \"showgrid\": true, \"tickfont\": {\"color\": \"#4D5663\"}, \"title\": {\"font\": {\"color\": \"#4D5663\"}, \"text\": \"\"}, \"zerolinecolor\": \"#E1E5ED\"}, \"yaxis\": {\"gridcolor\": \"#E1E5ED\", \"showgrid\": true, \"tickfont\": {\"color\": \"#4D5663\"}, \"title\": {\"font\": {\"color\": \"#4D5663\"}, \"text\": \"\"}, \"zerolinecolor\": \"#E1E5ED\"}},\n",
       "                        {\"showLink\": true, \"linkText\": \"Export to plot.ly\", \"plotlyServerURL\": \"https://plot.ly\", \"responsive\": true}\n",
       "                    ).then(function(){\n",
       "                            \n",
       "var gd = document.getElementById('cf1aff88-f86c-43da-a6cf-ff9258e33bd3');\n",
       "var x = new MutationObserver(function (mutations, observer) {{\n",
       "        var display = window.getComputedStyle(gd).display;\n",
       "        if (!display || display === 'none') {{\n",
       "            console.log([gd, 'removed!']);\n",
       "            Plotly.purge(gd);\n",
       "            observer.disconnect();\n",
       "        }}\n",
       "}});\n",
       "\n",
       "// Listen for the removal of the full notebook cells\n",
       "var notebookContainer = gd.closest('#notebook-container');\n",
       "if (notebookContainer) {{\n",
       "    x.observe(notebookContainer, {childList: true});\n",
       "}}\n",
       "\n",
       "// Listen for the clearing of the current output cell\n",
       "var outputEl = gd.closest('.output');\n",
       "if (outputEl) {{\n",
       "    x.observe(outputEl, {childList: true});\n",
       "}}\n",
       "\n",
       "                        })\n",
       "                };\n",
       "                });\n",
       "            </script>\n",
       "        </div>"
      ]
     },
     "metadata": {},
     "output_type": "display_data"
    }
   ],
   "source": [
    "df.iplot(kind='bubble',x='A',y='B',size='C')"
   ]
  },
  {
   "cell_type": "markdown",
   "metadata": {},
   "source": [
    "## scatter_matrix()\n",
    "\n",
    "Similar à sns.pairplot()"
   ]
  },
  {
   "cell_type": "code",
   "execution_count": 19,
   "metadata": {},
   "outputs": [
    {
     "data": {
      "application/vnd.plotly.v1+json": {
       "config": {
        "linkText": "Export to plot.ly",
        "plotlyServerURL": "https://plot.ly",
        "showLink": true
       },
       "data": [
        {
         "histfunc": "count",
         "histnorm": "",
         "marker": {
          "color": "rgba(255, 153, 51, 1.0)",
          "line": {
           "color": "#4D5663",
           "width": 1.3
          }
         },
         "name": "A",
         "nbinsx": 10,
         "opacity": 0.8,
         "orientation": "v",
         "type": "histogram",
         "x": [
          0.45376365134072455,
          0.1533277234434953,
          0.5584066630730266,
          0.6388125002339647,
          -0.7682082709200291,
          0.5872366051112483,
          -1.3622641558947228,
          0.9197266262491686,
          -0.5667359249270596,
          0.4428979494699839,
          -0.9832214064613543,
          -0.2086539026383452,
          0.5831019922477547,
          1.954808667357305,
          -0.39354558972605347,
          0.30152662807609654,
          0.13427182222200904,
          0.046625265681057806,
          -0.9675029107659785,
          -1.9378907692372627,
          0.7645084255726655,
          0.3456496119966951,
          0.6100739704928948,
          -1.2975215359698145,
          0.9811582960283188,
          -1.854291883561129,
          0.0030300626473484674,
          0.5555330497463216,
          1.9854640098519127,
          -2.8892786549069487,
          -0.5784596935192364,
          0.2120730704035394,
          -1.6367541806959658,
          -0.9219858235162748,
          -0.9038989941312121,
          -1.535290948903216,
          -0.9925978081014436,
          -0.1597238157952492,
          -0.1901984016351724,
          0.4340012252146463,
          1.6412372806898923,
          -0.26853040854857746,
          -1.4860370235943405,
          0.25372152314593843,
          0.8945563158090339,
          -1.2581189537610697,
          0.045752502620580435,
          0.1497617632922686,
          0.2057116223861768,
          1.522860668306455,
          2.4288034729247605,
          0.7271286207696227,
          -1.0042866967532893,
          -1.7551852659625091,
          -0.6452019322122896,
          -0.08558077903288307,
          -0.937374506875622,
          -1.1699904455728098,
          1.4613885965928404,
          0.8723881989578501,
          0.20798177375181456,
          0.6798310425036768,
          0.42731389978554923,
          -0.15521417050771996,
          -0.007772620249765506,
          -0.34694444399638413,
          -0.7226311660756984,
          0.4336460288339709,
          1.898232555378553,
          -0.7793458372913163,
          1.5539085406936917,
          -0.7700115463299503,
          1.976076118695718,
          0.7765767247770977,
          -1.1224316814644946,
          -0.5900259740110259,
          0.010858880228758642,
          -0.17312092096226234,
          0.03626058732618706,
          -0.013328956951237278,
          -0.42293607488429613,
          0.8354496259136793,
          -0.49443977885766727,
          1.6887110227852462,
          -1.4909122935659305,
          1.351877827520775,
          -0.3909619630491156,
          -0.12358388977968666,
          1.9262225184352992,
          -1.888314477524304,
          -0.8030996273076954,
          2.708273101446665,
          0.41042386472559367,
          -0.7852293060505795,
          -1.354368226970318,
          -0.2503422957009691,
          -1.4950744957453541,
          -0.25899218688334524,
          0.5439135753811755,
          1.29831213783766
         ],
         "xaxis": "x",
         "yaxis": "y"
        },
        {
         "line": {
          "color": "rgba(128, 128, 128, 1.0)",
          "dash": "solid",
          "shape": "linear",
          "width": 1.3
         },
         "marker": {
          "size": 2,
          "symbol": "circle"
         },
         "mode": "markers",
         "name": "A",
         "text": "",
         "type": "scatter",
         "x": [
          0.48791258594993797,
          -0.05891854456106384,
          -0.6362022045967219,
          -0.4056058416314476,
          0.0006330543338569247,
          0.870525528955877,
          -0.6764844175995441,
          0.6474668146657152,
          -0.011818422547298509,
          1.3951013679061022,
          -1.7836141736487758,
          -0.04452308793644446,
          0.167234249338456,
          1.2567361760617723,
          -0.14027575575641704,
          0.09429143699907863,
          1.1242409616971984,
          0.050151518880630894,
          -0.2433928696764287,
          0.0783502937989915,
          0.9577964812936168,
          0.8770513370496233,
          -0.9686451268607692,
          -1.1455682487368903,
          1.667442748949377,
          1.5793147080970615,
          -0.4224730377130238,
          -0.3868067628069606,
          -1.5982968414883156,
          -0.2487089658615257,
          -0.39182632176914484,
          0.4986063317118386,
          -0.8700980248271802,
          0.5019229760141615,
          0.47136913990314216,
          0.09506378894544326,
          -0.4780009951857549,
          -0.15656352607360774,
          0.13881204338059433,
          1.0981469705486244,
          -0.6473528118947334,
          -0.07792660246003699,
          0.49093685414840577,
          0.9380626144705636,
          -0.7734212976175214,
          0.33422943469930877,
          -0.08206457103229005,
          0.19675075386621915,
          0.5420001440757906,
          -1.0969320780915388,
          0.14105130514566805,
          -0.2555864748272685,
          0.3782298749075631,
          0.07122122996107905,
          -0.18649207559510775,
          1.960743631159648,
          -0.5819049046976688,
          -0.5437881897673993,
          -0.6152534082450581,
          -0.08579520337015567,
          -1.0141040794192604,
          -0.7300103716957315,
          1.1591059727549322,
          -0.48871717672232134,
          0.6514275390594886,
          0.2959286126290568,
          -2.8449390446672465,
          -0.9964128029365027,
          -0.03310589205306478,
          0.45683529946442764,
          1.5500313810441426,
          -1.5430455490623174,
          1.2546011341118462,
          0.21495064400066777,
          0.3715588678943498,
          0.49929171775189896,
          0.30296929351938007,
          -1.4839432860196824,
          -2.026418060881709,
          -0.2651049157961102,
          -0.5172731186958455,
          -0.9233505359557593,
          -1.6777405785887876,
          1.1587072682107997,
          -0.08555026672901489,
          -0.08697221682863826,
          -0.8752844276408953,
          -0.4229123641934026,
          1.4152637622249185,
          -0.2687365546300804,
          -0.845265118679393,
          0.03661171573420025,
          -1.0408084121886536,
          0.07503804644651897,
          1.3461860366879066,
          0.008006281464838167,
          1.5369515511553713,
          1.046452560294225,
          -1.6355746895675083,
          -0.24565447964768866
         ],
         "xaxis": "x2",
         "y": [
          0.45376365134072455,
          0.1533277234434953,
          0.5584066630730266,
          0.6388125002339647,
          -0.7682082709200291,
          0.5872366051112483,
          -1.3622641558947228,
          0.9197266262491686,
          -0.5667359249270596,
          0.4428979494699839,
          -0.9832214064613543,
          -0.2086539026383452,
          0.5831019922477547,
          1.954808667357305,
          -0.39354558972605347,
          0.30152662807609654,
          0.13427182222200904,
          0.046625265681057806,
          -0.9675029107659785,
          -1.9378907692372627,
          0.7645084255726655,
          0.3456496119966951,
          0.6100739704928948,
          -1.2975215359698145,
          0.9811582960283188,
          -1.854291883561129,
          0.0030300626473484674,
          0.5555330497463216,
          1.9854640098519127,
          -2.8892786549069487,
          -0.5784596935192364,
          0.2120730704035394,
          -1.6367541806959658,
          -0.9219858235162748,
          -0.9038989941312121,
          -1.535290948903216,
          -0.9925978081014436,
          -0.1597238157952492,
          -0.1901984016351724,
          0.4340012252146463,
          1.6412372806898923,
          -0.26853040854857746,
          -1.4860370235943405,
          0.25372152314593843,
          0.8945563158090339,
          -1.2581189537610697,
          0.045752502620580435,
          0.1497617632922686,
          0.2057116223861768,
          1.522860668306455,
          2.4288034729247605,
          0.7271286207696227,
          -1.0042866967532893,
          -1.7551852659625091,
          -0.6452019322122896,
          -0.08558077903288307,
          -0.937374506875622,
          -1.1699904455728098,
          1.4613885965928404,
          0.8723881989578501,
          0.20798177375181456,
          0.6798310425036768,
          0.42731389978554923,
          -0.15521417050771996,
          -0.007772620249765506,
          -0.34694444399638413,
          -0.7226311660756984,
          0.4336460288339709,
          1.898232555378553,
          -0.7793458372913163,
          1.5539085406936917,
          -0.7700115463299503,
          1.976076118695718,
          0.7765767247770977,
          -1.1224316814644946,
          -0.5900259740110259,
          0.010858880228758642,
          -0.17312092096226234,
          0.03626058732618706,
          -0.013328956951237278,
          -0.42293607488429613,
          0.8354496259136793,
          -0.49443977885766727,
          1.6887110227852462,
          -1.4909122935659305,
          1.351877827520775,
          -0.3909619630491156,
          -0.12358388977968666,
          1.9262225184352992,
          -1.888314477524304,
          -0.8030996273076954,
          2.708273101446665,
          0.41042386472559367,
          -0.7852293060505795,
          -1.354368226970318,
          -0.2503422957009691,
          -1.4950744957453541,
          -0.25899218688334524,
          0.5439135753811755,
          1.29831213783766
         ],
         "yaxis": "y2"
        },
        {
         "line": {
          "color": "rgba(128, 128, 128, 1.0)",
          "dash": "solid",
          "shape": "linear",
          "width": 1.3
         },
         "marker": {
          "size": 2,
          "symbol": "circle"
         },
         "mode": "markers",
         "name": "A",
         "text": "",
         "type": "scatter",
         "x": [
          0.48396363915452845,
          -0.8839504757489611,
          0.5944823766694012,
          -1.2087644449548938,
          -1.4588652418215866,
          -1.71617342439716,
          0.12162208071442088,
          -0.3608297979791972,
          -0.42242845389890843,
          0.04390948212546214,
          -0.4161508418773009,
          -0.708802954039864,
          0.40059679048085645,
          0.5571562735011651,
          0.5348040411944343,
          0.3600549961920591,
          -1.7495673113219377,
          0.3424817230951091,
          -0.7982736401450603,
          -1.5393636951459362,
          0.38188364523260454,
          0.6679824692132231,
          -1.6302832525996775,
          0.774058782367631,
          0.36030554093764167,
          0.41765634753539577,
          -0.002944256071235585,
          -1.111671206280267,
          0.5957649322461476,
          2.3586688907515008,
          0.5916008479013928,
          0.7259422663781465,
          -0.22213440567239653,
          -0.008089226780359612,
          -0.879943848146538,
          0.37809428348282015,
          -1.051974492111051,
          -2.4303364357334867,
          0.8902747934070464,
          0.6541843015681487,
          -2.1907773867692755,
          1.4151592563151574,
          0.2169988399881734,
          1.3796163891801971,
          -0.5107567629393553,
          0.14060742948121072,
          -0.2102408646089569,
          0.4746402010729189,
          -0.35629941940724974,
          0.09455049831948358,
          1.3315462134737737,
          0.12142640748102457,
          -0.6532459953478722,
          -0.2967680695605399,
          0.7406341892163693,
          1.8196016521717515,
          -0.45865294911254945,
          -0.21907541104349407,
          -1.6824241040302679,
          2.0431603995531065,
          2.4827480381542433,
          -0.873705716309566,
          -1.695945138813294,
          -0.4575251239756494,
          -1.346895198209205,
          -0.15018011180195395,
          -1.5759886738379878,
          -0.1982313013431906,
          0.9360674826623321,
          -0.5122282377520472,
          0.6505800704511161,
          -0.6642357334880877,
          0.05069602531264277,
          0.40809871683393023,
          0.15423817093218875,
          -0.6072905630520802,
          0.0832362881761946,
          -0.7876147222227531,
          0.7676497711006179,
          0.4308965629472975,
          -0.16142336373765484,
          -1.270767162984861,
          -0.3436961683419353,
          1.0583088258992703,
          -0.9007370643213202,
          1.4638762314021476,
          -0.5258092672087118,
          0.13550155144431164,
          -0.5088879826847917,
          0.5381844726862862,
          1.3371406210537218,
          -1.4209277616759663,
          -0.5881954188274244,
          -0.6262290973657684,
          -0.5321197520303068,
          -1.8267900014272351,
          -0.3561057241703818,
          0.2447657542690755,
          -1.5651841052535462,
          -0.023142125110577883
         ],
         "xaxis": "x3",
         "y": [
          0.45376365134072455,
          0.1533277234434953,
          0.5584066630730266,
          0.6388125002339647,
          -0.7682082709200291,
          0.5872366051112483,
          -1.3622641558947228,
          0.9197266262491686,
          -0.5667359249270596,
          0.4428979494699839,
          -0.9832214064613543,
          -0.2086539026383452,
          0.5831019922477547,
          1.954808667357305,
          -0.39354558972605347,
          0.30152662807609654,
          0.13427182222200904,
          0.046625265681057806,
          -0.9675029107659785,
          -1.9378907692372627,
          0.7645084255726655,
          0.3456496119966951,
          0.6100739704928948,
          -1.2975215359698145,
          0.9811582960283188,
          -1.854291883561129,
          0.0030300626473484674,
          0.5555330497463216,
          1.9854640098519127,
          -2.8892786549069487,
          -0.5784596935192364,
          0.2120730704035394,
          -1.6367541806959658,
          -0.9219858235162748,
          -0.9038989941312121,
          -1.535290948903216,
          -0.9925978081014436,
          -0.1597238157952492,
          -0.1901984016351724,
          0.4340012252146463,
          1.6412372806898923,
          -0.26853040854857746,
          -1.4860370235943405,
          0.25372152314593843,
          0.8945563158090339,
          -1.2581189537610697,
          0.045752502620580435,
          0.1497617632922686,
          0.2057116223861768,
          1.522860668306455,
          2.4288034729247605,
          0.7271286207696227,
          -1.0042866967532893,
          -1.7551852659625091,
          -0.6452019322122896,
          -0.08558077903288307,
          -0.937374506875622,
          -1.1699904455728098,
          1.4613885965928404,
          0.8723881989578501,
          0.20798177375181456,
          0.6798310425036768,
          0.42731389978554923,
          -0.15521417050771996,
          -0.007772620249765506,
          -0.34694444399638413,
          -0.7226311660756984,
          0.4336460288339709,
          1.898232555378553,
          -0.7793458372913163,
          1.5539085406936917,
          -0.7700115463299503,
          1.976076118695718,
          0.7765767247770977,
          -1.1224316814644946,
          -0.5900259740110259,
          0.010858880228758642,
          -0.17312092096226234,
          0.03626058732618706,
          -0.013328956951237278,
          -0.42293607488429613,
          0.8354496259136793,
          -0.49443977885766727,
          1.6887110227852462,
          -1.4909122935659305,
          1.351877827520775,
          -0.3909619630491156,
          -0.12358388977968666,
          1.9262225184352992,
          -1.888314477524304,
          -0.8030996273076954,
          2.708273101446665,
          0.41042386472559367,
          -0.7852293060505795,
          -1.354368226970318,
          -0.2503422957009691,
          -1.4950744957453541,
          -0.25899218688334524,
          0.5439135753811755,
          1.29831213783766
         ],
         "yaxis": "y3"
        },
        {
         "line": {
          "color": "rgba(128, 128, 128, 1.0)",
          "dash": "solid",
          "shape": "linear",
          "width": 1.3
         },
         "marker": {
          "size": 2,
          "symbol": "circle"
         },
         "mode": "markers",
         "name": "A",
         "text": "",
         "type": "scatter",
         "x": [
          -0.28945819509093734,
          0.9506427079983513,
          -0.7075271544102827,
          0.33670026214094395,
          -0.10309166006052267,
          -0.18288297182315447,
          -0.6442306189531569,
          -0.35940347774718095,
          0.5980547649257733,
          0.38036286133256436,
          -1.2091149892980757,
          0.06723683346111031,
          0.7431448881965461,
          -0.09331449305279685,
          1.132594539633511,
          0.5986790751339794,
          -0.7909196560389122,
          -0.03678372527453003,
          -0.6947496907152378,
          -0.14130279411144683,
          -0.3060630927142332,
          -0.48116505787049035,
          0.5243553499271801,
          -1.2102603915406223,
          0.3662464595616071,
          1.5121451016626646,
          -0.5964350877415936,
          0.19781953581011333,
          -0.15302128942909088,
          0.06286068687679577,
          -0.5284685917617867,
          0.11107646904647635,
          -0.7560116181446788,
          -1.816222523311719,
          -0.7340965407045787,
          -2.5120924771350595,
          1.8887108667483687,
          0.17393748127873918,
          0.4057329203443431,
          -0.9950959777302046,
          0.17144971865073647,
          -1.197496099922525,
          -0.5696725879013981,
          0.30519989577527956,
          -0.9571854796916874,
          -0.5910988791985874,
          -0.647680651318399,
          0.21141056351513177,
          -0.4717975764243811,
          -1.228992629320308,
          -0.03493674168857812,
          -0.3929219675723878,
          -1.1248982506050234,
          1.5123905848365962,
          -1.161871394713524,
          0.35904725596967374,
          0.34580461961286196,
          -0.6247537218600137,
          0.6534904317589532,
          1.3647421932698265,
          0.36618733325902403,
          1.7350447493493786,
          -0.9164093019316768,
          -1.0427448140035536,
          1.195631158086616,
          -0.06332228078375042,
          -1.7792966150531015,
          -0.12981625980441097,
          0.7432451604322915,
          1.335795152531882,
          -0.29532275561968435,
          0.39793884204104457,
          -1.2434297290102156,
          0.3303682465473808,
          0.32606768933147523,
          0.3475504294634366,
          2.4942377346525846,
          -0.4208336480076219,
          1.1462273355356751,
          0.9597878014572179,
          -0.005393438437951994,
          -0.0019042778033120133,
          0.5488280518498596,
          2.2122887521931665,
          -1.2512728656185765,
          0.8831372364595468,
          0.9525324520273428,
          -0.23937498467410134,
          0.6727166198158724,
          0.7742155597792745,
          0.2979483029274702,
          -1.449069628948016,
          -1.7809778841935426,
          0.02738861605019371,
          -0.44985915636015683,
          1.0722366003371442,
          2.447842737960517,
          -1.7731439403282263,
          -0.09594801128742135,
          0.7736657602276928
         ],
         "xaxis": "x4",
         "y": [
          0.45376365134072455,
          0.1533277234434953,
          0.5584066630730266,
          0.6388125002339647,
          -0.7682082709200291,
          0.5872366051112483,
          -1.3622641558947228,
          0.9197266262491686,
          -0.5667359249270596,
          0.4428979494699839,
          -0.9832214064613543,
          -0.2086539026383452,
          0.5831019922477547,
          1.954808667357305,
          -0.39354558972605347,
          0.30152662807609654,
          0.13427182222200904,
          0.046625265681057806,
          -0.9675029107659785,
          -1.9378907692372627,
          0.7645084255726655,
          0.3456496119966951,
          0.6100739704928948,
          -1.2975215359698145,
          0.9811582960283188,
          -1.854291883561129,
          0.0030300626473484674,
          0.5555330497463216,
          1.9854640098519127,
          -2.8892786549069487,
          -0.5784596935192364,
          0.2120730704035394,
          -1.6367541806959658,
          -0.9219858235162748,
          -0.9038989941312121,
          -1.535290948903216,
          -0.9925978081014436,
          -0.1597238157952492,
          -0.1901984016351724,
          0.4340012252146463,
          1.6412372806898923,
          -0.26853040854857746,
          -1.4860370235943405,
          0.25372152314593843,
          0.8945563158090339,
          -1.2581189537610697,
          0.045752502620580435,
          0.1497617632922686,
          0.2057116223861768,
          1.522860668306455,
          2.4288034729247605,
          0.7271286207696227,
          -1.0042866967532893,
          -1.7551852659625091,
          -0.6452019322122896,
          -0.08558077903288307,
          -0.937374506875622,
          -1.1699904455728098,
          1.4613885965928404,
          0.8723881989578501,
          0.20798177375181456,
          0.6798310425036768,
          0.42731389978554923,
          -0.15521417050771996,
          -0.007772620249765506,
          -0.34694444399638413,
          -0.7226311660756984,
          0.4336460288339709,
          1.898232555378553,
          -0.7793458372913163,
          1.5539085406936917,
          -0.7700115463299503,
          1.976076118695718,
          0.7765767247770977,
          -1.1224316814644946,
          -0.5900259740110259,
          0.010858880228758642,
          -0.17312092096226234,
          0.03626058732618706,
          -0.013328956951237278,
          -0.42293607488429613,
          0.8354496259136793,
          -0.49443977885766727,
          1.6887110227852462,
          -1.4909122935659305,
          1.351877827520775,
          -0.3909619630491156,
          -0.12358388977968666,
          1.9262225184352992,
          -1.888314477524304,
          -0.8030996273076954,
          2.708273101446665,
          0.41042386472559367,
          -0.7852293060505795,
          -1.354368226970318,
          -0.2503422957009691,
          -1.4950744957453541,
          -0.25899218688334524,
          0.5439135753811755,
          1.29831213783766
         ],
         "yaxis": "y4"
        },
        {
         "line": {
          "color": "rgba(128, 128, 128, 1.0)",
          "dash": "solid",
          "shape": "linear",
          "width": 1.3
         },
         "marker": {
          "size": 2,
          "symbol": "circle"
         },
         "mode": "markers",
         "name": "B",
         "text": "",
         "type": "scatter",
         "x": [
          0.45376365134072455,
          0.1533277234434953,
          0.5584066630730266,
          0.6388125002339647,
          -0.7682082709200291,
          0.5872366051112483,
          -1.3622641558947228,
          0.9197266262491686,
          -0.5667359249270596,
          0.4428979494699839,
          -0.9832214064613543,
          -0.2086539026383452,
          0.5831019922477547,
          1.954808667357305,
          -0.39354558972605347,
          0.30152662807609654,
          0.13427182222200904,
          0.046625265681057806,
          -0.9675029107659785,
          -1.9378907692372627,
          0.7645084255726655,
          0.3456496119966951,
          0.6100739704928948,
          -1.2975215359698145,
          0.9811582960283188,
          -1.854291883561129,
          0.0030300626473484674,
          0.5555330497463216,
          1.9854640098519127,
          -2.8892786549069487,
          -0.5784596935192364,
          0.2120730704035394,
          -1.6367541806959658,
          -0.9219858235162748,
          -0.9038989941312121,
          -1.535290948903216,
          -0.9925978081014436,
          -0.1597238157952492,
          -0.1901984016351724,
          0.4340012252146463,
          1.6412372806898923,
          -0.26853040854857746,
          -1.4860370235943405,
          0.25372152314593843,
          0.8945563158090339,
          -1.2581189537610697,
          0.045752502620580435,
          0.1497617632922686,
          0.2057116223861768,
          1.522860668306455,
          2.4288034729247605,
          0.7271286207696227,
          -1.0042866967532893,
          -1.7551852659625091,
          -0.6452019322122896,
          -0.08558077903288307,
          -0.937374506875622,
          -1.1699904455728098,
          1.4613885965928404,
          0.8723881989578501,
          0.20798177375181456,
          0.6798310425036768,
          0.42731389978554923,
          -0.15521417050771996,
          -0.007772620249765506,
          -0.34694444399638413,
          -0.7226311660756984,
          0.4336460288339709,
          1.898232555378553,
          -0.7793458372913163,
          1.5539085406936917,
          -0.7700115463299503,
          1.976076118695718,
          0.7765767247770977,
          -1.1224316814644946,
          -0.5900259740110259,
          0.010858880228758642,
          -0.17312092096226234,
          0.03626058732618706,
          -0.013328956951237278,
          -0.42293607488429613,
          0.8354496259136793,
          -0.49443977885766727,
          1.6887110227852462,
          -1.4909122935659305,
          1.351877827520775,
          -0.3909619630491156,
          -0.12358388977968666,
          1.9262225184352992,
          -1.888314477524304,
          -0.8030996273076954,
          2.708273101446665,
          0.41042386472559367,
          -0.7852293060505795,
          -1.354368226970318,
          -0.2503422957009691,
          -1.4950744957453541,
          -0.25899218688334524,
          0.5439135753811755,
          1.29831213783766
         ],
         "xaxis": "x5",
         "y": [
          0.48791258594993797,
          -0.05891854456106384,
          -0.6362022045967219,
          -0.4056058416314476,
          0.0006330543338569247,
          0.870525528955877,
          -0.6764844175995441,
          0.6474668146657152,
          -0.011818422547298509,
          1.3951013679061022,
          -1.7836141736487758,
          -0.04452308793644446,
          0.167234249338456,
          1.2567361760617723,
          -0.14027575575641704,
          0.09429143699907863,
          1.1242409616971984,
          0.050151518880630894,
          -0.2433928696764287,
          0.0783502937989915,
          0.9577964812936168,
          0.8770513370496233,
          -0.9686451268607692,
          -1.1455682487368903,
          1.667442748949377,
          1.5793147080970615,
          -0.4224730377130238,
          -0.3868067628069606,
          -1.5982968414883156,
          -0.2487089658615257,
          -0.39182632176914484,
          0.4986063317118386,
          -0.8700980248271802,
          0.5019229760141615,
          0.47136913990314216,
          0.09506378894544326,
          -0.4780009951857549,
          -0.15656352607360774,
          0.13881204338059433,
          1.0981469705486244,
          -0.6473528118947334,
          -0.07792660246003699,
          0.49093685414840577,
          0.9380626144705636,
          -0.7734212976175214,
          0.33422943469930877,
          -0.08206457103229005,
          0.19675075386621915,
          0.5420001440757906,
          -1.0969320780915388,
          0.14105130514566805,
          -0.2555864748272685,
          0.3782298749075631,
          0.07122122996107905,
          -0.18649207559510775,
          1.960743631159648,
          -0.5819049046976688,
          -0.5437881897673993,
          -0.6152534082450581,
          -0.08579520337015567,
          -1.0141040794192604,
          -0.7300103716957315,
          1.1591059727549322,
          -0.48871717672232134,
          0.6514275390594886,
          0.2959286126290568,
          -2.8449390446672465,
          -0.9964128029365027,
          -0.03310589205306478,
          0.45683529946442764,
          1.5500313810441426,
          -1.5430455490623174,
          1.2546011341118462,
          0.21495064400066777,
          0.3715588678943498,
          0.49929171775189896,
          0.30296929351938007,
          -1.4839432860196824,
          -2.026418060881709,
          -0.2651049157961102,
          -0.5172731186958455,
          -0.9233505359557593,
          -1.6777405785887876,
          1.1587072682107997,
          -0.08555026672901489,
          -0.08697221682863826,
          -0.8752844276408953,
          -0.4229123641934026,
          1.4152637622249185,
          -0.2687365546300804,
          -0.845265118679393,
          0.03661171573420025,
          -1.0408084121886536,
          0.07503804644651897,
          1.3461860366879066,
          0.008006281464838167,
          1.5369515511553713,
          1.046452560294225,
          -1.6355746895675083,
          -0.24565447964768866
         ],
         "yaxis": "y5"
        },
        {
         "histfunc": "count",
         "histnorm": "",
         "marker": {
          "color": "rgba(55, 128, 191, 1.0)",
          "line": {
           "color": "#4D5663",
           "width": 1.3
          }
         },
         "name": "B",
         "nbinsx": 10,
         "opacity": 0.8,
         "orientation": "v",
         "type": "histogram",
         "x": [
          0.48791258594993797,
          -0.05891854456106384,
          -0.6362022045967219,
          -0.4056058416314476,
          0.0006330543338569247,
          0.870525528955877,
          -0.6764844175995441,
          0.6474668146657152,
          -0.011818422547298509,
          1.3951013679061022,
          -1.7836141736487758,
          -0.04452308793644446,
          0.167234249338456,
          1.2567361760617723,
          -0.14027575575641704,
          0.09429143699907863,
          1.1242409616971984,
          0.050151518880630894,
          -0.2433928696764287,
          0.0783502937989915,
          0.9577964812936168,
          0.8770513370496233,
          -0.9686451268607692,
          -1.1455682487368903,
          1.667442748949377,
          1.5793147080970615,
          -0.4224730377130238,
          -0.3868067628069606,
          -1.5982968414883156,
          -0.2487089658615257,
          -0.39182632176914484,
          0.4986063317118386,
          -0.8700980248271802,
          0.5019229760141615,
          0.47136913990314216,
          0.09506378894544326,
          -0.4780009951857549,
          -0.15656352607360774,
          0.13881204338059433,
          1.0981469705486244,
          -0.6473528118947334,
          -0.07792660246003699,
          0.49093685414840577,
          0.9380626144705636,
          -0.7734212976175214,
          0.33422943469930877,
          -0.08206457103229005,
          0.19675075386621915,
          0.5420001440757906,
          -1.0969320780915388,
          0.14105130514566805,
          -0.2555864748272685,
          0.3782298749075631,
          0.07122122996107905,
          -0.18649207559510775,
          1.960743631159648,
          -0.5819049046976688,
          -0.5437881897673993,
          -0.6152534082450581,
          -0.08579520337015567,
          -1.0141040794192604,
          -0.7300103716957315,
          1.1591059727549322,
          -0.48871717672232134,
          0.6514275390594886,
          0.2959286126290568,
          -2.8449390446672465,
          -0.9964128029365027,
          -0.03310589205306478,
          0.45683529946442764,
          1.5500313810441426,
          -1.5430455490623174,
          1.2546011341118462,
          0.21495064400066777,
          0.3715588678943498,
          0.49929171775189896,
          0.30296929351938007,
          -1.4839432860196824,
          -2.026418060881709,
          -0.2651049157961102,
          -0.5172731186958455,
          -0.9233505359557593,
          -1.6777405785887876,
          1.1587072682107997,
          -0.08555026672901489,
          -0.08697221682863826,
          -0.8752844276408953,
          -0.4229123641934026,
          1.4152637622249185,
          -0.2687365546300804,
          -0.845265118679393,
          0.03661171573420025,
          -1.0408084121886536,
          0.07503804644651897,
          1.3461860366879066,
          0.008006281464838167,
          1.5369515511553713,
          1.046452560294225,
          -1.6355746895675083,
          -0.24565447964768866
         ],
         "xaxis": "x6",
         "yaxis": "y6"
        },
        {
         "line": {
          "color": "rgba(128, 128, 128, 1.0)",
          "dash": "solid",
          "shape": "linear",
          "width": 1.3
         },
         "marker": {
          "size": 2,
          "symbol": "circle"
         },
         "mode": "markers",
         "name": "B",
         "text": "",
         "type": "scatter",
         "x": [
          0.48396363915452845,
          -0.8839504757489611,
          0.5944823766694012,
          -1.2087644449548938,
          -1.4588652418215866,
          -1.71617342439716,
          0.12162208071442088,
          -0.3608297979791972,
          -0.42242845389890843,
          0.04390948212546214,
          -0.4161508418773009,
          -0.708802954039864,
          0.40059679048085645,
          0.5571562735011651,
          0.5348040411944343,
          0.3600549961920591,
          -1.7495673113219377,
          0.3424817230951091,
          -0.7982736401450603,
          -1.5393636951459362,
          0.38188364523260454,
          0.6679824692132231,
          -1.6302832525996775,
          0.774058782367631,
          0.36030554093764167,
          0.41765634753539577,
          -0.002944256071235585,
          -1.111671206280267,
          0.5957649322461476,
          2.3586688907515008,
          0.5916008479013928,
          0.7259422663781465,
          -0.22213440567239653,
          -0.008089226780359612,
          -0.879943848146538,
          0.37809428348282015,
          -1.051974492111051,
          -2.4303364357334867,
          0.8902747934070464,
          0.6541843015681487,
          -2.1907773867692755,
          1.4151592563151574,
          0.2169988399881734,
          1.3796163891801971,
          -0.5107567629393553,
          0.14060742948121072,
          -0.2102408646089569,
          0.4746402010729189,
          -0.35629941940724974,
          0.09455049831948358,
          1.3315462134737737,
          0.12142640748102457,
          -0.6532459953478722,
          -0.2967680695605399,
          0.7406341892163693,
          1.8196016521717515,
          -0.45865294911254945,
          -0.21907541104349407,
          -1.6824241040302679,
          2.0431603995531065,
          2.4827480381542433,
          -0.873705716309566,
          -1.695945138813294,
          -0.4575251239756494,
          -1.346895198209205,
          -0.15018011180195395,
          -1.5759886738379878,
          -0.1982313013431906,
          0.9360674826623321,
          -0.5122282377520472,
          0.6505800704511161,
          -0.6642357334880877,
          0.05069602531264277,
          0.40809871683393023,
          0.15423817093218875,
          -0.6072905630520802,
          0.0832362881761946,
          -0.7876147222227531,
          0.7676497711006179,
          0.4308965629472975,
          -0.16142336373765484,
          -1.270767162984861,
          -0.3436961683419353,
          1.0583088258992703,
          -0.9007370643213202,
          1.4638762314021476,
          -0.5258092672087118,
          0.13550155144431164,
          -0.5088879826847917,
          0.5381844726862862,
          1.3371406210537218,
          -1.4209277616759663,
          -0.5881954188274244,
          -0.6262290973657684,
          -0.5321197520303068,
          -1.8267900014272351,
          -0.3561057241703818,
          0.2447657542690755,
          -1.5651841052535462,
          -0.023142125110577883
         ],
         "xaxis": "x7",
         "y": [
          0.48791258594993797,
          -0.05891854456106384,
          -0.6362022045967219,
          -0.4056058416314476,
          0.0006330543338569247,
          0.870525528955877,
          -0.6764844175995441,
          0.6474668146657152,
          -0.011818422547298509,
          1.3951013679061022,
          -1.7836141736487758,
          -0.04452308793644446,
          0.167234249338456,
          1.2567361760617723,
          -0.14027575575641704,
          0.09429143699907863,
          1.1242409616971984,
          0.050151518880630894,
          -0.2433928696764287,
          0.0783502937989915,
          0.9577964812936168,
          0.8770513370496233,
          -0.9686451268607692,
          -1.1455682487368903,
          1.667442748949377,
          1.5793147080970615,
          -0.4224730377130238,
          -0.3868067628069606,
          -1.5982968414883156,
          -0.2487089658615257,
          -0.39182632176914484,
          0.4986063317118386,
          -0.8700980248271802,
          0.5019229760141615,
          0.47136913990314216,
          0.09506378894544326,
          -0.4780009951857549,
          -0.15656352607360774,
          0.13881204338059433,
          1.0981469705486244,
          -0.6473528118947334,
          -0.07792660246003699,
          0.49093685414840577,
          0.9380626144705636,
          -0.7734212976175214,
          0.33422943469930877,
          -0.08206457103229005,
          0.19675075386621915,
          0.5420001440757906,
          -1.0969320780915388,
          0.14105130514566805,
          -0.2555864748272685,
          0.3782298749075631,
          0.07122122996107905,
          -0.18649207559510775,
          1.960743631159648,
          -0.5819049046976688,
          -0.5437881897673993,
          -0.6152534082450581,
          -0.08579520337015567,
          -1.0141040794192604,
          -0.7300103716957315,
          1.1591059727549322,
          -0.48871717672232134,
          0.6514275390594886,
          0.2959286126290568,
          -2.8449390446672465,
          -0.9964128029365027,
          -0.03310589205306478,
          0.45683529946442764,
          1.5500313810441426,
          -1.5430455490623174,
          1.2546011341118462,
          0.21495064400066777,
          0.3715588678943498,
          0.49929171775189896,
          0.30296929351938007,
          -1.4839432860196824,
          -2.026418060881709,
          -0.2651049157961102,
          -0.5172731186958455,
          -0.9233505359557593,
          -1.6777405785887876,
          1.1587072682107997,
          -0.08555026672901489,
          -0.08697221682863826,
          -0.8752844276408953,
          -0.4229123641934026,
          1.4152637622249185,
          -0.2687365546300804,
          -0.845265118679393,
          0.03661171573420025,
          -1.0408084121886536,
          0.07503804644651897,
          1.3461860366879066,
          0.008006281464838167,
          1.5369515511553713,
          1.046452560294225,
          -1.6355746895675083,
          -0.24565447964768866
         ],
         "yaxis": "y7"
        },
        {
         "line": {
          "color": "rgba(128, 128, 128, 1.0)",
          "dash": "solid",
          "shape": "linear",
          "width": 1.3
         },
         "marker": {
          "size": 2,
          "symbol": "circle"
         },
         "mode": "markers",
         "name": "B",
         "text": "",
         "type": "scatter",
         "x": [
          -0.28945819509093734,
          0.9506427079983513,
          -0.7075271544102827,
          0.33670026214094395,
          -0.10309166006052267,
          -0.18288297182315447,
          -0.6442306189531569,
          -0.35940347774718095,
          0.5980547649257733,
          0.38036286133256436,
          -1.2091149892980757,
          0.06723683346111031,
          0.7431448881965461,
          -0.09331449305279685,
          1.132594539633511,
          0.5986790751339794,
          -0.7909196560389122,
          -0.03678372527453003,
          -0.6947496907152378,
          -0.14130279411144683,
          -0.3060630927142332,
          -0.48116505787049035,
          0.5243553499271801,
          -1.2102603915406223,
          0.3662464595616071,
          1.5121451016626646,
          -0.5964350877415936,
          0.19781953581011333,
          -0.15302128942909088,
          0.06286068687679577,
          -0.5284685917617867,
          0.11107646904647635,
          -0.7560116181446788,
          -1.816222523311719,
          -0.7340965407045787,
          -2.5120924771350595,
          1.8887108667483687,
          0.17393748127873918,
          0.4057329203443431,
          -0.9950959777302046,
          0.17144971865073647,
          -1.197496099922525,
          -0.5696725879013981,
          0.30519989577527956,
          -0.9571854796916874,
          -0.5910988791985874,
          -0.647680651318399,
          0.21141056351513177,
          -0.4717975764243811,
          -1.228992629320308,
          -0.03493674168857812,
          -0.3929219675723878,
          -1.1248982506050234,
          1.5123905848365962,
          -1.161871394713524,
          0.35904725596967374,
          0.34580461961286196,
          -0.6247537218600137,
          0.6534904317589532,
          1.3647421932698265,
          0.36618733325902403,
          1.7350447493493786,
          -0.9164093019316768,
          -1.0427448140035536,
          1.195631158086616,
          -0.06332228078375042,
          -1.7792966150531015,
          -0.12981625980441097,
          0.7432451604322915,
          1.335795152531882,
          -0.29532275561968435,
          0.39793884204104457,
          -1.2434297290102156,
          0.3303682465473808,
          0.32606768933147523,
          0.3475504294634366,
          2.4942377346525846,
          -0.4208336480076219,
          1.1462273355356751,
          0.9597878014572179,
          -0.005393438437951994,
          -0.0019042778033120133,
          0.5488280518498596,
          2.2122887521931665,
          -1.2512728656185765,
          0.8831372364595468,
          0.9525324520273428,
          -0.23937498467410134,
          0.6727166198158724,
          0.7742155597792745,
          0.2979483029274702,
          -1.449069628948016,
          -1.7809778841935426,
          0.02738861605019371,
          -0.44985915636015683,
          1.0722366003371442,
          2.447842737960517,
          -1.7731439403282263,
          -0.09594801128742135,
          0.7736657602276928
         ],
         "xaxis": "x8",
         "y": [
          0.48791258594993797,
          -0.05891854456106384,
          -0.6362022045967219,
          -0.4056058416314476,
          0.0006330543338569247,
          0.870525528955877,
          -0.6764844175995441,
          0.6474668146657152,
          -0.011818422547298509,
          1.3951013679061022,
          -1.7836141736487758,
          -0.04452308793644446,
          0.167234249338456,
          1.2567361760617723,
          -0.14027575575641704,
          0.09429143699907863,
          1.1242409616971984,
          0.050151518880630894,
          -0.2433928696764287,
          0.0783502937989915,
          0.9577964812936168,
          0.8770513370496233,
          -0.9686451268607692,
          -1.1455682487368903,
          1.667442748949377,
          1.5793147080970615,
          -0.4224730377130238,
          -0.3868067628069606,
          -1.5982968414883156,
          -0.2487089658615257,
          -0.39182632176914484,
          0.4986063317118386,
          -0.8700980248271802,
          0.5019229760141615,
          0.47136913990314216,
          0.09506378894544326,
          -0.4780009951857549,
          -0.15656352607360774,
          0.13881204338059433,
          1.0981469705486244,
          -0.6473528118947334,
          -0.07792660246003699,
          0.49093685414840577,
          0.9380626144705636,
          -0.7734212976175214,
          0.33422943469930877,
          -0.08206457103229005,
          0.19675075386621915,
          0.5420001440757906,
          -1.0969320780915388,
          0.14105130514566805,
          -0.2555864748272685,
          0.3782298749075631,
          0.07122122996107905,
          -0.18649207559510775,
          1.960743631159648,
          -0.5819049046976688,
          -0.5437881897673993,
          -0.6152534082450581,
          -0.08579520337015567,
          -1.0141040794192604,
          -0.7300103716957315,
          1.1591059727549322,
          -0.48871717672232134,
          0.6514275390594886,
          0.2959286126290568,
          -2.8449390446672465,
          -0.9964128029365027,
          -0.03310589205306478,
          0.45683529946442764,
          1.5500313810441426,
          -1.5430455490623174,
          1.2546011341118462,
          0.21495064400066777,
          0.3715588678943498,
          0.49929171775189896,
          0.30296929351938007,
          -1.4839432860196824,
          -2.026418060881709,
          -0.2651049157961102,
          -0.5172731186958455,
          -0.9233505359557593,
          -1.6777405785887876,
          1.1587072682107997,
          -0.08555026672901489,
          -0.08697221682863826,
          -0.8752844276408953,
          -0.4229123641934026,
          1.4152637622249185,
          -0.2687365546300804,
          -0.845265118679393,
          0.03661171573420025,
          -1.0408084121886536,
          0.07503804644651897,
          1.3461860366879066,
          0.008006281464838167,
          1.5369515511553713,
          1.046452560294225,
          -1.6355746895675083,
          -0.24565447964768866
         ],
         "yaxis": "y8"
        },
        {
         "line": {
          "color": "rgba(128, 128, 128, 1.0)",
          "dash": "solid",
          "shape": "linear",
          "width": 1.3
         },
         "marker": {
          "size": 2,
          "symbol": "circle"
         },
         "mode": "markers",
         "name": "C",
         "text": "",
         "type": "scatter",
         "x": [
          0.45376365134072455,
          0.1533277234434953,
          0.5584066630730266,
          0.6388125002339647,
          -0.7682082709200291,
          0.5872366051112483,
          -1.3622641558947228,
          0.9197266262491686,
          -0.5667359249270596,
          0.4428979494699839,
          -0.9832214064613543,
          -0.2086539026383452,
          0.5831019922477547,
          1.954808667357305,
          -0.39354558972605347,
          0.30152662807609654,
          0.13427182222200904,
          0.046625265681057806,
          -0.9675029107659785,
          -1.9378907692372627,
          0.7645084255726655,
          0.3456496119966951,
          0.6100739704928948,
          -1.2975215359698145,
          0.9811582960283188,
          -1.854291883561129,
          0.0030300626473484674,
          0.5555330497463216,
          1.9854640098519127,
          -2.8892786549069487,
          -0.5784596935192364,
          0.2120730704035394,
          -1.6367541806959658,
          -0.9219858235162748,
          -0.9038989941312121,
          -1.535290948903216,
          -0.9925978081014436,
          -0.1597238157952492,
          -0.1901984016351724,
          0.4340012252146463,
          1.6412372806898923,
          -0.26853040854857746,
          -1.4860370235943405,
          0.25372152314593843,
          0.8945563158090339,
          -1.2581189537610697,
          0.045752502620580435,
          0.1497617632922686,
          0.2057116223861768,
          1.522860668306455,
          2.4288034729247605,
          0.7271286207696227,
          -1.0042866967532893,
          -1.7551852659625091,
          -0.6452019322122896,
          -0.08558077903288307,
          -0.937374506875622,
          -1.1699904455728098,
          1.4613885965928404,
          0.8723881989578501,
          0.20798177375181456,
          0.6798310425036768,
          0.42731389978554923,
          -0.15521417050771996,
          -0.007772620249765506,
          -0.34694444399638413,
          -0.7226311660756984,
          0.4336460288339709,
          1.898232555378553,
          -0.7793458372913163,
          1.5539085406936917,
          -0.7700115463299503,
          1.976076118695718,
          0.7765767247770977,
          -1.1224316814644946,
          -0.5900259740110259,
          0.010858880228758642,
          -0.17312092096226234,
          0.03626058732618706,
          -0.013328956951237278,
          -0.42293607488429613,
          0.8354496259136793,
          -0.49443977885766727,
          1.6887110227852462,
          -1.4909122935659305,
          1.351877827520775,
          -0.3909619630491156,
          -0.12358388977968666,
          1.9262225184352992,
          -1.888314477524304,
          -0.8030996273076954,
          2.708273101446665,
          0.41042386472559367,
          -0.7852293060505795,
          -1.354368226970318,
          -0.2503422957009691,
          -1.4950744957453541,
          -0.25899218688334524,
          0.5439135753811755,
          1.29831213783766
         ],
         "xaxis": "x9",
         "y": [
          0.48396363915452845,
          -0.8839504757489611,
          0.5944823766694012,
          -1.2087644449548938,
          -1.4588652418215866,
          -1.71617342439716,
          0.12162208071442088,
          -0.3608297979791972,
          -0.42242845389890843,
          0.04390948212546214,
          -0.4161508418773009,
          -0.708802954039864,
          0.40059679048085645,
          0.5571562735011651,
          0.5348040411944343,
          0.3600549961920591,
          -1.7495673113219377,
          0.3424817230951091,
          -0.7982736401450603,
          -1.5393636951459362,
          0.38188364523260454,
          0.6679824692132231,
          -1.6302832525996775,
          0.774058782367631,
          0.36030554093764167,
          0.41765634753539577,
          -0.002944256071235585,
          -1.111671206280267,
          0.5957649322461476,
          2.3586688907515008,
          0.5916008479013928,
          0.7259422663781465,
          -0.22213440567239653,
          -0.008089226780359612,
          -0.879943848146538,
          0.37809428348282015,
          -1.051974492111051,
          -2.4303364357334867,
          0.8902747934070464,
          0.6541843015681487,
          -2.1907773867692755,
          1.4151592563151574,
          0.2169988399881734,
          1.3796163891801971,
          -0.5107567629393553,
          0.14060742948121072,
          -0.2102408646089569,
          0.4746402010729189,
          -0.35629941940724974,
          0.09455049831948358,
          1.3315462134737737,
          0.12142640748102457,
          -0.6532459953478722,
          -0.2967680695605399,
          0.7406341892163693,
          1.8196016521717515,
          -0.45865294911254945,
          -0.21907541104349407,
          -1.6824241040302679,
          2.0431603995531065,
          2.4827480381542433,
          -0.873705716309566,
          -1.695945138813294,
          -0.4575251239756494,
          -1.346895198209205,
          -0.15018011180195395,
          -1.5759886738379878,
          -0.1982313013431906,
          0.9360674826623321,
          -0.5122282377520472,
          0.6505800704511161,
          -0.6642357334880877,
          0.05069602531264277,
          0.40809871683393023,
          0.15423817093218875,
          -0.6072905630520802,
          0.0832362881761946,
          -0.7876147222227531,
          0.7676497711006179,
          0.4308965629472975,
          -0.16142336373765484,
          -1.270767162984861,
          -0.3436961683419353,
          1.0583088258992703,
          -0.9007370643213202,
          1.4638762314021476,
          -0.5258092672087118,
          0.13550155144431164,
          -0.5088879826847917,
          0.5381844726862862,
          1.3371406210537218,
          -1.4209277616759663,
          -0.5881954188274244,
          -0.6262290973657684,
          -0.5321197520303068,
          -1.8267900014272351,
          -0.3561057241703818,
          0.2447657542690755,
          -1.5651841052535462,
          -0.023142125110577883
         ],
         "yaxis": "y9"
        },
        {
         "line": {
          "color": "rgba(128, 128, 128, 1.0)",
          "dash": "solid",
          "shape": "linear",
          "width": 1.3
         },
         "marker": {
          "size": 2,
          "symbol": "circle"
         },
         "mode": "markers",
         "name": "C",
         "text": "",
         "type": "scatter",
         "x": [
          0.48791258594993797,
          -0.05891854456106384,
          -0.6362022045967219,
          -0.4056058416314476,
          0.0006330543338569247,
          0.870525528955877,
          -0.6764844175995441,
          0.6474668146657152,
          -0.011818422547298509,
          1.3951013679061022,
          -1.7836141736487758,
          -0.04452308793644446,
          0.167234249338456,
          1.2567361760617723,
          -0.14027575575641704,
          0.09429143699907863,
          1.1242409616971984,
          0.050151518880630894,
          -0.2433928696764287,
          0.0783502937989915,
          0.9577964812936168,
          0.8770513370496233,
          -0.9686451268607692,
          -1.1455682487368903,
          1.667442748949377,
          1.5793147080970615,
          -0.4224730377130238,
          -0.3868067628069606,
          -1.5982968414883156,
          -0.2487089658615257,
          -0.39182632176914484,
          0.4986063317118386,
          -0.8700980248271802,
          0.5019229760141615,
          0.47136913990314216,
          0.09506378894544326,
          -0.4780009951857549,
          -0.15656352607360774,
          0.13881204338059433,
          1.0981469705486244,
          -0.6473528118947334,
          -0.07792660246003699,
          0.49093685414840577,
          0.9380626144705636,
          -0.7734212976175214,
          0.33422943469930877,
          -0.08206457103229005,
          0.19675075386621915,
          0.5420001440757906,
          -1.0969320780915388,
          0.14105130514566805,
          -0.2555864748272685,
          0.3782298749075631,
          0.07122122996107905,
          -0.18649207559510775,
          1.960743631159648,
          -0.5819049046976688,
          -0.5437881897673993,
          -0.6152534082450581,
          -0.08579520337015567,
          -1.0141040794192604,
          -0.7300103716957315,
          1.1591059727549322,
          -0.48871717672232134,
          0.6514275390594886,
          0.2959286126290568,
          -2.8449390446672465,
          -0.9964128029365027,
          -0.03310589205306478,
          0.45683529946442764,
          1.5500313810441426,
          -1.5430455490623174,
          1.2546011341118462,
          0.21495064400066777,
          0.3715588678943498,
          0.49929171775189896,
          0.30296929351938007,
          -1.4839432860196824,
          -2.026418060881709,
          -0.2651049157961102,
          -0.5172731186958455,
          -0.9233505359557593,
          -1.6777405785887876,
          1.1587072682107997,
          -0.08555026672901489,
          -0.08697221682863826,
          -0.8752844276408953,
          -0.4229123641934026,
          1.4152637622249185,
          -0.2687365546300804,
          -0.845265118679393,
          0.03661171573420025,
          -1.0408084121886536,
          0.07503804644651897,
          1.3461860366879066,
          0.008006281464838167,
          1.5369515511553713,
          1.046452560294225,
          -1.6355746895675083,
          -0.24565447964768866
         ],
         "xaxis": "x10",
         "y": [
          0.48396363915452845,
          -0.8839504757489611,
          0.5944823766694012,
          -1.2087644449548938,
          -1.4588652418215866,
          -1.71617342439716,
          0.12162208071442088,
          -0.3608297979791972,
          -0.42242845389890843,
          0.04390948212546214,
          -0.4161508418773009,
          -0.708802954039864,
          0.40059679048085645,
          0.5571562735011651,
          0.5348040411944343,
          0.3600549961920591,
          -1.7495673113219377,
          0.3424817230951091,
          -0.7982736401450603,
          -1.5393636951459362,
          0.38188364523260454,
          0.6679824692132231,
          -1.6302832525996775,
          0.774058782367631,
          0.36030554093764167,
          0.41765634753539577,
          -0.002944256071235585,
          -1.111671206280267,
          0.5957649322461476,
          2.3586688907515008,
          0.5916008479013928,
          0.7259422663781465,
          -0.22213440567239653,
          -0.008089226780359612,
          -0.879943848146538,
          0.37809428348282015,
          -1.051974492111051,
          -2.4303364357334867,
          0.8902747934070464,
          0.6541843015681487,
          -2.1907773867692755,
          1.4151592563151574,
          0.2169988399881734,
          1.3796163891801971,
          -0.5107567629393553,
          0.14060742948121072,
          -0.2102408646089569,
          0.4746402010729189,
          -0.35629941940724974,
          0.09455049831948358,
          1.3315462134737737,
          0.12142640748102457,
          -0.6532459953478722,
          -0.2967680695605399,
          0.7406341892163693,
          1.8196016521717515,
          -0.45865294911254945,
          -0.21907541104349407,
          -1.6824241040302679,
          2.0431603995531065,
          2.4827480381542433,
          -0.873705716309566,
          -1.695945138813294,
          -0.4575251239756494,
          -1.346895198209205,
          -0.15018011180195395,
          -1.5759886738379878,
          -0.1982313013431906,
          0.9360674826623321,
          -0.5122282377520472,
          0.6505800704511161,
          -0.6642357334880877,
          0.05069602531264277,
          0.40809871683393023,
          0.15423817093218875,
          -0.6072905630520802,
          0.0832362881761946,
          -0.7876147222227531,
          0.7676497711006179,
          0.4308965629472975,
          -0.16142336373765484,
          -1.270767162984861,
          -0.3436961683419353,
          1.0583088258992703,
          -0.9007370643213202,
          1.4638762314021476,
          -0.5258092672087118,
          0.13550155144431164,
          -0.5088879826847917,
          0.5381844726862862,
          1.3371406210537218,
          -1.4209277616759663,
          -0.5881954188274244,
          -0.6262290973657684,
          -0.5321197520303068,
          -1.8267900014272351,
          -0.3561057241703818,
          0.2447657542690755,
          -1.5651841052535462,
          -0.023142125110577883
         ],
         "yaxis": "y10"
        },
        {
         "histfunc": "count",
         "histnorm": "",
         "marker": {
          "color": "rgba(50, 171, 96, 1.0)",
          "line": {
           "color": "#4D5663",
           "width": 1.3
          }
         },
         "name": "C",
         "nbinsx": 10,
         "opacity": 0.8,
         "orientation": "v",
         "type": "histogram",
         "x": [
          0.48396363915452845,
          -0.8839504757489611,
          0.5944823766694012,
          -1.2087644449548938,
          -1.4588652418215866,
          -1.71617342439716,
          0.12162208071442088,
          -0.3608297979791972,
          -0.42242845389890843,
          0.04390948212546214,
          -0.4161508418773009,
          -0.708802954039864,
          0.40059679048085645,
          0.5571562735011651,
          0.5348040411944343,
          0.3600549961920591,
          -1.7495673113219377,
          0.3424817230951091,
          -0.7982736401450603,
          -1.5393636951459362,
          0.38188364523260454,
          0.6679824692132231,
          -1.6302832525996775,
          0.774058782367631,
          0.36030554093764167,
          0.41765634753539577,
          -0.002944256071235585,
          -1.111671206280267,
          0.5957649322461476,
          2.3586688907515008,
          0.5916008479013928,
          0.7259422663781465,
          -0.22213440567239653,
          -0.008089226780359612,
          -0.879943848146538,
          0.37809428348282015,
          -1.051974492111051,
          -2.4303364357334867,
          0.8902747934070464,
          0.6541843015681487,
          -2.1907773867692755,
          1.4151592563151574,
          0.2169988399881734,
          1.3796163891801971,
          -0.5107567629393553,
          0.14060742948121072,
          -0.2102408646089569,
          0.4746402010729189,
          -0.35629941940724974,
          0.09455049831948358,
          1.3315462134737737,
          0.12142640748102457,
          -0.6532459953478722,
          -0.2967680695605399,
          0.7406341892163693,
          1.8196016521717515,
          -0.45865294911254945,
          -0.21907541104349407,
          -1.6824241040302679,
          2.0431603995531065,
          2.4827480381542433,
          -0.873705716309566,
          -1.695945138813294,
          -0.4575251239756494,
          -1.346895198209205,
          -0.15018011180195395,
          -1.5759886738379878,
          -0.1982313013431906,
          0.9360674826623321,
          -0.5122282377520472,
          0.6505800704511161,
          -0.6642357334880877,
          0.05069602531264277,
          0.40809871683393023,
          0.15423817093218875,
          -0.6072905630520802,
          0.0832362881761946,
          -0.7876147222227531,
          0.7676497711006179,
          0.4308965629472975,
          -0.16142336373765484,
          -1.270767162984861,
          -0.3436961683419353,
          1.0583088258992703,
          -0.9007370643213202,
          1.4638762314021476,
          -0.5258092672087118,
          0.13550155144431164,
          -0.5088879826847917,
          0.5381844726862862,
          1.3371406210537218,
          -1.4209277616759663,
          -0.5881954188274244,
          -0.6262290973657684,
          -0.5321197520303068,
          -1.8267900014272351,
          -0.3561057241703818,
          0.2447657542690755,
          -1.5651841052535462,
          -0.023142125110577883
         ],
         "xaxis": "x11",
         "yaxis": "y11"
        },
        {
         "line": {
          "color": "rgba(128, 128, 128, 1.0)",
          "dash": "solid",
          "shape": "linear",
          "width": 1.3
         },
         "marker": {
          "size": 2,
          "symbol": "circle"
         },
         "mode": "markers",
         "name": "C",
         "text": "",
         "type": "scatter",
         "x": [
          -0.28945819509093734,
          0.9506427079983513,
          -0.7075271544102827,
          0.33670026214094395,
          -0.10309166006052267,
          -0.18288297182315447,
          -0.6442306189531569,
          -0.35940347774718095,
          0.5980547649257733,
          0.38036286133256436,
          -1.2091149892980757,
          0.06723683346111031,
          0.7431448881965461,
          -0.09331449305279685,
          1.132594539633511,
          0.5986790751339794,
          -0.7909196560389122,
          -0.03678372527453003,
          -0.6947496907152378,
          -0.14130279411144683,
          -0.3060630927142332,
          -0.48116505787049035,
          0.5243553499271801,
          -1.2102603915406223,
          0.3662464595616071,
          1.5121451016626646,
          -0.5964350877415936,
          0.19781953581011333,
          -0.15302128942909088,
          0.06286068687679577,
          -0.5284685917617867,
          0.11107646904647635,
          -0.7560116181446788,
          -1.816222523311719,
          -0.7340965407045787,
          -2.5120924771350595,
          1.8887108667483687,
          0.17393748127873918,
          0.4057329203443431,
          -0.9950959777302046,
          0.17144971865073647,
          -1.197496099922525,
          -0.5696725879013981,
          0.30519989577527956,
          -0.9571854796916874,
          -0.5910988791985874,
          -0.647680651318399,
          0.21141056351513177,
          -0.4717975764243811,
          -1.228992629320308,
          -0.03493674168857812,
          -0.3929219675723878,
          -1.1248982506050234,
          1.5123905848365962,
          -1.161871394713524,
          0.35904725596967374,
          0.34580461961286196,
          -0.6247537218600137,
          0.6534904317589532,
          1.3647421932698265,
          0.36618733325902403,
          1.7350447493493786,
          -0.9164093019316768,
          -1.0427448140035536,
          1.195631158086616,
          -0.06332228078375042,
          -1.7792966150531015,
          -0.12981625980441097,
          0.7432451604322915,
          1.335795152531882,
          -0.29532275561968435,
          0.39793884204104457,
          -1.2434297290102156,
          0.3303682465473808,
          0.32606768933147523,
          0.3475504294634366,
          2.4942377346525846,
          -0.4208336480076219,
          1.1462273355356751,
          0.9597878014572179,
          -0.005393438437951994,
          -0.0019042778033120133,
          0.5488280518498596,
          2.2122887521931665,
          -1.2512728656185765,
          0.8831372364595468,
          0.9525324520273428,
          -0.23937498467410134,
          0.6727166198158724,
          0.7742155597792745,
          0.2979483029274702,
          -1.449069628948016,
          -1.7809778841935426,
          0.02738861605019371,
          -0.44985915636015683,
          1.0722366003371442,
          2.447842737960517,
          -1.7731439403282263,
          -0.09594801128742135,
          0.7736657602276928
         ],
         "xaxis": "x12",
         "y": [
          0.48396363915452845,
          -0.8839504757489611,
          0.5944823766694012,
          -1.2087644449548938,
          -1.4588652418215866,
          -1.71617342439716,
          0.12162208071442088,
          -0.3608297979791972,
          -0.42242845389890843,
          0.04390948212546214,
          -0.4161508418773009,
          -0.708802954039864,
          0.40059679048085645,
          0.5571562735011651,
          0.5348040411944343,
          0.3600549961920591,
          -1.7495673113219377,
          0.3424817230951091,
          -0.7982736401450603,
          -1.5393636951459362,
          0.38188364523260454,
          0.6679824692132231,
          -1.6302832525996775,
          0.774058782367631,
          0.36030554093764167,
          0.41765634753539577,
          -0.002944256071235585,
          -1.111671206280267,
          0.5957649322461476,
          2.3586688907515008,
          0.5916008479013928,
          0.7259422663781465,
          -0.22213440567239653,
          -0.008089226780359612,
          -0.879943848146538,
          0.37809428348282015,
          -1.051974492111051,
          -2.4303364357334867,
          0.8902747934070464,
          0.6541843015681487,
          -2.1907773867692755,
          1.4151592563151574,
          0.2169988399881734,
          1.3796163891801971,
          -0.5107567629393553,
          0.14060742948121072,
          -0.2102408646089569,
          0.4746402010729189,
          -0.35629941940724974,
          0.09455049831948358,
          1.3315462134737737,
          0.12142640748102457,
          -0.6532459953478722,
          -0.2967680695605399,
          0.7406341892163693,
          1.8196016521717515,
          -0.45865294911254945,
          -0.21907541104349407,
          -1.6824241040302679,
          2.0431603995531065,
          2.4827480381542433,
          -0.873705716309566,
          -1.695945138813294,
          -0.4575251239756494,
          -1.346895198209205,
          -0.15018011180195395,
          -1.5759886738379878,
          -0.1982313013431906,
          0.9360674826623321,
          -0.5122282377520472,
          0.6505800704511161,
          -0.6642357334880877,
          0.05069602531264277,
          0.40809871683393023,
          0.15423817093218875,
          -0.6072905630520802,
          0.0832362881761946,
          -0.7876147222227531,
          0.7676497711006179,
          0.4308965629472975,
          -0.16142336373765484,
          -1.270767162984861,
          -0.3436961683419353,
          1.0583088258992703,
          -0.9007370643213202,
          1.4638762314021476,
          -0.5258092672087118,
          0.13550155144431164,
          -0.5088879826847917,
          0.5381844726862862,
          1.3371406210537218,
          -1.4209277616759663,
          -0.5881954188274244,
          -0.6262290973657684,
          -0.5321197520303068,
          -1.8267900014272351,
          -0.3561057241703818,
          0.2447657542690755,
          -1.5651841052535462,
          -0.023142125110577883
         ],
         "yaxis": "y12"
        },
        {
         "line": {
          "color": "rgba(128, 128, 128, 1.0)",
          "dash": "solid",
          "shape": "linear",
          "width": 1.3
         },
         "marker": {
          "size": 2,
          "symbol": "circle"
         },
         "mode": "markers",
         "name": "D",
         "text": "",
         "type": "scatter",
         "x": [
          0.45376365134072455,
          0.1533277234434953,
          0.5584066630730266,
          0.6388125002339647,
          -0.7682082709200291,
          0.5872366051112483,
          -1.3622641558947228,
          0.9197266262491686,
          -0.5667359249270596,
          0.4428979494699839,
          -0.9832214064613543,
          -0.2086539026383452,
          0.5831019922477547,
          1.954808667357305,
          -0.39354558972605347,
          0.30152662807609654,
          0.13427182222200904,
          0.046625265681057806,
          -0.9675029107659785,
          -1.9378907692372627,
          0.7645084255726655,
          0.3456496119966951,
          0.6100739704928948,
          -1.2975215359698145,
          0.9811582960283188,
          -1.854291883561129,
          0.0030300626473484674,
          0.5555330497463216,
          1.9854640098519127,
          -2.8892786549069487,
          -0.5784596935192364,
          0.2120730704035394,
          -1.6367541806959658,
          -0.9219858235162748,
          -0.9038989941312121,
          -1.535290948903216,
          -0.9925978081014436,
          -0.1597238157952492,
          -0.1901984016351724,
          0.4340012252146463,
          1.6412372806898923,
          -0.26853040854857746,
          -1.4860370235943405,
          0.25372152314593843,
          0.8945563158090339,
          -1.2581189537610697,
          0.045752502620580435,
          0.1497617632922686,
          0.2057116223861768,
          1.522860668306455,
          2.4288034729247605,
          0.7271286207696227,
          -1.0042866967532893,
          -1.7551852659625091,
          -0.6452019322122896,
          -0.08558077903288307,
          -0.937374506875622,
          -1.1699904455728098,
          1.4613885965928404,
          0.8723881989578501,
          0.20798177375181456,
          0.6798310425036768,
          0.42731389978554923,
          -0.15521417050771996,
          -0.007772620249765506,
          -0.34694444399638413,
          -0.7226311660756984,
          0.4336460288339709,
          1.898232555378553,
          -0.7793458372913163,
          1.5539085406936917,
          -0.7700115463299503,
          1.976076118695718,
          0.7765767247770977,
          -1.1224316814644946,
          -0.5900259740110259,
          0.010858880228758642,
          -0.17312092096226234,
          0.03626058732618706,
          -0.013328956951237278,
          -0.42293607488429613,
          0.8354496259136793,
          -0.49443977885766727,
          1.6887110227852462,
          -1.4909122935659305,
          1.351877827520775,
          -0.3909619630491156,
          -0.12358388977968666,
          1.9262225184352992,
          -1.888314477524304,
          -0.8030996273076954,
          2.708273101446665,
          0.41042386472559367,
          -0.7852293060505795,
          -1.354368226970318,
          -0.2503422957009691,
          -1.4950744957453541,
          -0.25899218688334524,
          0.5439135753811755,
          1.29831213783766
         ],
         "xaxis": "x13",
         "y": [
          -0.28945819509093734,
          0.9506427079983513,
          -0.7075271544102827,
          0.33670026214094395,
          -0.10309166006052267,
          -0.18288297182315447,
          -0.6442306189531569,
          -0.35940347774718095,
          0.5980547649257733,
          0.38036286133256436,
          -1.2091149892980757,
          0.06723683346111031,
          0.7431448881965461,
          -0.09331449305279685,
          1.132594539633511,
          0.5986790751339794,
          -0.7909196560389122,
          -0.03678372527453003,
          -0.6947496907152378,
          -0.14130279411144683,
          -0.3060630927142332,
          -0.48116505787049035,
          0.5243553499271801,
          -1.2102603915406223,
          0.3662464595616071,
          1.5121451016626646,
          -0.5964350877415936,
          0.19781953581011333,
          -0.15302128942909088,
          0.06286068687679577,
          -0.5284685917617867,
          0.11107646904647635,
          -0.7560116181446788,
          -1.816222523311719,
          -0.7340965407045787,
          -2.5120924771350595,
          1.8887108667483687,
          0.17393748127873918,
          0.4057329203443431,
          -0.9950959777302046,
          0.17144971865073647,
          -1.197496099922525,
          -0.5696725879013981,
          0.30519989577527956,
          -0.9571854796916874,
          -0.5910988791985874,
          -0.647680651318399,
          0.21141056351513177,
          -0.4717975764243811,
          -1.228992629320308,
          -0.03493674168857812,
          -0.3929219675723878,
          -1.1248982506050234,
          1.5123905848365962,
          -1.161871394713524,
          0.35904725596967374,
          0.34580461961286196,
          -0.6247537218600137,
          0.6534904317589532,
          1.3647421932698265,
          0.36618733325902403,
          1.7350447493493786,
          -0.9164093019316768,
          -1.0427448140035536,
          1.195631158086616,
          -0.06332228078375042,
          -1.7792966150531015,
          -0.12981625980441097,
          0.7432451604322915,
          1.335795152531882,
          -0.29532275561968435,
          0.39793884204104457,
          -1.2434297290102156,
          0.3303682465473808,
          0.32606768933147523,
          0.3475504294634366,
          2.4942377346525846,
          -0.4208336480076219,
          1.1462273355356751,
          0.9597878014572179,
          -0.005393438437951994,
          -0.0019042778033120133,
          0.5488280518498596,
          2.2122887521931665,
          -1.2512728656185765,
          0.8831372364595468,
          0.9525324520273428,
          -0.23937498467410134,
          0.6727166198158724,
          0.7742155597792745,
          0.2979483029274702,
          -1.449069628948016,
          -1.7809778841935426,
          0.02738861605019371,
          -0.44985915636015683,
          1.0722366003371442,
          2.447842737960517,
          -1.7731439403282263,
          -0.09594801128742135,
          0.7736657602276928
         ],
         "yaxis": "y13"
        },
        {
         "line": {
          "color": "rgba(128, 128, 128, 1.0)",
          "dash": "solid",
          "shape": "linear",
          "width": 1.3
         },
         "marker": {
          "size": 2,
          "symbol": "circle"
         },
         "mode": "markers",
         "name": "D",
         "text": "",
         "type": "scatter",
         "x": [
          0.48791258594993797,
          -0.05891854456106384,
          -0.6362022045967219,
          -0.4056058416314476,
          0.0006330543338569247,
          0.870525528955877,
          -0.6764844175995441,
          0.6474668146657152,
          -0.011818422547298509,
          1.3951013679061022,
          -1.7836141736487758,
          -0.04452308793644446,
          0.167234249338456,
          1.2567361760617723,
          -0.14027575575641704,
          0.09429143699907863,
          1.1242409616971984,
          0.050151518880630894,
          -0.2433928696764287,
          0.0783502937989915,
          0.9577964812936168,
          0.8770513370496233,
          -0.9686451268607692,
          -1.1455682487368903,
          1.667442748949377,
          1.5793147080970615,
          -0.4224730377130238,
          -0.3868067628069606,
          -1.5982968414883156,
          -0.2487089658615257,
          -0.39182632176914484,
          0.4986063317118386,
          -0.8700980248271802,
          0.5019229760141615,
          0.47136913990314216,
          0.09506378894544326,
          -0.4780009951857549,
          -0.15656352607360774,
          0.13881204338059433,
          1.0981469705486244,
          -0.6473528118947334,
          -0.07792660246003699,
          0.49093685414840577,
          0.9380626144705636,
          -0.7734212976175214,
          0.33422943469930877,
          -0.08206457103229005,
          0.19675075386621915,
          0.5420001440757906,
          -1.0969320780915388,
          0.14105130514566805,
          -0.2555864748272685,
          0.3782298749075631,
          0.07122122996107905,
          -0.18649207559510775,
          1.960743631159648,
          -0.5819049046976688,
          -0.5437881897673993,
          -0.6152534082450581,
          -0.08579520337015567,
          -1.0141040794192604,
          -0.7300103716957315,
          1.1591059727549322,
          -0.48871717672232134,
          0.6514275390594886,
          0.2959286126290568,
          -2.8449390446672465,
          -0.9964128029365027,
          -0.03310589205306478,
          0.45683529946442764,
          1.5500313810441426,
          -1.5430455490623174,
          1.2546011341118462,
          0.21495064400066777,
          0.3715588678943498,
          0.49929171775189896,
          0.30296929351938007,
          -1.4839432860196824,
          -2.026418060881709,
          -0.2651049157961102,
          -0.5172731186958455,
          -0.9233505359557593,
          -1.6777405785887876,
          1.1587072682107997,
          -0.08555026672901489,
          -0.08697221682863826,
          -0.8752844276408953,
          -0.4229123641934026,
          1.4152637622249185,
          -0.2687365546300804,
          -0.845265118679393,
          0.03661171573420025,
          -1.0408084121886536,
          0.07503804644651897,
          1.3461860366879066,
          0.008006281464838167,
          1.5369515511553713,
          1.046452560294225,
          -1.6355746895675083,
          -0.24565447964768866
         ],
         "xaxis": "x14",
         "y": [
          -0.28945819509093734,
          0.9506427079983513,
          -0.7075271544102827,
          0.33670026214094395,
          -0.10309166006052267,
          -0.18288297182315447,
          -0.6442306189531569,
          -0.35940347774718095,
          0.5980547649257733,
          0.38036286133256436,
          -1.2091149892980757,
          0.06723683346111031,
          0.7431448881965461,
          -0.09331449305279685,
          1.132594539633511,
          0.5986790751339794,
          -0.7909196560389122,
          -0.03678372527453003,
          -0.6947496907152378,
          -0.14130279411144683,
          -0.3060630927142332,
          -0.48116505787049035,
          0.5243553499271801,
          -1.2102603915406223,
          0.3662464595616071,
          1.5121451016626646,
          -0.5964350877415936,
          0.19781953581011333,
          -0.15302128942909088,
          0.06286068687679577,
          -0.5284685917617867,
          0.11107646904647635,
          -0.7560116181446788,
          -1.816222523311719,
          -0.7340965407045787,
          -2.5120924771350595,
          1.8887108667483687,
          0.17393748127873918,
          0.4057329203443431,
          -0.9950959777302046,
          0.17144971865073647,
          -1.197496099922525,
          -0.5696725879013981,
          0.30519989577527956,
          -0.9571854796916874,
          -0.5910988791985874,
          -0.647680651318399,
          0.21141056351513177,
          -0.4717975764243811,
          -1.228992629320308,
          -0.03493674168857812,
          -0.3929219675723878,
          -1.1248982506050234,
          1.5123905848365962,
          -1.161871394713524,
          0.35904725596967374,
          0.34580461961286196,
          -0.6247537218600137,
          0.6534904317589532,
          1.3647421932698265,
          0.36618733325902403,
          1.7350447493493786,
          -0.9164093019316768,
          -1.0427448140035536,
          1.195631158086616,
          -0.06332228078375042,
          -1.7792966150531015,
          -0.12981625980441097,
          0.7432451604322915,
          1.335795152531882,
          -0.29532275561968435,
          0.39793884204104457,
          -1.2434297290102156,
          0.3303682465473808,
          0.32606768933147523,
          0.3475504294634366,
          2.4942377346525846,
          -0.4208336480076219,
          1.1462273355356751,
          0.9597878014572179,
          -0.005393438437951994,
          -0.0019042778033120133,
          0.5488280518498596,
          2.2122887521931665,
          -1.2512728656185765,
          0.8831372364595468,
          0.9525324520273428,
          -0.23937498467410134,
          0.6727166198158724,
          0.7742155597792745,
          0.2979483029274702,
          -1.449069628948016,
          -1.7809778841935426,
          0.02738861605019371,
          -0.44985915636015683,
          1.0722366003371442,
          2.447842737960517,
          -1.7731439403282263,
          -0.09594801128742135,
          0.7736657602276928
         ],
         "yaxis": "y14"
        },
        {
         "line": {
          "color": "rgba(128, 128, 128, 1.0)",
          "dash": "solid",
          "shape": "linear",
          "width": 1.3
         },
         "marker": {
          "size": 2,
          "symbol": "circle"
         },
         "mode": "markers",
         "name": "D",
         "text": "",
         "type": "scatter",
         "x": [
          0.48396363915452845,
          -0.8839504757489611,
          0.5944823766694012,
          -1.2087644449548938,
          -1.4588652418215866,
          -1.71617342439716,
          0.12162208071442088,
          -0.3608297979791972,
          -0.42242845389890843,
          0.04390948212546214,
          -0.4161508418773009,
          -0.708802954039864,
          0.40059679048085645,
          0.5571562735011651,
          0.5348040411944343,
          0.3600549961920591,
          -1.7495673113219377,
          0.3424817230951091,
          -0.7982736401450603,
          -1.5393636951459362,
          0.38188364523260454,
          0.6679824692132231,
          -1.6302832525996775,
          0.774058782367631,
          0.36030554093764167,
          0.41765634753539577,
          -0.002944256071235585,
          -1.111671206280267,
          0.5957649322461476,
          2.3586688907515008,
          0.5916008479013928,
          0.7259422663781465,
          -0.22213440567239653,
          -0.008089226780359612,
          -0.879943848146538,
          0.37809428348282015,
          -1.051974492111051,
          -2.4303364357334867,
          0.8902747934070464,
          0.6541843015681487,
          -2.1907773867692755,
          1.4151592563151574,
          0.2169988399881734,
          1.3796163891801971,
          -0.5107567629393553,
          0.14060742948121072,
          -0.2102408646089569,
          0.4746402010729189,
          -0.35629941940724974,
          0.09455049831948358,
          1.3315462134737737,
          0.12142640748102457,
          -0.6532459953478722,
          -0.2967680695605399,
          0.7406341892163693,
          1.8196016521717515,
          -0.45865294911254945,
          -0.21907541104349407,
          -1.6824241040302679,
          2.0431603995531065,
          2.4827480381542433,
          -0.873705716309566,
          -1.695945138813294,
          -0.4575251239756494,
          -1.346895198209205,
          -0.15018011180195395,
          -1.5759886738379878,
          -0.1982313013431906,
          0.9360674826623321,
          -0.5122282377520472,
          0.6505800704511161,
          -0.6642357334880877,
          0.05069602531264277,
          0.40809871683393023,
          0.15423817093218875,
          -0.6072905630520802,
          0.0832362881761946,
          -0.7876147222227531,
          0.7676497711006179,
          0.4308965629472975,
          -0.16142336373765484,
          -1.270767162984861,
          -0.3436961683419353,
          1.0583088258992703,
          -0.9007370643213202,
          1.4638762314021476,
          -0.5258092672087118,
          0.13550155144431164,
          -0.5088879826847917,
          0.5381844726862862,
          1.3371406210537218,
          -1.4209277616759663,
          -0.5881954188274244,
          -0.6262290973657684,
          -0.5321197520303068,
          -1.8267900014272351,
          -0.3561057241703818,
          0.2447657542690755,
          -1.5651841052535462,
          -0.023142125110577883
         ],
         "xaxis": "x15",
         "y": [
          -0.28945819509093734,
          0.9506427079983513,
          -0.7075271544102827,
          0.33670026214094395,
          -0.10309166006052267,
          -0.18288297182315447,
          -0.6442306189531569,
          -0.35940347774718095,
          0.5980547649257733,
          0.38036286133256436,
          -1.2091149892980757,
          0.06723683346111031,
          0.7431448881965461,
          -0.09331449305279685,
          1.132594539633511,
          0.5986790751339794,
          -0.7909196560389122,
          -0.03678372527453003,
          -0.6947496907152378,
          -0.14130279411144683,
          -0.3060630927142332,
          -0.48116505787049035,
          0.5243553499271801,
          -1.2102603915406223,
          0.3662464595616071,
          1.5121451016626646,
          -0.5964350877415936,
          0.19781953581011333,
          -0.15302128942909088,
          0.06286068687679577,
          -0.5284685917617867,
          0.11107646904647635,
          -0.7560116181446788,
          -1.816222523311719,
          -0.7340965407045787,
          -2.5120924771350595,
          1.8887108667483687,
          0.17393748127873918,
          0.4057329203443431,
          -0.9950959777302046,
          0.17144971865073647,
          -1.197496099922525,
          -0.5696725879013981,
          0.30519989577527956,
          -0.9571854796916874,
          -0.5910988791985874,
          -0.647680651318399,
          0.21141056351513177,
          -0.4717975764243811,
          -1.228992629320308,
          -0.03493674168857812,
          -0.3929219675723878,
          -1.1248982506050234,
          1.5123905848365962,
          -1.161871394713524,
          0.35904725596967374,
          0.34580461961286196,
          -0.6247537218600137,
          0.6534904317589532,
          1.3647421932698265,
          0.36618733325902403,
          1.7350447493493786,
          -0.9164093019316768,
          -1.0427448140035536,
          1.195631158086616,
          -0.06332228078375042,
          -1.7792966150531015,
          -0.12981625980441097,
          0.7432451604322915,
          1.335795152531882,
          -0.29532275561968435,
          0.39793884204104457,
          -1.2434297290102156,
          0.3303682465473808,
          0.32606768933147523,
          0.3475504294634366,
          2.4942377346525846,
          -0.4208336480076219,
          1.1462273355356751,
          0.9597878014572179,
          -0.005393438437951994,
          -0.0019042778033120133,
          0.5488280518498596,
          2.2122887521931665,
          -1.2512728656185765,
          0.8831372364595468,
          0.9525324520273428,
          -0.23937498467410134,
          0.6727166198158724,
          0.7742155597792745,
          0.2979483029274702,
          -1.449069628948016,
          -1.7809778841935426,
          0.02738861605019371,
          -0.44985915636015683,
          1.0722366003371442,
          2.447842737960517,
          -1.7731439403282263,
          -0.09594801128742135,
          0.7736657602276928
         ],
         "yaxis": "y15"
        },
        {
         "histfunc": "count",
         "histnorm": "",
         "marker": {
          "color": "rgba(128, 0, 128, 1.0)",
          "line": {
           "color": "#4D5663",
           "width": 1.3
          }
         },
         "name": "D",
         "nbinsx": 10,
         "opacity": 0.8,
         "orientation": "v",
         "type": "histogram",
         "x": [
          -0.28945819509093734,
          0.9506427079983513,
          -0.7075271544102827,
          0.33670026214094395,
          -0.10309166006052267,
          -0.18288297182315447,
          -0.6442306189531569,
          -0.35940347774718095,
          0.5980547649257733,
          0.38036286133256436,
          -1.2091149892980757,
          0.06723683346111031,
          0.7431448881965461,
          -0.09331449305279685,
          1.132594539633511,
          0.5986790751339794,
          -0.7909196560389122,
          -0.03678372527453003,
          -0.6947496907152378,
          -0.14130279411144683,
          -0.3060630927142332,
          -0.48116505787049035,
          0.5243553499271801,
          -1.2102603915406223,
          0.3662464595616071,
          1.5121451016626646,
          -0.5964350877415936,
          0.19781953581011333,
          -0.15302128942909088,
          0.06286068687679577,
          -0.5284685917617867,
          0.11107646904647635,
          -0.7560116181446788,
          -1.816222523311719,
          -0.7340965407045787,
          -2.5120924771350595,
          1.8887108667483687,
          0.17393748127873918,
          0.4057329203443431,
          -0.9950959777302046,
          0.17144971865073647,
          -1.197496099922525,
          -0.5696725879013981,
          0.30519989577527956,
          -0.9571854796916874,
          -0.5910988791985874,
          -0.647680651318399,
          0.21141056351513177,
          -0.4717975764243811,
          -1.228992629320308,
          -0.03493674168857812,
          -0.3929219675723878,
          -1.1248982506050234,
          1.5123905848365962,
          -1.161871394713524,
          0.35904725596967374,
          0.34580461961286196,
          -0.6247537218600137,
          0.6534904317589532,
          1.3647421932698265,
          0.36618733325902403,
          1.7350447493493786,
          -0.9164093019316768,
          -1.0427448140035536,
          1.195631158086616,
          -0.06332228078375042,
          -1.7792966150531015,
          -0.12981625980441097,
          0.7432451604322915,
          1.335795152531882,
          -0.29532275561968435,
          0.39793884204104457,
          -1.2434297290102156,
          0.3303682465473808,
          0.32606768933147523,
          0.3475504294634366,
          2.4942377346525846,
          -0.4208336480076219,
          1.1462273355356751,
          0.9597878014572179,
          -0.005393438437951994,
          -0.0019042778033120133,
          0.5488280518498596,
          2.2122887521931665,
          -1.2512728656185765,
          0.8831372364595468,
          0.9525324520273428,
          -0.23937498467410134,
          0.6727166198158724,
          0.7742155597792745,
          0.2979483029274702,
          -1.449069628948016,
          -1.7809778841935426,
          0.02738861605019371,
          -0.44985915636015683,
          1.0722366003371442,
          2.447842737960517,
          -1.7731439403282263,
          -0.09594801128742135,
          0.7736657602276928
         ],
         "xaxis": "x16",
         "yaxis": "y16"
        }
       ],
       "layout": {
        "bargap": 0.02,
        "legend": {
         "bgcolor": "#F5F6F9",
         "font": {
          "color": "#4D5663"
         }
        },
        "paper_bgcolor": "#F5F6F9",
        "plot_bgcolor": "#F5F6F9",
        "showlegend": false,
        "template": {
         "data": {
          "bar": [
           {
            "error_x": {
             "color": "#2a3f5f"
            },
            "error_y": {
             "color": "#2a3f5f"
            },
            "marker": {
             "line": {
              "color": "#E5ECF6",
              "width": 0.5
             }
            },
            "type": "bar"
           }
          ],
          "barpolar": [
           {
            "marker": {
             "line": {
              "color": "#E5ECF6",
              "width": 0.5
             }
            },
            "type": "barpolar"
           }
          ],
          "carpet": [
           {
            "aaxis": {
             "endlinecolor": "#2a3f5f",
             "gridcolor": "white",
             "linecolor": "white",
             "minorgridcolor": "white",
             "startlinecolor": "#2a3f5f"
            },
            "baxis": {
             "endlinecolor": "#2a3f5f",
             "gridcolor": "white",
             "linecolor": "white",
             "minorgridcolor": "white",
             "startlinecolor": "#2a3f5f"
            },
            "type": "carpet"
           }
          ],
          "choropleth": [
           {
            "colorbar": {
             "outlinewidth": 0,
             "ticks": ""
            },
            "type": "choropleth"
           }
          ],
          "contour": [
           {
            "colorbar": {
             "outlinewidth": 0,
             "ticks": ""
            },
            "colorscale": [
             [
              0,
              "#0d0887"
             ],
             [
              0.1111111111111111,
              "#46039f"
             ],
             [
              0.2222222222222222,
              "#7201a8"
             ],
             [
              0.3333333333333333,
              "#9c179e"
             ],
             [
              0.4444444444444444,
              "#bd3786"
             ],
             [
              0.5555555555555556,
              "#d8576b"
             ],
             [
              0.6666666666666666,
              "#ed7953"
             ],
             [
              0.7777777777777778,
              "#fb9f3a"
             ],
             [
              0.8888888888888888,
              "#fdca26"
             ],
             [
              1,
              "#f0f921"
             ]
            ],
            "type": "contour"
           }
          ],
          "contourcarpet": [
           {
            "colorbar": {
             "outlinewidth": 0,
             "ticks": ""
            },
            "type": "contourcarpet"
           }
          ],
          "heatmap": [
           {
            "colorbar": {
             "outlinewidth": 0,
             "ticks": ""
            },
            "colorscale": [
             [
              0,
              "#0d0887"
             ],
             [
              0.1111111111111111,
              "#46039f"
             ],
             [
              0.2222222222222222,
              "#7201a8"
             ],
             [
              0.3333333333333333,
              "#9c179e"
             ],
             [
              0.4444444444444444,
              "#bd3786"
             ],
             [
              0.5555555555555556,
              "#d8576b"
             ],
             [
              0.6666666666666666,
              "#ed7953"
             ],
             [
              0.7777777777777778,
              "#fb9f3a"
             ],
             [
              0.8888888888888888,
              "#fdca26"
             ],
             [
              1,
              "#f0f921"
             ]
            ],
            "type": "heatmap"
           }
          ],
          "heatmapgl": [
           {
            "colorbar": {
             "outlinewidth": 0,
             "ticks": ""
            },
            "colorscale": [
             [
              0,
              "#0d0887"
             ],
             [
              0.1111111111111111,
              "#46039f"
             ],
             [
              0.2222222222222222,
              "#7201a8"
             ],
             [
              0.3333333333333333,
              "#9c179e"
             ],
             [
              0.4444444444444444,
              "#bd3786"
             ],
             [
              0.5555555555555556,
              "#d8576b"
             ],
             [
              0.6666666666666666,
              "#ed7953"
             ],
             [
              0.7777777777777778,
              "#fb9f3a"
             ],
             [
              0.8888888888888888,
              "#fdca26"
             ],
             [
              1,
              "#f0f921"
             ]
            ],
            "type": "heatmapgl"
           }
          ],
          "histogram": [
           {
            "marker": {
             "colorbar": {
              "outlinewidth": 0,
              "ticks": ""
             }
            },
            "type": "histogram"
           }
          ],
          "histogram2d": [
           {
            "colorbar": {
             "outlinewidth": 0,
             "ticks": ""
            },
            "colorscale": [
             [
              0,
              "#0d0887"
             ],
             [
              0.1111111111111111,
              "#46039f"
             ],
             [
              0.2222222222222222,
              "#7201a8"
             ],
             [
              0.3333333333333333,
              "#9c179e"
             ],
             [
              0.4444444444444444,
              "#bd3786"
             ],
             [
              0.5555555555555556,
              "#d8576b"
             ],
             [
              0.6666666666666666,
              "#ed7953"
             ],
             [
              0.7777777777777778,
              "#fb9f3a"
             ],
             [
              0.8888888888888888,
              "#fdca26"
             ],
             [
              1,
              "#f0f921"
             ]
            ],
            "type": "histogram2d"
           }
          ],
          "histogram2dcontour": [
           {
            "colorbar": {
             "outlinewidth": 0,
             "ticks": ""
            },
            "colorscale": [
             [
              0,
              "#0d0887"
             ],
             [
              0.1111111111111111,
              "#46039f"
             ],
             [
              0.2222222222222222,
              "#7201a8"
             ],
             [
              0.3333333333333333,
              "#9c179e"
             ],
             [
              0.4444444444444444,
              "#bd3786"
             ],
             [
              0.5555555555555556,
              "#d8576b"
             ],
             [
              0.6666666666666666,
              "#ed7953"
             ],
             [
              0.7777777777777778,
              "#fb9f3a"
             ],
             [
              0.8888888888888888,
              "#fdca26"
             ],
             [
              1,
              "#f0f921"
             ]
            ],
            "type": "histogram2dcontour"
           }
          ],
          "mesh3d": [
           {
            "colorbar": {
             "outlinewidth": 0,
             "ticks": ""
            },
            "type": "mesh3d"
           }
          ],
          "parcoords": [
           {
            "line": {
             "colorbar": {
              "outlinewidth": 0,
              "ticks": ""
             }
            },
            "type": "parcoords"
           }
          ],
          "pie": [
           {
            "automargin": true,
            "type": "pie"
           }
          ],
          "scatter": [
           {
            "marker": {
             "colorbar": {
              "outlinewidth": 0,
              "ticks": ""
             }
            },
            "type": "scatter"
           }
          ],
          "scatter3d": [
           {
            "line": {
             "colorbar": {
              "outlinewidth": 0,
              "ticks": ""
             }
            },
            "marker": {
             "colorbar": {
              "outlinewidth": 0,
              "ticks": ""
             }
            },
            "type": "scatter3d"
           }
          ],
          "scattercarpet": [
           {
            "marker": {
             "colorbar": {
              "outlinewidth": 0,
              "ticks": ""
             }
            },
            "type": "scattercarpet"
           }
          ],
          "scattergeo": [
           {
            "marker": {
             "colorbar": {
              "outlinewidth": 0,
              "ticks": ""
             }
            },
            "type": "scattergeo"
           }
          ],
          "scattergl": [
           {
            "marker": {
             "colorbar": {
              "outlinewidth": 0,
              "ticks": ""
             }
            },
            "type": "scattergl"
           }
          ],
          "scattermapbox": [
           {
            "marker": {
             "colorbar": {
              "outlinewidth": 0,
              "ticks": ""
             }
            },
            "type": "scattermapbox"
           }
          ],
          "scatterpolar": [
           {
            "marker": {
             "colorbar": {
              "outlinewidth": 0,
              "ticks": ""
             }
            },
            "type": "scatterpolar"
           }
          ],
          "scatterpolargl": [
           {
            "marker": {
             "colorbar": {
              "outlinewidth": 0,
              "ticks": ""
             }
            },
            "type": "scatterpolargl"
           }
          ],
          "scatterternary": [
           {
            "marker": {
             "colorbar": {
              "outlinewidth": 0,
              "ticks": ""
             }
            },
            "type": "scatterternary"
           }
          ],
          "surface": [
           {
            "colorbar": {
             "outlinewidth": 0,
             "ticks": ""
            },
            "colorscale": [
             [
              0,
              "#0d0887"
             ],
             [
              0.1111111111111111,
              "#46039f"
             ],
             [
              0.2222222222222222,
              "#7201a8"
             ],
             [
              0.3333333333333333,
              "#9c179e"
             ],
             [
              0.4444444444444444,
              "#bd3786"
             ],
             [
              0.5555555555555556,
              "#d8576b"
             ],
             [
              0.6666666666666666,
              "#ed7953"
             ],
             [
              0.7777777777777778,
              "#fb9f3a"
             ],
             [
              0.8888888888888888,
              "#fdca26"
             ],
             [
              1,
              "#f0f921"
             ]
            ],
            "type": "surface"
           }
          ],
          "table": [
           {
            "cells": {
             "fill": {
              "color": "#EBF0F8"
             },
             "line": {
              "color": "white"
             }
            },
            "header": {
             "fill": {
              "color": "#C8D4E3"
             },
             "line": {
              "color": "white"
             }
            },
            "type": "table"
           }
          ]
         },
         "layout": {
          "annotationdefaults": {
           "arrowcolor": "#2a3f5f",
           "arrowhead": 0,
           "arrowwidth": 1
          },
          "coloraxis": {
           "colorbar": {
            "outlinewidth": 0,
            "ticks": ""
           }
          },
          "colorscale": {
           "diverging": [
            [
             0,
             "#8e0152"
            ],
            [
             0.1,
             "#c51b7d"
            ],
            [
             0.2,
             "#de77ae"
            ],
            [
             0.3,
             "#f1b6da"
            ],
            [
             0.4,
             "#fde0ef"
            ],
            [
             0.5,
             "#f7f7f7"
            ],
            [
             0.6,
             "#e6f5d0"
            ],
            [
             0.7,
             "#b8e186"
            ],
            [
             0.8,
             "#7fbc41"
            ],
            [
             0.9,
             "#4d9221"
            ],
            [
             1,
             "#276419"
            ]
           ],
           "sequential": [
            [
             0,
             "#0d0887"
            ],
            [
             0.1111111111111111,
             "#46039f"
            ],
            [
             0.2222222222222222,
             "#7201a8"
            ],
            [
             0.3333333333333333,
             "#9c179e"
            ],
            [
             0.4444444444444444,
             "#bd3786"
            ],
            [
             0.5555555555555556,
             "#d8576b"
            ],
            [
             0.6666666666666666,
             "#ed7953"
            ],
            [
             0.7777777777777778,
             "#fb9f3a"
            ],
            [
             0.8888888888888888,
             "#fdca26"
            ],
            [
             1,
             "#f0f921"
            ]
           ],
           "sequentialminus": [
            [
             0,
             "#0d0887"
            ],
            [
             0.1111111111111111,
             "#46039f"
            ],
            [
             0.2222222222222222,
             "#7201a8"
            ],
            [
             0.3333333333333333,
             "#9c179e"
            ],
            [
             0.4444444444444444,
             "#bd3786"
            ],
            [
             0.5555555555555556,
             "#d8576b"
            ],
            [
             0.6666666666666666,
             "#ed7953"
            ],
            [
             0.7777777777777778,
             "#fb9f3a"
            ],
            [
             0.8888888888888888,
             "#fdca26"
            ],
            [
             1,
             "#f0f921"
            ]
           ]
          },
          "colorway": [
           "#636efa",
           "#EF553B",
           "#00cc96",
           "#ab63fa",
           "#FFA15A",
           "#19d3f3",
           "#FF6692",
           "#B6E880",
           "#FF97FF",
           "#FECB52"
          ],
          "font": {
           "color": "#2a3f5f"
          },
          "geo": {
           "bgcolor": "white",
           "lakecolor": "white",
           "landcolor": "#E5ECF6",
           "showlakes": true,
           "showland": true,
           "subunitcolor": "white"
          },
          "hoverlabel": {
           "align": "left"
          },
          "hovermode": "closest",
          "mapbox": {
           "style": "light"
          },
          "paper_bgcolor": "white",
          "plot_bgcolor": "#E5ECF6",
          "polar": {
           "angularaxis": {
            "gridcolor": "white",
            "linecolor": "white",
            "ticks": ""
           },
           "bgcolor": "#E5ECF6",
           "radialaxis": {
            "gridcolor": "white",
            "linecolor": "white",
            "ticks": ""
           }
          },
          "scene": {
           "xaxis": {
            "backgroundcolor": "#E5ECF6",
            "gridcolor": "white",
            "gridwidth": 2,
            "linecolor": "white",
            "showbackground": true,
            "ticks": "",
            "zerolinecolor": "white"
           },
           "yaxis": {
            "backgroundcolor": "#E5ECF6",
            "gridcolor": "white",
            "gridwidth": 2,
            "linecolor": "white",
            "showbackground": true,
            "ticks": "",
            "zerolinecolor": "white"
           },
           "zaxis": {
            "backgroundcolor": "#E5ECF6",
            "gridcolor": "white",
            "gridwidth": 2,
            "linecolor": "white",
            "showbackground": true,
            "ticks": "",
            "zerolinecolor": "white"
           }
          },
          "shapedefaults": {
           "line": {
            "color": "#2a3f5f"
           }
          },
          "ternary": {
           "aaxis": {
            "gridcolor": "white",
            "linecolor": "white",
            "ticks": ""
           },
           "baxis": {
            "gridcolor": "white",
            "linecolor": "white",
            "ticks": ""
           },
           "bgcolor": "#E5ECF6",
           "caxis": {
            "gridcolor": "white",
            "linecolor": "white",
            "ticks": ""
           }
          },
          "title": {
           "x": 0.05
          },
          "xaxis": {
           "automargin": true,
           "gridcolor": "white",
           "linecolor": "white",
           "ticks": "",
           "title": {
            "standoff": 15
           },
           "zerolinecolor": "white",
           "zerolinewidth": 2
          },
          "yaxis": {
           "automargin": true,
           "gridcolor": "white",
           "linecolor": "white",
           "ticks": "",
           "title": {
            "standoff": 15
           },
           "zerolinecolor": "white",
           "zerolinewidth": 2
          }
         }
        },
        "title": {
         "font": {
          "color": "#4D5663"
         }
        },
        "xaxis": {
         "anchor": "y",
         "domain": [
          0,
          0.2125
         ],
         "gridcolor": "#E1E5ED",
         "showgrid": false,
         "tickfont": {
          "color": "#4D5663"
         },
         "title": {
          "font": {
           "color": "#4D5663"
          },
          "text": ""
         },
         "zerolinecolor": "#E1E5ED"
        },
        "xaxis10": {
         "anchor": "y10",
         "domain": [
          0.2625,
          0.475
         ],
         "gridcolor": "#E1E5ED",
         "showgrid": false,
         "tickfont": {
          "color": "#4D5663"
         },
         "title": {
          "font": {
           "color": "#4D5663"
          },
          "text": ""
         },
         "zerolinecolor": "#E1E5ED"
        },
        "xaxis11": {
         "anchor": "y11",
         "domain": [
          0.525,
          0.7375
         ],
         "gridcolor": "#E1E5ED",
         "showgrid": false,
         "tickfont": {
          "color": "#4D5663"
         },
         "title": {
          "font": {
           "color": "#4D5663"
          },
          "text": ""
         },
         "zerolinecolor": "#E1E5ED"
        },
        "xaxis12": {
         "anchor": "y12",
         "domain": [
          0.7875,
          1
         ],
         "gridcolor": "#E1E5ED",
         "showgrid": false,
         "tickfont": {
          "color": "#4D5663"
         },
         "title": {
          "font": {
           "color": "#4D5663"
          },
          "text": ""
         },
         "zerolinecolor": "#E1E5ED"
        },
        "xaxis13": {
         "anchor": "y13",
         "domain": [
          0,
          0.2125
         ],
         "gridcolor": "#E1E5ED",
         "showgrid": false,
         "tickfont": {
          "color": "#4D5663"
         },
         "title": {
          "font": {
           "color": "#4D5663"
          },
          "text": ""
         },
         "zerolinecolor": "#E1E5ED"
        },
        "xaxis14": {
         "anchor": "y14",
         "domain": [
          0.2625,
          0.475
         ],
         "gridcolor": "#E1E5ED",
         "showgrid": false,
         "tickfont": {
          "color": "#4D5663"
         },
         "title": {
          "font": {
           "color": "#4D5663"
          },
          "text": ""
         },
         "zerolinecolor": "#E1E5ED"
        },
        "xaxis15": {
         "anchor": "y15",
         "domain": [
          0.525,
          0.7375
         ],
         "gridcolor": "#E1E5ED",
         "showgrid": false,
         "tickfont": {
          "color": "#4D5663"
         },
         "title": {
          "font": {
           "color": "#4D5663"
          },
          "text": ""
         },
         "zerolinecolor": "#E1E5ED"
        },
        "xaxis16": {
         "anchor": "y16",
         "domain": [
          0.7875,
          1
         ],
         "gridcolor": "#E1E5ED",
         "showgrid": false,
         "tickfont": {
          "color": "#4D5663"
         },
         "title": {
          "font": {
           "color": "#4D5663"
          },
          "text": ""
         },
         "zerolinecolor": "#E1E5ED"
        },
        "xaxis2": {
         "anchor": "y2",
         "domain": [
          0.2625,
          0.475
         ],
         "gridcolor": "#E1E5ED",
         "showgrid": false,
         "tickfont": {
          "color": "#4D5663"
         },
         "title": {
          "font": {
           "color": "#4D5663"
          },
          "text": ""
         },
         "zerolinecolor": "#E1E5ED"
        },
        "xaxis3": {
         "anchor": "y3",
         "domain": [
          0.525,
          0.7375
         ],
         "gridcolor": "#E1E5ED",
         "showgrid": false,
         "tickfont": {
          "color": "#4D5663"
         },
         "title": {
          "font": {
           "color": "#4D5663"
          },
          "text": ""
         },
         "zerolinecolor": "#E1E5ED"
        },
        "xaxis4": {
         "anchor": "y4",
         "domain": [
          0.7875,
          1
         ],
         "gridcolor": "#E1E5ED",
         "showgrid": false,
         "tickfont": {
          "color": "#4D5663"
         },
         "title": {
          "font": {
           "color": "#4D5663"
          },
          "text": ""
         },
         "zerolinecolor": "#E1E5ED"
        },
        "xaxis5": {
         "anchor": "y5",
         "domain": [
          0,
          0.2125
         ],
         "gridcolor": "#E1E5ED",
         "showgrid": false,
         "tickfont": {
          "color": "#4D5663"
         },
         "title": {
          "font": {
           "color": "#4D5663"
          },
          "text": ""
         },
         "zerolinecolor": "#E1E5ED"
        },
        "xaxis6": {
         "anchor": "y6",
         "domain": [
          0.2625,
          0.475
         ],
         "gridcolor": "#E1E5ED",
         "showgrid": false,
         "tickfont": {
          "color": "#4D5663"
         },
         "title": {
          "font": {
           "color": "#4D5663"
          },
          "text": ""
         },
         "zerolinecolor": "#E1E5ED"
        },
        "xaxis7": {
         "anchor": "y7",
         "domain": [
          0.525,
          0.7375
         ],
         "gridcolor": "#E1E5ED",
         "showgrid": false,
         "tickfont": {
          "color": "#4D5663"
         },
         "title": {
          "font": {
           "color": "#4D5663"
          },
          "text": ""
         },
         "zerolinecolor": "#E1E5ED"
        },
        "xaxis8": {
         "anchor": "y8",
         "domain": [
          0.7875,
          1
         ],
         "gridcolor": "#E1E5ED",
         "showgrid": false,
         "tickfont": {
          "color": "#4D5663"
         },
         "title": {
          "font": {
           "color": "#4D5663"
          },
          "text": ""
         },
         "zerolinecolor": "#E1E5ED"
        },
        "xaxis9": {
         "anchor": "y9",
         "domain": [
          0,
          0.2125
         ],
         "gridcolor": "#E1E5ED",
         "showgrid": false,
         "tickfont": {
          "color": "#4D5663"
         },
         "title": {
          "font": {
           "color": "#4D5663"
          },
          "text": ""
         },
         "zerolinecolor": "#E1E5ED"
        },
        "yaxis": {
         "anchor": "x",
         "domain": [
          0.8025,
          1
         ],
         "gridcolor": "#E1E5ED",
         "showgrid": false,
         "tickfont": {
          "color": "#4D5663"
         },
         "title": {
          "font": {
           "color": "#4D5663"
          },
          "text": ""
         },
         "zerolinecolor": "#E1E5ED"
        },
        "yaxis10": {
         "anchor": "x10",
         "domain": [
          0.2675,
          0.465
         ],
         "gridcolor": "#E1E5ED",
         "showgrid": false,
         "tickfont": {
          "color": "#4D5663"
         },
         "title": {
          "font": {
           "color": "#4D5663"
          },
          "text": ""
         },
         "zerolinecolor": "#E1E5ED"
        },
        "yaxis11": {
         "anchor": "x11",
         "domain": [
          0.2675,
          0.465
         ],
         "gridcolor": "#E1E5ED",
         "showgrid": false,
         "tickfont": {
          "color": "#4D5663"
         },
         "title": {
          "font": {
           "color": "#4D5663"
          },
          "text": ""
         },
         "zerolinecolor": "#E1E5ED"
        },
        "yaxis12": {
         "anchor": "x12",
         "domain": [
          0.2675,
          0.465
         ],
         "gridcolor": "#E1E5ED",
         "showgrid": false,
         "tickfont": {
          "color": "#4D5663"
         },
         "title": {
          "font": {
           "color": "#4D5663"
          },
          "text": ""
         },
         "zerolinecolor": "#E1E5ED"
        },
        "yaxis13": {
         "anchor": "x13",
         "domain": [
          0,
          0.1975
         ],
         "gridcolor": "#E1E5ED",
         "showgrid": false,
         "tickfont": {
          "color": "#4D5663"
         },
         "title": {
          "font": {
           "color": "#4D5663"
          },
          "text": ""
         },
         "zerolinecolor": "#E1E5ED"
        },
        "yaxis14": {
         "anchor": "x14",
         "domain": [
          0,
          0.1975
         ],
         "gridcolor": "#E1E5ED",
         "showgrid": false,
         "tickfont": {
          "color": "#4D5663"
         },
         "title": {
          "font": {
           "color": "#4D5663"
          },
          "text": ""
         },
         "zerolinecolor": "#E1E5ED"
        },
        "yaxis15": {
         "anchor": "x15",
         "domain": [
          0,
          0.1975
         ],
         "gridcolor": "#E1E5ED",
         "showgrid": false,
         "tickfont": {
          "color": "#4D5663"
         },
         "title": {
          "font": {
           "color": "#4D5663"
          },
          "text": ""
         },
         "zerolinecolor": "#E1E5ED"
        },
        "yaxis16": {
         "anchor": "x16",
         "domain": [
          0,
          0.1975
         ],
         "gridcolor": "#E1E5ED",
         "showgrid": false,
         "tickfont": {
          "color": "#4D5663"
         },
         "title": {
          "font": {
           "color": "#4D5663"
          },
          "text": ""
         },
         "zerolinecolor": "#E1E5ED"
        },
        "yaxis2": {
         "anchor": "x2",
         "domain": [
          0.8025,
          1
         ],
         "gridcolor": "#E1E5ED",
         "showgrid": false,
         "tickfont": {
          "color": "#4D5663"
         },
         "title": {
          "font": {
           "color": "#4D5663"
          },
          "text": ""
         },
         "zerolinecolor": "#E1E5ED"
        },
        "yaxis3": {
         "anchor": "x3",
         "domain": [
          0.8025,
          1
         ],
         "gridcolor": "#E1E5ED",
         "showgrid": false,
         "tickfont": {
          "color": "#4D5663"
         },
         "title": {
          "font": {
           "color": "#4D5663"
          },
          "text": ""
         },
         "zerolinecolor": "#E1E5ED"
        },
        "yaxis4": {
         "anchor": "x4",
         "domain": [
          0.8025,
          1
         ],
         "gridcolor": "#E1E5ED",
         "showgrid": false,
         "tickfont": {
          "color": "#4D5663"
         },
         "title": {
          "font": {
           "color": "#4D5663"
          },
          "text": ""
         },
         "zerolinecolor": "#E1E5ED"
        },
        "yaxis5": {
         "anchor": "x5",
         "domain": [
          0.535,
          0.7325
         ],
         "gridcolor": "#E1E5ED",
         "showgrid": false,
         "tickfont": {
          "color": "#4D5663"
         },
         "title": {
          "font": {
           "color": "#4D5663"
          },
          "text": ""
         },
         "zerolinecolor": "#E1E5ED"
        },
        "yaxis6": {
         "anchor": "x6",
         "domain": [
          0.535,
          0.7325
         ],
         "gridcolor": "#E1E5ED",
         "showgrid": false,
         "tickfont": {
          "color": "#4D5663"
         },
         "title": {
          "font": {
           "color": "#4D5663"
          },
          "text": ""
         },
         "zerolinecolor": "#E1E5ED"
        },
        "yaxis7": {
         "anchor": "x7",
         "domain": [
          0.535,
          0.7325
         ],
         "gridcolor": "#E1E5ED",
         "showgrid": false,
         "tickfont": {
          "color": "#4D5663"
         },
         "title": {
          "font": {
           "color": "#4D5663"
          },
          "text": ""
         },
         "zerolinecolor": "#E1E5ED"
        },
        "yaxis8": {
         "anchor": "x8",
         "domain": [
          0.535,
          0.7325
         ],
         "gridcolor": "#E1E5ED",
         "showgrid": false,
         "tickfont": {
          "color": "#4D5663"
         },
         "title": {
          "font": {
           "color": "#4D5663"
          },
          "text": ""
         },
         "zerolinecolor": "#E1E5ED"
        },
        "yaxis9": {
         "anchor": "x9",
         "domain": [
          0.2675,
          0.465
         ],
         "gridcolor": "#E1E5ED",
         "showgrid": false,
         "tickfont": {
          "color": "#4D5663"
         },
         "title": {
          "font": {
           "color": "#4D5663"
          },
          "text": ""
         },
         "zerolinecolor": "#E1E5ED"
        }
       }
      },
      "text/html": [
       "<div>\n",
       "        \n",
       "        \n",
       "            <div id=\"4649e68b-aabd-4f47-821f-62a0dddef5c7\" class=\"plotly-graph-div\" style=\"height:525px; width:100%;\"></div>\n",
       "            <script type=\"text/javascript\">\n",
       "                require([\"plotly\"], function(Plotly) {\n",
       "                    window.PLOTLYENV=window.PLOTLYENV || {};\n",
       "                    window.PLOTLYENV.BASE_URL='https://plot.ly';\n",
       "                    \n",
       "                if (document.getElementById(\"4649e68b-aabd-4f47-821f-62a0dddef5c7\")) {\n",
       "                    Plotly.newPlot(\n",
       "                        '4649e68b-aabd-4f47-821f-62a0dddef5c7',\n",
       "                        [{\"histfunc\": \"count\", \"histnorm\": \"\", \"marker\": {\"color\": \"rgba(255, 153, 51, 1.0)\", \"line\": {\"color\": \"#4D5663\", \"width\": 1.3}}, \"name\": \"A\", \"nbinsx\": 10, \"opacity\": 0.8, \"orientation\": \"v\", \"type\": \"histogram\", \"x\": [0.45376365134072455, 0.1533277234434953, 0.5584066630730266, 0.6388125002339647, -0.7682082709200291, 0.5872366051112483, -1.3622641558947228, 0.9197266262491686, -0.5667359249270596, 0.4428979494699839, -0.9832214064613543, -0.2086539026383452, 0.5831019922477547, 1.954808667357305, -0.39354558972605347, 0.30152662807609654, 0.13427182222200904, 0.046625265681057806, -0.9675029107659785, -1.9378907692372627, 0.7645084255726655, 0.3456496119966951, 0.6100739704928948, -1.2975215359698145, 0.9811582960283188, -1.854291883561129, 0.0030300626473484674, 0.5555330497463216, 1.9854640098519127, -2.8892786549069487, -0.5784596935192364, 0.2120730704035394, -1.6367541806959658, -0.9219858235162748, -0.9038989941312121, -1.535290948903216, -0.9925978081014436, -0.1597238157952492, -0.1901984016351724, 0.4340012252146463, 1.6412372806898923, -0.26853040854857746, -1.4860370235943405, 0.25372152314593843, 0.8945563158090339, -1.2581189537610697, 0.045752502620580435, 0.1497617632922686, 0.2057116223861768, 1.522860668306455, 2.4288034729247605, 0.7271286207696227, -1.0042866967532893, -1.7551852659625091, -0.6452019322122896, -0.08558077903288307, -0.937374506875622, -1.1699904455728098, 1.4613885965928404, 0.8723881989578501, 0.20798177375181456, 0.6798310425036768, 0.42731389978554923, -0.15521417050771996, -0.007772620249765506, -0.34694444399638413, -0.7226311660756984, 0.4336460288339709, 1.898232555378553, -0.7793458372913163, 1.5539085406936917, -0.7700115463299503, 1.976076118695718, 0.7765767247770977, -1.1224316814644946, -0.5900259740110259, 0.010858880228758642, -0.17312092096226234, 0.03626058732618706, -0.013328956951237278, -0.42293607488429613, 0.8354496259136793, -0.49443977885766727, 1.6887110227852462, -1.4909122935659305, 1.351877827520775, -0.3909619630491156, -0.12358388977968666, 1.9262225184352992, -1.888314477524304, -0.8030996273076954, 2.708273101446665, 0.41042386472559367, -0.7852293060505795, -1.354368226970318, -0.2503422957009691, -1.4950744957453541, -0.25899218688334524, 0.5439135753811755, 1.29831213783766], \"xaxis\": \"x\", \"yaxis\": \"y\"}, {\"line\": {\"color\": \"rgba(128, 128, 128, 1.0)\", \"dash\": \"solid\", \"shape\": \"linear\", \"width\": 1.3}, \"marker\": {\"size\": 2, \"symbol\": \"circle\"}, \"mode\": \"markers\", \"name\": \"A\", \"text\": \"\", \"type\": \"scatter\", \"x\": [0.48791258594993797, -0.05891854456106384, -0.6362022045967219, -0.4056058416314476, 0.0006330543338569247, 0.870525528955877, -0.6764844175995441, 0.6474668146657152, -0.011818422547298509, 1.3951013679061022, -1.7836141736487758, -0.04452308793644446, 0.167234249338456, 1.2567361760617723, -0.14027575575641704, 0.09429143699907863, 1.1242409616971984, 0.050151518880630894, -0.2433928696764287, 0.0783502937989915, 0.9577964812936168, 0.8770513370496233, -0.9686451268607692, -1.1455682487368903, 1.667442748949377, 1.5793147080970615, -0.4224730377130238, -0.3868067628069606, -1.5982968414883156, -0.2487089658615257, -0.39182632176914484, 0.4986063317118386, -0.8700980248271802, 0.5019229760141615, 0.47136913990314216, 0.09506378894544326, -0.4780009951857549, -0.15656352607360774, 0.13881204338059433, 1.0981469705486244, -0.6473528118947334, -0.07792660246003699, 0.49093685414840577, 0.9380626144705636, -0.7734212976175214, 0.33422943469930877, -0.08206457103229005, 0.19675075386621915, 0.5420001440757906, -1.0969320780915388, 0.14105130514566805, -0.2555864748272685, 0.3782298749075631, 0.07122122996107905, -0.18649207559510775, 1.960743631159648, -0.5819049046976688, -0.5437881897673993, -0.6152534082450581, -0.08579520337015567, -1.0141040794192604, -0.7300103716957315, 1.1591059727549322, -0.48871717672232134, 0.6514275390594886, 0.2959286126290568, -2.8449390446672465, -0.9964128029365027, -0.03310589205306478, 0.45683529946442764, 1.5500313810441426, -1.5430455490623174, 1.2546011341118462, 0.21495064400066777, 0.3715588678943498, 0.49929171775189896, 0.30296929351938007, -1.4839432860196824, -2.026418060881709, -0.2651049157961102, -0.5172731186958455, -0.9233505359557593, -1.6777405785887876, 1.1587072682107997, -0.08555026672901489, -0.08697221682863826, -0.8752844276408953, -0.4229123641934026, 1.4152637622249185, -0.2687365546300804, -0.845265118679393, 0.03661171573420025, -1.0408084121886536, 0.07503804644651897, 1.3461860366879066, 0.008006281464838167, 1.5369515511553713, 1.046452560294225, -1.6355746895675083, -0.24565447964768866], \"xaxis\": \"x2\", \"y\": [0.45376365134072455, 0.1533277234434953, 0.5584066630730266, 0.6388125002339647, -0.7682082709200291, 0.5872366051112483, -1.3622641558947228, 0.9197266262491686, -0.5667359249270596, 0.4428979494699839, -0.9832214064613543, -0.2086539026383452, 0.5831019922477547, 1.954808667357305, -0.39354558972605347, 0.30152662807609654, 0.13427182222200904, 0.046625265681057806, -0.9675029107659785, -1.9378907692372627, 0.7645084255726655, 0.3456496119966951, 0.6100739704928948, -1.2975215359698145, 0.9811582960283188, -1.854291883561129, 0.0030300626473484674, 0.5555330497463216, 1.9854640098519127, -2.8892786549069487, -0.5784596935192364, 0.2120730704035394, -1.6367541806959658, -0.9219858235162748, -0.9038989941312121, -1.535290948903216, -0.9925978081014436, -0.1597238157952492, -0.1901984016351724, 0.4340012252146463, 1.6412372806898923, -0.26853040854857746, -1.4860370235943405, 0.25372152314593843, 0.8945563158090339, -1.2581189537610697, 0.045752502620580435, 0.1497617632922686, 0.2057116223861768, 1.522860668306455, 2.4288034729247605, 0.7271286207696227, -1.0042866967532893, -1.7551852659625091, -0.6452019322122896, -0.08558077903288307, -0.937374506875622, -1.1699904455728098, 1.4613885965928404, 0.8723881989578501, 0.20798177375181456, 0.6798310425036768, 0.42731389978554923, -0.15521417050771996, -0.007772620249765506, -0.34694444399638413, -0.7226311660756984, 0.4336460288339709, 1.898232555378553, -0.7793458372913163, 1.5539085406936917, -0.7700115463299503, 1.976076118695718, 0.7765767247770977, -1.1224316814644946, -0.5900259740110259, 0.010858880228758642, -0.17312092096226234, 0.03626058732618706, -0.013328956951237278, -0.42293607488429613, 0.8354496259136793, -0.49443977885766727, 1.6887110227852462, -1.4909122935659305, 1.351877827520775, -0.3909619630491156, -0.12358388977968666, 1.9262225184352992, -1.888314477524304, -0.8030996273076954, 2.708273101446665, 0.41042386472559367, -0.7852293060505795, -1.354368226970318, -0.2503422957009691, -1.4950744957453541, -0.25899218688334524, 0.5439135753811755, 1.29831213783766], \"yaxis\": \"y2\"}, {\"line\": {\"color\": \"rgba(128, 128, 128, 1.0)\", \"dash\": \"solid\", \"shape\": \"linear\", \"width\": 1.3}, \"marker\": {\"size\": 2, \"symbol\": \"circle\"}, \"mode\": \"markers\", \"name\": \"A\", \"text\": \"\", \"type\": \"scatter\", \"x\": [0.48396363915452845, -0.8839504757489611, 0.5944823766694012, -1.2087644449548938, -1.4588652418215866, -1.71617342439716, 0.12162208071442088, -0.3608297979791972, -0.42242845389890843, 0.04390948212546214, -0.4161508418773009, -0.708802954039864, 0.40059679048085645, 0.5571562735011651, 0.5348040411944343, 0.3600549961920591, -1.7495673113219377, 0.3424817230951091, -0.7982736401450603, -1.5393636951459362, 0.38188364523260454, 0.6679824692132231, -1.6302832525996775, 0.774058782367631, 0.36030554093764167, 0.41765634753539577, -0.002944256071235585, -1.111671206280267, 0.5957649322461476, 2.3586688907515008, 0.5916008479013928, 0.7259422663781465, -0.22213440567239653, -0.008089226780359612, -0.879943848146538, 0.37809428348282015, -1.051974492111051, -2.4303364357334867, 0.8902747934070464, 0.6541843015681487, -2.1907773867692755, 1.4151592563151574, 0.2169988399881734, 1.3796163891801971, -0.5107567629393553, 0.14060742948121072, -0.2102408646089569, 0.4746402010729189, -0.35629941940724974, 0.09455049831948358, 1.3315462134737737, 0.12142640748102457, -0.6532459953478722, -0.2967680695605399, 0.7406341892163693, 1.8196016521717515, -0.45865294911254945, -0.21907541104349407, -1.6824241040302679, 2.0431603995531065, 2.4827480381542433, -0.873705716309566, -1.695945138813294, -0.4575251239756494, -1.346895198209205, -0.15018011180195395, -1.5759886738379878, -0.1982313013431906, 0.9360674826623321, -0.5122282377520472, 0.6505800704511161, -0.6642357334880877, 0.05069602531264277, 0.40809871683393023, 0.15423817093218875, -0.6072905630520802, 0.0832362881761946, -0.7876147222227531, 0.7676497711006179, 0.4308965629472975, -0.16142336373765484, -1.270767162984861, -0.3436961683419353, 1.0583088258992703, -0.9007370643213202, 1.4638762314021476, -0.5258092672087118, 0.13550155144431164, -0.5088879826847917, 0.5381844726862862, 1.3371406210537218, -1.4209277616759663, -0.5881954188274244, -0.6262290973657684, -0.5321197520303068, -1.8267900014272351, -0.3561057241703818, 0.2447657542690755, -1.5651841052535462, -0.023142125110577883], \"xaxis\": \"x3\", \"y\": [0.45376365134072455, 0.1533277234434953, 0.5584066630730266, 0.6388125002339647, -0.7682082709200291, 0.5872366051112483, -1.3622641558947228, 0.9197266262491686, -0.5667359249270596, 0.4428979494699839, -0.9832214064613543, -0.2086539026383452, 0.5831019922477547, 1.954808667357305, -0.39354558972605347, 0.30152662807609654, 0.13427182222200904, 0.046625265681057806, -0.9675029107659785, -1.9378907692372627, 0.7645084255726655, 0.3456496119966951, 0.6100739704928948, -1.2975215359698145, 0.9811582960283188, -1.854291883561129, 0.0030300626473484674, 0.5555330497463216, 1.9854640098519127, -2.8892786549069487, -0.5784596935192364, 0.2120730704035394, -1.6367541806959658, -0.9219858235162748, -0.9038989941312121, -1.535290948903216, -0.9925978081014436, -0.1597238157952492, -0.1901984016351724, 0.4340012252146463, 1.6412372806898923, -0.26853040854857746, -1.4860370235943405, 0.25372152314593843, 0.8945563158090339, -1.2581189537610697, 0.045752502620580435, 0.1497617632922686, 0.2057116223861768, 1.522860668306455, 2.4288034729247605, 0.7271286207696227, -1.0042866967532893, -1.7551852659625091, -0.6452019322122896, -0.08558077903288307, -0.937374506875622, -1.1699904455728098, 1.4613885965928404, 0.8723881989578501, 0.20798177375181456, 0.6798310425036768, 0.42731389978554923, -0.15521417050771996, -0.007772620249765506, -0.34694444399638413, -0.7226311660756984, 0.4336460288339709, 1.898232555378553, -0.7793458372913163, 1.5539085406936917, -0.7700115463299503, 1.976076118695718, 0.7765767247770977, -1.1224316814644946, -0.5900259740110259, 0.010858880228758642, -0.17312092096226234, 0.03626058732618706, -0.013328956951237278, -0.42293607488429613, 0.8354496259136793, -0.49443977885766727, 1.6887110227852462, -1.4909122935659305, 1.351877827520775, -0.3909619630491156, -0.12358388977968666, 1.9262225184352992, -1.888314477524304, -0.8030996273076954, 2.708273101446665, 0.41042386472559367, -0.7852293060505795, -1.354368226970318, -0.2503422957009691, -1.4950744957453541, -0.25899218688334524, 0.5439135753811755, 1.29831213783766], \"yaxis\": \"y3\"}, {\"line\": {\"color\": \"rgba(128, 128, 128, 1.0)\", \"dash\": \"solid\", \"shape\": \"linear\", \"width\": 1.3}, \"marker\": {\"size\": 2, \"symbol\": \"circle\"}, \"mode\": \"markers\", \"name\": \"A\", \"text\": \"\", \"type\": \"scatter\", \"x\": [-0.28945819509093734, 0.9506427079983513, -0.7075271544102827, 0.33670026214094395, -0.10309166006052267, -0.18288297182315447, -0.6442306189531569, -0.35940347774718095, 0.5980547649257733, 0.38036286133256436, -1.2091149892980757, 0.06723683346111031, 0.7431448881965461, -0.09331449305279685, 1.132594539633511, 0.5986790751339794, -0.7909196560389122, -0.03678372527453003, -0.6947496907152378, -0.14130279411144683, -0.3060630927142332, -0.48116505787049035, 0.5243553499271801, -1.2102603915406223, 0.3662464595616071, 1.5121451016626646, -0.5964350877415936, 0.19781953581011333, -0.15302128942909088, 0.06286068687679577, -0.5284685917617867, 0.11107646904647635, -0.7560116181446788, -1.816222523311719, -0.7340965407045787, -2.5120924771350595, 1.8887108667483687, 0.17393748127873918, 0.4057329203443431, -0.9950959777302046, 0.17144971865073647, -1.197496099922525, -0.5696725879013981, 0.30519989577527956, -0.9571854796916874, -0.5910988791985874, -0.647680651318399, 0.21141056351513177, -0.4717975764243811, -1.228992629320308, -0.03493674168857812, -0.3929219675723878, -1.1248982506050234, 1.5123905848365962, -1.161871394713524, 0.35904725596967374, 0.34580461961286196, -0.6247537218600137, 0.6534904317589532, 1.3647421932698265, 0.36618733325902403, 1.7350447493493786, -0.9164093019316768, -1.0427448140035536, 1.195631158086616, -0.06332228078375042, -1.7792966150531015, -0.12981625980441097, 0.7432451604322915, 1.335795152531882, -0.29532275561968435, 0.39793884204104457, -1.2434297290102156, 0.3303682465473808, 0.32606768933147523, 0.3475504294634366, 2.4942377346525846, -0.4208336480076219, 1.1462273355356751, 0.9597878014572179, -0.005393438437951994, -0.0019042778033120133, 0.5488280518498596, 2.2122887521931665, -1.2512728656185765, 0.8831372364595468, 0.9525324520273428, -0.23937498467410134, 0.6727166198158724, 0.7742155597792745, 0.2979483029274702, -1.449069628948016, -1.7809778841935426, 0.02738861605019371, -0.44985915636015683, 1.0722366003371442, 2.447842737960517, -1.7731439403282263, -0.09594801128742135, 0.7736657602276928], \"xaxis\": \"x4\", \"y\": [0.45376365134072455, 0.1533277234434953, 0.5584066630730266, 0.6388125002339647, -0.7682082709200291, 0.5872366051112483, -1.3622641558947228, 0.9197266262491686, -0.5667359249270596, 0.4428979494699839, -0.9832214064613543, -0.2086539026383452, 0.5831019922477547, 1.954808667357305, -0.39354558972605347, 0.30152662807609654, 0.13427182222200904, 0.046625265681057806, -0.9675029107659785, -1.9378907692372627, 0.7645084255726655, 0.3456496119966951, 0.6100739704928948, -1.2975215359698145, 0.9811582960283188, -1.854291883561129, 0.0030300626473484674, 0.5555330497463216, 1.9854640098519127, -2.8892786549069487, -0.5784596935192364, 0.2120730704035394, -1.6367541806959658, -0.9219858235162748, -0.9038989941312121, -1.535290948903216, -0.9925978081014436, -0.1597238157952492, -0.1901984016351724, 0.4340012252146463, 1.6412372806898923, -0.26853040854857746, -1.4860370235943405, 0.25372152314593843, 0.8945563158090339, -1.2581189537610697, 0.045752502620580435, 0.1497617632922686, 0.2057116223861768, 1.522860668306455, 2.4288034729247605, 0.7271286207696227, -1.0042866967532893, -1.7551852659625091, -0.6452019322122896, -0.08558077903288307, -0.937374506875622, -1.1699904455728098, 1.4613885965928404, 0.8723881989578501, 0.20798177375181456, 0.6798310425036768, 0.42731389978554923, -0.15521417050771996, -0.007772620249765506, -0.34694444399638413, -0.7226311660756984, 0.4336460288339709, 1.898232555378553, -0.7793458372913163, 1.5539085406936917, -0.7700115463299503, 1.976076118695718, 0.7765767247770977, -1.1224316814644946, -0.5900259740110259, 0.010858880228758642, -0.17312092096226234, 0.03626058732618706, -0.013328956951237278, -0.42293607488429613, 0.8354496259136793, -0.49443977885766727, 1.6887110227852462, -1.4909122935659305, 1.351877827520775, -0.3909619630491156, -0.12358388977968666, 1.9262225184352992, -1.888314477524304, -0.8030996273076954, 2.708273101446665, 0.41042386472559367, -0.7852293060505795, -1.354368226970318, -0.2503422957009691, -1.4950744957453541, -0.25899218688334524, 0.5439135753811755, 1.29831213783766], \"yaxis\": \"y4\"}, {\"line\": {\"color\": \"rgba(128, 128, 128, 1.0)\", \"dash\": \"solid\", \"shape\": \"linear\", \"width\": 1.3}, \"marker\": {\"size\": 2, \"symbol\": \"circle\"}, \"mode\": \"markers\", \"name\": \"B\", \"text\": \"\", \"type\": \"scatter\", \"x\": [0.45376365134072455, 0.1533277234434953, 0.5584066630730266, 0.6388125002339647, -0.7682082709200291, 0.5872366051112483, -1.3622641558947228, 0.9197266262491686, -0.5667359249270596, 0.4428979494699839, -0.9832214064613543, -0.2086539026383452, 0.5831019922477547, 1.954808667357305, -0.39354558972605347, 0.30152662807609654, 0.13427182222200904, 0.046625265681057806, -0.9675029107659785, -1.9378907692372627, 0.7645084255726655, 0.3456496119966951, 0.6100739704928948, -1.2975215359698145, 0.9811582960283188, -1.854291883561129, 0.0030300626473484674, 0.5555330497463216, 1.9854640098519127, -2.8892786549069487, -0.5784596935192364, 0.2120730704035394, -1.6367541806959658, -0.9219858235162748, -0.9038989941312121, -1.535290948903216, -0.9925978081014436, -0.1597238157952492, -0.1901984016351724, 0.4340012252146463, 1.6412372806898923, -0.26853040854857746, -1.4860370235943405, 0.25372152314593843, 0.8945563158090339, -1.2581189537610697, 0.045752502620580435, 0.1497617632922686, 0.2057116223861768, 1.522860668306455, 2.4288034729247605, 0.7271286207696227, -1.0042866967532893, -1.7551852659625091, -0.6452019322122896, -0.08558077903288307, -0.937374506875622, -1.1699904455728098, 1.4613885965928404, 0.8723881989578501, 0.20798177375181456, 0.6798310425036768, 0.42731389978554923, -0.15521417050771996, -0.007772620249765506, -0.34694444399638413, -0.7226311660756984, 0.4336460288339709, 1.898232555378553, -0.7793458372913163, 1.5539085406936917, -0.7700115463299503, 1.976076118695718, 0.7765767247770977, -1.1224316814644946, -0.5900259740110259, 0.010858880228758642, -0.17312092096226234, 0.03626058732618706, -0.013328956951237278, -0.42293607488429613, 0.8354496259136793, -0.49443977885766727, 1.6887110227852462, -1.4909122935659305, 1.351877827520775, -0.3909619630491156, -0.12358388977968666, 1.9262225184352992, -1.888314477524304, -0.8030996273076954, 2.708273101446665, 0.41042386472559367, -0.7852293060505795, -1.354368226970318, -0.2503422957009691, -1.4950744957453541, -0.25899218688334524, 0.5439135753811755, 1.29831213783766], \"xaxis\": \"x5\", \"y\": [0.48791258594993797, -0.05891854456106384, -0.6362022045967219, -0.4056058416314476, 0.0006330543338569247, 0.870525528955877, -0.6764844175995441, 0.6474668146657152, -0.011818422547298509, 1.3951013679061022, -1.7836141736487758, -0.04452308793644446, 0.167234249338456, 1.2567361760617723, -0.14027575575641704, 0.09429143699907863, 1.1242409616971984, 0.050151518880630894, -0.2433928696764287, 0.0783502937989915, 0.9577964812936168, 0.8770513370496233, -0.9686451268607692, -1.1455682487368903, 1.667442748949377, 1.5793147080970615, -0.4224730377130238, -0.3868067628069606, -1.5982968414883156, -0.2487089658615257, -0.39182632176914484, 0.4986063317118386, -0.8700980248271802, 0.5019229760141615, 0.47136913990314216, 0.09506378894544326, -0.4780009951857549, -0.15656352607360774, 0.13881204338059433, 1.0981469705486244, -0.6473528118947334, -0.07792660246003699, 0.49093685414840577, 0.9380626144705636, -0.7734212976175214, 0.33422943469930877, -0.08206457103229005, 0.19675075386621915, 0.5420001440757906, -1.0969320780915388, 0.14105130514566805, -0.2555864748272685, 0.3782298749075631, 0.07122122996107905, -0.18649207559510775, 1.960743631159648, -0.5819049046976688, -0.5437881897673993, -0.6152534082450581, -0.08579520337015567, -1.0141040794192604, -0.7300103716957315, 1.1591059727549322, -0.48871717672232134, 0.6514275390594886, 0.2959286126290568, -2.8449390446672465, -0.9964128029365027, -0.03310589205306478, 0.45683529946442764, 1.5500313810441426, -1.5430455490623174, 1.2546011341118462, 0.21495064400066777, 0.3715588678943498, 0.49929171775189896, 0.30296929351938007, -1.4839432860196824, -2.026418060881709, -0.2651049157961102, -0.5172731186958455, -0.9233505359557593, -1.6777405785887876, 1.1587072682107997, -0.08555026672901489, -0.08697221682863826, -0.8752844276408953, -0.4229123641934026, 1.4152637622249185, -0.2687365546300804, -0.845265118679393, 0.03661171573420025, -1.0408084121886536, 0.07503804644651897, 1.3461860366879066, 0.008006281464838167, 1.5369515511553713, 1.046452560294225, -1.6355746895675083, -0.24565447964768866], \"yaxis\": \"y5\"}, {\"histfunc\": \"count\", \"histnorm\": \"\", \"marker\": {\"color\": \"rgba(55, 128, 191, 1.0)\", \"line\": {\"color\": \"#4D5663\", \"width\": 1.3}}, \"name\": \"B\", \"nbinsx\": 10, \"opacity\": 0.8, \"orientation\": \"v\", \"type\": \"histogram\", \"x\": [0.48791258594993797, -0.05891854456106384, -0.6362022045967219, -0.4056058416314476, 0.0006330543338569247, 0.870525528955877, -0.6764844175995441, 0.6474668146657152, -0.011818422547298509, 1.3951013679061022, -1.7836141736487758, -0.04452308793644446, 0.167234249338456, 1.2567361760617723, -0.14027575575641704, 0.09429143699907863, 1.1242409616971984, 0.050151518880630894, -0.2433928696764287, 0.0783502937989915, 0.9577964812936168, 0.8770513370496233, -0.9686451268607692, -1.1455682487368903, 1.667442748949377, 1.5793147080970615, -0.4224730377130238, -0.3868067628069606, -1.5982968414883156, -0.2487089658615257, -0.39182632176914484, 0.4986063317118386, -0.8700980248271802, 0.5019229760141615, 0.47136913990314216, 0.09506378894544326, -0.4780009951857549, -0.15656352607360774, 0.13881204338059433, 1.0981469705486244, -0.6473528118947334, -0.07792660246003699, 0.49093685414840577, 0.9380626144705636, -0.7734212976175214, 0.33422943469930877, -0.08206457103229005, 0.19675075386621915, 0.5420001440757906, -1.0969320780915388, 0.14105130514566805, -0.2555864748272685, 0.3782298749075631, 0.07122122996107905, -0.18649207559510775, 1.960743631159648, -0.5819049046976688, -0.5437881897673993, -0.6152534082450581, -0.08579520337015567, -1.0141040794192604, -0.7300103716957315, 1.1591059727549322, -0.48871717672232134, 0.6514275390594886, 0.2959286126290568, -2.8449390446672465, -0.9964128029365027, -0.03310589205306478, 0.45683529946442764, 1.5500313810441426, -1.5430455490623174, 1.2546011341118462, 0.21495064400066777, 0.3715588678943498, 0.49929171775189896, 0.30296929351938007, -1.4839432860196824, -2.026418060881709, -0.2651049157961102, -0.5172731186958455, -0.9233505359557593, -1.6777405785887876, 1.1587072682107997, -0.08555026672901489, -0.08697221682863826, -0.8752844276408953, -0.4229123641934026, 1.4152637622249185, -0.2687365546300804, -0.845265118679393, 0.03661171573420025, -1.0408084121886536, 0.07503804644651897, 1.3461860366879066, 0.008006281464838167, 1.5369515511553713, 1.046452560294225, -1.6355746895675083, -0.24565447964768866], \"xaxis\": \"x6\", \"yaxis\": \"y6\"}, {\"line\": {\"color\": \"rgba(128, 128, 128, 1.0)\", \"dash\": \"solid\", \"shape\": \"linear\", \"width\": 1.3}, \"marker\": {\"size\": 2, \"symbol\": \"circle\"}, \"mode\": \"markers\", \"name\": \"B\", \"text\": \"\", \"type\": \"scatter\", \"x\": [0.48396363915452845, -0.8839504757489611, 0.5944823766694012, -1.2087644449548938, -1.4588652418215866, -1.71617342439716, 0.12162208071442088, -0.3608297979791972, -0.42242845389890843, 0.04390948212546214, -0.4161508418773009, -0.708802954039864, 0.40059679048085645, 0.5571562735011651, 0.5348040411944343, 0.3600549961920591, -1.7495673113219377, 0.3424817230951091, -0.7982736401450603, -1.5393636951459362, 0.38188364523260454, 0.6679824692132231, -1.6302832525996775, 0.774058782367631, 0.36030554093764167, 0.41765634753539577, -0.002944256071235585, -1.111671206280267, 0.5957649322461476, 2.3586688907515008, 0.5916008479013928, 0.7259422663781465, -0.22213440567239653, -0.008089226780359612, -0.879943848146538, 0.37809428348282015, -1.051974492111051, -2.4303364357334867, 0.8902747934070464, 0.6541843015681487, -2.1907773867692755, 1.4151592563151574, 0.2169988399881734, 1.3796163891801971, -0.5107567629393553, 0.14060742948121072, -0.2102408646089569, 0.4746402010729189, -0.35629941940724974, 0.09455049831948358, 1.3315462134737737, 0.12142640748102457, -0.6532459953478722, -0.2967680695605399, 0.7406341892163693, 1.8196016521717515, -0.45865294911254945, -0.21907541104349407, -1.6824241040302679, 2.0431603995531065, 2.4827480381542433, -0.873705716309566, -1.695945138813294, -0.4575251239756494, -1.346895198209205, -0.15018011180195395, -1.5759886738379878, -0.1982313013431906, 0.9360674826623321, -0.5122282377520472, 0.6505800704511161, -0.6642357334880877, 0.05069602531264277, 0.40809871683393023, 0.15423817093218875, -0.6072905630520802, 0.0832362881761946, -0.7876147222227531, 0.7676497711006179, 0.4308965629472975, -0.16142336373765484, -1.270767162984861, -0.3436961683419353, 1.0583088258992703, -0.9007370643213202, 1.4638762314021476, -0.5258092672087118, 0.13550155144431164, -0.5088879826847917, 0.5381844726862862, 1.3371406210537218, -1.4209277616759663, -0.5881954188274244, -0.6262290973657684, -0.5321197520303068, -1.8267900014272351, -0.3561057241703818, 0.2447657542690755, -1.5651841052535462, -0.023142125110577883], \"xaxis\": \"x7\", \"y\": [0.48791258594993797, -0.05891854456106384, -0.6362022045967219, -0.4056058416314476, 0.0006330543338569247, 0.870525528955877, -0.6764844175995441, 0.6474668146657152, -0.011818422547298509, 1.3951013679061022, -1.7836141736487758, -0.04452308793644446, 0.167234249338456, 1.2567361760617723, -0.14027575575641704, 0.09429143699907863, 1.1242409616971984, 0.050151518880630894, -0.2433928696764287, 0.0783502937989915, 0.9577964812936168, 0.8770513370496233, -0.9686451268607692, -1.1455682487368903, 1.667442748949377, 1.5793147080970615, -0.4224730377130238, -0.3868067628069606, -1.5982968414883156, -0.2487089658615257, -0.39182632176914484, 0.4986063317118386, -0.8700980248271802, 0.5019229760141615, 0.47136913990314216, 0.09506378894544326, -0.4780009951857549, -0.15656352607360774, 0.13881204338059433, 1.0981469705486244, -0.6473528118947334, -0.07792660246003699, 0.49093685414840577, 0.9380626144705636, -0.7734212976175214, 0.33422943469930877, -0.08206457103229005, 0.19675075386621915, 0.5420001440757906, -1.0969320780915388, 0.14105130514566805, -0.2555864748272685, 0.3782298749075631, 0.07122122996107905, -0.18649207559510775, 1.960743631159648, -0.5819049046976688, -0.5437881897673993, -0.6152534082450581, -0.08579520337015567, -1.0141040794192604, -0.7300103716957315, 1.1591059727549322, -0.48871717672232134, 0.6514275390594886, 0.2959286126290568, -2.8449390446672465, -0.9964128029365027, -0.03310589205306478, 0.45683529946442764, 1.5500313810441426, -1.5430455490623174, 1.2546011341118462, 0.21495064400066777, 0.3715588678943498, 0.49929171775189896, 0.30296929351938007, -1.4839432860196824, -2.026418060881709, -0.2651049157961102, -0.5172731186958455, -0.9233505359557593, -1.6777405785887876, 1.1587072682107997, -0.08555026672901489, -0.08697221682863826, -0.8752844276408953, -0.4229123641934026, 1.4152637622249185, -0.2687365546300804, -0.845265118679393, 0.03661171573420025, -1.0408084121886536, 0.07503804644651897, 1.3461860366879066, 0.008006281464838167, 1.5369515511553713, 1.046452560294225, -1.6355746895675083, -0.24565447964768866], \"yaxis\": \"y7\"}, {\"line\": {\"color\": \"rgba(128, 128, 128, 1.0)\", \"dash\": \"solid\", \"shape\": \"linear\", \"width\": 1.3}, \"marker\": {\"size\": 2, \"symbol\": \"circle\"}, \"mode\": \"markers\", \"name\": \"B\", \"text\": \"\", \"type\": \"scatter\", \"x\": [-0.28945819509093734, 0.9506427079983513, -0.7075271544102827, 0.33670026214094395, -0.10309166006052267, -0.18288297182315447, -0.6442306189531569, -0.35940347774718095, 0.5980547649257733, 0.38036286133256436, -1.2091149892980757, 0.06723683346111031, 0.7431448881965461, -0.09331449305279685, 1.132594539633511, 0.5986790751339794, -0.7909196560389122, -0.03678372527453003, -0.6947496907152378, -0.14130279411144683, -0.3060630927142332, -0.48116505787049035, 0.5243553499271801, -1.2102603915406223, 0.3662464595616071, 1.5121451016626646, -0.5964350877415936, 0.19781953581011333, -0.15302128942909088, 0.06286068687679577, -0.5284685917617867, 0.11107646904647635, -0.7560116181446788, -1.816222523311719, -0.7340965407045787, -2.5120924771350595, 1.8887108667483687, 0.17393748127873918, 0.4057329203443431, -0.9950959777302046, 0.17144971865073647, -1.197496099922525, -0.5696725879013981, 0.30519989577527956, -0.9571854796916874, -0.5910988791985874, -0.647680651318399, 0.21141056351513177, -0.4717975764243811, -1.228992629320308, -0.03493674168857812, -0.3929219675723878, -1.1248982506050234, 1.5123905848365962, -1.161871394713524, 0.35904725596967374, 0.34580461961286196, -0.6247537218600137, 0.6534904317589532, 1.3647421932698265, 0.36618733325902403, 1.7350447493493786, -0.9164093019316768, -1.0427448140035536, 1.195631158086616, -0.06332228078375042, -1.7792966150531015, -0.12981625980441097, 0.7432451604322915, 1.335795152531882, -0.29532275561968435, 0.39793884204104457, -1.2434297290102156, 0.3303682465473808, 0.32606768933147523, 0.3475504294634366, 2.4942377346525846, -0.4208336480076219, 1.1462273355356751, 0.9597878014572179, -0.005393438437951994, -0.0019042778033120133, 0.5488280518498596, 2.2122887521931665, -1.2512728656185765, 0.8831372364595468, 0.9525324520273428, -0.23937498467410134, 0.6727166198158724, 0.7742155597792745, 0.2979483029274702, -1.449069628948016, -1.7809778841935426, 0.02738861605019371, -0.44985915636015683, 1.0722366003371442, 2.447842737960517, -1.7731439403282263, -0.09594801128742135, 0.7736657602276928], \"xaxis\": \"x8\", \"y\": [0.48791258594993797, -0.05891854456106384, -0.6362022045967219, -0.4056058416314476, 0.0006330543338569247, 0.870525528955877, -0.6764844175995441, 0.6474668146657152, -0.011818422547298509, 1.3951013679061022, -1.7836141736487758, -0.04452308793644446, 0.167234249338456, 1.2567361760617723, -0.14027575575641704, 0.09429143699907863, 1.1242409616971984, 0.050151518880630894, -0.2433928696764287, 0.0783502937989915, 0.9577964812936168, 0.8770513370496233, -0.9686451268607692, -1.1455682487368903, 1.667442748949377, 1.5793147080970615, -0.4224730377130238, -0.3868067628069606, -1.5982968414883156, -0.2487089658615257, -0.39182632176914484, 0.4986063317118386, -0.8700980248271802, 0.5019229760141615, 0.47136913990314216, 0.09506378894544326, -0.4780009951857549, -0.15656352607360774, 0.13881204338059433, 1.0981469705486244, -0.6473528118947334, -0.07792660246003699, 0.49093685414840577, 0.9380626144705636, -0.7734212976175214, 0.33422943469930877, -0.08206457103229005, 0.19675075386621915, 0.5420001440757906, -1.0969320780915388, 0.14105130514566805, -0.2555864748272685, 0.3782298749075631, 0.07122122996107905, -0.18649207559510775, 1.960743631159648, -0.5819049046976688, -0.5437881897673993, -0.6152534082450581, -0.08579520337015567, -1.0141040794192604, -0.7300103716957315, 1.1591059727549322, -0.48871717672232134, 0.6514275390594886, 0.2959286126290568, -2.8449390446672465, -0.9964128029365027, -0.03310589205306478, 0.45683529946442764, 1.5500313810441426, -1.5430455490623174, 1.2546011341118462, 0.21495064400066777, 0.3715588678943498, 0.49929171775189896, 0.30296929351938007, -1.4839432860196824, -2.026418060881709, -0.2651049157961102, -0.5172731186958455, -0.9233505359557593, -1.6777405785887876, 1.1587072682107997, -0.08555026672901489, -0.08697221682863826, -0.8752844276408953, -0.4229123641934026, 1.4152637622249185, -0.2687365546300804, -0.845265118679393, 0.03661171573420025, -1.0408084121886536, 0.07503804644651897, 1.3461860366879066, 0.008006281464838167, 1.5369515511553713, 1.046452560294225, -1.6355746895675083, -0.24565447964768866], \"yaxis\": \"y8\"}, {\"line\": {\"color\": \"rgba(128, 128, 128, 1.0)\", \"dash\": \"solid\", \"shape\": \"linear\", \"width\": 1.3}, \"marker\": {\"size\": 2, \"symbol\": \"circle\"}, \"mode\": \"markers\", \"name\": \"C\", \"text\": \"\", \"type\": \"scatter\", \"x\": [0.45376365134072455, 0.1533277234434953, 0.5584066630730266, 0.6388125002339647, -0.7682082709200291, 0.5872366051112483, -1.3622641558947228, 0.9197266262491686, -0.5667359249270596, 0.4428979494699839, -0.9832214064613543, -0.2086539026383452, 0.5831019922477547, 1.954808667357305, -0.39354558972605347, 0.30152662807609654, 0.13427182222200904, 0.046625265681057806, -0.9675029107659785, -1.9378907692372627, 0.7645084255726655, 0.3456496119966951, 0.6100739704928948, -1.2975215359698145, 0.9811582960283188, -1.854291883561129, 0.0030300626473484674, 0.5555330497463216, 1.9854640098519127, -2.8892786549069487, -0.5784596935192364, 0.2120730704035394, -1.6367541806959658, -0.9219858235162748, -0.9038989941312121, -1.535290948903216, -0.9925978081014436, -0.1597238157952492, -0.1901984016351724, 0.4340012252146463, 1.6412372806898923, -0.26853040854857746, -1.4860370235943405, 0.25372152314593843, 0.8945563158090339, -1.2581189537610697, 0.045752502620580435, 0.1497617632922686, 0.2057116223861768, 1.522860668306455, 2.4288034729247605, 0.7271286207696227, -1.0042866967532893, -1.7551852659625091, -0.6452019322122896, -0.08558077903288307, -0.937374506875622, -1.1699904455728098, 1.4613885965928404, 0.8723881989578501, 0.20798177375181456, 0.6798310425036768, 0.42731389978554923, -0.15521417050771996, -0.007772620249765506, -0.34694444399638413, -0.7226311660756984, 0.4336460288339709, 1.898232555378553, -0.7793458372913163, 1.5539085406936917, -0.7700115463299503, 1.976076118695718, 0.7765767247770977, -1.1224316814644946, -0.5900259740110259, 0.010858880228758642, -0.17312092096226234, 0.03626058732618706, -0.013328956951237278, -0.42293607488429613, 0.8354496259136793, -0.49443977885766727, 1.6887110227852462, -1.4909122935659305, 1.351877827520775, -0.3909619630491156, -0.12358388977968666, 1.9262225184352992, -1.888314477524304, -0.8030996273076954, 2.708273101446665, 0.41042386472559367, -0.7852293060505795, -1.354368226970318, -0.2503422957009691, -1.4950744957453541, -0.25899218688334524, 0.5439135753811755, 1.29831213783766], \"xaxis\": \"x9\", \"y\": [0.48396363915452845, -0.8839504757489611, 0.5944823766694012, -1.2087644449548938, -1.4588652418215866, -1.71617342439716, 0.12162208071442088, -0.3608297979791972, -0.42242845389890843, 0.04390948212546214, -0.4161508418773009, -0.708802954039864, 0.40059679048085645, 0.5571562735011651, 0.5348040411944343, 0.3600549961920591, -1.7495673113219377, 0.3424817230951091, -0.7982736401450603, -1.5393636951459362, 0.38188364523260454, 0.6679824692132231, -1.6302832525996775, 0.774058782367631, 0.36030554093764167, 0.41765634753539577, -0.002944256071235585, -1.111671206280267, 0.5957649322461476, 2.3586688907515008, 0.5916008479013928, 0.7259422663781465, -0.22213440567239653, -0.008089226780359612, -0.879943848146538, 0.37809428348282015, -1.051974492111051, -2.4303364357334867, 0.8902747934070464, 0.6541843015681487, -2.1907773867692755, 1.4151592563151574, 0.2169988399881734, 1.3796163891801971, -0.5107567629393553, 0.14060742948121072, -0.2102408646089569, 0.4746402010729189, -0.35629941940724974, 0.09455049831948358, 1.3315462134737737, 0.12142640748102457, -0.6532459953478722, -0.2967680695605399, 0.7406341892163693, 1.8196016521717515, -0.45865294911254945, -0.21907541104349407, -1.6824241040302679, 2.0431603995531065, 2.4827480381542433, -0.873705716309566, -1.695945138813294, -0.4575251239756494, -1.346895198209205, -0.15018011180195395, -1.5759886738379878, -0.1982313013431906, 0.9360674826623321, -0.5122282377520472, 0.6505800704511161, -0.6642357334880877, 0.05069602531264277, 0.40809871683393023, 0.15423817093218875, -0.6072905630520802, 0.0832362881761946, -0.7876147222227531, 0.7676497711006179, 0.4308965629472975, -0.16142336373765484, -1.270767162984861, -0.3436961683419353, 1.0583088258992703, -0.9007370643213202, 1.4638762314021476, -0.5258092672087118, 0.13550155144431164, -0.5088879826847917, 0.5381844726862862, 1.3371406210537218, -1.4209277616759663, -0.5881954188274244, -0.6262290973657684, -0.5321197520303068, -1.8267900014272351, -0.3561057241703818, 0.2447657542690755, -1.5651841052535462, -0.023142125110577883], \"yaxis\": \"y9\"}, {\"line\": {\"color\": \"rgba(128, 128, 128, 1.0)\", \"dash\": \"solid\", \"shape\": \"linear\", \"width\": 1.3}, \"marker\": {\"size\": 2, \"symbol\": \"circle\"}, \"mode\": \"markers\", \"name\": \"C\", \"text\": \"\", \"type\": \"scatter\", \"x\": [0.48791258594993797, -0.05891854456106384, -0.6362022045967219, -0.4056058416314476, 0.0006330543338569247, 0.870525528955877, -0.6764844175995441, 0.6474668146657152, -0.011818422547298509, 1.3951013679061022, -1.7836141736487758, -0.04452308793644446, 0.167234249338456, 1.2567361760617723, -0.14027575575641704, 0.09429143699907863, 1.1242409616971984, 0.050151518880630894, -0.2433928696764287, 0.0783502937989915, 0.9577964812936168, 0.8770513370496233, -0.9686451268607692, -1.1455682487368903, 1.667442748949377, 1.5793147080970615, -0.4224730377130238, -0.3868067628069606, -1.5982968414883156, -0.2487089658615257, -0.39182632176914484, 0.4986063317118386, -0.8700980248271802, 0.5019229760141615, 0.47136913990314216, 0.09506378894544326, -0.4780009951857549, -0.15656352607360774, 0.13881204338059433, 1.0981469705486244, -0.6473528118947334, -0.07792660246003699, 0.49093685414840577, 0.9380626144705636, -0.7734212976175214, 0.33422943469930877, -0.08206457103229005, 0.19675075386621915, 0.5420001440757906, -1.0969320780915388, 0.14105130514566805, -0.2555864748272685, 0.3782298749075631, 0.07122122996107905, -0.18649207559510775, 1.960743631159648, -0.5819049046976688, -0.5437881897673993, -0.6152534082450581, -0.08579520337015567, -1.0141040794192604, -0.7300103716957315, 1.1591059727549322, -0.48871717672232134, 0.6514275390594886, 0.2959286126290568, -2.8449390446672465, -0.9964128029365027, -0.03310589205306478, 0.45683529946442764, 1.5500313810441426, -1.5430455490623174, 1.2546011341118462, 0.21495064400066777, 0.3715588678943498, 0.49929171775189896, 0.30296929351938007, -1.4839432860196824, -2.026418060881709, -0.2651049157961102, -0.5172731186958455, -0.9233505359557593, -1.6777405785887876, 1.1587072682107997, -0.08555026672901489, -0.08697221682863826, -0.8752844276408953, -0.4229123641934026, 1.4152637622249185, -0.2687365546300804, -0.845265118679393, 0.03661171573420025, -1.0408084121886536, 0.07503804644651897, 1.3461860366879066, 0.008006281464838167, 1.5369515511553713, 1.046452560294225, -1.6355746895675083, -0.24565447964768866], \"xaxis\": \"x10\", \"y\": [0.48396363915452845, -0.8839504757489611, 0.5944823766694012, -1.2087644449548938, -1.4588652418215866, -1.71617342439716, 0.12162208071442088, -0.3608297979791972, -0.42242845389890843, 0.04390948212546214, -0.4161508418773009, -0.708802954039864, 0.40059679048085645, 0.5571562735011651, 0.5348040411944343, 0.3600549961920591, -1.7495673113219377, 0.3424817230951091, -0.7982736401450603, -1.5393636951459362, 0.38188364523260454, 0.6679824692132231, -1.6302832525996775, 0.774058782367631, 0.36030554093764167, 0.41765634753539577, -0.002944256071235585, -1.111671206280267, 0.5957649322461476, 2.3586688907515008, 0.5916008479013928, 0.7259422663781465, -0.22213440567239653, -0.008089226780359612, -0.879943848146538, 0.37809428348282015, -1.051974492111051, -2.4303364357334867, 0.8902747934070464, 0.6541843015681487, -2.1907773867692755, 1.4151592563151574, 0.2169988399881734, 1.3796163891801971, -0.5107567629393553, 0.14060742948121072, -0.2102408646089569, 0.4746402010729189, -0.35629941940724974, 0.09455049831948358, 1.3315462134737737, 0.12142640748102457, -0.6532459953478722, -0.2967680695605399, 0.7406341892163693, 1.8196016521717515, -0.45865294911254945, -0.21907541104349407, -1.6824241040302679, 2.0431603995531065, 2.4827480381542433, -0.873705716309566, -1.695945138813294, -0.4575251239756494, -1.346895198209205, -0.15018011180195395, -1.5759886738379878, -0.1982313013431906, 0.9360674826623321, -0.5122282377520472, 0.6505800704511161, -0.6642357334880877, 0.05069602531264277, 0.40809871683393023, 0.15423817093218875, -0.6072905630520802, 0.0832362881761946, -0.7876147222227531, 0.7676497711006179, 0.4308965629472975, -0.16142336373765484, -1.270767162984861, -0.3436961683419353, 1.0583088258992703, -0.9007370643213202, 1.4638762314021476, -0.5258092672087118, 0.13550155144431164, -0.5088879826847917, 0.5381844726862862, 1.3371406210537218, -1.4209277616759663, -0.5881954188274244, -0.6262290973657684, -0.5321197520303068, -1.8267900014272351, -0.3561057241703818, 0.2447657542690755, -1.5651841052535462, -0.023142125110577883], \"yaxis\": \"y10\"}, {\"histfunc\": \"count\", \"histnorm\": \"\", \"marker\": {\"color\": \"rgba(50, 171, 96, 1.0)\", \"line\": {\"color\": \"#4D5663\", \"width\": 1.3}}, \"name\": \"C\", \"nbinsx\": 10, \"opacity\": 0.8, \"orientation\": \"v\", \"type\": \"histogram\", \"x\": [0.48396363915452845, -0.8839504757489611, 0.5944823766694012, -1.2087644449548938, -1.4588652418215866, -1.71617342439716, 0.12162208071442088, -0.3608297979791972, -0.42242845389890843, 0.04390948212546214, -0.4161508418773009, -0.708802954039864, 0.40059679048085645, 0.5571562735011651, 0.5348040411944343, 0.3600549961920591, -1.7495673113219377, 0.3424817230951091, -0.7982736401450603, -1.5393636951459362, 0.38188364523260454, 0.6679824692132231, -1.6302832525996775, 0.774058782367631, 0.36030554093764167, 0.41765634753539577, -0.002944256071235585, -1.111671206280267, 0.5957649322461476, 2.3586688907515008, 0.5916008479013928, 0.7259422663781465, -0.22213440567239653, -0.008089226780359612, -0.879943848146538, 0.37809428348282015, -1.051974492111051, -2.4303364357334867, 0.8902747934070464, 0.6541843015681487, -2.1907773867692755, 1.4151592563151574, 0.2169988399881734, 1.3796163891801971, -0.5107567629393553, 0.14060742948121072, -0.2102408646089569, 0.4746402010729189, -0.35629941940724974, 0.09455049831948358, 1.3315462134737737, 0.12142640748102457, -0.6532459953478722, -0.2967680695605399, 0.7406341892163693, 1.8196016521717515, -0.45865294911254945, -0.21907541104349407, -1.6824241040302679, 2.0431603995531065, 2.4827480381542433, -0.873705716309566, -1.695945138813294, -0.4575251239756494, -1.346895198209205, -0.15018011180195395, -1.5759886738379878, -0.1982313013431906, 0.9360674826623321, -0.5122282377520472, 0.6505800704511161, -0.6642357334880877, 0.05069602531264277, 0.40809871683393023, 0.15423817093218875, -0.6072905630520802, 0.0832362881761946, -0.7876147222227531, 0.7676497711006179, 0.4308965629472975, -0.16142336373765484, -1.270767162984861, -0.3436961683419353, 1.0583088258992703, -0.9007370643213202, 1.4638762314021476, -0.5258092672087118, 0.13550155144431164, -0.5088879826847917, 0.5381844726862862, 1.3371406210537218, -1.4209277616759663, -0.5881954188274244, -0.6262290973657684, -0.5321197520303068, -1.8267900014272351, -0.3561057241703818, 0.2447657542690755, -1.5651841052535462, -0.023142125110577883], \"xaxis\": \"x11\", \"yaxis\": \"y11\"}, {\"line\": {\"color\": \"rgba(128, 128, 128, 1.0)\", \"dash\": \"solid\", \"shape\": \"linear\", \"width\": 1.3}, \"marker\": {\"size\": 2, \"symbol\": \"circle\"}, \"mode\": \"markers\", \"name\": \"C\", \"text\": \"\", \"type\": \"scatter\", \"x\": [-0.28945819509093734, 0.9506427079983513, -0.7075271544102827, 0.33670026214094395, -0.10309166006052267, -0.18288297182315447, -0.6442306189531569, -0.35940347774718095, 0.5980547649257733, 0.38036286133256436, -1.2091149892980757, 0.06723683346111031, 0.7431448881965461, -0.09331449305279685, 1.132594539633511, 0.5986790751339794, -0.7909196560389122, -0.03678372527453003, -0.6947496907152378, -0.14130279411144683, -0.3060630927142332, -0.48116505787049035, 0.5243553499271801, -1.2102603915406223, 0.3662464595616071, 1.5121451016626646, -0.5964350877415936, 0.19781953581011333, -0.15302128942909088, 0.06286068687679577, -0.5284685917617867, 0.11107646904647635, -0.7560116181446788, -1.816222523311719, -0.7340965407045787, -2.5120924771350595, 1.8887108667483687, 0.17393748127873918, 0.4057329203443431, -0.9950959777302046, 0.17144971865073647, -1.197496099922525, -0.5696725879013981, 0.30519989577527956, -0.9571854796916874, -0.5910988791985874, -0.647680651318399, 0.21141056351513177, -0.4717975764243811, -1.228992629320308, -0.03493674168857812, -0.3929219675723878, -1.1248982506050234, 1.5123905848365962, -1.161871394713524, 0.35904725596967374, 0.34580461961286196, -0.6247537218600137, 0.6534904317589532, 1.3647421932698265, 0.36618733325902403, 1.7350447493493786, -0.9164093019316768, -1.0427448140035536, 1.195631158086616, -0.06332228078375042, -1.7792966150531015, -0.12981625980441097, 0.7432451604322915, 1.335795152531882, -0.29532275561968435, 0.39793884204104457, -1.2434297290102156, 0.3303682465473808, 0.32606768933147523, 0.3475504294634366, 2.4942377346525846, -0.4208336480076219, 1.1462273355356751, 0.9597878014572179, -0.005393438437951994, -0.0019042778033120133, 0.5488280518498596, 2.2122887521931665, -1.2512728656185765, 0.8831372364595468, 0.9525324520273428, -0.23937498467410134, 0.6727166198158724, 0.7742155597792745, 0.2979483029274702, -1.449069628948016, -1.7809778841935426, 0.02738861605019371, -0.44985915636015683, 1.0722366003371442, 2.447842737960517, -1.7731439403282263, -0.09594801128742135, 0.7736657602276928], \"xaxis\": \"x12\", \"y\": [0.48396363915452845, -0.8839504757489611, 0.5944823766694012, -1.2087644449548938, -1.4588652418215866, -1.71617342439716, 0.12162208071442088, -0.3608297979791972, -0.42242845389890843, 0.04390948212546214, -0.4161508418773009, -0.708802954039864, 0.40059679048085645, 0.5571562735011651, 0.5348040411944343, 0.3600549961920591, -1.7495673113219377, 0.3424817230951091, -0.7982736401450603, -1.5393636951459362, 0.38188364523260454, 0.6679824692132231, -1.6302832525996775, 0.774058782367631, 0.36030554093764167, 0.41765634753539577, -0.002944256071235585, -1.111671206280267, 0.5957649322461476, 2.3586688907515008, 0.5916008479013928, 0.7259422663781465, -0.22213440567239653, -0.008089226780359612, -0.879943848146538, 0.37809428348282015, -1.051974492111051, -2.4303364357334867, 0.8902747934070464, 0.6541843015681487, -2.1907773867692755, 1.4151592563151574, 0.2169988399881734, 1.3796163891801971, -0.5107567629393553, 0.14060742948121072, -0.2102408646089569, 0.4746402010729189, -0.35629941940724974, 0.09455049831948358, 1.3315462134737737, 0.12142640748102457, -0.6532459953478722, -0.2967680695605399, 0.7406341892163693, 1.8196016521717515, -0.45865294911254945, -0.21907541104349407, -1.6824241040302679, 2.0431603995531065, 2.4827480381542433, -0.873705716309566, -1.695945138813294, -0.4575251239756494, -1.346895198209205, -0.15018011180195395, -1.5759886738379878, -0.1982313013431906, 0.9360674826623321, -0.5122282377520472, 0.6505800704511161, -0.6642357334880877, 0.05069602531264277, 0.40809871683393023, 0.15423817093218875, -0.6072905630520802, 0.0832362881761946, -0.7876147222227531, 0.7676497711006179, 0.4308965629472975, -0.16142336373765484, -1.270767162984861, -0.3436961683419353, 1.0583088258992703, -0.9007370643213202, 1.4638762314021476, -0.5258092672087118, 0.13550155144431164, -0.5088879826847917, 0.5381844726862862, 1.3371406210537218, -1.4209277616759663, -0.5881954188274244, -0.6262290973657684, -0.5321197520303068, -1.8267900014272351, -0.3561057241703818, 0.2447657542690755, -1.5651841052535462, -0.023142125110577883], \"yaxis\": \"y12\"}, {\"line\": {\"color\": \"rgba(128, 128, 128, 1.0)\", \"dash\": \"solid\", \"shape\": \"linear\", \"width\": 1.3}, \"marker\": {\"size\": 2, \"symbol\": \"circle\"}, \"mode\": \"markers\", \"name\": \"D\", \"text\": \"\", \"type\": \"scatter\", \"x\": [0.45376365134072455, 0.1533277234434953, 0.5584066630730266, 0.6388125002339647, -0.7682082709200291, 0.5872366051112483, -1.3622641558947228, 0.9197266262491686, -0.5667359249270596, 0.4428979494699839, -0.9832214064613543, -0.2086539026383452, 0.5831019922477547, 1.954808667357305, -0.39354558972605347, 0.30152662807609654, 0.13427182222200904, 0.046625265681057806, -0.9675029107659785, -1.9378907692372627, 0.7645084255726655, 0.3456496119966951, 0.6100739704928948, -1.2975215359698145, 0.9811582960283188, -1.854291883561129, 0.0030300626473484674, 0.5555330497463216, 1.9854640098519127, -2.8892786549069487, -0.5784596935192364, 0.2120730704035394, -1.6367541806959658, -0.9219858235162748, -0.9038989941312121, -1.535290948903216, -0.9925978081014436, -0.1597238157952492, -0.1901984016351724, 0.4340012252146463, 1.6412372806898923, -0.26853040854857746, -1.4860370235943405, 0.25372152314593843, 0.8945563158090339, -1.2581189537610697, 0.045752502620580435, 0.1497617632922686, 0.2057116223861768, 1.522860668306455, 2.4288034729247605, 0.7271286207696227, -1.0042866967532893, -1.7551852659625091, -0.6452019322122896, -0.08558077903288307, -0.937374506875622, -1.1699904455728098, 1.4613885965928404, 0.8723881989578501, 0.20798177375181456, 0.6798310425036768, 0.42731389978554923, -0.15521417050771996, -0.007772620249765506, -0.34694444399638413, -0.7226311660756984, 0.4336460288339709, 1.898232555378553, -0.7793458372913163, 1.5539085406936917, -0.7700115463299503, 1.976076118695718, 0.7765767247770977, -1.1224316814644946, -0.5900259740110259, 0.010858880228758642, -0.17312092096226234, 0.03626058732618706, -0.013328956951237278, -0.42293607488429613, 0.8354496259136793, -0.49443977885766727, 1.6887110227852462, -1.4909122935659305, 1.351877827520775, -0.3909619630491156, -0.12358388977968666, 1.9262225184352992, -1.888314477524304, -0.8030996273076954, 2.708273101446665, 0.41042386472559367, -0.7852293060505795, -1.354368226970318, -0.2503422957009691, -1.4950744957453541, -0.25899218688334524, 0.5439135753811755, 1.29831213783766], \"xaxis\": \"x13\", \"y\": [-0.28945819509093734, 0.9506427079983513, -0.7075271544102827, 0.33670026214094395, -0.10309166006052267, -0.18288297182315447, -0.6442306189531569, -0.35940347774718095, 0.5980547649257733, 0.38036286133256436, -1.2091149892980757, 0.06723683346111031, 0.7431448881965461, -0.09331449305279685, 1.132594539633511, 0.5986790751339794, -0.7909196560389122, -0.03678372527453003, -0.6947496907152378, -0.14130279411144683, -0.3060630927142332, -0.48116505787049035, 0.5243553499271801, -1.2102603915406223, 0.3662464595616071, 1.5121451016626646, -0.5964350877415936, 0.19781953581011333, -0.15302128942909088, 0.06286068687679577, -0.5284685917617867, 0.11107646904647635, -0.7560116181446788, -1.816222523311719, -0.7340965407045787, -2.5120924771350595, 1.8887108667483687, 0.17393748127873918, 0.4057329203443431, -0.9950959777302046, 0.17144971865073647, -1.197496099922525, -0.5696725879013981, 0.30519989577527956, -0.9571854796916874, -0.5910988791985874, -0.647680651318399, 0.21141056351513177, -0.4717975764243811, -1.228992629320308, -0.03493674168857812, -0.3929219675723878, -1.1248982506050234, 1.5123905848365962, -1.161871394713524, 0.35904725596967374, 0.34580461961286196, -0.6247537218600137, 0.6534904317589532, 1.3647421932698265, 0.36618733325902403, 1.7350447493493786, -0.9164093019316768, -1.0427448140035536, 1.195631158086616, -0.06332228078375042, -1.7792966150531015, -0.12981625980441097, 0.7432451604322915, 1.335795152531882, -0.29532275561968435, 0.39793884204104457, -1.2434297290102156, 0.3303682465473808, 0.32606768933147523, 0.3475504294634366, 2.4942377346525846, -0.4208336480076219, 1.1462273355356751, 0.9597878014572179, -0.005393438437951994, -0.0019042778033120133, 0.5488280518498596, 2.2122887521931665, -1.2512728656185765, 0.8831372364595468, 0.9525324520273428, -0.23937498467410134, 0.6727166198158724, 0.7742155597792745, 0.2979483029274702, -1.449069628948016, -1.7809778841935426, 0.02738861605019371, -0.44985915636015683, 1.0722366003371442, 2.447842737960517, -1.7731439403282263, -0.09594801128742135, 0.7736657602276928], \"yaxis\": \"y13\"}, {\"line\": {\"color\": \"rgba(128, 128, 128, 1.0)\", \"dash\": \"solid\", \"shape\": \"linear\", \"width\": 1.3}, \"marker\": {\"size\": 2, \"symbol\": \"circle\"}, \"mode\": \"markers\", \"name\": \"D\", \"text\": \"\", \"type\": \"scatter\", \"x\": [0.48791258594993797, -0.05891854456106384, -0.6362022045967219, -0.4056058416314476, 0.0006330543338569247, 0.870525528955877, -0.6764844175995441, 0.6474668146657152, -0.011818422547298509, 1.3951013679061022, -1.7836141736487758, -0.04452308793644446, 0.167234249338456, 1.2567361760617723, -0.14027575575641704, 0.09429143699907863, 1.1242409616971984, 0.050151518880630894, -0.2433928696764287, 0.0783502937989915, 0.9577964812936168, 0.8770513370496233, -0.9686451268607692, -1.1455682487368903, 1.667442748949377, 1.5793147080970615, -0.4224730377130238, -0.3868067628069606, -1.5982968414883156, -0.2487089658615257, -0.39182632176914484, 0.4986063317118386, -0.8700980248271802, 0.5019229760141615, 0.47136913990314216, 0.09506378894544326, -0.4780009951857549, -0.15656352607360774, 0.13881204338059433, 1.0981469705486244, -0.6473528118947334, -0.07792660246003699, 0.49093685414840577, 0.9380626144705636, -0.7734212976175214, 0.33422943469930877, -0.08206457103229005, 0.19675075386621915, 0.5420001440757906, -1.0969320780915388, 0.14105130514566805, -0.2555864748272685, 0.3782298749075631, 0.07122122996107905, -0.18649207559510775, 1.960743631159648, -0.5819049046976688, -0.5437881897673993, -0.6152534082450581, -0.08579520337015567, -1.0141040794192604, -0.7300103716957315, 1.1591059727549322, -0.48871717672232134, 0.6514275390594886, 0.2959286126290568, -2.8449390446672465, -0.9964128029365027, -0.03310589205306478, 0.45683529946442764, 1.5500313810441426, -1.5430455490623174, 1.2546011341118462, 0.21495064400066777, 0.3715588678943498, 0.49929171775189896, 0.30296929351938007, -1.4839432860196824, -2.026418060881709, -0.2651049157961102, -0.5172731186958455, -0.9233505359557593, -1.6777405785887876, 1.1587072682107997, -0.08555026672901489, -0.08697221682863826, -0.8752844276408953, -0.4229123641934026, 1.4152637622249185, -0.2687365546300804, -0.845265118679393, 0.03661171573420025, -1.0408084121886536, 0.07503804644651897, 1.3461860366879066, 0.008006281464838167, 1.5369515511553713, 1.046452560294225, -1.6355746895675083, -0.24565447964768866], \"xaxis\": \"x14\", \"y\": [-0.28945819509093734, 0.9506427079983513, -0.7075271544102827, 0.33670026214094395, -0.10309166006052267, -0.18288297182315447, -0.6442306189531569, -0.35940347774718095, 0.5980547649257733, 0.38036286133256436, -1.2091149892980757, 0.06723683346111031, 0.7431448881965461, -0.09331449305279685, 1.132594539633511, 0.5986790751339794, -0.7909196560389122, -0.03678372527453003, -0.6947496907152378, -0.14130279411144683, -0.3060630927142332, -0.48116505787049035, 0.5243553499271801, -1.2102603915406223, 0.3662464595616071, 1.5121451016626646, -0.5964350877415936, 0.19781953581011333, -0.15302128942909088, 0.06286068687679577, -0.5284685917617867, 0.11107646904647635, -0.7560116181446788, -1.816222523311719, -0.7340965407045787, -2.5120924771350595, 1.8887108667483687, 0.17393748127873918, 0.4057329203443431, -0.9950959777302046, 0.17144971865073647, -1.197496099922525, -0.5696725879013981, 0.30519989577527956, -0.9571854796916874, -0.5910988791985874, -0.647680651318399, 0.21141056351513177, -0.4717975764243811, -1.228992629320308, -0.03493674168857812, -0.3929219675723878, -1.1248982506050234, 1.5123905848365962, -1.161871394713524, 0.35904725596967374, 0.34580461961286196, -0.6247537218600137, 0.6534904317589532, 1.3647421932698265, 0.36618733325902403, 1.7350447493493786, -0.9164093019316768, -1.0427448140035536, 1.195631158086616, -0.06332228078375042, -1.7792966150531015, -0.12981625980441097, 0.7432451604322915, 1.335795152531882, -0.29532275561968435, 0.39793884204104457, -1.2434297290102156, 0.3303682465473808, 0.32606768933147523, 0.3475504294634366, 2.4942377346525846, -0.4208336480076219, 1.1462273355356751, 0.9597878014572179, -0.005393438437951994, -0.0019042778033120133, 0.5488280518498596, 2.2122887521931665, -1.2512728656185765, 0.8831372364595468, 0.9525324520273428, -0.23937498467410134, 0.6727166198158724, 0.7742155597792745, 0.2979483029274702, -1.449069628948016, -1.7809778841935426, 0.02738861605019371, -0.44985915636015683, 1.0722366003371442, 2.447842737960517, -1.7731439403282263, -0.09594801128742135, 0.7736657602276928], \"yaxis\": \"y14\"}, {\"line\": {\"color\": \"rgba(128, 128, 128, 1.0)\", \"dash\": \"solid\", \"shape\": \"linear\", \"width\": 1.3}, \"marker\": {\"size\": 2, \"symbol\": \"circle\"}, \"mode\": \"markers\", \"name\": \"D\", \"text\": \"\", \"type\": \"scatter\", \"x\": [0.48396363915452845, -0.8839504757489611, 0.5944823766694012, -1.2087644449548938, -1.4588652418215866, -1.71617342439716, 0.12162208071442088, -0.3608297979791972, -0.42242845389890843, 0.04390948212546214, -0.4161508418773009, -0.708802954039864, 0.40059679048085645, 0.5571562735011651, 0.5348040411944343, 0.3600549961920591, -1.7495673113219377, 0.3424817230951091, -0.7982736401450603, -1.5393636951459362, 0.38188364523260454, 0.6679824692132231, -1.6302832525996775, 0.774058782367631, 0.36030554093764167, 0.41765634753539577, -0.002944256071235585, -1.111671206280267, 0.5957649322461476, 2.3586688907515008, 0.5916008479013928, 0.7259422663781465, -0.22213440567239653, -0.008089226780359612, -0.879943848146538, 0.37809428348282015, -1.051974492111051, -2.4303364357334867, 0.8902747934070464, 0.6541843015681487, -2.1907773867692755, 1.4151592563151574, 0.2169988399881734, 1.3796163891801971, -0.5107567629393553, 0.14060742948121072, -0.2102408646089569, 0.4746402010729189, -0.35629941940724974, 0.09455049831948358, 1.3315462134737737, 0.12142640748102457, -0.6532459953478722, -0.2967680695605399, 0.7406341892163693, 1.8196016521717515, -0.45865294911254945, -0.21907541104349407, -1.6824241040302679, 2.0431603995531065, 2.4827480381542433, -0.873705716309566, -1.695945138813294, -0.4575251239756494, -1.346895198209205, -0.15018011180195395, -1.5759886738379878, -0.1982313013431906, 0.9360674826623321, -0.5122282377520472, 0.6505800704511161, -0.6642357334880877, 0.05069602531264277, 0.40809871683393023, 0.15423817093218875, -0.6072905630520802, 0.0832362881761946, -0.7876147222227531, 0.7676497711006179, 0.4308965629472975, -0.16142336373765484, -1.270767162984861, -0.3436961683419353, 1.0583088258992703, -0.9007370643213202, 1.4638762314021476, -0.5258092672087118, 0.13550155144431164, -0.5088879826847917, 0.5381844726862862, 1.3371406210537218, -1.4209277616759663, -0.5881954188274244, -0.6262290973657684, -0.5321197520303068, -1.8267900014272351, -0.3561057241703818, 0.2447657542690755, -1.5651841052535462, -0.023142125110577883], \"xaxis\": \"x15\", \"y\": [-0.28945819509093734, 0.9506427079983513, -0.7075271544102827, 0.33670026214094395, -0.10309166006052267, -0.18288297182315447, -0.6442306189531569, -0.35940347774718095, 0.5980547649257733, 0.38036286133256436, -1.2091149892980757, 0.06723683346111031, 0.7431448881965461, -0.09331449305279685, 1.132594539633511, 0.5986790751339794, -0.7909196560389122, -0.03678372527453003, -0.6947496907152378, -0.14130279411144683, -0.3060630927142332, -0.48116505787049035, 0.5243553499271801, -1.2102603915406223, 0.3662464595616071, 1.5121451016626646, -0.5964350877415936, 0.19781953581011333, -0.15302128942909088, 0.06286068687679577, -0.5284685917617867, 0.11107646904647635, -0.7560116181446788, -1.816222523311719, -0.7340965407045787, -2.5120924771350595, 1.8887108667483687, 0.17393748127873918, 0.4057329203443431, -0.9950959777302046, 0.17144971865073647, -1.197496099922525, -0.5696725879013981, 0.30519989577527956, -0.9571854796916874, -0.5910988791985874, -0.647680651318399, 0.21141056351513177, -0.4717975764243811, -1.228992629320308, -0.03493674168857812, -0.3929219675723878, -1.1248982506050234, 1.5123905848365962, -1.161871394713524, 0.35904725596967374, 0.34580461961286196, -0.6247537218600137, 0.6534904317589532, 1.3647421932698265, 0.36618733325902403, 1.7350447493493786, -0.9164093019316768, -1.0427448140035536, 1.195631158086616, -0.06332228078375042, -1.7792966150531015, -0.12981625980441097, 0.7432451604322915, 1.335795152531882, -0.29532275561968435, 0.39793884204104457, -1.2434297290102156, 0.3303682465473808, 0.32606768933147523, 0.3475504294634366, 2.4942377346525846, -0.4208336480076219, 1.1462273355356751, 0.9597878014572179, -0.005393438437951994, -0.0019042778033120133, 0.5488280518498596, 2.2122887521931665, -1.2512728656185765, 0.8831372364595468, 0.9525324520273428, -0.23937498467410134, 0.6727166198158724, 0.7742155597792745, 0.2979483029274702, -1.449069628948016, -1.7809778841935426, 0.02738861605019371, -0.44985915636015683, 1.0722366003371442, 2.447842737960517, -1.7731439403282263, -0.09594801128742135, 0.7736657602276928], \"yaxis\": \"y15\"}, {\"histfunc\": \"count\", \"histnorm\": \"\", \"marker\": {\"color\": \"rgba(128, 0, 128, 1.0)\", \"line\": {\"color\": \"#4D5663\", \"width\": 1.3}}, \"name\": \"D\", \"nbinsx\": 10, \"opacity\": 0.8, \"orientation\": \"v\", \"type\": \"histogram\", \"x\": [-0.28945819509093734, 0.9506427079983513, -0.7075271544102827, 0.33670026214094395, -0.10309166006052267, -0.18288297182315447, -0.6442306189531569, -0.35940347774718095, 0.5980547649257733, 0.38036286133256436, -1.2091149892980757, 0.06723683346111031, 0.7431448881965461, -0.09331449305279685, 1.132594539633511, 0.5986790751339794, -0.7909196560389122, -0.03678372527453003, -0.6947496907152378, -0.14130279411144683, -0.3060630927142332, -0.48116505787049035, 0.5243553499271801, -1.2102603915406223, 0.3662464595616071, 1.5121451016626646, -0.5964350877415936, 0.19781953581011333, -0.15302128942909088, 0.06286068687679577, -0.5284685917617867, 0.11107646904647635, -0.7560116181446788, -1.816222523311719, -0.7340965407045787, -2.5120924771350595, 1.8887108667483687, 0.17393748127873918, 0.4057329203443431, -0.9950959777302046, 0.17144971865073647, -1.197496099922525, -0.5696725879013981, 0.30519989577527956, -0.9571854796916874, -0.5910988791985874, -0.647680651318399, 0.21141056351513177, -0.4717975764243811, -1.228992629320308, -0.03493674168857812, -0.3929219675723878, -1.1248982506050234, 1.5123905848365962, -1.161871394713524, 0.35904725596967374, 0.34580461961286196, -0.6247537218600137, 0.6534904317589532, 1.3647421932698265, 0.36618733325902403, 1.7350447493493786, -0.9164093019316768, -1.0427448140035536, 1.195631158086616, -0.06332228078375042, -1.7792966150531015, -0.12981625980441097, 0.7432451604322915, 1.335795152531882, -0.29532275561968435, 0.39793884204104457, -1.2434297290102156, 0.3303682465473808, 0.32606768933147523, 0.3475504294634366, 2.4942377346525846, -0.4208336480076219, 1.1462273355356751, 0.9597878014572179, -0.005393438437951994, -0.0019042778033120133, 0.5488280518498596, 2.2122887521931665, -1.2512728656185765, 0.8831372364595468, 0.9525324520273428, -0.23937498467410134, 0.6727166198158724, 0.7742155597792745, 0.2979483029274702, -1.449069628948016, -1.7809778841935426, 0.02738861605019371, -0.44985915636015683, 1.0722366003371442, 2.447842737960517, -1.7731439403282263, -0.09594801128742135, 0.7736657602276928], \"xaxis\": \"x16\", \"yaxis\": \"y16\"}],\n",
       "                        {\"bargap\": 0.02, \"legend\": {\"bgcolor\": \"#F5F6F9\", \"font\": {\"color\": \"#4D5663\"}}, \"paper_bgcolor\": \"#F5F6F9\", \"plot_bgcolor\": \"#F5F6F9\", \"showlegend\": false, \"template\": {\"data\": {\"bar\": [{\"error_x\": {\"color\": \"#2a3f5f\"}, \"error_y\": {\"color\": \"#2a3f5f\"}, \"marker\": {\"line\": {\"color\": \"#E5ECF6\", \"width\": 0.5}}, \"type\": \"bar\"}], \"barpolar\": [{\"marker\": {\"line\": {\"color\": \"#E5ECF6\", \"width\": 0.5}}, \"type\": \"barpolar\"}], \"carpet\": [{\"aaxis\": {\"endlinecolor\": \"#2a3f5f\", \"gridcolor\": \"white\", \"linecolor\": \"white\", \"minorgridcolor\": \"white\", \"startlinecolor\": \"#2a3f5f\"}, \"baxis\": {\"endlinecolor\": \"#2a3f5f\", \"gridcolor\": \"white\", \"linecolor\": \"white\", \"minorgridcolor\": \"white\", \"startlinecolor\": \"#2a3f5f\"}, \"type\": \"carpet\"}], \"choropleth\": [{\"colorbar\": {\"outlinewidth\": 0, \"ticks\": \"\"}, \"type\": \"choropleth\"}], \"contour\": [{\"colorbar\": {\"outlinewidth\": 0, \"ticks\": \"\"}, \"colorscale\": [[0.0, \"#0d0887\"], [0.1111111111111111, \"#46039f\"], [0.2222222222222222, \"#7201a8\"], [0.3333333333333333, \"#9c179e\"], [0.4444444444444444, \"#bd3786\"], [0.5555555555555556, \"#d8576b\"], [0.6666666666666666, \"#ed7953\"], [0.7777777777777778, \"#fb9f3a\"], [0.8888888888888888, \"#fdca26\"], [1.0, \"#f0f921\"]], \"type\": \"contour\"}], \"contourcarpet\": [{\"colorbar\": {\"outlinewidth\": 0, \"ticks\": \"\"}, \"type\": \"contourcarpet\"}], \"heatmap\": [{\"colorbar\": {\"outlinewidth\": 0, \"ticks\": \"\"}, \"colorscale\": [[0.0, \"#0d0887\"], [0.1111111111111111, \"#46039f\"], [0.2222222222222222, \"#7201a8\"], [0.3333333333333333, \"#9c179e\"], [0.4444444444444444, \"#bd3786\"], [0.5555555555555556, \"#d8576b\"], [0.6666666666666666, \"#ed7953\"], [0.7777777777777778, \"#fb9f3a\"], [0.8888888888888888, \"#fdca26\"], [1.0, \"#f0f921\"]], \"type\": \"heatmap\"}], \"heatmapgl\": [{\"colorbar\": {\"outlinewidth\": 0, \"ticks\": \"\"}, \"colorscale\": [[0.0, \"#0d0887\"], [0.1111111111111111, \"#46039f\"], [0.2222222222222222, \"#7201a8\"], [0.3333333333333333, \"#9c179e\"], [0.4444444444444444, \"#bd3786\"], [0.5555555555555556, \"#d8576b\"], [0.6666666666666666, \"#ed7953\"], [0.7777777777777778, \"#fb9f3a\"], [0.8888888888888888, \"#fdca26\"], [1.0, \"#f0f921\"]], \"type\": \"heatmapgl\"}], \"histogram\": [{\"marker\": {\"colorbar\": {\"outlinewidth\": 0, \"ticks\": \"\"}}, \"type\": \"histogram\"}], \"histogram2d\": [{\"colorbar\": {\"outlinewidth\": 0, \"ticks\": \"\"}, \"colorscale\": [[0.0, \"#0d0887\"], [0.1111111111111111, \"#46039f\"], [0.2222222222222222, \"#7201a8\"], [0.3333333333333333, \"#9c179e\"], [0.4444444444444444, \"#bd3786\"], [0.5555555555555556, \"#d8576b\"], [0.6666666666666666, \"#ed7953\"], [0.7777777777777778, \"#fb9f3a\"], [0.8888888888888888, \"#fdca26\"], [1.0, \"#f0f921\"]], \"type\": \"histogram2d\"}], \"histogram2dcontour\": [{\"colorbar\": {\"outlinewidth\": 0, \"ticks\": \"\"}, \"colorscale\": [[0.0, \"#0d0887\"], [0.1111111111111111, \"#46039f\"], [0.2222222222222222, \"#7201a8\"], [0.3333333333333333, \"#9c179e\"], [0.4444444444444444, \"#bd3786\"], [0.5555555555555556, \"#d8576b\"], [0.6666666666666666, \"#ed7953\"], [0.7777777777777778, \"#fb9f3a\"], [0.8888888888888888, \"#fdca26\"], [1.0, \"#f0f921\"]], \"type\": \"histogram2dcontour\"}], \"mesh3d\": [{\"colorbar\": {\"outlinewidth\": 0, \"ticks\": \"\"}, \"type\": \"mesh3d\"}], \"parcoords\": [{\"line\": {\"colorbar\": {\"outlinewidth\": 0, \"ticks\": \"\"}}, \"type\": \"parcoords\"}], \"pie\": [{\"automargin\": true, \"type\": \"pie\"}], \"scatter\": [{\"marker\": {\"colorbar\": {\"outlinewidth\": 0, \"ticks\": \"\"}}, \"type\": \"scatter\"}], \"scatter3d\": [{\"line\": {\"colorbar\": {\"outlinewidth\": 0, \"ticks\": \"\"}}, \"marker\": {\"colorbar\": {\"outlinewidth\": 0, \"ticks\": \"\"}}, \"type\": \"scatter3d\"}], \"scattercarpet\": [{\"marker\": {\"colorbar\": {\"outlinewidth\": 0, \"ticks\": \"\"}}, \"type\": \"scattercarpet\"}], \"scattergeo\": [{\"marker\": {\"colorbar\": {\"outlinewidth\": 0, \"ticks\": \"\"}}, \"type\": \"scattergeo\"}], \"scattergl\": [{\"marker\": {\"colorbar\": {\"outlinewidth\": 0, \"ticks\": \"\"}}, \"type\": \"scattergl\"}], \"scattermapbox\": [{\"marker\": {\"colorbar\": {\"outlinewidth\": 0, \"ticks\": \"\"}}, \"type\": \"scattermapbox\"}], \"scatterpolar\": [{\"marker\": {\"colorbar\": {\"outlinewidth\": 0, \"ticks\": \"\"}}, \"type\": \"scatterpolar\"}], \"scatterpolargl\": [{\"marker\": {\"colorbar\": {\"outlinewidth\": 0, \"ticks\": \"\"}}, \"type\": \"scatterpolargl\"}], \"scatterternary\": [{\"marker\": {\"colorbar\": {\"outlinewidth\": 0, \"ticks\": \"\"}}, \"type\": \"scatterternary\"}], \"surface\": [{\"colorbar\": {\"outlinewidth\": 0, \"ticks\": \"\"}, \"colorscale\": [[0.0, \"#0d0887\"], [0.1111111111111111, \"#46039f\"], [0.2222222222222222, \"#7201a8\"], [0.3333333333333333, \"#9c179e\"], [0.4444444444444444, \"#bd3786\"], [0.5555555555555556, \"#d8576b\"], [0.6666666666666666, \"#ed7953\"], [0.7777777777777778, \"#fb9f3a\"], [0.8888888888888888, \"#fdca26\"], [1.0, \"#f0f921\"]], \"type\": \"surface\"}], \"table\": [{\"cells\": {\"fill\": {\"color\": \"#EBF0F8\"}, \"line\": {\"color\": \"white\"}}, \"header\": {\"fill\": {\"color\": \"#C8D4E3\"}, \"line\": {\"color\": \"white\"}}, \"type\": \"table\"}]}, \"layout\": {\"annotationdefaults\": {\"arrowcolor\": \"#2a3f5f\", \"arrowhead\": 0, \"arrowwidth\": 1}, \"coloraxis\": {\"colorbar\": {\"outlinewidth\": 0, \"ticks\": \"\"}}, \"colorscale\": {\"diverging\": [[0, \"#8e0152\"], [0.1, \"#c51b7d\"], [0.2, \"#de77ae\"], [0.3, \"#f1b6da\"], [0.4, \"#fde0ef\"], [0.5, \"#f7f7f7\"], [0.6, \"#e6f5d0\"], [0.7, \"#b8e186\"], [0.8, \"#7fbc41\"], [0.9, \"#4d9221\"], [1, \"#276419\"]], \"sequential\": [[0.0, \"#0d0887\"], [0.1111111111111111, \"#46039f\"], [0.2222222222222222, \"#7201a8\"], [0.3333333333333333, \"#9c179e\"], [0.4444444444444444, \"#bd3786\"], [0.5555555555555556, \"#d8576b\"], [0.6666666666666666, \"#ed7953\"], [0.7777777777777778, \"#fb9f3a\"], [0.8888888888888888, \"#fdca26\"], [1.0, \"#f0f921\"]], \"sequentialminus\": [[0.0, \"#0d0887\"], [0.1111111111111111, \"#46039f\"], [0.2222222222222222, \"#7201a8\"], [0.3333333333333333, \"#9c179e\"], [0.4444444444444444, \"#bd3786\"], [0.5555555555555556, \"#d8576b\"], [0.6666666666666666, \"#ed7953\"], [0.7777777777777778, \"#fb9f3a\"], [0.8888888888888888, \"#fdca26\"], [1.0, \"#f0f921\"]]}, \"colorway\": [\"#636efa\", \"#EF553B\", \"#00cc96\", \"#ab63fa\", \"#FFA15A\", \"#19d3f3\", \"#FF6692\", \"#B6E880\", \"#FF97FF\", \"#FECB52\"], \"font\": {\"color\": \"#2a3f5f\"}, \"geo\": {\"bgcolor\": \"white\", \"lakecolor\": \"white\", \"landcolor\": \"#E5ECF6\", \"showlakes\": true, \"showland\": true, \"subunitcolor\": \"white\"}, \"hoverlabel\": {\"align\": \"left\"}, \"hovermode\": \"closest\", \"mapbox\": {\"style\": \"light\"}, \"paper_bgcolor\": \"white\", \"plot_bgcolor\": \"#E5ECF6\", \"polar\": {\"angularaxis\": {\"gridcolor\": \"white\", \"linecolor\": \"white\", \"ticks\": \"\"}, \"bgcolor\": \"#E5ECF6\", \"radialaxis\": {\"gridcolor\": \"white\", \"linecolor\": \"white\", \"ticks\": \"\"}}, \"scene\": {\"xaxis\": {\"backgroundcolor\": \"#E5ECF6\", \"gridcolor\": \"white\", \"gridwidth\": 2, \"linecolor\": \"white\", \"showbackground\": true, \"ticks\": \"\", \"zerolinecolor\": \"white\"}, \"yaxis\": {\"backgroundcolor\": \"#E5ECF6\", \"gridcolor\": \"white\", \"gridwidth\": 2, \"linecolor\": \"white\", \"showbackground\": true, \"ticks\": \"\", \"zerolinecolor\": \"white\"}, \"zaxis\": {\"backgroundcolor\": \"#E5ECF6\", \"gridcolor\": \"white\", \"gridwidth\": 2, \"linecolor\": \"white\", \"showbackground\": true, \"ticks\": \"\", \"zerolinecolor\": \"white\"}}, \"shapedefaults\": {\"line\": {\"color\": \"#2a3f5f\"}}, \"ternary\": {\"aaxis\": {\"gridcolor\": \"white\", \"linecolor\": \"white\", \"ticks\": \"\"}, \"baxis\": {\"gridcolor\": \"white\", \"linecolor\": \"white\", \"ticks\": \"\"}, \"bgcolor\": \"#E5ECF6\", \"caxis\": {\"gridcolor\": \"white\", \"linecolor\": \"white\", \"ticks\": \"\"}}, \"title\": {\"x\": 0.05}, \"xaxis\": {\"automargin\": true, \"gridcolor\": \"white\", \"linecolor\": \"white\", \"ticks\": \"\", \"title\": {\"standoff\": 15}, \"zerolinecolor\": \"white\", \"zerolinewidth\": 2}, \"yaxis\": {\"automargin\": true, \"gridcolor\": \"white\", \"linecolor\": \"white\", \"ticks\": \"\", \"title\": {\"standoff\": 15}, \"zerolinecolor\": \"white\", \"zerolinewidth\": 2}}}, \"title\": {\"font\": {\"color\": \"#4D5663\"}}, \"xaxis\": {\"anchor\": \"y\", \"domain\": [0.0, 0.2125], \"gridcolor\": \"#E1E5ED\", \"showgrid\": false, \"tickfont\": {\"color\": \"#4D5663\"}, \"title\": {\"font\": {\"color\": \"#4D5663\"}, \"text\": \"\"}, \"zerolinecolor\": \"#E1E5ED\"}, \"xaxis10\": {\"anchor\": \"y10\", \"domain\": [0.2625, 0.475], \"gridcolor\": \"#E1E5ED\", \"showgrid\": false, \"tickfont\": {\"color\": \"#4D5663\"}, \"title\": {\"font\": {\"color\": \"#4D5663\"}, \"text\": \"\"}, \"zerolinecolor\": \"#E1E5ED\"}, \"xaxis11\": {\"anchor\": \"y11\", \"domain\": [0.525, 0.7375], \"gridcolor\": \"#E1E5ED\", \"showgrid\": false, \"tickfont\": {\"color\": \"#4D5663\"}, \"title\": {\"font\": {\"color\": \"#4D5663\"}, \"text\": \"\"}, \"zerolinecolor\": \"#E1E5ED\"}, \"xaxis12\": {\"anchor\": \"y12\", \"domain\": [0.7875, 1.0], \"gridcolor\": \"#E1E5ED\", \"showgrid\": false, \"tickfont\": {\"color\": \"#4D5663\"}, \"title\": {\"font\": {\"color\": \"#4D5663\"}, \"text\": \"\"}, \"zerolinecolor\": \"#E1E5ED\"}, \"xaxis13\": {\"anchor\": \"y13\", \"domain\": [0.0, 0.2125], \"gridcolor\": \"#E1E5ED\", \"showgrid\": false, \"tickfont\": {\"color\": \"#4D5663\"}, \"title\": {\"font\": {\"color\": \"#4D5663\"}, \"text\": \"\"}, \"zerolinecolor\": \"#E1E5ED\"}, \"xaxis14\": {\"anchor\": \"y14\", \"domain\": [0.2625, 0.475], \"gridcolor\": \"#E1E5ED\", \"showgrid\": false, \"tickfont\": {\"color\": \"#4D5663\"}, \"title\": {\"font\": {\"color\": \"#4D5663\"}, \"text\": \"\"}, \"zerolinecolor\": \"#E1E5ED\"}, \"xaxis15\": {\"anchor\": \"y15\", \"domain\": [0.525, 0.7375], \"gridcolor\": \"#E1E5ED\", \"showgrid\": false, \"tickfont\": {\"color\": \"#4D5663\"}, \"title\": {\"font\": {\"color\": \"#4D5663\"}, \"text\": \"\"}, \"zerolinecolor\": \"#E1E5ED\"}, \"xaxis16\": {\"anchor\": \"y16\", \"domain\": [0.7875, 1.0], \"gridcolor\": \"#E1E5ED\", \"showgrid\": false, \"tickfont\": {\"color\": \"#4D5663\"}, \"title\": {\"font\": {\"color\": \"#4D5663\"}, \"text\": \"\"}, \"zerolinecolor\": \"#E1E5ED\"}, \"xaxis2\": {\"anchor\": \"y2\", \"domain\": [0.2625, 0.475], \"gridcolor\": \"#E1E5ED\", \"showgrid\": false, \"tickfont\": {\"color\": \"#4D5663\"}, \"title\": {\"font\": {\"color\": \"#4D5663\"}, \"text\": \"\"}, \"zerolinecolor\": \"#E1E5ED\"}, \"xaxis3\": {\"anchor\": \"y3\", \"domain\": [0.525, 0.7375], \"gridcolor\": \"#E1E5ED\", \"showgrid\": false, \"tickfont\": {\"color\": \"#4D5663\"}, \"title\": {\"font\": {\"color\": \"#4D5663\"}, \"text\": \"\"}, \"zerolinecolor\": \"#E1E5ED\"}, \"xaxis4\": {\"anchor\": \"y4\", \"domain\": [0.7875, 1.0], \"gridcolor\": \"#E1E5ED\", \"showgrid\": false, \"tickfont\": {\"color\": \"#4D5663\"}, \"title\": {\"font\": {\"color\": \"#4D5663\"}, \"text\": \"\"}, \"zerolinecolor\": \"#E1E5ED\"}, \"xaxis5\": {\"anchor\": \"y5\", \"domain\": [0.0, 0.2125], \"gridcolor\": \"#E1E5ED\", \"showgrid\": false, \"tickfont\": {\"color\": \"#4D5663\"}, \"title\": {\"font\": {\"color\": \"#4D5663\"}, \"text\": \"\"}, \"zerolinecolor\": \"#E1E5ED\"}, \"xaxis6\": {\"anchor\": \"y6\", \"domain\": [0.2625, 0.475], \"gridcolor\": \"#E1E5ED\", \"showgrid\": false, \"tickfont\": {\"color\": \"#4D5663\"}, \"title\": {\"font\": {\"color\": \"#4D5663\"}, \"text\": \"\"}, \"zerolinecolor\": \"#E1E5ED\"}, \"xaxis7\": {\"anchor\": \"y7\", \"domain\": [0.525, 0.7375], \"gridcolor\": \"#E1E5ED\", \"showgrid\": false, \"tickfont\": {\"color\": \"#4D5663\"}, \"title\": {\"font\": {\"color\": \"#4D5663\"}, \"text\": \"\"}, \"zerolinecolor\": \"#E1E5ED\"}, \"xaxis8\": {\"anchor\": \"y8\", \"domain\": [0.7875, 1.0], \"gridcolor\": \"#E1E5ED\", \"showgrid\": false, \"tickfont\": {\"color\": \"#4D5663\"}, \"title\": {\"font\": {\"color\": \"#4D5663\"}, \"text\": \"\"}, \"zerolinecolor\": \"#E1E5ED\"}, \"xaxis9\": {\"anchor\": \"y9\", \"domain\": [0.0, 0.2125], \"gridcolor\": \"#E1E5ED\", \"showgrid\": false, \"tickfont\": {\"color\": \"#4D5663\"}, \"title\": {\"font\": {\"color\": \"#4D5663\"}, \"text\": \"\"}, \"zerolinecolor\": \"#E1E5ED\"}, \"yaxis\": {\"anchor\": \"x\", \"domain\": [0.8025, 1.0], \"gridcolor\": \"#E1E5ED\", \"showgrid\": false, \"tickfont\": {\"color\": \"#4D5663\"}, \"title\": {\"font\": {\"color\": \"#4D5663\"}, \"text\": \"\"}, \"zerolinecolor\": \"#E1E5ED\"}, \"yaxis10\": {\"anchor\": \"x10\", \"domain\": [0.2675, 0.465], \"gridcolor\": \"#E1E5ED\", \"showgrid\": false, \"tickfont\": {\"color\": \"#4D5663\"}, \"title\": {\"font\": {\"color\": \"#4D5663\"}, \"text\": \"\"}, \"zerolinecolor\": \"#E1E5ED\"}, \"yaxis11\": {\"anchor\": \"x11\", \"domain\": [0.2675, 0.465], \"gridcolor\": \"#E1E5ED\", \"showgrid\": false, \"tickfont\": {\"color\": \"#4D5663\"}, \"title\": {\"font\": {\"color\": \"#4D5663\"}, \"text\": \"\"}, \"zerolinecolor\": \"#E1E5ED\"}, \"yaxis12\": {\"anchor\": \"x12\", \"domain\": [0.2675, 0.465], \"gridcolor\": \"#E1E5ED\", \"showgrid\": false, \"tickfont\": {\"color\": \"#4D5663\"}, \"title\": {\"font\": {\"color\": \"#4D5663\"}, \"text\": \"\"}, \"zerolinecolor\": \"#E1E5ED\"}, \"yaxis13\": {\"anchor\": \"x13\", \"domain\": [0.0, 0.1975], \"gridcolor\": \"#E1E5ED\", \"showgrid\": false, \"tickfont\": {\"color\": \"#4D5663\"}, \"title\": {\"font\": {\"color\": \"#4D5663\"}, \"text\": \"\"}, \"zerolinecolor\": \"#E1E5ED\"}, \"yaxis14\": {\"anchor\": \"x14\", \"domain\": [0.0, 0.1975], \"gridcolor\": \"#E1E5ED\", \"showgrid\": false, \"tickfont\": {\"color\": \"#4D5663\"}, \"title\": {\"font\": {\"color\": \"#4D5663\"}, \"text\": \"\"}, \"zerolinecolor\": \"#E1E5ED\"}, \"yaxis15\": {\"anchor\": \"x15\", \"domain\": [0.0, 0.1975], \"gridcolor\": \"#E1E5ED\", \"showgrid\": false, \"tickfont\": {\"color\": \"#4D5663\"}, \"title\": {\"font\": {\"color\": \"#4D5663\"}, \"text\": \"\"}, \"zerolinecolor\": \"#E1E5ED\"}, \"yaxis16\": {\"anchor\": \"x16\", \"domain\": [0.0, 0.1975], \"gridcolor\": \"#E1E5ED\", \"showgrid\": false, \"tickfont\": {\"color\": \"#4D5663\"}, \"title\": {\"font\": {\"color\": \"#4D5663\"}, \"text\": \"\"}, \"zerolinecolor\": \"#E1E5ED\"}, \"yaxis2\": {\"anchor\": \"x2\", \"domain\": [0.8025, 1.0], \"gridcolor\": \"#E1E5ED\", \"showgrid\": false, \"tickfont\": {\"color\": \"#4D5663\"}, \"title\": {\"font\": {\"color\": \"#4D5663\"}, \"text\": \"\"}, \"zerolinecolor\": \"#E1E5ED\"}, \"yaxis3\": {\"anchor\": \"x3\", \"domain\": [0.8025, 1.0], \"gridcolor\": \"#E1E5ED\", \"showgrid\": false, \"tickfont\": {\"color\": \"#4D5663\"}, \"title\": {\"font\": {\"color\": \"#4D5663\"}, \"text\": \"\"}, \"zerolinecolor\": \"#E1E5ED\"}, \"yaxis4\": {\"anchor\": \"x4\", \"domain\": [0.8025, 1.0], \"gridcolor\": \"#E1E5ED\", \"showgrid\": false, \"tickfont\": {\"color\": \"#4D5663\"}, \"title\": {\"font\": {\"color\": \"#4D5663\"}, \"text\": \"\"}, \"zerolinecolor\": \"#E1E5ED\"}, \"yaxis5\": {\"anchor\": \"x5\", \"domain\": [0.535, 0.7325], \"gridcolor\": \"#E1E5ED\", \"showgrid\": false, \"tickfont\": {\"color\": \"#4D5663\"}, \"title\": {\"font\": {\"color\": \"#4D5663\"}, \"text\": \"\"}, \"zerolinecolor\": \"#E1E5ED\"}, \"yaxis6\": {\"anchor\": \"x6\", \"domain\": [0.535, 0.7325], \"gridcolor\": \"#E1E5ED\", \"showgrid\": false, \"tickfont\": {\"color\": \"#4D5663\"}, \"title\": {\"font\": {\"color\": \"#4D5663\"}, \"text\": \"\"}, \"zerolinecolor\": \"#E1E5ED\"}, \"yaxis7\": {\"anchor\": \"x7\", \"domain\": [0.535, 0.7325], \"gridcolor\": \"#E1E5ED\", \"showgrid\": false, \"tickfont\": {\"color\": \"#4D5663\"}, \"title\": {\"font\": {\"color\": \"#4D5663\"}, \"text\": \"\"}, \"zerolinecolor\": \"#E1E5ED\"}, \"yaxis8\": {\"anchor\": \"x8\", \"domain\": [0.535, 0.7325], \"gridcolor\": \"#E1E5ED\", \"showgrid\": false, \"tickfont\": {\"color\": \"#4D5663\"}, \"title\": {\"font\": {\"color\": \"#4D5663\"}, \"text\": \"\"}, \"zerolinecolor\": \"#E1E5ED\"}, \"yaxis9\": {\"anchor\": \"x9\", \"domain\": [0.2675, 0.465], \"gridcolor\": \"#E1E5ED\", \"showgrid\": false, \"tickfont\": {\"color\": \"#4D5663\"}, \"title\": {\"font\": {\"color\": \"#4D5663\"}, \"text\": \"\"}, \"zerolinecolor\": \"#E1E5ED\"}},\n",
       "                        {\"showLink\": true, \"linkText\": \"Export to plot.ly\", \"plotlyServerURL\": \"https://plot.ly\", \"responsive\": true}\n",
       "                    ).then(function(){\n",
       "                            \n",
       "var gd = document.getElementById('4649e68b-aabd-4f47-821f-62a0dddef5c7');\n",
       "var x = new MutationObserver(function (mutations, observer) {{\n",
       "        var display = window.getComputedStyle(gd).display;\n",
       "        if (!display || display === 'none') {{\n",
       "            console.log([gd, 'removed!']);\n",
       "            Plotly.purge(gd);\n",
       "            observer.disconnect();\n",
       "        }}\n",
       "}});\n",
       "\n",
       "// Listen for the removal of the full notebook cells\n",
       "var notebookContainer = gd.closest('#notebook-container');\n",
       "if (notebookContainer) {{\n",
       "    x.observe(notebookContainer, {childList: true});\n",
       "}}\n",
       "\n",
       "// Listen for the clearing of the current output cell\n",
       "var outputEl = gd.closest('.output');\n",
       "if (outputEl) {{\n",
       "    x.observe(outputEl, {childList: true});\n",
       "}}\n",
       "\n",
       "                        })\n",
       "                };\n",
       "                });\n",
       "            </script>\n",
       "        </div>"
      ]
     },
     "metadata": {},
     "output_type": "display_data"
    }
   ],
   "source": [
    "df.scatter_matrix()"
   ]
  },
  {
   "cell_type": "code",
   "execution_count": null,
   "metadata": {},
   "outputs": [],
   "source": []
  }
 ],
 "metadata": {
  "kernelspec": {
   "display_name": "Python 3",
   "language": "python",
   "name": "python3"
  },
  "language_info": {
   "codemirror_mode": {
    "name": "ipython",
    "version": 3
   },
   "file_extension": ".py",
   "mimetype": "text/x-python",
   "name": "python",
   "nbconvert_exporter": "python",
   "pygments_lexer": "ipython3",
   "version": "3.7.6"
  }
 },
 "nbformat": 4,
 "nbformat_minor": 1
}
